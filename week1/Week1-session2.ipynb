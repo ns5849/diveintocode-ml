{
 "cells": [
  {
   "cell_type": "code",
   "execution_count": 3,
   "metadata": {
    "collapsed": false
   },
   "outputs": [
    {
     "name": "stdout",
     "output_type": "stream",
     "text": [
      "厚さ： 5368.70912メートル\n",
      "折数： 26回\n"
     ]
    }
   ],
   "source": [
    "\"\"\"\n",
    "何回折ったら富士山の高さを超えるか？\n",
    "\"\"\"\n",
    "FUJI_HIGHT_METER = 3776\n",
    "\n",
    "thickness = 0.00008\n",
    "for num in range(0,43):\n",
    "    thickness *=2\n",
    "    \n",
    "    if FUJI_HIGHT_METER <= thickness:\n",
    "        break\n",
    "    \n",
    "folded_thickness = thickness\n",
    "folded_count_for_fuji = num+1\n",
    "\n",
    "print(\"厚さ： {}メートル\".format(folded_thickness))\n",
    "print(\"折数： {}回\".format(folded_count_for_fuji))"
   ]
  },
  {
   "cell_type": "code",
   "execution_count": 2,
   "metadata": {
    "collapsed": false
   },
   "outputs": [
    {
     "name": "stdout",
     "output_type": "stream",
     "text": [
      "厚さ：　4.06823e+16m\n",
      "折数：　70回\n"
     ]
    }
   ],
   "source": [
    "\"\"\"\n",
    "任意の厚さに対応した関数作成\n",
    "\"\"\"\n",
    "\n",
    "def cal_folded_count(initial_thickness, object_thickness):\n",
    "    thickness = initial_thickness\n",
    "    folded_count = 0;\n",
    "    while True:\n",
    "        folded_count +=1\n",
    "        thickness *=2\n",
    "        if object_thickness <= thickness:\n",
    "            break\n",
    "    \n",
    "    return folded_count+1\n",
    "\n",
    "\n",
    "ALPHA_CENTURI_LIGHT_YEAR = 4.3\n",
    "LIGHT_YEAR_2_METER = 9.461e15\n",
    "folded_count_for_alpha_centuri = cal_folded_count(0.00008, ALPHA_CENTURI_LIGHT_YEAR*LIGHT_YEAR_2_METER)\n",
    "print(\"厚さ：　{}m\".format(ALPHA_CENTURI_LIGHT_YEAR*LIGHT_YEAR_2_METER))\n",
    "print(\"折数：　{}回\".format(folded_count_for_alpha_centuri))"
   ]
  },
  {
   "cell_type": "code",
   "execution_count": 29,
   "metadata": {
    "collapsed": false
   },
   "outputs": [
    {
     "name": "stdout",
     "output_type": "stream",
     "text": [
      "富士山に届くために必要な紙の長さ:4525217006728.354[m]\n",
      "月に届くために必要な紙の長さ:7.774263446713516e+22[m]\n",
      "Alpha-centuriに届くために必要な紙の長さ:3.501216996169308e+38[m]\n"
     ]
    }
   ],
   "source": [
    "\"\"\"\n",
    "必要な紙の長さ\n",
    "\"\"\"\n",
    "\n",
    "def cal_required_paper_length(initial_thickness, object_thickness):\n",
    "    PI = 3.14\n",
    "    folded_count = cal_folded_count(initial_thickness, object_thickness)\n",
    "    required_paper_length = PI*initial_thickness*(2**folded_count+4)*(2**folded_count-1)\n",
    "    \n",
    "    return required_paper_length\n",
    "\n",
    "\n",
    "DISTANCE_TO_MOON_METER =384400000\n",
    "print(\"富士山に届くために必要な紙の長さ:{}[m]\".format(cal_required_paper_length(0.00008, FUJI_HIGHT_METER)))\n",
    "print(\"月に届くために必要な紙の長さ:{}[m]\".format(cal_required_paper_length(0.00008, DISTANCE_TO_MOON_METER)))\n",
    "print(\"Alpha-centuriに届くために必要な紙の長さ:{}[m]\".format(cal_required_paper_length(0.00008, ALPHA_CENTURI_LIGHT_YEAR*LIGHT_YEAR_2_METER)))"
   ]
  },
  {
   "cell_type": "code",
   "execution_count": null,
   "metadata": {
    "collapsed": true
   },
   "outputs": [],
   "source": []
  }
 ],
 "metadata": {
  "kernelspec": {
   "display_name": "Python 3",
   "language": "python",
   "name": "python3"
  },
  "language_info": {
   "codemirror_mode": {
    "name": "ipython",
    "version": 3
   },
   "file_extension": ".py",
   "mimetype": "text/x-python",
   "name": "python",
   "nbconvert_exporter": "python",
   "pygments_lexer": "ipython3",
   "version": "3.6.0"
  }
 },
 "nbformat": 4,
 "nbformat_minor": 2
}
