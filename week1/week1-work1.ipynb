{
 "cells": [
  {
   "cell_type": "code",
   "execution_count": 5,
   "metadata": {
    "collapsed": false
   },
   "outputs": [
    {
     "name": "stdout",
     "output_type": "stream",
     "text": [
      "厚さ： 703687441.77664メートル\n"
     ]
    }
   ],
   "source": [
    "\"\"\"\n",
    "紙を43回折った時の厚さを計算するコード\n",
    "べき乗の算術演算子を使用\n",
    "\"\"\"\n",
    "\n",
    "thickness = 0.00008\n",
    "folded_thickness = thickness*(2**43)\n",
    "\n",
    "print(\"厚さ： {}メートル\".format(folded_thickness))"
   ]
  },
  {
   "cell_type": "code",
   "execution_count": 6,
   "metadata": {
    "collapsed": false
   },
   "outputs": [
    {
     "name": "stdout",
     "output_type": "stream",
     "text": [
      "厚さ： 703687.44177664キロメートル\n"
     ]
    }
   ],
   "source": [
    "\"\"\"\n",
    "単位の変換\n",
    "\"\"\"\n",
    "print(\"厚さ： {}キロメートル\".format(folded_thickness/1000))"
   ]
  },
  {
   "cell_type": "code",
   "execution_count": 7,
   "metadata": {
    "collapsed": false
   },
   "outputs": [
    {
     "name": "stdout",
     "output_type": "stream",
     "text": [
      "厚さ： 703687.44177664キロメートル\n"
     ]
    }
   ],
   "source": [
    "\"\"\"\n",
    "紙を43回折った時の厚さを計算するコード\n",
    "for文を使用\n",
    "\"\"\"\n",
    "\n",
    "thickness = 0.00008\n",
    "for num in range(0,43):\n",
    "    thickness = thickness*2\n",
    "    \n",
    "folded_thickness2 = thickness\n",
    "\n",
    "print(\"厚さ： {}キロメートル\".format(folded_thickness2/1000))"
   ]
  },
  {
   "cell_type": "code",
   "execution_count": 17,
   "metadata": {
    "collapsed": false
   },
   "outputs": [
    {
     "name": "stdout",
     "output_type": "stream",
     "text": [
      "time : 0.06508827209472656[ms]\n",
      "厚さ： 703687.44177664キロメートル\n"
     ]
    }
   ],
   "source": [
    "\"\"\"\n",
    "計算時間の比較\n",
    "べき乗の算術演算子を使用\n",
    "\"\"\"\n",
    "\n",
    "import time\n",
    "start = time.time()\n",
    "\n",
    "thickness = 0.00008\n",
    "folded_thickness = thickness*(2**43)\n",
    "\n",
    "elapsed_time = time.time() - start\n",
    "print(\"厚さ： {}キロメートル\".format(folded_thickness/1000))\n",
    "print(\"time : {}[ms]\".format(elapsed_time*1000))"
   ]
  },
  {
   "cell_type": "code",
   "execution_count": 19,
   "metadata": {
    "collapsed": false
   },
   "outputs": [
    {
     "name": "stdout",
     "output_type": "stream",
     "text": [
      "厚さ： 703687.44177664キロメートル\n",
      "time : 0.07200241088867188[ms]\n"
     ]
    }
   ],
   "source": [
    "\"\"\"\n",
    "計算時間の比較\n",
    "for文を使用\n",
    "\"\"\"\n",
    "\n",
    "import time\n",
    "start = time.time()\n",
    "\n",
    "thickness = 0.00008\n",
    "for num in range(0,43):\n",
    "    thickness = thickness*2\n",
    "    \n",
    "elapsed_time = time.time() - start\n",
    "print(\"厚さ： {}キロメートル\".format(thickness/1000))\n",
    "print(\"time : {}[ms]\".format(elapsed_time*1000))"
   ]
  },
  {
   "cell_type": "code",
   "execution_count": 31,
   "metadata": {
    "collapsed": false
   },
   "outputs": [
    {
     "name": "stdout",
     "output_type": "stream",
     "text": [
      "1回折り 厚さ： 0.00016メートル\n",
      "2回折り 厚さ： 0.00032メートル\n",
      "3回折り 厚さ： 0.00064メートル\n",
      "4回折り 厚さ： 0.00128メートル\n",
      "5回折り 厚さ： 0.00256メートル\n",
      "6回折り 厚さ： 0.00512メートル\n",
      "7回折り 厚さ： 0.01024メートル\n",
      "8回折り 厚さ： 0.02048メートル\n",
      "9回折り 厚さ： 0.04096メートル\n",
      "10回折り 厚さ： 0.08192メートル\n",
      "11回折り 厚さ： 0.16384メートル\n",
      "12回折り 厚さ： 0.32768メートル\n",
      "13回折り 厚さ： 0.65536メートル\n",
      "14回折り 厚さ： 1.31072メートル\n",
      "15回折り 厚さ： 2.62144メートル\n",
      "16回折り 厚さ： 5.24288メートル\n",
      "17回折り 厚さ： 10.48576メートル\n",
      "18回折り 厚さ： 20.97152メートル\n",
      "19回折り 厚さ： 41.94304メートル\n",
      "20回折り 厚さ： 83.88608メートル\n",
      "21回折り 厚さ： 167.77216メートル\n",
      "22回折り 厚さ： 335.54432メートル\n",
      "23回折り 厚さ： 671.08864メートル\n",
      "24回折り 厚さ： 1342.17728メートル\n",
      "25回折り 厚さ： 2684.35456メートル\n",
      "26回折り 厚さ： 5368.70912メートル\n",
      "27回折り 厚さ： 10737.41824メートル\n",
      "28回折り 厚さ： 21474.83648メートル\n",
      "29回折り 厚さ： 42949.67296メートル\n",
      "30回折り 厚さ： 85899.34592メートル\n",
      "31回折り 厚さ： 171798.69184メートル\n",
      "32回折り 厚さ： 343597.38368メートル\n",
      "33回折り 厚さ： 687194.76736メートル\n",
      "34回折り 厚さ： 1374389.53472メートル\n",
      "35回折り 厚さ： 2748779.06944メートル\n",
      "36回折り 厚さ： 5497558.13888メートル\n",
      "37回折り 厚さ： 10995116.27776メートル\n",
      "38回折り 厚さ： 21990232.55552メートル\n",
      "39回折り 厚さ： 43980465.11104メートル\n",
      "40回折り 厚さ： 87960930.22208メートル\n",
      "41回折り 厚さ： 175921860.44416メートル\n",
      "42回折り 厚さ： 351843720.88832メートル\n",
      "43回折り 厚さ： 703687441.77664メートル\n",
      "データ数： 43\n"
     ]
    }
   ],
   "source": [
    "\"\"\"\n",
    "配列への保存\n",
    "\"\"\"\n",
    "\n",
    "thickness = 0.00008\n",
    "result = []\n",
    "\n",
    "for num in range(0,43):\n",
    "    thickness = thickness*2\n",
    "    result.append(thickness)\n",
    "    print(\"{}回折り\".format(num+1), \"厚さ： {}メートル\".format(thickness))\n",
    "    \n",
    "print(\"データ数： {}\".format(len(result)))"
   ]
  },
  {
   "cell_type": "code",
   "execution_count": 5,
   "metadata": {
    "collapsed": false
   },
   "outputs": [
    {
     "data": {
      "text/plain": [
       "[<matplotlib.lines.Line2D at 0x114d943c8>]"
      ]
     },
     "execution_count": 5,
     "metadata": {},
     "output_type": "execute_result"
    },
    {
     "data": {
      "image/png": "[encoded data removed]",
      "text/plain": [
       "<matplotlib.figure.Figure at 0x114368f28>"
      ]
     },
     "metadata": {},
     "output_type": "display_data"
    }
   ],
   "source": [
    "\"\"\"\n",
    "折れ線グラフの表示\n",
    "\"\"\"\n",
    "\n",
    "import matplotlib.pyplot as plt\n",
    "%matplotlib inline\n",
    "\n",
    "plt.title(\"thickness of folded paper\")\n",
    "plt.xlabel(\"number of folds\")\n",
    "plt.ylabel(\"thickness[m]\")\n",
    "plt.plot(result)"
   ]
  },
  {
   "cell_type": "code",
   "execution_count": 26,
   "metadata": {
    "collapsed": false
   },
   "outputs": [
    {
     "data": {
      "text/plain": [
       "(0, 45)"
      ]
     },
     "execution_count": 26,
     "metadata": {},
     "output_type": "execute_result"
    },
    {
     "data": {
      "image/png": "[encoded data removed]",
      "text/plain": [
       "<matplotlib.figure.Figure at 0x115816a58>"
      ]
     },
     "metadata": {},
     "output_type": "display_data"
    }
   ],
   "source": [
    "\"\"\"\n",
    "折れ線グラフの表示\n",
    "\"\"\"\n",
    "plt.title(\"thickness of folded paper\")\n",
    "plt.xlabel(\"number of folds\")\n",
    "plt.ylabel(\"Log thickness[m]\")\n",
    "plt.plot(result, color='red')\n",
    "plt.grid(which=\"both\")\n",
    "plt.yscale(\"log\")\n",
    "plt.xlim([0,45])"
   ]
  },
  {
   "cell_type": "code",
   "execution_count": null,
   "metadata": {
    "collapsed": true
   },
   "outputs": [],
   "source": []
  }
 ],
 "metadata": {
  "kernelspec": {
   "display_name": "Python 3",
   "language": "python",
   "name": "python3"
  },
  "language_info": {
   "codemirror_mode": {
    "name": "ipython",
    "version": 3
   },
   "file_extension": ".py",
   "mimetype": "text/x-python",
   "name": "python",
   "nbconvert_exporter": "python",
   "pygments_lexer": "ipython3",
   "version": "3.6.0"
  }
 },
 "nbformat": 4,
 "nbformat_minor": 2
}
