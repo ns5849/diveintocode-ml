{
 "cells": [
  {
   "cell_type": "code",
   "execution_count": 9,
   "metadata": {
    "collapsed": false
   },
   "outputs": [
    {
     "name": "stdout",
     "output_type": "stream",
     "text": [
      "バイバインを体積7.2e-05[m3]の物体に振り掛けた場合、体積3.5e+38[m3]の空間を覆い尽くすのに710[分]掛かる\n"
     ]
    },
    {
     "data": {
      "text/plain": [
       "(0, 710)"
      ]
     },
     "execution_count": 9,
     "metadata": {},
     "output_type": "execute_result"
    },
    {
     "data": {
      "image/png": "[encoded data removed]",
      "text/plain": [
       "<matplotlib.figure.Figure at 0x11b68bb70>"
      ]
     },
     "metadata": {},
     "output_type": "display_data"
    }
   ],
   "source": [
    "\"\"\"\n",
    "栗饅頭に太陽系が支配される日\n",
    "\"\"\"\n",
    "import matplotlib.pyplot as plt\n",
    "%matplotlib inline\n",
    "\n",
    "def cal_elapsed_time_to_reach_target_volume(initial_multiply_object_volume, target_space_volume):\n",
    "    \"\"\"\n",
    "    \"バイバイン\"を振り掛けされた物体は5分おきにその体積が倍になる。\n",
    "    この関数は\"バイバイン”を振りかけられた物体がある空間(target_space_volume)を覆い尽くすのに掛かる時間を計算する\n",
    "    \n",
    "    Parameters\n",
    "    ----------------\n",
    "    initial_multiply_object_volume:int ”バイバイン”を振りかける物体の体積\n",
    "    target_space_volume:int　”バイバイン”を振りかけられた物体に覆い尽くされる空間の体積\n",
    "    ----------------\n",
    "    \n",
    "    Return\n",
    "    ----------------\n",
    "    elapsed_time:int \"バイバイン”を振りかけられた物体がある空間を覆い尽くすのに掛かる時間\n",
    "    list_object_volume_history:list \"バイバイン”を振りかけられた物体の体積増加の記録。1分毎に記録\n",
    "    ----------------\n",
    "    \"\"\"\n",
    "    \n",
    "    list_object_volume_history = []\n",
    "    multiply_object_volume = initial_multiply_object_volume\n",
    "    elapsed_time_min = 0\n",
    "    while True:\n",
    "        if target_space_volume <= multiply_object_volume:\n",
    "            break\n",
    "            \n",
    "        for n in range(0,5): #Wait for 5min\n",
    "            elapsed_time_min +=1\n",
    "            list_object_volume_history.append(multiply_object_volume)\n",
    "            \n",
    "        multiply_object_volume *=2\n",
    "        \n",
    "    return elapsed_time_min, list_object_volume_history\n",
    "\n",
    "#Call function\n",
    "INITIAL_MULTIPLY_OBJECT_VOLUME = 7.2e-5 #[m3] 栗きんとん”すや”の栗饅頭を参照\n",
    "TARGET_SPACE_VOLUME = 3.5e38 #[m3] 太陽系の体積を海王星（太陽系最外惑星）までの距離30[au]=4.4e12[m]を半径とする球として計算（太陽の重力に捉えられる範囲を太陽系と考えて）\n",
    "elapsed_time, list_object_volume_hisotry = cal_elapsed_time_to_reach_target_volume( INITIAL_MULTIPLY_OBJECT_VOLUME, \n",
    "                                                                                    TARGET_SPACE_VOLUME)\n",
    "print(\"バイバインを体積{}[m3]の物体に振り掛けた場合、体積{}[m3]の空間を覆い尽くすのに{}[分]掛かる\"\n",
    "                                           .format(INITIAL_MULTIPLY_OBJECT_VOLUME, TARGET_SPACE_VOLUME, elapsed_time))\n",
    "\n",
    "plt.title(\"Multiply object volume increase history\")\n",
    "plt.xlabel(\"Elapsed time[min]\")\n",
    "plt.ylabel(\"Log Object volume\")\n",
    "plt.plot(list_object_volume_hisotry, color='red', label='object volume')\n",
    "plt.grid(which=\"both\")\n",
    "plt.yscale(\"log\")\n",
    "plt.legend(loc = 'upper left')\n",
    "plt.xlim([0,len(list_object_volume_hisotry)])"
   ]
  },
  {
   "cell_type": "code",
   "execution_count": null,
   "metadata": {
    "collapsed": true
   },
   "outputs": [],
   "source": []
  }
 ],
 "metadata": {
  "kernelspec": {
   "display_name": "Python 3",
   "language": "python",
   "name": "python3"
  },
  "language_info": {
   "codemirror_mode": {
    "name": "ipython",
    "version": 3
   },
   "file_extension": ".py",
   "mimetype": "text/x-python",
   "name": "python",
   "nbconvert_exporter": "python",
   "pygments_lexer": "ipython3",
   "version": "3.6.0"
  }
 },
 "nbformat": 4,
 "nbformat_minor": 2
}
