{
 "cells": [
  {
   "cell_type": "code",
   "execution_count": 586,
   "metadata": {
    "collapsed": false
   },
   "outputs": [],
   "source": [
    "from sklearn import metrics\n",
    "from sklearn.model_selection import train_test_split\n",
    "from sklearn.preprocessing import StandardScaler\n",
    "from sklearn.datasets import make_classification\n",
    "from sklearn.model_selection import StratifiedKFold\n",
    "from sklearn.model_selection import GridSearchCV\n",
    "import numpy as np\n",
    "import matplotlib.pyplot as plt\n",
    "%matplotlib inline"
   ]
  },
  {
   "cell_type": "code",
   "execution_count": 587,
   "metadata": {
    "collapsed": false
   },
   "outputs": [],
   "source": [
    "from keras.datasets import mnist\n",
    "(x_train, y_train), (x_test, y_test) = mnist.load_data()"
   ]
  },
  {
   "cell_type": "code",
   "execution_count": 588,
   "metadata": {
    "collapsed": false
   },
   "outputs": [
    {
     "name": "stdout",
     "output_type": "stream",
     "text": [
      "(60000, 28, 28)\n",
      "(10000, 28, 28)\n",
      "uint8\n",
      "[[  0   0   0   0   0   0   0   0   0   0   0   0   0   0   0   0   0   0\n",
      "    0   0   0   0   0   0   0   0   0   0]\n",
      " [  0   0   0   0   0   0   0   0   0   0   0   0   0   0   0   0   0   0\n",
      "    0   0   0   0   0   0   0   0   0   0]\n",
      " [  0   0   0   0   0   0   0   0   0   0   0   0   0   0   0   0   0   0\n",
      "    0   0   0   0   0   0   0   0   0   0]\n",
      " [  0   0   0   0   0   0   0   0   0   0   0   0   0   0   0   0   0   0\n",
      "    0   0   0   0   0   0   0   0   0   0]\n",
      " [  0   0   0   0   0   0   0   0   0   0   0   0   0   0   0   0   0   0\n",
      "    0   0   0   0   0   0   0   0   0   0]\n",
      " [  0   0   0   0   0   0   0   0   0   0   0   0   3  18  18  18 126 136\n",
      "  175  26 166 255 247 127   0   0   0   0]\n",
      " [  0   0   0   0   0   0   0   0  30  36  94 154 170 253 253 253 253 253\n",
      "  225 172 253 242 195  64   0   0   0   0]\n",
      " [  0   0   0   0   0   0   0  49 238 253 253 253 253 253 253 253 253 251\n",
      "   93  82  82  56  39   0   0   0   0   0]\n",
      " [  0   0   0   0   0   0   0  18 219 253 253 253 253 253 198 182 247 241\n",
      "    0   0   0   0   0   0   0   0   0   0]\n",
      " [  0   0   0   0   0   0   0   0  80 156 107 253 253 205  11   0  43 154\n",
      "    0   0   0   0   0   0   0   0   0   0]\n",
      " [  0   0   0   0   0   0   0   0   0  14   1 154 253  90   0   0   0   0\n",
      "    0   0   0   0   0   0   0   0   0   0]\n",
      " [  0   0   0   0   0   0   0   0   0   0   0 139 253 190   2   0   0   0\n",
      "    0   0   0   0   0   0   0   0   0   0]\n",
      " [  0   0   0   0   0   0   0   0   0   0   0  11 190 253  70   0   0   0\n",
      "    0   0   0   0   0   0   0   0   0   0]\n",
      " [  0   0   0   0   0   0   0   0   0   0   0   0  35 241 225 160 108   1\n",
      "    0   0   0   0   0   0   0   0   0   0]\n",
      " [  0   0   0   0   0   0   0   0   0   0   0   0   0  81 240 253 253 119\n",
      "   25   0   0   0   0   0   0   0   0   0]\n",
      " [  0   0   0   0   0   0   0   0   0   0   0   0   0   0  45 186 253 253\n",
      "  150  27   0   0   0   0   0   0   0   0]\n",
      " [  0   0   0   0   0   0   0   0   0   0   0   0   0   0   0  16  93 252\n",
      "  253 187   0   0   0   0   0   0   0   0]\n",
      " [  0   0   0   0   0   0   0   0   0   0   0   0   0   0   0   0   0 249\n",
      "  253 249  64   0   0   0   0   0   0   0]\n",
      " [  0   0   0   0   0   0   0   0   0   0   0   0   0   0  46 130 183 253\n",
      "  253 207   2   0   0   0   0   0   0   0]\n",
      " [  0   0   0   0   0   0   0   0   0   0   0   0  39 148 229 253 253 253\n",
      "  250 182   0   0   0   0   0   0   0   0]\n",
      " [  0   0   0   0   0   0   0   0   0   0  24 114 221 253 253 253 253 201\n",
      "   78   0   0   0   0   0   0   0   0   0]\n",
      " [  0   0   0   0   0   0   0   0  23  66 213 253 253 253 253 198  81   2\n",
      "    0   0   0   0   0   0   0   0   0   0]\n",
      " [  0   0   0   0   0   0  18 171 219 253 253 253 253 195  80   9   0   0\n",
      "    0   0   0   0   0   0   0   0   0   0]\n",
      " [  0   0   0   0  55 172 226 253 253 253 253 244 133  11   0   0   0   0\n",
      "    0   0   0   0   0   0   0   0   0   0]\n",
      " [  0   0   0   0 136 253 253 253 212 135 132  16   0   0   0   0   0   0\n",
      "    0   0   0   0   0   0   0   0   0   0]\n",
      " [  0   0   0   0   0   0   0   0   0   0   0   0   0   0   0   0   0   0\n",
      "    0   0   0   0   0   0   0   0   0   0]\n",
      " [  0   0   0   0   0   0   0   0   0   0   0   0   0   0   0   0   0   0\n",
      "    0   0   0   0   0   0   0   0   0   0]\n",
      " [  0   0   0   0   0   0   0   0   0   0   0   0   0   0   0   0   0   0\n",
      "    0   0   0   0   0   0   0   0   0   0]]\n"
     ]
    }
   ],
   "source": [
    "print(x_train.shape) # (60000, 28, 28)\n",
    "print(x_test.shape) # (10000, 28, 28)\n",
    "print(x_train[0].dtype) # uint8\n",
    "print(x_train[0])"
   ]
  },
  {
   "cell_type": "code",
   "execution_count": 589,
   "metadata": {
    "collapsed": false
   },
   "outputs": [
    {
     "data": {
      "image/png": "[encoded data removed]",
      "text/plain": [
       "<matplotlib.figure.Figure at 0x12c417fd0>"
      ]
     },
     "metadata": {},
     "output_type": "display_data"
    }
   ],
   "source": [
    "index = 0\n",
    "image = x_train[index].reshape(28,28)\n",
    "# X_train[index]: (784,)\n",
    "# image: (28, 28)\n",
    "plt.imshow(image, 'Blues')\n",
    "plt.title('label : {}'.format(y_train[index]))\n",
    "plt.show()"
   ]
  },
  {
   "cell_type": "code",
   "execution_count": 590,
   "metadata": {
    "collapsed": false
   },
   "outputs": [
    {
     "name": "stdout",
     "output_type": "stream",
     "text": [
      "(60000, 784)\n",
      "(60000,)\n"
     ]
    }
   ],
   "source": [
    "x_train = x_train.reshape(-1, 784)\n",
    "x_test = x_test.reshape(-1, 784)\n",
    "print(x_train.shape)\n",
    "print(y_train.shape)"
   ]
  },
  {
   "cell_type": "code",
   "execution_count": 591,
   "metadata": {
    "collapsed": false
   },
   "outputs": [
    {
     "data": {
      "image/png": "[encoded data removed]",
      "text/plain": [
       "<matplotlib.figure.Figure at 0x12a0a3438>"
      ]
     },
     "metadata": {},
     "output_type": "display_data"
    }
   ],
   "source": [
    "index = 0\n",
    "image = x_train[index].reshape(28,28)\n",
    "# X_train[index]: (784,)\n",
    "# image: (28, 28)\n",
    "plt.imshow(image, 'Blues')\n",
    "plt.title('label : {}'.format(y_train[index]))\n",
    "plt.show()"
   ]
  },
  {
   "cell_type": "code",
   "execution_count": 592,
   "metadata": {
    "collapsed": false
   },
   "outputs": [
    {
     "name": "stdout",
     "output_type": "stream",
     "text": [
      "1.0\n",
      "0.0\n"
     ]
    }
   ],
   "source": [
    "x_train = x_train.astype(np.float)\n",
    "x_test = x_test.astype(np.float)\n",
    "x_train /= 255\n",
    "x_test /= 255\n",
    "print(x_train.max()) # 1.0\n",
    "print(x_train.min()) # 0.0"
   ]
  },
  {
   "cell_type": "code",
   "execution_count": 593,
   "metadata": {
    "collapsed": false,
    "scrolled": true
   },
   "outputs": [
    {
     "name": "stdout",
     "output_type": "stream",
     "text": [
      "(60000,)\n",
      "(60000, 10)\n",
      "float64\n"
     ]
    }
   ],
   "source": [
    "from sklearn.preprocessing import OneHotEncoder\n",
    "enc = OneHotEncoder(handle_unknown='ignore', sparse=False)\n",
    "y_train_one_hot = enc.fit_transform(y_train[:, np.newaxis])\n",
    "y_test_one_hot = enc.transform(y_test[:, np.newaxis])\n",
    "print(y_train.shape) # (60000,)\n",
    "print(y_train_one_hot.shape) # (60000, 10)\n",
    "print(y_train_one_hot.dtype) # float64"
   ]
  },
  {
   "cell_type": "code",
   "execution_count": 594,
   "metadata": {
    "collapsed": false
   },
   "outputs": [
    {
     "name": "stdout",
     "output_type": "stream",
     "text": [
      "(36000, 784)\n",
      "(24000, 784)\n"
     ]
    }
   ],
   "source": [
    "x_train, x_val, y_train, y_val = train_test_split(x_train, y_train_one_hot, test_size=0.4)\n",
    "print(x_train.shape) # (48000, 784)\n",
    "print(x_val.shape) # (12000, 784)"
   ]
  },
  {
   "cell_type": "code",
   "execution_count": null,
   "metadata": {
    "collapsed": true
   },
   "outputs": [],
   "source": []
  },
  {
   "cell_type": "markdown",
   "metadata": {},
   "source": [
    "###### 【問題1】ニューラルネットワーク分類器のクラスを作成\n",
    "ニューラルネットワーク分類器のクラスScratchSimpleNeuralNetrowkClassifierを作成してください。"
   ]
  },
  {
   "cell_type": "code",
   "execution_count": 595,
   "metadata": {
    "collapsed": true
   },
   "outputs": [],
   "source": [
    "class GetMiniBatch:\n",
    "    \"\"\"\n",
    "    ミニバッチを取得するイテレータ\n",
    "\n",
    "    Parameters\n",
    "    ----------\n",
    "    X : 次の形のndarray, shape (n_samples, n_features)\n",
    "      学習データ\n",
    "    y : 次の形のndarray, shape (n_samples, 1)\n",
    "      正解値\n",
    "    batch_size : int\n",
    "      バッチサイズ\n",
    "    seed : int\n",
    "      NumPyの乱数のシード\n",
    "    \"\"\"\n",
    "    def __init__(self, X, y, batch_size = 10, seed=0):\n",
    "        self.batch_size = batch_size\n",
    "        np.random.seed(seed)\n",
    "        shuffle_index = np.random.permutation(np.arange(X.shape[0]))\n",
    "        self.X = X[shuffle_index]\n",
    "        self.y = y[shuffle_index]\n",
    "        self._stop = np.ceil(X.shape[0]/self.batch_size).astype(np.int)\n",
    "\n",
    "    def __len__(self):\n",
    "        return self._stop\n",
    "\n",
    "    def __getitem__(self,item):\n",
    "        p0 = item*self.batch_size\n",
    "        p1 = item*self.batch_size + self.batch_size\n",
    "        return self.X[p0:p1], self.y[p0:p1]        \n",
    "\n",
    "    def __iter__(self):\n",
    "        self._counter = 0\n",
    "        return self\n",
    "\n",
    "    def __next__(self):\n",
    "        if self._counter >= self._stop:\n",
    "            raise StopIteration()\n",
    "        p0 = self._counter*self.batch_size\n",
    "        p1 = self._counter*self.batch_size + self.batch_size\n",
    "        self._counter += 1\n",
    "        return self.X[p0:p1], self.y[p0:p1]"
   ]
  },
  {
   "cell_type": "code",
   "execution_count": 637,
   "metadata": {
    "collapsed": true
   },
   "outputs": [],
   "source": [
    "class NN_LayerFunction():\n",
    "    #NNの層のクラス\n",
    "    def __init__(self, activation_func, num_of_node):\n",
    "        self.activation_func_type = activation_func\n",
    "        self.num_of_node = num_of_node\n",
    "        self.input_multi_func = 0\n",
    "        self.input_add_func = 0\n",
    "        self.input_activation_func = 0\n",
    "        self.output_activation_func = 0\n",
    "\n",
    "    def _sigmoid(self, X):\n",
    "        return 1 / (1 + np.exp(-1 * X))\n",
    "    \n",
    "    def _tanh(self, X):\n",
    "        return np.tanh(X)\n",
    "    \n",
    "    def _softmax(self, X):\n",
    "        X - np.max(X)\n",
    "        tmp = np.exp(X)\n",
    "        denominator = np.sum(tmp, axis=1)\n",
    "        output = tmp / denominator[:, np.newaxis]\n",
    "        \n",
    "        return output\n",
    "    \n",
    "    def multi_func(self, X, W):\n",
    "        \"\"\"\n",
    "        X.shape=(X, Y)\n",
    "        W.shape=(Y, Z)\n",
    "        Output.shape=(X,Z)\n",
    "        \"\"\"\n",
    "        #逆伝搬計算のため入力を保存\n",
    "        self.input_multi_func = X\n",
    "        return np.dot(X, W)\n",
    "    \n",
    "    def multi_func_backword(self, loss):\n",
    "        #入力：loss, 学習率\n",
    "        #計算：loss' = dot(loss, input)\n",
    "        #出力：loss'\n",
    "        #print(\"input:{} loss:{}\",self.input_multi_func.shape, loss.shape)\n",
    "        return np.dot(self.input_multi_func.T, loss)\n",
    "    \n",
    "    def add_func(self, X, B):\n",
    "        \"\"\"\n",
    "        X.shape=(X, Y)\n",
    "        B.shape=(1, Y)\n",
    "        \"\"\"\n",
    "        #逆伝搬計算のため入力を保存\n",
    "        self.input_add_func = X\n",
    "        return  X + B\n",
    "    \n",
    "    def add_func_backword(self, loss):\n",
    "        #入力：loss\n",
    "        #計算：loss' = loss\n",
    "        #出力：loss'\n",
    "        return loss\n",
    "    \n",
    "    def activation_func(self, X):\n",
    "        \"\"\"\n",
    "        X.shape=(X, Y)\n",
    "        output.shape=(X, Y)\n",
    "        \"\"\"\n",
    "        #逆伝搬計算のため入力を保存\n",
    "        self.input_activation_func = X\n",
    "        \n",
    "        if self.activation_func_type == 'sigmoid':\n",
    "            output = self._sigmoid(X)\n",
    "        elif self.activation_func_type == 'tanh':\n",
    "            output = self._tanh(X)\n",
    "        elif self.activation_func_type == 'softmax':\n",
    "            output = self._softmax(X)\n",
    "        else:\n",
    "            output = X\n",
    "        \n",
    "        #逆伝搬計算のため出力を保存\n",
    "        self.output_activation_func = output\n",
    "        \n",
    "        return output\n",
    "    \n",
    "    def activation_func_backword(self, loss, weight):\n",
    "        #入力：loss, 学習率\n",
    "        #計算：Z = f' * loss\n",
    "        #出力：Z        \n",
    "        \n",
    "        #活性化関数（逆伝搬）\n",
    "        if self.activation_func_type == 'sigmoid':\n",
    "            output = (1 - self._sigmoid(self.input_activation_func)) * self._sigmoid(self.input_activation_func)\n",
    "        elif self.activation_func_type == 'tanh':\n",
    "            output = 1 - (self._tanh(self.input_activation_func))**2\n",
    "        elif self.activation_func_type == 'softmax':\n",
    "            output = loss\n",
    "        else:\n",
    "            output = loss\n",
    "            \n",
    "        #print(\"prev_delta:{} weight:{}\".format(loss.shape, weight.shape))\n",
    "        output = output * np.dot(loss, weight.T)\n",
    "        return output\n",
    "    \n"
   ]
  },
  {
   "cell_type": "code",
   "execution_count": 646,
   "metadata": {
    "collapsed": false
   },
   "outputs": [],
   "source": [
    "default_layer_design = {\n",
    "    'total_layer':3,\n",
    "    'func_layer1':'sigmoid',\n",
    "    'func_layer2':'sigmoid',\n",
    "    'func_layer3':'softmax',\n",
    "    'node_layer1':400,\n",
    "    'node_layer2':200,\n",
    "    'node_layer3':10,\n",
    "}\n",
    "    \n",
    "class ScratchSimpleNeuralNetrowkClassifier():\n",
    "    \"\"\"\n",
    "    シンプルな三層ニューラルネットワーク分類器\n",
    "\n",
    "    Parameters\n",
    "    ----------\n",
    "\n",
    "    Attributes\n",
    "    ----------\n",
    "    \"\"\"\n",
    "    \n",
    "    def __init__(self, n_iter, alpha, sigma, batch_size, layer_design=default_layer_design, verbose = False):\n",
    "        self.verbose = verbose\n",
    "        self.batch_size = batch_size\n",
    "        self.iter = n_iter\n",
    "        self.alpha = alpha\n",
    "        self.sigma = sigma # ガウス分布の標準偏差\n",
    "        self.layer_design = layer_design\n",
    "        self.NN1 = 0\n",
    "        self.W1 = 0\n",
    "        self.B1 = 0\n",
    "        self.NN2 = 0\n",
    "        self.W2 = 0\n",
    "        self.B2 = 0\n",
    "        self.NN3 = 0\n",
    "        self.W3 = 0\n",
    "        self.B3 = 0\n",
    "        self.loss = 0\n",
    "    \n",
    "    def _crossentropy(self, y_pred, y):\n",
    "        #クロスエントロピーを計算する\n",
    "        \n",
    "        #print(\"y shape:{} y_pred shape:{}\".format(y.shape, y_pred.shape))\n",
    "        #pos_proba = -1 * y * np.log(y_pred)\n",
    "        #neg_proba = -1 * (1 - y) * np.log((1 - y_pred))\n",
    "        #print(\"pos shape:{} neg shape:{}\".format(pos_proba.shape, neg_proba.shape))\n",
    "        #cross_entropy = (pos_proba.sum(axis=1) + neg_proba.sum(axis=1)) / y.shape[0]\n",
    "        #print(\"cross entropy : {}\",cross_entropy.shape)\n",
    "        cross_entropy = -1 * y * np.log(y_pred)\n",
    "        return np.sum(cross_entropy, axis=1)\n",
    "    \n",
    "    def _adjust_param(self, loss, X):\n",
    "        return\n",
    "    \n",
    "    def fit(self, X, y, X_val=None, y_val=None):\n",
    "        \"\"\"\n",
    "        ニューラルネットワーク分類器を学習する。\n",
    "\n",
    "        Parameters\n",
    "        ----------\n",
    "        X : 次の形のndarray, shape (n_samples, n_features)\n",
    "            学習用データの特徴量\n",
    "        y : 次の形のndarray, shape (n_samples, )\n",
    "            学習用データの正解値\n",
    "        X_val : 次の形のndarray, shape (n_samples, n_features)\n",
    "            検証用データの特徴量\n",
    "        y_val : 次の形のndarray, shape (n_samples, )\n",
    "            検証用データの正解値\n",
    "        \"\"\"\n",
    "        \n",
    "        #lossの記録用の配列を用意\n",
    "        self.loss = [[0 for i in range(X.shape[0])] for j in range(self.iter)]\n",
    "        \n",
    "        #重みW バイアスbを入力データのサンプル数に従い準備\n",
    "        n_features = X.shape[1]\n",
    "        n_nodes1 = self.layer_design.get('node_layer1')\n",
    "        self.W1 = self.sigma * np.random.randn(n_features, n_nodes1)\n",
    "        self.B1 = self.sigma * np.random.randn(1, n_nodes1)\n",
    "        \n",
    "        n_nodes2 = self.layer_design.get('node_layer2')\n",
    "        self.W2 = self.sigma * np.random.randn(n_nodes1, n_nodes2)\n",
    "        self.B2 = self.sigma * np.random.randn(1, n_nodes2)\n",
    "        \n",
    "        n_nodes3 = self.layer_design.get('node_layer3')\n",
    "        self.W3 = self.sigma * np.random.randn(n_nodes2, n_nodes3)\n",
    "        self.B3 = self.sigma * np.random.randn(1, n_nodes3)        \n",
    "        \n",
    "        #各層のインスタンスを作る\n",
    "        self.NN1 = NN_LayerFunction(self.layer_design.get('func_layer1'), self.layer_design.get('node_layer1'))\n",
    "        self.NN2 = NN_LayerFunction(self.layer_design.get('func_layer2'), self.layer_design.get('node_layer2'))\n",
    "        self.NN3 = NN_LayerFunction(self.layer_design.get('func_layer3'), self.layer_design.get('node_layer3'))\n",
    "                \n",
    "        #print(\"W1:{} B1:{}\".format(self.W1.shape, self.B1.shape))\n",
    "        #print(\"W2:{} B2:{}\".format(self.W2.shape, self.B2.shape))\n",
    "        #print(\"W3:{} B3:{}\".format(self.W3.shape, self.B3.shape))\n",
    "        \n",
    "        #NN計算\n",
    "        #ミニバッチ取得\n",
    "        i = 0\n",
    "        get_mini_batch = GetMiniBatch(x_train, y_train, self.batch_size)\n",
    "        for epoch in range(self.iter):\n",
    "            loop_count = 0\n",
    "            sum_loss = 0\n",
    "            for mini_X_train, mini_y_train in get_mini_batch:\n",
    "                #１層目\n",
    "                X = self.NN1.multi_func(mini_X_train, self.W1)\n",
    "                X = self.NN1.add_func(X, self.B1)\n",
    "                X = self.NN1.activation_func(X)\n",
    "\n",
    "                #２層目\n",
    "                X = self.NN2.multi_func(X, self.W2) #X.shape (Sample, node1)=>(Sample, node2)\n",
    "                X = self.NN2.add_func(X, self.B2)   #X.shape (Sample, node2)=>(Sample, node2)\n",
    "                X = self.NN2.activation_func(X)     #X.shape (Sample, node2)=>(Sample, node2)\n",
    "\n",
    "                #３層目\n",
    "                X = self.NN3.multi_func(X, self.W3) #X.shape (Sample, node2)=>(Sample, node3=10)\n",
    "                X = self.NN3.add_func(X, self.B3)   #X.shape (Sample, 10)=>(Sample, 10)\n",
    "                ans = self.NN3.activation_func(X)   #X.shape (Sample, 10)=>(Sample, 10)\n",
    "\n",
    "                #Loss計算\n",
    "                loss = self._crossentropy(ans, mini_y_train)  #ans.shape(Sample, 1), y.shape(Sample, 1), loss.shape(Sample, 1)\n",
    "                sum_loss += loss\n",
    "                #パラメータ調整(誤差逆伝搬の計算)\n",
    "                #更新前のパラメータを保存\n",
    "                old_B1 = np.copy(self.B1)\n",
    "                old_B2 = np.copy(self.B2)\n",
    "                old_B3 = np.copy(self.B3)\n",
    "                old_W1 = np.copy(self.W1)\n",
    "                old_W2 = np.copy(self.W2)\n",
    "                old_W3 = np.copy(self.W3)\n",
    "\n",
    "                #3層目\n",
    "                delta1 = ans - mini_y_train                    #delta.shape(Sample, 10)\n",
    "                b_grad = self.NN3.add_func_backword(delta1)         #delta.shape(Sample, 10)\n",
    "                self.B3 = self.B3 - np.average(b_grad * self.alpha, axis=0)\n",
    "                w_grad = self.NN3.multi_func_backword(delta1)       #delta.shape(Sample, node2)\n",
    "                self.W3 = self.W3 - np.average(w_grad * self.alpha, axis=0)\n",
    "                #2層目\n",
    "                delta2 = self.NN2.activation_func_backword(delta1, old_W3)  #delta.shape(Sample, node1)            \n",
    "                b_grad = self.NN2.add_func_backword(delta2)    #delta.shape(Sample, node2)\n",
    "                self.B2 = self.B2 - np.average(b_grad * self.alpha, axis=0)\n",
    "                w_grad = self.NN2.multi_func_backword(delta2)  #delta.shape(Sample, node1)\n",
    "                self.W2 = self.W2 - np.average(w_grad * self.alpha, axis=0)\n",
    "                #1層目\n",
    "                delta3 = self.NN1.activation_func_backword(delta2, old_W2)  #delta.shape(Sample, Feature)\n",
    "                b_grad = self.NN1.add_func_backword(delta3)    #delta.shape(Sample, node1)\n",
    "                self.B1 = self.B1 - np.average(b_grad * self.alpha, axis=0)\n",
    "                w_grad = self.NN1.multi_func_backword(delta3)  #delta.shape(Sample, Feature)\n",
    "                self.W1 = self.W1 - np.average(w_grad * self.alpha, axis=0)\n",
    "                \n",
    "                loop_count += 1\n",
    "\n",
    "            #Epoch毎のLoss計算結果表示\n",
    "            self.loss[i] = sum_loss / loop_count\n",
    "            if self.verbose:\n",
    "                #verboseをTrueにした際は学習過程などを出力する\n",
    "                print(\"Epoch:{} Loss:{}\".format(i, self.loss[i]))\n",
    "                \n",
    "            i +=1\n",
    "            \n",
    "        return\n",
    "\n",
    "\n",
    "    def predict(self, X):\n",
    "        \"\"\"\n",
    "        ニューラルネットワーク分類器を使い推定する。\n",
    "\n",
    "        Parameters\n",
    "        ----------\n",
    "        X : 次の形のndarray, shape (n_samples, n_features)\n",
    "            サンプル\n",
    "\n",
    "        Returns\n",
    "        -------\n",
    "            次の形のndarray, shape (n_samples, 1)\n",
    "            推定結果\n",
    "        \"\"\"\n",
    "        #１層目\n",
    "        X = self.NN1.multi_func(X, self.W1)\n",
    "        X = self.NN1.add_func(X, self.B1)\n",
    "        X = self.NN1.activation_func(X)              \n",
    "        #２層目\n",
    "        X = self.NN2.multi_func(X, self.W2)\n",
    "        X = self.NN2.add_func(X, self.B2)\n",
    "        X = self.NN2.activation_func(X)\n",
    "        #３層目\n",
    "        X = self.NN3.multi_func(X, self.W3)\n",
    "        X = self.NN3.add_func(X, self.B3)\n",
    "        ans = self.NN3.activation_func(X)\n",
    "        \n",
    "        max_val = np.max(ans, axis=1)\n",
    "        mask = np.ones_like(ans)\n",
    "        ans[ans == max_val[:,np.newaxis]] = 1\n",
    "        ans[ans != mask] = 0\n",
    "\n",
    "        return ans"
   ]
  },
  {
   "cell_type": "code",
   "execution_count": 647,
   "metadata": {
    "collapsed": true
   },
   "outputs": [],
   "source": [
    "layer_design = {\n",
    "    'total_layer':3,\n",
    "    'func_layer1':'tanh',\n",
    "    'func_layer2':'tanh',\n",
    "    'func_layer3':'softmax',\n",
    "    'node_layer1':400,\n",
    "    'node_layer2':200,\n",
    "    'node_layer3':10,\n",
    "}"
   ]
  },
  {
   "cell_type": "code",
   "execution_count": 661,
   "metadata": {
    "collapsed": false
   },
   "outputs": [],
   "source": [
    "nn_clf = ScratchSimpleNeuralNetrowkClassifier(20, 0.1, 0.01, 10, layer_design, False)"
   ]
  },
  {
   "cell_type": "code",
   "execution_count": 662,
   "metadata": {
    "collapsed": false,
    "scrolled": true
   },
   "outputs": [],
   "source": [
    "nn_clf.fit(x_train, y_train)"
   ]
  },
  {
   "cell_type": "markdown",
   "metadata": {},
   "source": [
    "###### 【問題2】学習曲線のプロット"
   ]
  },
  {
   "cell_type": "code",
   "execution_count": 673,
   "metadata": {
    "collapsed": false
   },
   "outputs": [
    {
     "name": "stdout",
     "output_type": "stream",
     "text": [
      "(20, 10)\n"
     ]
    },
    {
     "data": {
      "image/png": "[encoded data removed]",
      "text/plain": [
       "<matplotlib.figure.Figure at 0x12c4c3860>"
      ]
     },
     "metadata": {},
     "output_type": "display_data"
    }
   ],
   "source": [
    "loss = np.array(nn_clf.loss)\n",
    "print(loss.shape)\n",
    "loss_ave = np.average(loss, axis=1)\n",
    "\n",
    "plt.title(\"epoch vs loss\")\n",
    "plt.xlabel(\"epoch\")\n",
    "plt.ylabel(\"loss\")\n",
    "plt.plot(loss_ave, \"r\", label=\"loss\")\n",
    "#plt.plot(self.val_loss, \"b\", label=\"val_loss\")\n",
    "plt.legend()\n",
    "#plt.yscale(\"Log\")\n",
    "plt.show()"
   ]
  },
  {
   "cell_type": "markdown",
   "metadata": {},
   "source": [
    "###### 【問題3】指標値の算出"
   ]
  },
  {
   "cell_type": "code",
   "execution_count": 664,
   "metadata": {
    "collapsed": true
   },
   "outputs": [],
   "source": [
    "from sklearn.metrics import accuracy_score\n",
    "from sklearn.metrics import precision_score\n",
    "from sklearn.metrics import recall_score\n",
    "from sklearn.metrics import f1_score"
   ]
  },
  {
   "cell_type": "code",
   "execution_count": 665,
   "metadata": {
    "collapsed": false
   },
   "outputs": [],
   "source": [
    "y_pred = nn_clf.predict(x_val)"
   ]
  },
  {
   "cell_type": "code",
   "execution_count": 666,
   "metadata": {
    "collapsed": false,
    "scrolled": true
   },
   "outputs": [
    {
     "name": "stdout",
     "output_type": "stream",
     "text": [
      "Pred=\n",
      " [0. 1. 0. 0. 0. 0. 0. 0. 0. 0.]\n",
      "Yval=\n",
      " [0. 0. 0. 0. 1. 0. 0. 0. 0. 0.]\n"
     ]
    }
   ],
   "source": [
    "print(\"Pred=\\n\", y_pred[1])\n",
    "print(\"Yval=\\n\", y_val[2])"
   ]
  },
  {
   "cell_type": "code",
   "execution_count": 668,
   "metadata": {
    "collapsed": false
   },
   "outputs": [
    {
     "name": "stdout",
     "output_type": "stream",
     "text": [
      "Accuracy score=0.234\n"
     ]
    }
   ],
   "source": [
    "print(\"Accuracy score={:.3f}\".format(accuracy_score(y_pred, y_val)))\n",
    "#print(\"Precision score={:.3f}\".format(precision_score(y_pred, y_val, average='micro')))\n",
    "#print(\"Recall score={:.3f}\".format(recall_score(y_pred, y_val, average='micro')))\n",
    "#print(\"f1 score={:.3f}\".format(f1_score(y_pred, y_val, average='micro')))"
   ]
  },
  {
   "cell_type": "markdown",
   "metadata": {},
   "source": [
    "###### （オプション）誤分類の確認"
   ]
  },
  {
   "cell_type": "code",
   "execution_count": 670,
   "metadata": {
    "collapsed": false
   },
   "outputs": [
    {
     "data": {
      "image/png": "[encoded data removed]",
      "text/plain": [
       "<matplotlib.figure.Figure at 0x12c2f8358>"
      ]
     },
     "metadata": {},
     "output_type": "display_data"
    }
   ],
   "source": [
    "\"\"\"\n",
    "語分類結果を並べて表示する。画像の上の表示は「推定結果/正解」である。\n",
    "\n",
    "Parameters:\n",
    "----------\n",
    "y_pred : 推定値のndarray (n_samples,)\n",
    "y_val : 検証用データの正解ラベル(n_samples,)\n",
    "X_val : 検証用データの特徴量（n_samples, n_features)\n",
    "\"\"\"\n",
    "import numpy as np\n",
    "import matplotlib.pyplot as plt\n",
    "\n",
    "num = 36 # いくつ表示するか\n",
    "\n",
    "true_false = y_pred==y_val\n",
    "false_list = np.where(true_false==False)[0].astype(np.int)\n",
    "\n",
    "if false_list.shape[0] < num:\n",
    "    num = false_list.shape[0]\n",
    "fig = plt.figure(figsize=(6, 6))\n",
    "fig.subplots_adjust(left=0, right=0.8,  bottom=0, top=0.8, hspace=1, wspace=0.5)\n",
    "for i in range(num):\n",
    "    ax = fig.add_subplot(6, 6, i + 1, xticks=[], yticks=[])\n",
    "    ax.set_title(\"{} / {}\".format(y_pred[false_list[i]],y_val[false_list[i]]))\n",
    "    ax.imshow(x_val.reshape(-1,28,28)[false_list[i]], cmap='gray')"
   ]
  },
  {
   "cell_type": "code",
   "execution_count": null,
   "metadata": {
    "collapsed": true
   },
   "outputs": [],
   "source": []
  }
 ],
 "metadata": {
  "kernelspec": {
   "display_name": "Python 3",
   "language": "python",
   "name": "python3"
  },
  "language_info": {
   "codemirror_mode": {
    "name": "ipython",
    "version": 3
   },
   "file_extension": ".py",
   "mimetype": "text/x-python",
   "name": "python",
   "nbconvert_exporter": "python",
   "pygments_lexer": "ipython3",
   "version": "3.6.0"
  }
 },
 "nbformat": 4,
 "nbformat_minor": 2
}
