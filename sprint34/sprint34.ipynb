{
 "cells": [
  {
   "cell_type": "code",
   "execution_count": 2,
   "metadata": {},
   "outputs": [],
   "source": [
    "import pandas as pd\n",
    "import numpy as np\n",
    "from sklearn.decomposition import NMF"
   ]
  },
  {
   "cell_type": "code",
   "execution_count": null,
   "metadata": {},
   "outputs": [],
   "source": []
  },
  {
   "cell_type": "markdown",
   "metadata": {},
   "source": [
    "【問題１】欠損値を埋める"
   ]
  },
  {
   "cell_type": "code",
   "execution_count": 4,
   "metadata": {},
   "outputs": [],
   "source": [
    "data1 = pd.DataFrame({\"ゼロから作るDeepLearning\":[2,1,0,2,1],\n",
    "                       \"Python機械学習プログラミング\":[2,1,5,4,3],\n",
    "                       \"ゼロから作るDeepLearning-自然言語処理編-\":[4,2,2,2,0],\n",
    "                       \"はじめてのパターン認識\":[np.nan,4,2,3,4],\n",
    "                      \"これからの強化学習\":[np.nan, 3,5,4,1]},index=[\"user1\",\"user2\",\"user3\",\"user4\",\"user5\"])"
   ]
  },
  {
   "cell_type": "code",
   "execution_count": 15,
   "metadata": {
    "scrolled": true
   },
   "outputs": [],
   "source": [
    "data1 = data1.fillna(0)"
   ]
  },
  {
   "cell_type": "markdown",
   "metadata": {},
   "source": [
    "【問題2】非負値行列因子分解(NMF)をScikit-learnで実装"
   ]
  },
  {
   "cell_type": "code",
   "execution_count": 16,
   "metadata": {},
   "outputs": [],
   "source": [
    "model = NMF(n_components=5, init='nndsvda')\n",
    "W = model.fit_transform(data1.values)\n",
    "H = model.components_"
   ]
  },
  {
   "cell_type": "code",
   "execution_count": 21,
   "metadata": {},
   "outputs": [
    {
     "data": {
      "text/plain": [
       "array([[0.00000000e+00, 0.00000000e+00, 6.20076885e-07, 2.51200316e-02,\n",
       "        6.87076666e-07],\n",
       "       [5.70317023e-02, 4.62932283e-01, 0.00000000e+00, 6.66305225e-03,\n",
       "        0.00000000e+00],\n",
       "       [6.00353143e-01, 0.00000000e+00, 0.00000000e+00, 0.00000000e+00,\n",
       "        3.49846856e-02],\n",
       "       [4.32364215e-02, 1.51084101e-01, 8.74101987e-01, 1.01222026e-02,\n",
       "        5.99614137e-01],\n",
       "       [0.00000000e+00, 8.56424131e-03, 2.87721309e-01, 0.00000000e+00,\n",
       "        1.62492841e+00]])"
      ]
     },
     "execution_count": 21,
     "metadata": {},
     "output_type": "execute_result"
    }
   ],
   "source": [
    "W"
   ]
  },
  {
   "cell_type": "code",
   "execution_count": 18,
   "metadata": {
    "scrolled": true
   },
   "outputs": [
    {
     "data": {
      "text/plain": [
       "array([[0.00000000e+00, 8.24396113e+00, 3.33139406e+00, 3.19262807e+00,\n",
       "        8.32735093e+00],\n",
       "       [1.01416134e+00, 0.00000000e+00, 1.61727226e+00, 8.24713306e+00,\n",
       "        5.45429214e+00],\n",
       "       [8.79238080e-01, 2.25235649e+00, 0.00000000e+00, 2.16899753e-01,\n",
       "        3.20921173e+00],\n",
       "       [7.96169865e+01, 7.96179386e+01, 1.59235695e+02, 0.00000000e+00,\n",
       "        0.00000000e+00],\n",
       "       [4.54173003e-01, 1.44761184e+00, 0.00000000e+00, 2.37965743e+00,\n",
       "        1.83542354e-02]])"
      ]
     },
     "execution_count": 18,
     "metadata": {},
     "output_type": "execute_result"
    }
   ],
   "source": [
    "H"
   ]
  },
  {
   "cell_type": "code",
   "execution_count": 22,
   "metadata": {},
   "outputs": [
    {
     "data": {
      "text/plain": [
       "array([[1.99998207e+00, 2.00000752e+00, 4.00000567e+00, 1.76950162e-06,\n",
       "        2.00256878e-06],\n",
       "       [9.99980167e-01, 1.00066562e+00, 1.99967837e+00, 3.99994515e+00,\n",
       "        2.99989091e+00],\n",
       "       [1.58890997e-02, 4.99993222e+00, 2.00001289e+00, 1.99995586e+00,\n",
       "        4.99999342e+00],\n",
       "       [1.99999523e+00, 3.99914609e+00, 2.00019764e+00, 3.00051724e+00,\n",
       "        4.00028549e+00],\n",
       "       [9.99659669e-01, 3.00031656e+00, 1.38507099e-02, 3.99981008e+00,\n",
       "        9.99894793e-01]])"
      ]
     },
     "execution_count": 22,
     "metadata": {},
     "output_type": "execute_result"
    }
   ],
   "source": [
    "WH = np.dot(W, H)\n",
    "WH"
   ]
  },
  {
   "cell_type": "code",
   "execution_count": 27,
   "metadata": {},
   "outputs": [
    {
     "data": {
      "text/plain": [
       "array([[2., 2., 4., 0., 0.]])"
      ]
     },
     "execution_count": 27,
     "metadata": {},
     "output_type": "execute_result"
    }
   ],
   "source": [
    "data1[0:1].values"
   ]
  },
  {
   "cell_type": "code",
   "execution_count": 39,
   "metadata": {},
   "outputs": [],
   "source": [
    "WH = np.round(WH)"
   ]
  },
  {
   "cell_type": "code",
   "execution_count": 40,
   "metadata": {
    "scrolled": true
   },
   "outputs": [
    {
     "name": "stdout",
     "output_type": "stream",
     "text": [
      "index=1\n",
      "1:[[2. 2. 4. 0. 0.]] \n",
      " [2. 2. 4. 0. 0.]\n",
      "index=2\n",
      "2:[[1. 1. 2. 4. 3.]] \n",
      " [1. 1. 2. 4. 3.]\n",
      "index=3\n",
      "3:[[0. 5. 2. 2. 5.]] \n",
      " [0. 5. 2. 2. 5.]\n",
      "index=4\n",
      "4:[[2. 4. 2. 3. 4.]] \n",
      " [2. 4. 2. 3. 4.]\n",
      "index=5\n",
      "5:[[1. 3. 0. 4. 1.]] \n",
      " [1. 3. 0. 4. 1.]\n"
     ]
    }
   ],
   "source": [
    "print(\"index=1\")\n",
    "print(\"1:{} \\n {}\".format(data1[0:1].values, WH[0]))\n",
    "print(\"index=2\")\n",
    "print(\"2:{} \\n {}\".format(data1[1:2].values, WH[1]))\n",
    "print(\"index=3\")\n",
    "print(\"3:{} \\n {}\".format(data1[2:3].values, WH[2]))\n",
    "print(\"index=4\")\n",
    "print(\"4:{} \\n {}\".format(data1[3:4].values, WH[3]))\n",
    "print(\"index=5\")\n",
    "print(\"5:{} \\n {}\".format(data1[4:5].values, WH[4]))"
   ]
  },
  {
   "cell_type": "markdown",
   "metadata": {},
   "source": [
    "変換後の行列の内積は元の行列と等しい"
   ]
  },
  {
   "cell_type": "markdown",
   "metadata": {},
   "source": [
    "【アドバンス課題1】 Scikit-learnで実装"
   ]
  },
  {
   "cell_type": "code",
   "execution_count": 3,
   "metadata": {
    "scrolled": true
   },
   "outputs": [
    {
     "data": {
      "text/html": [
       "<div>\n",
       "<style scoped>\n",
       "    .dataframe tbody tr th:only-of-type {\n",
       "        vertical-align: middle;\n",
       "    }\n",
       "\n",
       "    .dataframe tbody tr th {\n",
       "        vertical-align: top;\n",
       "    }\n",
       "\n",
       "    .dataframe thead th {\n",
       "        text-align: right;\n",
       "    }\n",
       "</style>\n",
       "<table border=\"1\" class=\"dataframe\">\n",
       "  <thead>\n",
       "    <tr style=\"text-align: right;\">\n",
       "      <th>name</th>\n",
       "      <th>&amp;quot;0&amp;quot;</th>\n",
       "      <th>&amp;quot;Bungaku Shoujo&amp;quot; Kyou no Oyatsu: Hatsukoi</th>\n",
       "      <th>&amp;quot;Bungaku Shoujo&amp;quot; Memoire</th>\n",
       "      <th>&amp;quot;Bungaku Shoujo&amp;quot; Movie</th>\n",
       "      <th>.hack//G.U. Returner</th>\n",
       "      <th>.hack//G.U. Trilogy</th>\n",
       "      <th>.hack//G.U. Trilogy: Parody Mode</th>\n",
       "      <th>.hack//Gift</th>\n",
       "      <th>.hack//Intermezzo</th>\n",
       "      <th>.hack//Liminality</th>\n",
       "      <th>...</th>\n",
       "      <th>gdgd Fairies</th>\n",
       "      <th>gdgd Fairies 2</th>\n",
       "      <th>iDOLM@STER Xenoglossia</th>\n",
       "      <th>iDOLM@STER Xenoglossia Specials</th>\n",
       "      <th>s.CRY.ed</th>\n",
       "      <th>xxxHOLiC</th>\n",
       "      <th>xxxHOLiC Kei</th>\n",
       "      <th>xxxHOLiC Movie: Manatsu no Yoru no Yume</th>\n",
       "      <th>xxxHOLiC Rou</th>\n",
       "      <th>xxxHOLiC Shunmuki</th>\n",
       "    </tr>\n",
       "    <tr>\n",
       "      <th>user_id</th>\n",
       "      <th></th>\n",
       "      <th></th>\n",
       "      <th></th>\n",
       "      <th></th>\n",
       "      <th></th>\n",
       "      <th></th>\n",
       "      <th></th>\n",
       "      <th></th>\n",
       "      <th></th>\n",
       "      <th></th>\n",
       "      <th></th>\n",
       "      <th></th>\n",
       "      <th></th>\n",
       "      <th></th>\n",
       "      <th></th>\n",
       "      <th></th>\n",
       "      <th></th>\n",
       "      <th></th>\n",
       "      <th></th>\n",
       "      <th></th>\n",
       "      <th></th>\n",
       "    </tr>\n",
       "  </thead>\n",
       "  <tbody>\n",
       "    <tr>\n",
       "      <th>1</th>\n",
       "      <td>0.0</td>\n",
       "      <td>0.0</td>\n",
       "      <td>0.0</td>\n",
       "      <td>0.0</td>\n",
       "      <td>0.0</td>\n",
       "      <td>0.0</td>\n",
       "      <td>0.0</td>\n",
       "      <td>0.0</td>\n",
       "      <td>0.0</td>\n",
       "      <td>0.0</td>\n",
       "      <td>...</td>\n",
       "      <td>0.0</td>\n",
       "      <td>0.0</td>\n",
       "      <td>0.0</td>\n",
       "      <td>0.0</td>\n",
       "      <td>0.0</td>\n",
       "      <td>0.00</td>\n",
       "      <td>0.0</td>\n",
       "      <td>0.0</td>\n",
       "      <td>0.0</td>\n",
       "      <td>0.0</td>\n",
       "    </tr>\n",
       "    <tr>\n",
       "      <th>2</th>\n",
       "      <td>0.0</td>\n",
       "      <td>0.0</td>\n",
       "      <td>0.0</td>\n",
       "      <td>0.0</td>\n",
       "      <td>0.0</td>\n",
       "      <td>0.0</td>\n",
       "      <td>0.0</td>\n",
       "      <td>0.0</td>\n",
       "      <td>0.0</td>\n",
       "      <td>0.0</td>\n",
       "      <td>...</td>\n",
       "      <td>0.0</td>\n",
       "      <td>0.0</td>\n",
       "      <td>0.0</td>\n",
       "      <td>0.0</td>\n",
       "      <td>0.0</td>\n",
       "      <td>0.00</td>\n",
       "      <td>0.0</td>\n",
       "      <td>0.0</td>\n",
       "      <td>0.0</td>\n",
       "      <td>0.0</td>\n",
       "    </tr>\n",
       "    <tr>\n",
       "      <th>3</th>\n",
       "      <td>0.0</td>\n",
       "      <td>0.0</td>\n",
       "      <td>0.0</td>\n",
       "      <td>0.0</td>\n",
       "      <td>0.0</td>\n",
       "      <td>0.0</td>\n",
       "      <td>0.0</td>\n",
       "      <td>0.0</td>\n",
       "      <td>0.0</td>\n",
       "      <td>0.0</td>\n",
       "      <td>...</td>\n",
       "      <td>0.0</td>\n",
       "      <td>0.0</td>\n",
       "      <td>0.0</td>\n",
       "      <td>0.0</td>\n",
       "      <td>0.0</td>\n",
       "      <td>0.00</td>\n",
       "      <td>0.0</td>\n",
       "      <td>0.0</td>\n",
       "      <td>0.0</td>\n",
       "      <td>0.0</td>\n",
       "    </tr>\n",
       "    <tr>\n",
       "      <th>5</th>\n",
       "      <td>0.0</td>\n",
       "      <td>0.0</td>\n",
       "      <td>0.0</td>\n",
       "      <td>0.0</td>\n",
       "      <td>0.0</td>\n",
       "      <td>0.0</td>\n",
       "      <td>0.0</td>\n",
       "      <td>0.0</td>\n",
       "      <td>0.0</td>\n",
       "      <td>0.0</td>\n",
       "      <td>...</td>\n",
       "      <td>0.0</td>\n",
       "      <td>0.0</td>\n",
       "      <td>0.0</td>\n",
       "      <td>0.0</td>\n",
       "      <td>0.0</td>\n",
       "      <td>8.11</td>\n",
       "      <td>0.0</td>\n",
       "      <td>0.0</td>\n",
       "      <td>0.0</td>\n",
       "      <td>0.0</td>\n",
       "    </tr>\n",
       "    <tr>\n",
       "      <th>7</th>\n",
       "      <td>0.0</td>\n",
       "      <td>0.0</td>\n",
       "      <td>0.0</td>\n",
       "      <td>0.0</td>\n",
       "      <td>0.0</td>\n",
       "      <td>0.0</td>\n",
       "      <td>0.0</td>\n",
       "      <td>0.0</td>\n",
       "      <td>0.0</td>\n",
       "      <td>0.0</td>\n",
       "      <td>...</td>\n",
       "      <td>0.0</td>\n",
       "      <td>0.0</td>\n",
       "      <td>0.0</td>\n",
       "      <td>0.0</td>\n",
       "      <td>0.0</td>\n",
       "      <td>0.00</td>\n",
       "      <td>0.0</td>\n",
       "      <td>0.0</td>\n",
       "      <td>0.0</td>\n",
       "      <td>0.0</td>\n",
       "    </tr>\n",
       "  </tbody>\n",
       "</table>\n",
       "<p>5 rows × 6634 columns</p>\n",
       "</div>"
      ],
      "text/plain": [
       "name     &quot;0&quot;  &quot;Bungaku Shoujo&quot; Kyou no Oyatsu: Hatsukoi  \\\n",
       "user_id                                                                       \n",
       "1                  0.0                                                0.0     \n",
       "2                  0.0                                                0.0     \n",
       "3                  0.0                                                0.0     \n",
       "5                  0.0                                                0.0     \n",
       "7                  0.0                                                0.0     \n",
       "\n",
       "name     &quot;Bungaku Shoujo&quot; Memoire  &quot;Bungaku Shoujo&quot; Movie  \\\n",
       "user_id                                                                         \n",
       "1                                       0.0                               0.0   \n",
       "2                                       0.0                               0.0   \n",
       "3                                       0.0                               0.0   \n",
       "5                                       0.0                               0.0   \n",
       "7                                       0.0                               0.0   \n",
       "\n",
       "name     .hack//G.U. Returner  .hack//G.U. Trilogy  \\\n",
       "user_id                                              \n",
       "1                         0.0                  0.0   \n",
       "2                         0.0                  0.0   \n",
       "3                         0.0                  0.0   \n",
       "5                         0.0                  0.0   \n",
       "7                         0.0                  0.0   \n",
       "\n",
       "name     .hack//G.U. Trilogy: Parody Mode  .hack//Gift  .hack//Intermezzo  \\\n",
       "user_id                                                                     \n",
       "1                                     0.0          0.0                0.0   \n",
       "2                                     0.0          0.0                0.0   \n",
       "3                                     0.0          0.0                0.0   \n",
       "5                                     0.0          0.0                0.0   \n",
       "7                                     0.0          0.0                0.0   \n",
       "\n",
       "name     .hack//Liminality        ...          gdgd Fairies  gdgd Fairies 2  \\\n",
       "user_id                           ...                                         \n",
       "1                      0.0        ...                   0.0             0.0   \n",
       "2                      0.0        ...                   0.0             0.0   \n",
       "3                      0.0        ...                   0.0             0.0   \n",
       "5                      0.0        ...                   0.0             0.0   \n",
       "7                      0.0        ...                   0.0             0.0   \n",
       "\n",
       "name     iDOLM@STER Xenoglossia  iDOLM@STER Xenoglossia Specials  s.CRY.ed  \\\n",
       "user_id                                                                      \n",
       "1                           0.0                              0.0       0.0   \n",
       "2                           0.0                              0.0       0.0   \n",
       "3                           0.0                              0.0       0.0   \n",
       "5                           0.0                              0.0       0.0   \n",
       "7                           0.0                              0.0       0.0   \n",
       "\n",
       "name     xxxHOLiC  xxxHOLiC Kei  xxxHOLiC Movie: Manatsu no Yoru no Yume  \\\n",
       "user_id                                                                    \n",
       "1            0.00           0.0                                      0.0   \n",
       "2            0.00           0.0                                      0.0   \n",
       "3            0.00           0.0                                      0.0   \n",
       "5            8.11           0.0                                      0.0   \n",
       "7            0.00           0.0                                      0.0   \n",
       "\n",
       "name     xxxHOLiC Rou  xxxHOLiC Shunmuki  \n",
       "user_id                                   \n",
       "1                 0.0                0.0  \n",
       "2                 0.0                0.0  \n",
       "3                 0.0                0.0  \n",
       "5                 0.0                0.0  \n",
       "7                 0.0                0.0  \n",
       "\n",
       "[5 rows x 6634 columns]"
      ]
     },
     "execution_count": 3,
     "metadata": {},
     "output_type": "execute_result"
    }
   ],
   "source": [
    "# データの読み込み\n",
    "ratings = pd.read_csv('./anime_data/rating.csv')\n",
    "anime = pd.read_csv('./anime_data/anime.csv')\n",
    "# 1000人以上評価しているもののみを取得\n",
    "anime = anime[anime['members'] > 1000]\n",
    "# 未評価のものは-1が入っているが、nanのものは削除\n",
    "anime = anime.dropna()\n",
    "ratings[ratings.rating == -1]=0\n",
    "# マージ\n",
    "merge_df = ratings.merge(anime, left_on = 'anime_id', right_on = 'anime_id', suffixes= ['_user', '']) \n",
    "# 重複しているものを削除\n",
    "merge_df = merge_df.drop_duplicates(['user_id','name'])\n",
    "anime_pivot = merge_df.pivot(index= 'user_id',columns='name',values='rating').fillna(0)\n",
    "anime_pivot.head()"
   ]
  },
  {
   "cell_type": "code",
   "execution_count": 4,
   "metadata": {},
   "outputs": [
    {
     "data": {
      "text/plain": [
       "6634"
      ]
     },
     "execution_count": 4,
     "metadata": {},
     "output_type": "execute_result"
    }
   ],
   "source": [
    "len(anime_pivot.columns.values)"
   ]
  },
  {
   "cell_type": "code",
   "execution_count": 5,
   "metadata": {},
   "outputs": [],
   "source": [
    "model = NMF(n_components=3, init='nndsvd')\n",
    "W = model.fit_transform(anime_pivot.values)\n",
    "H = model.components_"
   ]
  },
  {
   "cell_type": "code",
   "execution_count": 6,
   "metadata": {},
   "outputs": [],
   "source": [
    "mat = np.dot(W, H)"
   ]
  },
  {
   "cell_type": "code",
   "execution_count": 7,
   "metadata": {},
   "outputs": [
    {
     "data": {
      "text/plain": [
       "array([[1.74602487e-04, 6.67948600e-03, 8.62070314e-03, ...,\n",
       "        1.58371950e-03, 6.99357232e-03, 6.01382866e-03],\n",
       "       [0.00000000e+00, 0.00000000e+00, 0.00000000e+00, ...,\n",
       "        0.00000000e+00, 0.00000000e+00, 0.00000000e+00],\n",
       "       [0.00000000e+00, 0.00000000e+00, 0.00000000e+00, ...,\n",
       "        0.00000000e+00, 0.00000000e+00, 0.00000000e+00],\n",
       "       ...,\n",
       "       [6.35232222e-05, 2.64971140e-03, 2.42426694e-03, ...,\n",
       "        1.24604290e-02, 6.66382367e-03, 9.36828461e-03],\n",
       "       [5.83157522e-03, 2.41592205e-01, 2.27927022e-01, ...,\n",
       "        1.05420950e+00, 5.80666101e-01, 8.05842179e-01],\n",
       "       [9.82901708e-05, 4.08706721e-03, 3.79279382e-03, ...,\n",
       "        1.85842224e-02, 1.00697741e-02, 1.40751709e-02]])"
      ]
     },
     "execution_count": 7,
     "metadata": {},
     "output_type": "execute_result"
    }
   ],
   "source": [
    "mat"
   ]
  },
  {
   "cell_type": "markdown",
   "metadata": {},
   "source": [
    "【アドバンス課題2】 推薦"
   ]
  },
  {
   "cell_type": "code",
   "execution_count": null,
   "metadata": {},
   "outputs": [],
   "source": [
    "def recomendation(user_id):\n",
    "    user = mat[user_id]\n",
    "    index = np.argsort(user)[::-1]\n",
    "    anime_list = anime_pivot.columns[index[0:50]]\n",
    "    for i, name in enumerate(anime_list):\n",
    "        print(\"Rank:{}   Title:{}\".format(i+1, name))"
   ]
  },
  {
   "cell_type": "code",
   "execution_count": 15,
   "metadata": {},
   "outputs": [
    {
     "name": "stdout",
     "output_type": "stream",
     "text": [
      "Rank:1   Title:Shingeki no Kyojin\n",
      "Rank:2   Title:Sword Art Online\n",
      "Rank:3   Title:No Game No Life\n",
      "Rank:4   Title:Tokyo Ghoul\n",
      "Rank:5   Title:Death Note\n",
      "Rank:6   Title:Mirai Nikki (TV)\n",
      "Rank:7   Title:Angel Beats!\n",
      "Rank:8   Title:Fullmetal Alchemist: Brotherhood\n",
      "Rank:9   Title:Steins;Gate\n",
      "Rank:10   Title:Noragami\n",
      "Rank:11   Title:One Punch Man\n",
      "Rank:12   Title:Ao no Exorcist\n",
      "Rank:13   Title:Kiseijuu: Sei no Kakuritsu\n",
      "Rank:14   Title:Another\n",
      "Rank:15   Title:Akame ga Kill!\n",
      "Rank:16   Title:Psycho-Pass\n",
      "Rank:17   Title:Code Geass: Hangyaku no Lelouch\n",
      "Rank:18   Title:Hataraku Maou-sama!\n",
      "Rank:19   Title:Toradora!\n",
      "Rank:20   Title:Death Parade\n",
      "Rank:21   Title:Sword Art Online II\n",
      "Rank:22   Title:Code Geass: Hangyaku no Lelouch R2\n",
      "Rank:23   Title:Ano Hi Mita Hana no Namae wo Bokutachi wa Mada Shiranai.\n",
      "Rank:24   Title:Fate/Zero\n",
      "Rank:25   Title:Shigatsu wa Kimi no Uso\n",
      "Rank:26   Title:Kill la Kill\n",
      "Rank:27   Title:Boku dake ga Inai Machi\n",
      "Rank:28   Title:Zankyou no Terror\n",
      "Rank:29   Title:Guilty Crown\n",
      "Rank:30   Title:Tokyo Ghoul √A\n",
      "Rank:31   Title:Highschool of the Dead\n",
      "Rank:32   Title:Fate/Zero 2nd Season\n",
      "Rank:33   Title:Durarara!!\n",
      "Rank:34   Title:Log Horizon\n",
      "Rank:35   Title:Chuunibyou demo Koi ga Shitai!\n",
      "Rank:36   Title:Yahari Ore no Seishun Love Comedy wa Machigatteiru.\n",
      "Rank:37   Title:Fairy Tail\n",
      "Rank:38   Title:Kuroko no Basket\n",
      "Rank:39   Title:Deadman Wonderland\n",
      "Rank:40   Title:Btooom!\n",
      "Rank:41   Title:Sakurasou no Pet na Kanojo\n",
      "Rank:42   Title:Naruto\n",
      "Rank:43   Title:Hunter x Hunter (2011)\n",
      "Rank:44   Title:High School DxD\n",
      "Rank:45   Title:Kyoukai no Kanata\n",
      "Rank:46   Title:Nisekoi\n",
      "Rank:47   Title:Shokugeki no Souma\n",
      "Rank:48   Title:Magi: The Labyrinth of Magic\n",
      "Rank:49   Title:Nanatsu no Taizai\n",
      "Rank:50   Title:Tonari no Kaibutsu-kun\n"
     ]
    }
   ],
   "source": [
    "user_id = 0\n",
    "recomendation(user_id)"
   ]
  },
  {
   "cell_type": "code",
   "execution_count": null,
   "metadata": {},
   "outputs": [],
   "source": []
  }
 ],
 "metadata": {
  "kernelspec": {
   "display_name": "Python 3",
   "language": "python",
   "name": "python3"
  },
  "language_info": {
   "codemirror_mode": {
    "name": "ipython",
    "version": 3
   },
   "file_extension": ".py",
   "mimetype": "text/x-python",
   "name": "python",
   "nbconvert_exporter": "python",
   "pygments_lexer": "ipython3",
   "version": "3.7.1"
  }
 },
 "nbformat": 4,
 "nbformat_minor": 2
}
