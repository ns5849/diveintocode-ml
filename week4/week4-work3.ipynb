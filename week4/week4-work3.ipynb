{
 "cells": [
  {
   "cell_type": "markdown",
   "metadata": {},
   "source": [
    "#### 【問題1】これまで利用してきたクラスの列挙\n",
    "クラスを使う際はインスタンス化を行うことと、クラスの命名法がわかりました。この情報を元に、これまでの課題で利用してきたコードの中でどのようなクラスがあったかを答えてください。\n",
    "最低でもPandas、matplotlib、scikit-learnからそれぞれ1つ以上見つけてください。"
   ]
  },
  {
   "cell_type": "markdown",
   "metadata": {},
   "source": [
    "1.Pandas   \n",
    "DataFrame()  \n",
    "Series()  \n",
    "\n",
    "2.matplotlib  \n",
    "subplot2grid()  \n",
    "figure()  \n",
    "\n",
    "3.scikit-learn  \n",
    "KNeighborsClassifier()  \n",
    "LogisticRegression()  \n",
    "SVC()  \n",
    "DecisionTreeClassifier()  \n",
    "RandomForestClassifier()  "
   ]
  },
  {
   "cell_type": "markdown",
   "metadata": {},
   "source": [
    "#### 【問題2】これまで利用してきたメソッドやインスタンス変数の列挙\n",
    "これまでの課題で利用してきたコードの中でどのようなメソッドやインスタンス変数があったかを答えてください。\n",
    "最低でもそれぞれ5つ以上答えてください。"
   ]
  },
  {
   "cell_type": "markdown",
   "metadata": {},
   "source": [
    "1.Method\n",
    "PandasDataFrame.shape()  \n",
    "PandasDataFrame.append()  \n",
    "PandasDataFrame.astype()  \n",
    "PandasDataFrame.combine()  \n",
    "PandasDataFrame.describe()  \n",
    "PandasDataFrame.info()  \n",
    "PandasDataFrame.head()  \n",
    "\n",
    "2.instance変数  \n",
    "PandasDataFrame : data    \n",
    "PandasDataFrame : dtype    \n",
    "PandasDataFrame : index  \n",
    "PandasDataFrame : column  \n",
    "KNeighborsClassifier : n_neighbors  \n",
    "KNeighborsClassifier : algorithm"
   ]
  },
  {
   "cell_type": "markdown",
   "metadata": {},
   "source": [
    "#### 【問題3】標準化クラスをスクラッチで作成\n",
    "理解をより深めるため、StandardScalerをスクラッチで作成しましょう。scikit-learnは使わず、NumPyなどを活用して標準化の計算を記述します。具体的にはfitメソッドとtransformメソッドを作ります。"
   ]
  },
  {
   "cell_type": "code",
   "execution_count": 1,
   "metadata": {
    "collapsed": true
   },
   "outputs": [],
   "source": [
    "import numpy as np"
   ]
  },
  {
   "cell_type": "code",
   "execution_count": 2,
   "metadata": {
    "collapsed": true
   },
   "outputs": [],
   "source": [
    "class ScratchStandardScaler():\n",
    "    \"\"\"\n",
    "    標準化のためのクラス\n",
    "\n",
    "    Attributes\n",
    "    ----------\n",
    "    mean_ : 次の形のndarray, shape(n_features,)\n",
    "        平均\n",
    "    var_ : 次の形のndarray, shape(n_features,)\n",
    "        分散\n",
    "    \"\"\"\n",
    "\n",
    "    def fit(self, X):\n",
    "        \"\"\"\n",
    "        標準化のために平均と標準偏差を計算する。\n",
    "\n",
    "        Parameters\n",
    "        ----------\n",
    "        X : 次の形のndarray, shape (n_samples, n_features)\n",
    "            学習データ\n",
    "        \"\"\"\n",
    "\n",
    "        self.mean_ = np.mean(X, axis=0)\n",
    "        self.var_ = np.var(X, axis=0)\n",
    "\n",
    "        pass\n",
    "\n",
    "    def transform(self, X):\n",
    "        \"\"\"\n",
    "        fitで求めた値を使い標準化を行う。\n",
    "\n",
    "        Parameters\n",
    "        ----------\n",
    "        X : 次の形のndarray, shape (n_samples, n_features)\n",
    "            特徴量\n",
    "\n",
    "        Returns\n",
    "        ----------\n",
    "        X_scaled : 次の形のndarray, shape (n_samples, n_features)\n",
    "            標準化された特緒量\n",
    "        \"\"\"\n",
    "        \n",
    "        X_scaled = (X - self.mean_) / np.sqrt(self.var_)\n",
    "        \n",
    "        return X_scaled"
   ]
  },
  {
   "cell_type": "code",
   "execution_count": 3,
   "metadata": {
    "collapsed": false
   },
   "outputs": [
    {
     "name": "stdout",
     "output_type": "stream",
     "text": [
      "平均 : [4.86 3.31 1.45 0.22]\n",
      "分散 : [0.0764 0.0849 0.0105 0.0056]\n",
      "標準化X： [[ 0.86828953  0.65207831 -0.48795004 -0.26726124]\n",
      " [ 0.14471492 -1.06391725 -0.48795004 -0.26726124]\n",
      " [-0.57885968 -0.37751902 -1.46385011 -0.26726124]\n",
      " [-0.94064699 -0.72071813  0.48795004 -0.26726124]\n",
      " [ 0.50650222  0.99527742 -0.48795004 -0.26726124]\n",
      " [ 1.95365143  2.02487476  2.43975018  2.40535118]\n",
      " [-0.94064699  0.3088792  -0.48795004  1.06904497]\n",
      " [ 0.50650222  0.3088792   0.48795004 -0.26726124]\n",
      " [-1.66422159 -1.40711636 -0.48795004 -0.26726124]\n",
      " [ 0.14471492 -0.72071813  0.48795004 -1.60356745]]\n",
      "平均 : [4.86 3.31 1.45 0.22]\n",
      "分散 : [0.0764 0.0849 0.0105 0.0056]\n",
      "標準化X： [[ 0.86828953  0.65207831 -0.48795004 -0.26726124]\n",
      " [ 0.14471492 -1.06391725 -0.48795004 -0.26726124]\n",
      " [-0.57885968 -0.37751902 -1.46385011 -0.26726124]\n",
      " [-0.94064699 -0.72071813  0.48795004 -0.26726124]\n",
      " [ 0.50650222  0.99527742 -0.48795004 -0.26726124]\n",
      " [ 1.95365143  2.02487476  2.43975018  2.40535118]\n",
      " [-0.94064699  0.3088792  -0.48795004  1.06904497]\n",
      " [ 0.50650222  0.3088792   0.48795004 -0.26726124]\n",
      " [-1.66422159 -1.40711636 -0.48795004 -0.26726124]\n",
      " [ 0.14471492 -0.72071813  0.48795004 -1.60356745]]\n"
     ]
    }
   ],
   "source": [
    "import numpy as np\n",
    "from sklearn.datasets import load_iris\n",
    "from sklearn.preprocessing import StandardScaler\n",
    "\n",
    "data = load_iris()\n",
    "X = data.data[:10]\n",
    "\n",
    "scratch_scaler = ScratchStandardScaler()\n",
    "scratch_scaler.fit(X)\n",
    "print(\"平均 :\", scratch_scaler.mean_)\n",
    "print(\"分散 :\", scratch_scaler.var_)\n",
    "X_std = scratch_scaler.transform(X)\n",
    "print(\"標準化X：\", X_std)\n",
    "\n",
    "#答え\n",
    "scaler = StandardScaler()\n",
    "scaler.fit(X)\n",
    "print(\"平均 :\", scaler.mean_)\n",
    "print(\"分散 :\", scaler.var_)\n",
    "X_std_ans = scaler.transform(X)\n",
    "print(\"標準化X：\", X_std_ans)"
   ]
  },
  {
   "cell_type": "markdown",
   "metadata": {},
   "source": [
    "#### 【課題4】 四則演算を行うクラスの作成\n",
    "上記ExampleClassは足し算のメソッドを持っていますが、これに引き算、掛け算、割り算のメソッドを加えてください。\n",
    "また、コンストラクタに入力されたvalueが文字列や配列など数値以外だった場合には警告文を出し、self.value=0とするコードを追加してください。\n",
    "クラス名や説明文も適切に書き換えてください。"
   ]
  },
  {
   "cell_type": "code",
   "execution_count": 5,
   "metadata": {
    "collapsed": false
   },
   "outputs": [
    {
     "name": "stdout",
     "output_type": "stream",
     "text": [
      "初期値6が設定されました\n",
      "value : 6\n",
      "Add => value : 9\n",
      "Sub => value : 6\n",
      "Multi => value : 18\n",
      "Div => value : 6.0\n"
     ]
    }
   ],
   "source": [
    "class ArithmeticClass():\n",
    "    \"\"\"\n",
    "    四則演算を行うクラス\n",
    "\n",
    "    Parameters\n",
    "    ----------\n",
    "    value : float or int\n",
    "        初期値\n",
    "\n",
    "    Attributes\n",
    "    ----------\n",
    "    value : float or int\n",
    "        計算結果\n",
    "    \"\"\"\n",
    "    def __init__(self, value):\n",
    "        if type(value) is int:\n",
    "            self.value = value\n",
    "            print(\"初期値{}が設定されました\".format(self.value))\n",
    "        else:\n",
    "            self.value = 0\n",
    "            print(\"{}は入力できません。パラメータは数値のみ入力可能です。\".format(value)) \n",
    "            print(\"初期値{}が設定されました\".format(self.value))            \n",
    "    def add(self, value2):\n",
    "        \"\"\"\n",
    "        受け取った引数をself.valueに加える\n",
    "        \"\"\"\n",
    "        self.value += value2\n",
    "    def sub(self, value2):\n",
    "        \"\"\"\n",
    "        受け取った引数をself.valueから引く\n",
    "        \"\"\"\n",
    "        self.value -= value2\n",
    "    def multi(self, value2):\n",
    "        \"\"\"\n",
    "        受け取った引数でself.valueを掛ける\n",
    "        \"\"\"\n",
    "        self.value *= value2\n",
    "    def div(self, value2):\n",
    "        \"\"\"\n",
    "        受け取った引数でself.valueを割る\n",
    "        \"\"\"\n",
    "        self.value /= value2 \n",
    "\n",
    "\n",
    "example = ArithmeticClass(6)\n",
    "print(\"value :\", example.value)\n",
    "example.add(3)\n",
    "print(\"Add => value :\", example.value)\n",
    "example.sub(3)\n",
    "print(\"Sub => value :\", example.value)\n",
    "example.multi(3)\n",
    "print(\"Multi => value :\", example.value)\n",
    "example.div(3)\n",
    "print(\"Div => value :\", example.value)"
   ]
  },
  {
   "cell_type": "code",
   "execution_count": null,
   "metadata": {
    "collapsed": true
   },
   "outputs": [],
   "source": []
  }
 ],
 "metadata": {
  "kernelspec": {
   "display_name": "Python 3",
   "language": "python",
   "name": "python3"
  },
  "language_info": {
   "codemirror_mode": {
    "name": "ipython",
    "version": 3
   },
   "file_extension": ".py",
   "mimetype": "text/x-python",
   "name": "python",
   "nbconvert_exporter": "python",
   "pygments_lexer": "ipython3",
   "version": "3.6.0"
  }
 },
 "nbformat": 4,
 "nbformat_minor": 2
}
