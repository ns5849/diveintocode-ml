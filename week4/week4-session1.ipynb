{
 "cells": [
  {
   "cell_type": "code",
   "execution_count": 1,
   "metadata": {
    "collapsed": true
   },
   "outputs": [],
   "source": [
    "import pandas as pd\n",
    "import numpy as np\n",
    "import matplotlib.pyplot as plt\n",
    "from matplotlib.colors import ListedColormap\n",
    "import matplotlib.patches as mpatches\n",
    "import seaborn as sns\n",
    "%matplotlib inline"
   ]
  },
  {
   "cell_type": "code",
   "execution_count": 59,
   "metadata": {
    "collapsed": true
   },
   "outputs": [],
   "source": [
    "def binning_data(data_source, col_name, binned_col_name, num_of_bin=10, option=\"IQR\"):\n",
    "    \"\"\"\n",
    "    指定された列を指定されたbinの数に分割し、bin毎にラベル付けされたデータを元データに追加する\n",
    "    \n",
    "    parameter\n",
    "    --------------\n",
    "    data_source : Pandas dataframe\n",
    "    col_name : string \n",
    "    binned_col_name : string \n",
    "    num_of_bin : int\n",
    "    \n",
    "    return\n",
    "    --------------\n",
    "    data_source : pandas dataframe\n",
    "    \n",
    "    \"\"\"\n",
    "    \n",
    "    if option == \"IQR\":\n",
    "        #bin幅の決定のため四分位数を調べる。（外れ値を除く）\n",
    "        data_info = data_source.describe()\n",
    "        bin_min = data_info.loc[\"25%\", col_name]\n",
    "        bin_max = data_info.loc[\"75%\", col_name]\n",
    "        IQR = bin_max - bin_min\n",
    "        bin_min = bin_min-IQR*1.5 if bin_min > IQR*1.5 else 0 #これ以下は外れ値とする。(0を最低値とする)\n",
    "        bin_max += IQR*1.5 #これ以上は外れ値とする\n",
    "    elif option == \"MINMAX\":\n",
    "        data_info = data_source.describe()\n",
    "        bin_min = data_info.loc[\"min\", col_name]\n",
    "        bin_max = data_info.loc[\"max\", col_name]    \n",
    "    \n",
    "    bin_width = (int)((bin_max - bin_min) / num_of_bin)\n",
    "    bins = [value for value in range((int)(bin_min), (int)(bin_max), bin_width )]\n",
    "    #bin_width = (bin_max - bin_min) / num_of_bin\n",
    "    #bins = [value for value in gen_range(bin_min, bin_max, bin_width )]\n",
    "    labels = [i for i in range(0, len(bins)-1)]\n",
    "    binned_label = pd.cut(data_source[col_name], bins=bins, labels=labels)\n",
    "    data_source[binned_col_name] = binned_label\n",
    "\n",
    "    for i in range(0, len(bins)-1):\n",
    "        print(\"range label={} : range={:.5f}~{:.5f}\".format(i, bins[i], bins[i+1]) )\n",
    "    \n",
    "    return data_source"
   ]
  },
  {
   "cell_type": "markdown",
   "metadata": {},
   "source": [
    "### 【問題1】パイプラインの作成\n",
    "授業前課題で行ったことを参考に、学習し推定結果を出すまでの一連の流れを行ってください。テストデータに対して推定を行い、それをKaggleに提出してみましょう。この段階では高い精度を出す必要はありません。"
   ]
  },
  {
   "cell_type": "markdown",
   "metadata": {},
   "source": [
    "### パイプライン関数"
   ]
  },
  {
   "cell_type": "code",
   "execution_count": 2,
   "metadata": {
    "collapsed": false
   },
   "outputs": [],
   "source": [
    "from sklearn import metrics\n",
    "from sklearn.model_selection import train_test_split\n",
    "from sklearn.preprocessing import StandardScaler\n",
    "from sklearn.datasets import make_classification\n",
    "\n",
    "def pipline(model, data, target_value, feature_value, positive_label, normalization=True, plot=True):\n",
    "    \"\"\"\n",
    "    Parameter\n",
    "    ---------------\n",
    "    model : 利用するライブラリのオブジェクト\n",
    "    target_value :目的変数名\n",
    "    feature_value :　説明変数名\n",
    "    normalization :フラグ True=正規分布で規格化　False=規格化しない\n",
    "    \n",
    "    Return\n",
    "    ---------------\n",
    "    fpr, tpr, thresholds\n",
    "    \"\"\"\n",
    "    \n",
    "    #学習データ、テストデータに分ける\n",
    "    train_data, test_data = train_test_split(data, test_size=0.25, random_state=42)\n",
    "    train_feature = train_data[feature_value].values\n",
    "    train_target = train_data[target_value].values\n",
    "    test_feature = test_data[feature_value].values\n",
    "    test_target = test_data[target_value].values\n",
    "    print(\"元データ数：{}　学習データ数：{}　検証データ数：{}\".format(len(data), len(train_data), len(test_data)))\n",
    "    \n",
    "    #学習データの特徴量を標準化\n",
    "    if normalization == True:\n",
    "        scaler = StandardScaler()\n",
    "        scaler.fit(train_feature)\n",
    "        train_feature = scaler.transform(train_feature)\n",
    "        scaler.fit(test_feature)\n",
    "        test_feature = scaler.transform(test_feature)\n",
    "\n",
    "    #学習と予測\n",
    "    model.fit(train_feature, train_target)\n",
    "    result = model.predict_proba(test_feature)\n",
    "    \n",
    "    #rocを計算\n",
    "    fpr, tpr, thresholds = metrics.roc_curve(test_target.reshape(-1), result[:,0], pos_label=positive_label)\n",
    "    #rocをplot\n",
    "    if plot == True:\n",
    "        plt.step(fpr, tpr, color='b', alpha=0.2, where='post')\n",
    "        plt.fill_between(fpr, tpr, step='post', alpha=0.2, color='b')\n",
    "        plt.plot([0, 1], [0, 1], color='navy', linestyle='--')\n",
    "        plt.ylabel('True Positive Rate')\n",
    "        plt.xlabel('False Positive Rate')\n",
    "        plt.ylim([0.0, 1.0])\n",
    "        plt.xlim([0.0, 1.0])\n",
    "        plt.show()\n",
    "    \n",
    "    return fpr, tpr, thresholds"
   ]
  },
  {
   "cell_type": "markdown",
   "metadata": {},
   "source": [
    "### 試しにirisデータで計算してみる  \n",
    "期待通り動いていそう。"
   ]
  },
  {
   "cell_type": "code",
   "execution_count": 3,
   "metadata": {
    "collapsed": true
   },
   "outputs": [],
   "source": [
    "from sklearn.datasets import load_iris\n",
    "iris_data_set = load_iris()\n",
    "x = pd.DataFrame(iris_data_set.data, columns=iris_data_set.feature_names)    #Put explanatory variable into x as pandasdata frame\n",
    "y = pd.DataFrame(iris_data_set.target, columns=['Species'])    #Put iris response variable into y as pandasdata frame\n",
    "df = pd.concat([x, y], axis=1)\n",
    "data = df[df[\"Species\"] != 0]"
   ]
  },
  {
   "cell_type": "code",
   "execution_count": 4,
   "metadata": {
    "collapsed": false,
    "scrolled": true
   },
   "outputs": [
    {
     "name": "stdout",
     "output_type": "stream",
     "text": [
      "元データ数：100　学習データ数：75　検証データ数：25\n"
     ]
    },
    {
     "data": {
      "image/png": "[encoded data removed]",
      "text/plain": [
       "<matplotlib.figure.Figure at 0x11989a828>"
      ]
     },
     "metadata": {},
     "output_type": "display_data"
    },
    {
     "name": "stdout",
     "output_type": "stream",
     "text": [
      "FPR=[0.         0.         0.         0.         0.18181818 0.27272727\n",
      " 0.45454545 0.45454545 0.63636364 1.        ]\n",
      "TPR=[0.         0.42857143 0.57142857 0.85714286 0.85714286 0.92857143\n",
      " 0.92857143 1.         1.         1.        ]\n",
      "Thresholds=[2.   1.   0.99 0.83 0.77 0.59 0.16 0.03 0.01 0.  ]\n"
     ]
    }
   ],
   "source": [
    "from sklearn.ensemble import RandomForestClassifier\n",
    "from sklearn.neighbors import KNeighborsClassifier\n",
    "clf = RandomForestClassifier(n_estimators=100, max_depth=120, random_state=10)\n",
    "#clf = KNeighborsClassifier(n_neighbors=3)\n",
    "\n",
    "fpr, tpr, thresholds = pipline(clf, data, \"Species\", data.columns[[0,2]], 1, False)\n",
    "\n",
    "print(\"FPR={}\".format(fpr))\n",
    "print(\"TPR={}\".format(tpr))\n",
    "print(\"Thresholds={}\".format(thresholds))"
   ]
  },
  {
   "cell_type": "markdown",
   "metadata": {},
   "source": [
    "### 実際に計算"
   ]
  },
  {
   "cell_type": "markdown",
   "metadata": {},
   "source": [
    "特徴量を選ぶ(とりあえず前回のEDAの結果)  \n",
    "1.OCCUPATION_TYPE  \n",
    "2.ORGANIZATION_TYPE  \n",
    "5.DAYS_EMPLOYED  \n",
    "6.DAYS_REGISTRATION  \n",
    "7.AMT_CREDIT  \n",
    "8.DAYS_BIRTH  \n",
    "9.DEF_60_CNT_SOCIAL_CIRCLE  \n",
    "10.AMT_INCOME_TOTAL  \n",
    "11.CNT_CHILDREN  "
   ]
  },
  {
   "cell_type": "code",
   "execution_count": 5,
   "metadata": {
    "collapsed": false
   },
   "outputs": [],
   "source": [
    "import copy\n",
    "selected_feature_name = [\"OCCUPATION_TYPE\", \n",
    "                         \"ORGANIZATION_TYPE\",\n",
    "                         \"EXT_SOURCE_1\",\n",
    "                         \"EXT_SOURCE_2\",\n",
    "                         \"DAYS_EMPLOYED\", \n",
    "                         \"DAYS_REGISTRATION\", \n",
    "                         \"AMT_CREDIT\", \n",
    "                         \"DAYS_BIRTH\", \n",
    "                         \"DEF_60_CNT_SOCIAL_CIRCLE\", \n",
    "                         \"AMT_INCOME_TOTAL\", \n",
    "                         \"CNT_CHILDREN\"]\n",
    "col_name = copy.deepcopy(selected_feature_name)\n",
    "col_name.append(\"TARGET\")"
   ]
  },
  {
   "cell_type": "code",
   "execution_count": 6,
   "metadata": {
    "collapsed": false
   },
   "outputs": [],
   "source": [
    "pd_application_train = pd.read_csv(\"/Users/naoki/Desktop/DIC/week3/session/all/application_train.csv\")\n",
    "pd.options.display.max_columns = len(pd_application_train.columns)"
   ]
  },
  {
   "cell_type": "code",
   "execution_count": 7,
   "metadata": {
    "collapsed": false
   },
   "outputs": [],
   "source": [
    "pd_reducted_train_data = pd_application_train[col_name]"
   ]
  },
  {
   "cell_type": "code",
   "execution_count": 8,
   "metadata": {
    "collapsed": false
   },
   "outputs": [
    {
     "name": "stderr",
     "output_type": "stream",
     "text": [
      "/Users/naoki/.pyenv/versions/anaconda3-4.3.0/lib/python3.6/site-packages/ipykernel/__main__.py:9: SettingWithCopyWarning: \n",
      "A value is trying to be set on a copy of a slice from a DataFrame.\n",
      "Try using .loc[row_indexer,col_indexer] = value instead\n",
      "\n",
      "See the caveats in the documentation: http://pandas.pydata.org/pandas-docs/stable/indexing.html#indexing-view-versus-copy\n"
     ]
    }
   ],
   "source": [
    "#オブジェクト型データをエンコーディング\n",
    "object_data_home_credit = pd_reducted_train_data.select_dtypes(['object'])\n",
    "object_col_name = object_data_home_credit.columns.values\n",
    "array_object_to_int = np.array([object_data_home_credit[object_col_name[i]].unique() for i in range(0,len(object_col_name))])\n",
    "\n",
    "#オブジェクト型を数値に置き換え\n",
    "for i in range(0,len(object_col_name)):\n",
    "    labels, uniques = pd.factorize(pd_reducted_train_data[object_col_name[i]])\n",
    "    pd_reducted_train_data[object_col_name[i]] = labels    \n",
    "\n",
    "pd_reducted_train_data = pd_reducted_train_data.replace(np.nan, -1)"
   ]
  },
  {
   "cell_type": "code",
   "execution_count": 12,
   "metadata": {
    "collapsed": false,
    "scrolled": true
   },
   "outputs": [
    {
     "name": "stdout",
     "output_type": "stream",
     "text": [
      "元データ数：307511　学習データ数：230633　検証データ数：76878\n"
     ]
    },
    {
     "data": {
      "image/png": "[encoded data removed]",
      "text/plain": [
       "<matplotlib.figure.Figure at 0x11be2b198>"
      ]
     },
     "metadata": {},
     "output_type": "display_data"
    },
    {
     "name": "stdout",
     "output_type": "stream",
     "text": [
      "AUC=0.32846\n"
     ]
    }
   ],
   "source": [
    "from sklearn.ensemble import RandomForestClassifier\n",
    "from sklearn.neighbors import KNeighborsClassifier\n",
    "\n",
    "#clf = KNeighborsClassifier(n_neighbors=5)\n",
    "clf = RandomForestClassifier(n_estimators=100, max_depth=120, random_state=40)\n",
    "fpr, tpr, thresholds = pipline(clf, pd_reducted_train_data, \"TARGET\", selected_feature_name, 1, False)\n",
    "\n",
    "print(\"AUC={:.5f}\".format(metrics.auc(fpr, tpr)))"
   ]
  },
  {
   "cell_type": "markdown",
   "metadata": {},
   "source": [
    "モデルのパラメータ調整も必要かも。"
   ]
  },
  {
   "cell_type": "markdown",
   "metadata": {},
   "source": [
    "### 【問題2】指標値の関数作成\n",
    "このコンペティションでは提出した確率から指標値 AUC が計算され、それで順位が決まります。（Evaluationのページ参照）\n",
    "このAUCを計算する関数を作成してください。"
   ]
  },
  {
   "cell_type": "code",
   "execution_count": 10,
   "metadata": {
    "collapsed": true
   },
   "outputs": [],
   "source": [
    "def cal_auc(fpr, tpr):\n",
    "    \n",
    "    dx = fpr[1:]-fpr[:-1]     #X軸（fpr）について配列の隣同士の間隔を計算\n",
    "    dy = (tpr[1:]+tpr[:-1])/2 #Y軸(tpr)について配列の右隣との平均値を計算\n",
    "    integral = dx*dy\n",
    "    \"\"\"\n",
    "    integral_under = dx * tpr[0:len(tpr)-1]\n",
    "    integral_over = dx * tpr[1:len(tpr)]\n",
    "    auc = (integral_under.sum()+integral_over.sum())/2\n",
    "    \"\"\"\n",
    "    return integral.sum()"
   ]
  },
  {
   "cell_type": "markdown",
   "metadata": {},
   "source": [
    "#### AUCを計算 (Sklearn Metric.aucの計算結果と比較)"
   ]
  },
  {
   "cell_type": "code",
   "execution_count": 11,
   "metadata": {
    "collapsed": false
   },
   "outputs": [
    {
     "name": "stdout",
     "output_type": "stream",
     "text": [
      "AUC(with cal_auc)=0.329070\n",
      "AUC(with metrics.auc)=0.329070\n"
     ]
    }
   ],
   "source": [
    "print(\"AUC(with cal_auc)={:.6f}\".format(cal_auc(fpr, tpr)))\n",
    "print(\"AUC(with metrics.auc)={:.6f}\".format(metrics.auc(fpr, tpr)))"
   ]
  },
  {
   "cell_type": "markdown",
   "metadata": {},
   "source": [
    "### 【問題3】前処理・Feature Engineering・学習\n",
    "精度を上げるために前処理・Feature Engineeringを行ってください。そしてその特徴量によって学習、検証、再び前処理の流れを繰り返しましょう。この工程はEDAの続きとも言えます。Week3で学んだことを思い出しながら進めてください。\n",
    "汎化性能が高いモデルが作成できたと判断した場合は再びKaggleに提出をしましょう。"
   ]
  },
  {
   "cell_type": "markdown",
   "metadata": {},
   "source": [
    "#### アプローチ ：データセットに新たな特徴量を加えてみる\n",
    "個人で負債を抱える人の特徴としては、  \n",
    "・複数ローンをしている  \n",
    "・自己管理ができない、時間にルーズなど”いい加減” \n",
    "という特徴があるようだ。(ただし日本国内での調査結果に基づく)。\n",
    "このことは、Week3 Seesion1で行なったEDAの結果、顧客の収入の他にその人物の特徴も重要な要素であるという推測と一致する。そこで、Home creditから与えれているデータを組み合わせ”いい加減”という特徴を数値化し新しい特徴量とすることを試みる。  \n",
    "また、負債を抱えてしまった理由としては、  \n",
    "・収入が少ない&急な収入の減少  \n",
    "が上位に挙げられていた。しかしWeek3 Seesion1で行なったEDAの結果、単純に収入にだけでは未返済率にはっきりとした傾向は現れていなかった。そこで、新たなアプローチとして収入と必要な出費から\"経済的な余裕の無さ\"を数値化し新しい特徴量とすることを試みる。必要な出費の多さの指標として”子供の多さ”を用いる。\n",
    "\n",
    "| ”無計画” & ”いい加減” の定義　| 組み合わせる特徴量 |　新しい特徴量の算出方法 |\n",
    "|:-----------:|:------------:|:------------:|\n",
    "| 収入低いのに多く借りている |　AMT_INCOME_TOTAL, AMT_CREDIT, AMT_GOODS_PRICE | 得点化 |\n",
    "| Nanの欄が多い | Nan | サンプル毎のNanの合計値の分布を適当なレンジに分ける。 |\n",
    "\n",
    "| ”経済的な余裕のなさ”の定義| 組み合わせる特徴量 |　新しい特徴量の算出方法 |\n",
    "|:-----------:|:------------:|:------------:|\n",
    "| 収入が低く子供が多い　　　|　　　AMT_INCOME_TOTAL, CNT_CHILDREN　　　 | 　得点化 （収入=低い&子供多い=>大 　収入=高い&子供少い=>大）|"
   ]
  },
  {
   "cell_type": "markdown",
   "metadata": {},
   "source": [
    "AMT_INCOME_TOTAL、 CNT_CHILDREN、AMT_CREDIT、 AMT_GOODS_PRICE、 Nanの分布を見てみる。"
   ]
  },
  {
   "cell_type": "code",
   "execution_count": 22,
   "metadata": {
    "collapsed": false
   },
   "outputs": [
    {
     "data": {
      "text/html": [
       "<div>\n",
       "<table border=\"1\" class=\"dataframe\">\n",
       "  <thead>\n",
       "    <tr style=\"text-align: right;\">\n",
       "      <th></th>\n",
       "      <th>TARGET</th>\n",
       "      <th>AMT_INCOME_TOTAL</th>\n",
       "      <th>CNT_CHILDREN</th>\n",
       "      <th>AMT_CREDIT</th>\n",
       "      <th>AMT_GOODS_PRICE</th>\n",
       "    </tr>\n",
       "  </thead>\n",
       "  <tbody>\n",
       "    <tr>\n",
       "      <th>0</th>\n",
       "      <td>1</td>\n",
       "      <td>202500.0</td>\n",
       "      <td>0</td>\n",
       "      <td>406597.5</td>\n",
       "      <td>351000.0</td>\n",
       "    </tr>\n",
       "    <tr>\n",
       "      <th>1</th>\n",
       "      <td>0</td>\n",
       "      <td>270000.0</td>\n",
       "      <td>0</td>\n",
       "      <td>1293502.5</td>\n",
       "      <td>1129500.0</td>\n",
       "    </tr>\n",
       "    <tr>\n",
       "      <th>2</th>\n",
       "      <td>0</td>\n",
       "      <td>67500.0</td>\n",
       "      <td>0</td>\n",
       "      <td>135000.0</td>\n",
       "      <td>135000.0</td>\n",
       "    </tr>\n",
       "    <tr>\n",
       "      <th>3</th>\n",
       "      <td>0</td>\n",
       "      <td>135000.0</td>\n",
       "      <td>0</td>\n",
       "      <td>312682.5</td>\n",
       "      <td>297000.0</td>\n",
       "    </tr>\n",
       "    <tr>\n",
       "      <th>4</th>\n",
       "      <td>0</td>\n",
       "      <td>121500.0</td>\n",
       "      <td>0</td>\n",
       "      <td>513000.0</td>\n",
       "      <td>513000.0</td>\n",
       "    </tr>\n",
       "  </tbody>\n",
       "</table>\n",
       "</div>"
      ],
      "text/plain": [
       "   TARGET  AMT_INCOME_TOTAL  CNT_CHILDREN  AMT_CREDIT  AMT_GOODS_PRICE\n",
       "0       1          202500.0             0    406597.5         351000.0\n",
       "1       0          270000.0             0   1293502.5        1129500.0\n",
       "2       0           67500.0             0    135000.0         135000.0\n",
       "3       0          135000.0             0    312682.5         297000.0\n",
       "4       0          121500.0             0    513000.0         513000.0"
      ]
     },
     "execution_count": 22,
     "metadata": {},
     "output_type": "execute_result"
    }
   ],
   "source": [
    "col_name = [\"TARGET\", \"AMT_INCOME_TOTAL\", \"CNT_CHILDREN\", \"AMT_CREDIT\", \"AMT_GOODS_PRICE\"]\n",
    "pd_data = pd_application_train[col_name]\n",
    "pd_data.head()"
   ]
  },
  {
   "cell_type": "code",
   "execution_count": 15,
   "metadata": {
    "collapsed": false,
    "scrolled": true
   },
   "outputs": [
    {
     "name": "stdout",
     "output_type": "stream",
     "text": [
      "<class 'pandas.core.frame.DataFrame'>\n",
      "RangeIndex: 307511 entries, 0 to 307510\n",
      "Data columns (total 4 columns):\n",
      "AMT_INCOME_TOTAL    307511 non-null float64\n",
      "CNT_CHILDREN        307511 non-null int64\n",
      "AMT_CREDIT          307511 non-null float64\n",
      "AMT_GOODS_PRICE     307233 non-null float64\n",
      "dtypes: float64(3), int64(1)\n",
      "memory usage: 9.4 MB\n"
     ]
    }
   ],
   "source": [
    "pd_data.info()"
   ]
  },
  {
   "cell_type": "code",
   "execution_count": 17,
   "metadata": {
    "collapsed": false
   },
   "outputs": [
    {
     "data": {
      "text/html": [
       "<div>\n",
       "<table border=\"1\" class=\"dataframe\">\n",
       "  <thead>\n",
       "    <tr style=\"text-align: right;\">\n",
       "      <th></th>\n",
       "      <th>AMT_INCOME_TOTAL</th>\n",
       "      <th>CNT_CHILDREN</th>\n",
       "      <th>AMT_CREDIT</th>\n",
       "      <th>AMT_GOODS_PRICE</th>\n",
       "    </tr>\n",
       "  </thead>\n",
       "  <tbody>\n",
       "    <tr>\n",
       "      <th>count</th>\n",
       "      <td>3.075110e+05</td>\n",
       "      <td>307511.000000</td>\n",
       "      <td>3.075110e+05</td>\n",
       "      <td>3.072330e+05</td>\n",
       "    </tr>\n",
       "    <tr>\n",
       "      <th>mean</th>\n",
       "      <td>1.687979e+05</td>\n",
       "      <td>0.417052</td>\n",
       "      <td>5.990260e+05</td>\n",
       "      <td>5.383962e+05</td>\n",
       "    </tr>\n",
       "    <tr>\n",
       "      <th>std</th>\n",
       "      <td>2.371231e+05</td>\n",
       "      <td>0.722121</td>\n",
       "      <td>4.024908e+05</td>\n",
       "      <td>3.694465e+05</td>\n",
       "    </tr>\n",
       "    <tr>\n",
       "      <th>min</th>\n",
       "      <td>2.565000e+04</td>\n",
       "      <td>0.000000</td>\n",
       "      <td>4.500000e+04</td>\n",
       "      <td>4.050000e+04</td>\n",
       "    </tr>\n",
       "    <tr>\n",
       "      <th>25%</th>\n",
       "      <td>1.125000e+05</td>\n",
       "      <td>0.000000</td>\n",
       "      <td>2.700000e+05</td>\n",
       "      <td>2.385000e+05</td>\n",
       "    </tr>\n",
       "    <tr>\n",
       "      <th>50%</th>\n",
       "      <td>1.471500e+05</td>\n",
       "      <td>0.000000</td>\n",
       "      <td>5.135310e+05</td>\n",
       "      <td>4.500000e+05</td>\n",
       "    </tr>\n",
       "    <tr>\n",
       "      <th>75%</th>\n",
       "      <td>2.025000e+05</td>\n",
       "      <td>1.000000</td>\n",
       "      <td>8.086500e+05</td>\n",
       "      <td>6.795000e+05</td>\n",
       "    </tr>\n",
       "    <tr>\n",
       "      <th>max</th>\n",
       "      <td>1.170000e+08</td>\n",
       "      <td>19.000000</td>\n",
       "      <td>4.050000e+06</td>\n",
       "      <td>4.050000e+06</td>\n",
       "    </tr>\n",
       "  </tbody>\n",
       "</table>\n",
       "</div>"
      ],
      "text/plain": [
       "       AMT_INCOME_TOTAL   CNT_CHILDREN    AMT_CREDIT  AMT_GOODS_PRICE\n",
       "count      3.075110e+05  307511.000000  3.075110e+05     3.072330e+05\n",
       "mean       1.687979e+05       0.417052  5.990260e+05     5.383962e+05\n",
       "std        2.371231e+05       0.722121  4.024908e+05     3.694465e+05\n",
       "min        2.565000e+04       0.000000  4.500000e+04     4.050000e+04\n",
       "25%        1.125000e+05       0.000000  2.700000e+05     2.385000e+05\n",
       "50%        1.471500e+05       0.000000  5.135310e+05     4.500000e+05\n",
       "75%        2.025000e+05       1.000000  8.086500e+05     6.795000e+05\n",
       "max        1.170000e+08      19.000000  4.050000e+06     4.050000e+06"
      ]
     },
     "execution_count": 17,
     "metadata": {},
     "output_type": "execute_result"
    }
   ],
   "source": [
    "pd_data.describe()"
   ]
  },
  {
   "cell_type": "markdown",
   "metadata": {},
   "source": [
    "#### 1.\"収入低いのに多く借りている\"について、AMT_INCOME_TOTAL, AMT_CREDIT, AMT_GOODS_PRICEから数値化"
   ]
  },
  {
   "cell_type": "code",
   "execution_count": 65,
   "metadata": {
    "collapsed": false
   },
   "outputs": [
    {
     "name": "stdout",
     "output_type": "stream",
     "text": [
      "income\n",
      "range label=0 : range=0.00000~42187.00000\n",
      "range label=1 : range=42187.00000~84374.00000\n",
      "range label=2 : range=84374.00000~126561.00000\n",
      "range label=3 : range=126561.00000~168748.00000\n",
      "range label=4 : range=168748.00000~210935.00000\n",
      "range label=5 : range=210935.00000~253122.00000\n",
      "range label=6 : range=253122.00000~295309.00000\n",
      "range label=7 : range=295309.00000~337496.00000\n",
      "AMT_CREDIT\n"
     ]
    },
    {
     "name": "stderr",
     "output_type": "stream",
     "text": [
      "/Users/naoki/.pyenv/versions/anaconda3-4.3.0/lib/python3.6/site-packages/ipykernel/__main__.py:37: SettingWithCopyWarning: \n",
      "A value is trying to be set on a copy of a slice from a DataFrame.\n",
      "Try using .loc[row_indexer,col_indexer] = value instead\n",
      "\n",
      "See the caveats in the documentation: http://pandas.pydata.org/pandas-docs/stable/indexing.html#indexing-view-versus-copy\n"
     ]
    },
    {
     "name": "stdout",
     "output_type": "stream",
     "text": [
      "range label=0 : range=0.00000~202078.00000\n",
      "range label=1 : range=202078.00000~404156.00000\n",
      "range label=2 : range=404156.00000~606234.00000\n",
      "range label=3 : range=606234.00000~808312.00000\n",
      "range label=4 : range=808312.00000~1010390.00000\n",
      "range label=5 : range=1010390.00000~1212468.00000\n",
      "range label=6 : range=1212468.00000~1414546.00000\n",
      "range label=7 : range=1414546.00000~1616624.00000\n",
      "AMT_GOODS_PRICE\n",
      "range label=0 : range=0.00000~167625.00000\n",
      "range label=1 : range=167625.00000~335250.00000\n",
      "range label=2 : range=335250.00000~502875.00000\n",
      "range label=3 : range=502875.00000~670500.00000\n",
      "range label=4 : range=670500.00000~838125.00000\n",
      "range label=5 : range=838125.00000~1005750.00000\n",
      "range label=6 : range=1005750.00000~1173375.00000\n"
     ]
    },
    {
     "data": {
      "image/png": "[encoded data removed]",
      "text/plain": [
       "<matplotlib.figure.Figure at 0x11cb17c88>"
      ]
     },
     "metadata": {},
     "output_type": "display_data"
    }
   ],
   "source": [
    "#Income range と 子供の数をcount plot\n",
    "fig = plt.figure(figsize=(15,10))\n",
    "ax1 = plt.subplot2grid((2,2), (0,0))\n",
    "ax2 = plt.subplot2grid((2,2), (1,0))\n",
    "ax3 = plt.subplot2grid((2,2), (1,1))\n",
    "\n",
    "ax1.set_title('Income distribution')\n",
    "ax1.set_xlabel('Low<- Income range label ->High')\n",
    "ax1.set_ylabel('count')\n",
    "ax1.grid(True)\n",
    "\n",
    "ax2.set_title('AMT_CREDIT distribution')\n",
    "ax2.set_xlabel('AMT_CREDIT')\n",
    "ax2.set_ylabel('count')\n",
    "#plt.xlim([-1,15])\n",
    "#plt.yscale(\"log\")\n",
    "ax2.grid(True)\n",
    "\n",
    "ax3.set_title('AMT_GOODS_PRICE distribution')\n",
    "ax3.set_xlabel('AMT_GOODS_PRICE')\n",
    "ax3.set_ylabel('count')\n",
    "#plt.xlim([-1,15])\n",
    "#cale(\"log\")\n",
    "ax3.grid(True)\n",
    "\n",
    "#Income\n",
    "print(\"income\")\n",
    "tmp = binning_data(pd_data, \"AMT_INCOME_TOTAL\", \"BIN_AMT_INCOME_TOTAL\", 8)\n",
    "income_destribution_w_income_range = tmp.groupby(\"BIN_AMT_INCOME_TOTAL\", as_index=False).count()\n",
    "ax1.bar(income_destribution_w_income_range[\"BIN_AMT_INCOME_TOTAL\"]\n",
    "        , income_destribution_w_income_range[\"TARGET\"])\n",
    "\n",
    "for x, y in zip(income_destribution_w_income_range[\"BIN_AMT_INCOME_TOTAL\"]\n",
    "                , income_destribution_w_income_range[\"TARGET\"]):\n",
    "    ax1.text(x, y, y, ha='center', va='bottom')\n",
    "\n",
    "#AMT_CREDIT\n",
    "print(\"AMT_CREDIT\")\n",
    "tmp = binning_data(pd_data, \"AMT_CREDIT\", \"BIN_AMT_CREDIT\", 8)\n",
    "income_destribution_w_income_range = tmp.groupby(\"BIN_AMT_CREDIT\", as_index=False).count()\n",
    "ax2.bar(income_destribution_w_income_range[\"BIN_AMT_CREDIT\"]\n",
    "        , income_destribution_w_income_range[\"TARGET\"])\n",
    "\n",
    "for x, y in zip(income_destribution_w_income_range[\"BIN_AMT_CREDIT\"]\n",
    "                , income_destribution_w_income_range[\"TARGET\"]):\n",
    "    ax2.text(x, y, y, ha='center', va='bottom')\n",
    "\n",
    "#AMT_GOODS_PRICE\n",
    "print(\"AMT_GOODS_PRICE\")\n",
    "tmp = binning_data(pd_data, \"AMT_GOODS_PRICE\", \"BIN_AMT_GOODS_PRICE\", 8)\n",
    "income_destribution_w_income_range = tmp.groupby(\"BIN_AMT_GOODS_PRICE\", as_index=False).count()\n",
    "ax3.bar(income_destribution_w_income_range[\"BIN_AMT_GOODS_PRICE\"]\n",
    "        , income_destribution_w_income_range[\"TARGET\"])\n",
    "\n",
    "for x, y in zip(income_destribution_w_income_range[\"BIN_AMT_GOODS_PRICE\"]\n",
    "                , income_destribution_w_income_range[\"TARGET\"]):\n",
    "    ax3.text(x, y, y, ha='center', va='bottom')\n",
    "    \n",
    "plt.show()"
   ]
  },
  {
   "cell_type": "markdown",
   "metadata": {},
   "source": [
    "３つの特徴量は数値の高い方向に外れ値を持っており、この値はレンジ分けする際に範囲外\"Nan\"となっている。新しい指標を導入する際にこのNanは全て10に置き換える。  "
   ]
  },
  {
   "cell_type": "code",
   "execution_count": 90,
   "metadata": {
    "collapsed": false,
    "scrolled": false
   },
   "outputs": [
    {
     "data": {
      "image/png": "[encoded data removed]",
      "text/plain": [
       "<matplotlib.figure.Figure at 0x11cc5ebe0>"
      ]
     },
     "metadata": {},
     "output_type": "display_data"
    }
   ],
   "source": [
    "plt.figure(figsize=(15,5))\n",
    "plt.title('AMT_CREDIT vs AMT_GOODS_PRICE')\n",
    "plt.xlabel('AMT_CREDIT')\n",
    "plt.ylabel('AMT_GOODS_PRICE')\n",
    "plt.scatter(pd_data[\"AMT_CREDIT\"], pd_data[\"AMT_GOODS_PRICE\"], s=50, c=pd_data[\"TARGET\"], marker='*')\n",
    "plt.show()"
   ]
  },
  {
   "cell_type": "code",
   "execution_count": 91,
   "metadata": {
    "collapsed": false
   },
   "outputs": [
    {
     "data": {
      "text/plain": [
       "array([[1.       , 0.9866873],\n",
       "       [0.9866873, 1.       ]])"
      ]
     },
     "execution_count": 91,
     "metadata": {},
     "output_type": "execute_result"
    }
   ],
   "source": [
    "x = pd_data[\"AMT_CREDIT\"]\n",
    "y = pd_data[\"AMT_GOODS_PRICE\"]\n",
    "x = x.replace(np.nan, -1)\n",
    "y = y.replace(np.nan, -1)\n",
    "np.corrcoef(x, y)"
   ]
  },
  {
   "cell_type": "markdown",
   "metadata": {},
   "source": [
    "\"AMT_CREDIT\" と \"AMT_GOODS_PRICE\"の相関係数はほぼ１なので、新しい指標の算出にはどちらか一方を用いる。\n",
    "ここでは\"AMT_GOODS_PRICE\"を用いる。"
   ]
  },
  {
   "cell_type": "markdown",
   "metadata": {},
   "source": [
    "\"収入低いのに多く借りている\"について、新しい指標を次のように定義する。  (10 - INCOME_RANGE) $\\times$ \"GOODS_PRICE_RANGE\""
   ]
  },
  {
   "cell_type": "markdown",
   "metadata": {},
   "source": [
    "#### 2.\"Nanの欄が多い\"について"
   ]
  },
  {
   "cell_type": "markdown",
   "metadata": {},
   "source": [
    "#### 3.\"”経済的な余裕のなさ”の数値化について"
   ]
  },
  {
   "cell_type": "code",
   "execution_count": 52,
   "metadata": {
    "collapsed": false
   },
   "outputs": [
    {
     "name": "stderr",
     "output_type": "stream",
     "text": [
      "/Users/naoki/.pyenv/versions/anaconda3-4.3.0/lib/python3.6/site-packages/ipykernel/__main__.py:37: SettingWithCopyWarning: \n",
      "A value is trying to be set on a copy of a slice from a DataFrame.\n",
      "Try using .loc[row_indexer,col_indexer] = value instead\n",
      "\n",
      "See the caveats in the documentation: http://pandas.pydata.org/pandas-docs/stable/indexing.html#indexing-view-versus-copy\n"
     ]
    },
    {
     "name": "stdout",
     "output_type": "stream",
     "text": [
      "range label=0 : range=0.00000~42187.00000\n",
      "range label=1 : range=42187.00000~84374.00000\n",
      "range label=2 : range=84374.00000~126561.00000\n",
      "range label=3 : range=126561.00000~168748.00000\n",
      "range label=4 : range=168748.00000~210935.00000\n",
      "range label=5 : range=210935.00000~253122.00000\n",
      "range label=6 : range=253122.00000~295309.00000\n",
      "range label=7 : range=295309.00000~337496.00000\n"
     ]
    },
    {
     "data": {
      "image/png": "[encoded data removed]",
      "text/plain": [
       "<matplotlib.figure.Figure at 0x11ca98128>"
      ]
     },
     "metadata": {},
     "output_type": "display_data"
    }
   ],
   "source": [
    "#Income range と 子供の数をcount plot\n",
    "fig = plt.figure(figsize=(15,5))\n",
    "ax1 = plt.subplot2grid((1,2), (0,0))\n",
    "ax2 = plt.subplot2grid((1,2), (0,1))\n",
    "\n",
    "\n",
    "ax1.set_title('Income distribution')\n",
    "ax1.set_xlabel('Low<- Income range label ->High')\n",
    "ax1.set_ylabel('count')\n",
    "ax1.grid(True)\n",
    "\n",
    "ax2.set_title('CNT_CHILDREN distribution')\n",
    "ax2.set_xlabel('CNT CHILDREN')\n",
    "ax2.set_ylabel('count')\n",
    "plt.yscale(\"log\")\n",
    "plt.xlim([-1,15])\n",
    "ax2.grid(True)\n",
    "\n",
    "#Income\n",
    "tmp = binning_data(pd_data, \"AMT_INCOME_TOTAL\", \"BIN_AMT_INCOME_TOTAL\", 8)\n",
    "income_destribution_w_income_range = tmp.groupby(\"BIN_AMT_INCOME_TOTAL\", as_index=False).count()\n",
    "ax1.bar(income_destribution_w_income_range[\"BIN_AMT_INCOME_TOTAL\"]\n",
    "        , income_destribution_w_income_range[\"TARGET\"])\n",
    "\n",
    "for x, y in zip(income_destribution_w_income_range[\"BIN_AMT_INCOME_TOTAL\"]\n",
    "                , income_destribution_w_income_range[\"TARGET\"]):\n",
    "    ax1.text(x, y, y, ha='center', va='bottom')\n",
    "\n",
    "#子供の数\n",
    "cnt_children_destribution = tmp.groupby(\"CNT_CHILDREN\", as_index=False).count()\n",
    "ax2.bar(cnt_children_destribution[\"CNT_CHILDREN\"], cnt_children_destribution[\"TARGET\"], color=\"Blue\")\n",
    "    \n",
    "#グラフ上に数値表示\n",
    "\"\"\"\n",
    "for x, y in zip(cnt_children_destribution.index, cnt_children_destribution[\"TARGET\"]):\n",
    "    ax2.text(x, y, str(\"{:.2f}\").format(y), ha='center', va='bottom')\n",
    "\"\"\"\n",
    "plt.show()"
   ]
  },
  {
   "cell_type": "markdown",
   "metadata": {},
   "source": [
    "顧客の半分ほどは子供がいないことがわかった。利用者は未婚、若者が多い可能性がある。"
   ]
  },
  {
   "cell_type": "markdown",
   "metadata": {},
   "source": [
    "\"経済的な余裕のなさ\"について、新しい指標として(10 - INCOME_RANGE) $\\times$ CNT_CHILDRENを導入する。 \n",
    "この値はその人物の経済的な負荷も表す。（収入が少なくて子供多い=>大 　収入が多くて子供少ない=>小）  \n",
    "AMT_INCOME_TOTALには収入が高い方向に大きな外れ値が存在していて、この値はINCOME_RANGEでは範囲外\"Nan\"となっている。新しい指標を導入する際にこのNanは全て10に置き換える。"
   ]
  },
  {
   "cell_type": "code",
   "execution_count": null,
   "metadata": {
    "collapsed": true
   },
   "outputs": [],
   "source": []
  }
 ],
 "metadata": {
  "kernelspec": {
   "display_name": "Python 3",
   "language": "python",
   "name": "python3"
  },
  "language_info": {
   "codemirror_mode": {
    "name": "ipython",
    "version": 3
   },
   "file_extension": ".py",
   "mimetype": "text/x-python",
   "name": "python",
   "nbconvert_exporter": "python",
   "pygments_lexer": "ipython3",
   "version": "3.6.0"
  }
 },
 "nbformat": 4,
 "nbformat_minor": 2
}
