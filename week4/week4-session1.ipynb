{
 "cells": [
  {
   "cell_type": "code",
   "execution_count": 1,
   "metadata": {
    "collapsed": true
   },
   "outputs": [],
   "source": [
    "import pandas as pd\n",
    "import numpy as np\n",
    "import matplotlib.pyplot as plt\n",
    "from matplotlib.colors import ListedColormap\n",
    "import matplotlib.patches as mpatches\n",
    "import seaborn as sns\n",
    "%matplotlib inline"
   ]
  },
  {
   "cell_type": "code",
   "execution_count": 2,
   "metadata": {
    "collapsed": true
   },
   "outputs": [],
   "source": [
    "def gen_range(value_start, value_end, value_step):\n",
    "    \"\"\"\n",
    "    range関数を小数点が扱えるように拡張。value_startから始めてvalue_endに到達するまでvalue_stepを加え続ける。計算を実行する毎にその値を返す。\n",
    "    ----------------\n",
    "    Parameter\n",
    "        value_start:float\n",
    "        value_end:float\n",
    "        value_step:float\n",
    "    ----------------\n",
    "    ----------------\n",
    "    Return\n",
    "    　　value:float value_minにvalue_stepを加えた値\n",
    "    ----------------\n",
    "    \"\"\"\n",
    "    value = value_start\n",
    "    while value+value_step < value_end:\n",
    "     yield value\n",
    "     value += value_step"
   ]
  },
  {
   "cell_type": "code",
   "execution_count": 3,
   "metadata": {
    "collapsed": true
   },
   "outputs": [],
   "source": [
    "def binning_data(data_source, col_name, binned_col_name, num_of_bin=10, option=\"IQR\"):\n",
    "    \"\"\"\n",
    "    指定された列を指定されたbinの数に分割し、bin毎にラベル付けされたデータを元データに追加する\n",
    "    \n",
    "    parameter\n",
    "    --------------\n",
    "    data_source : Pandas dataframe\n",
    "    col_name : string \n",
    "    binned_col_name : string \n",
    "    num_of_bin : int\n",
    "    \n",
    "    return\n",
    "    --------------\n",
    "    data_source : pandas dataframe\n",
    "    \n",
    "    \"\"\"\n",
    "    \n",
    "    if option == \"IQR\":\n",
    "        #bin幅の決定のため四分位数を調べる。（外れ値を除く）\n",
    "        data_info = data_source.describe()\n",
    "        bin_min = data_info.loc[\"25%\", col_name]\n",
    "        bin_max = data_info.loc[\"75%\", col_name]\n",
    "        IQR = bin_max - bin_min\n",
    "        bin_min = bin_min-IQR*1.5 if bin_min > IQR*1.5 else 0 #これ以下は外れ値とする。(0を最低値とする)\n",
    "        bin_max += IQR*1.5 #これ以上は外れ値とする\n",
    "        bin_min = (int)(bin_min)\n",
    "        bin_max = (int)(bin_max)+1\n",
    "    elif option == \"MINMAX\":\n",
    "        data_info = data_source.describe()\n",
    "        bin_min = (int)(data_info.loc[\"min\", col_name])\n",
    "        bin_max = (int)(data_info.loc[\"max\", col_name])+1    \n",
    "    \n",
    "    bin_width = (int)((bin_max - bin_min) / num_of_bin)\n",
    "    bins = [value for value in range(bin_min, bin_max, bin_width)]\n",
    "    #bin_width = (bin_max - bin_min) / num_of_bin\n",
    "    #bins = [value for value in gen_range(bin_min, bin_max, bin_width )]\n",
    "    labels = [i for i in range(0, len(bins)-1)]\n",
    "    binned_label = pd.cut(data_source[col_name], bins=bins, labels=labels)\n",
    "    data_source[binned_col_name] = binned_label\n",
    "\n",
    "    for i in range(0, len(bins)-1):\n",
    "        print(\"range label={} : range={:.5f}~{:.5f}\".format(i, bins[i], bins[i+1]) )\n",
    "    \n",
    "    return data_source"
   ]
  },
  {
   "cell_type": "code",
   "execution_count": 4,
   "metadata": {
    "collapsed": true
   },
   "outputs": [],
   "source": [
    "def plot_non_repayment_rate(data_source, col_name, flag_rename_x_label=False):\n",
    "    \"\"\"\n",
    "    X軸を指定された列として未偏差率を棒グラフでプロット\n",
    "    \n",
    "    parameter\n",
    "    --------------\n",
    "    data_source : Pandas dataframe\n",
    "    col_name : string \n",
    "    flag_rename_x_label : bool\n",
    "    \n",
    "    return\n",
    "    --------------\n",
    "    None\n",
    "    \"\"\"\n",
    "    \n",
    "    #ラベル毎に返済率を算出\n",
    "    non_repayment_rate = data_source.groupby(col_name, as_index=False).mean()\n",
    "    non_repayment_rate[\"TARGET\"] *= 100\n",
    "    #print(non_repayment_rate)\n",
    "    \n",
    "    #Bar plot\n",
    "    plt.figure(figsize=(25,10))\n",
    "    plt.bar(non_repayment_rate.index, non_repayment_rate[\"TARGET\"], color=\"Blue\")\n",
    "    plt.xlabel(col_name, fontsize=18)\n",
    "    plt.ylabel(\"Non-payment rate[%]\", fontsize=18)\n",
    "    plt.title(\"Non-payment rate\")\n",
    "    plt.tight_layout()\n",
    "    \n",
    "    #グラフ上に数値表示\n",
    "    \"\"\"\n",
    "    for x, y in zip(non_repayment_rate.index, non_repayment_rate[\"TARGET\"]):\n",
    "        plt.text(x, y, str(\"{:.2f}\").format(y), ha='center', va='bottom')\n",
    "        if flag_rename_x_label == True:\n",
    "            plt.xticks(non_repayment_rate.index, non_repayment_rate[col_name]) #x軸を実際のデータラベルへ置き換え\n",
    "    \"\"\"\n",
    "    plt.show()"
   ]
  },
  {
   "cell_type": "markdown",
   "metadata": {},
   "source": [
    "### 【問題1】パイプラインの作成\n",
    "授業前課題で行ったことを参考に、学習し推定結果を出すまでの一連の流れを行ってください。テストデータに対して推定を行い、それをKaggleに提出してみましょう。この段階では高い精度を出す必要はありません。"
   ]
  },
  {
   "cell_type": "markdown",
   "metadata": {},
   "source": [
    "### パイプライン関数"
   ]
  },
  {
   "cell_type": "code",
   "execution_count": 5,
   "metadata": {
    "collapsed": false
   },
   "outputs": [],
   "source": [
    "from sklearn import metrics\n",
    "from sklearn.model_selection import train_test_split\n",
    "from sklearn.preprocessing import StandardScaler\n",
    "from sklearn.datasets import make_classification\n",
    "\n",
    "def pipline(model, data, target_value, feature_value, positive_label, normalization=True, plot=True):\n",
    "    \"\"\"\n",
    "    Parameter\n",
    "    ---------------\n",
    "    model : 利用するライブラリのオブジェクト\n",
    "    target_value :目的変数名\n",
    "    feature_value :　説明変数名\n",
    "    normalization :フラグ True=正規分布で規格化　False=規格化しない\n",
    "    \n",
    "    Return\n",
    "    ---------------\n",
    "    fpr, tpr, thresholds\n",
    "    \"\"\"\n",
    "    \n",
    "    #学習データ、テストデータに分ける\n",
    "    train_data, test_data = train_test_split(data, test_size=0.25, random_state=42)\n",
    "    train_feature = train_data[feature_value].values\n",
    "    train_target = train_data[target_value].values\n",
    "    test_feature = test_data[feature_value].values\n",
    "    test_target = test_data[target_value].values\n",
    "    print(\"元データ数：{}　学習データ数：{}　検証データ数：{}\".format(len(data), len(train_data), len(test_data)))\n",
    "    \n",
    "    #学習データの特徴量を標準化\n",
    "    if normalization == True:\n",
    "        scaler = StandardScaler()\n",
    "        scaler.fit(train_feature)\n",
    "        train_feature = scaler.transform(train_feature)\n",
    "        scaler.fit(test_feature)\n",
    "        test_feature = scaler.transform(test_feature)\n",
    "\n",
    "    #学習と予測\n",
    "    model.fit(train_feature, train_target)\n",
    "    result = model.predict_proba(test_feature)\n",
    "    \n",
    "    #rocを計算\n",
    "    fpr, tpr, thresholds = metrics.roc_curve(test_target, result[:,1], pos_label=positive_label)\n",
    "    #rocをplot\n",
    "    if plot == True:\n",
    "        plt.step(fpr, tpr, color='b', alpha=0.2, where='post')\n",
    "        plt.fill_between(fpr, tpr, step='post', alpha=0.2, color='b')\n",
    "        plt.plot([0, 1], [0, 1], color='navy', linestyle='--')\n",
    "        plt.ylabel('True Positive Rate')\n",
    "        plt.xlabel('False Positive Rate')\n",
    "        plt.ylim([0.0, 1.0])\n",
    "        plt.xlim([0.0, 1.0])\n",
    "        plt.show()\n",
    "    \n",
    "    return result, fpr, tpr, thresholds"
   ]
  },
  {
   "cell_type": "markdown",
   "metadata": {},
   "source": [
    "### 試しにirisデータで計算してみる  \n",
    "期待通り動いていそう。"
   ]
  },
  {
   "cell_type": "code",
   "execution_count": 6,
   "metadata": {
    "collapsed": true
   },
   "outputs": [],
   "source": [
    "from sklearn.datasets import load_iris\n",
    "iris_data_set = load_iris()\n",
    "x = pd.DataFrame(iris_data_set.data, columns=iris_data_set.feature_names)    #Put explanatory variable into x as pandasdata frame\n",
    "y = pd.DataFrame(iris_data_set.target, columns=['Species'])    #Put iris response variable into y as pandasdata frame\n",
    "df = pd.concat([x, y], axis=1)\n",
    "data = df[df[\"Species\"] != 0]"
   ]
  },
  {
   "cell_type": "code",
   "execution_count": 7,
   "metadata": {
    "collapsed": false,
    "scrolled": true
   },
   "outputs": [
    {
     "name": "stdout",
     "output_type": "stream",
     "text": [
      "元データ数：100　学習データ数：75　検証データ数：25\n"
     ]
    },
    {
     "data": {
      "image/png": "[encoded data removed]",
      "text/plain": [
       "<matplotlib.figure.Figure at 0x11ce2bf28>"
      ]
     },
     "metadata": {},
     "output_type": "display_data"
    },
    {
     "name": "stdout",
     "output_type": "stream",
     "text": [
      "Result=[0.02 0.   0.   0.99 1.   1.   0.59 0.   0.94 0.92 1.   1.   0.59 0.03\n",
      " 0.01 0.93 0.8  0.45 1.   1.   0.   0.77 0.83 0.99 0.16]\n",
      "FPR=[0.         0.         0.         0.07142857 0.07142857 0.14285714\n",
      " 0.14285714 0.42857143 0.57142857 1.        ]\n",
      "TPR=[0.         0.36363636 0.54545455 0.54545455 0.72727273 0.81818182\n",
      " 1.         1.         1.         1.        ]\n",
      "Thresholds=[2.   1.   0.98 0.97 0.55 0.41 0.2  0.06 0.01 0.  ]\n"
     ]
    }
   ],
   "source": [
    "from sklearn.ensemble import RandomForestClassifier\n",
    "from sklearn.neighbors import KNeighborsClassifier\n",
    "clf = RandomForestClassifier(n_estimators=100, max_depth=120, random_state=10)\n",
    "#clf = KNeighborsClassifier(n_neighbors=3)\n",
    "\n",
    "result, fpr, tpr, thresholds = pipline(clf, data, \"Species\", data.columns[[0,2]], 2, False)\n",
    "\n",
    "print(\"Result={}\".format(result[:,0]))\n",
    "print(\"FPR={}\".format(fpr))\n",
    "print(\"TPR={}\".format(tpr))\n",
    "print(\"Thresholds={}\".format(thresholds))"
   ]
  },
  {
   "cell_type": "markdown",
   "metadata": {},
   "source": [
    "### 実際に計算"
   ]
  },
  {
   "cell_type": "markdown",
   "metadata": {},
   "source": [
    "特徴量を選ぶ(とりあえず前回のEDAの結果)  \n",
    "1.OCCUPATION_TYPE  \n",
    "2.ORGANIZATION_TYPE  \n",
    "5.DAYS_EMPLOYED  \n",
    "6.DAYS_REGISTRATION  \n",
    "7.AMT_CREDIT  \n",
    "8.DAYS_BIRTH  \n",
    "9.DEF_60_CNT_SOCIAL_CIRCLE  \n",
    "10.AMT_INCOME_TOTAL  \n",
    "11.CNT_CHILDREN  "
   ]
  },
  {
   "cell_type": "code",
   "execution_count": 8,
   "metadata": {
    "collapsed": false
   },
   "outputs": [],
   "source": [
    "import copy\n",
    "selected_feature_name = [\"OCCUPATION_TYPE\", \n",
    "                         \"ORGANIZATION_TYPE\",\n",
    "                         \"EXT_SOURCE_1\",\n",
    "                         \"EXT_SOURCE_2\",\n",
    "                         \"DAYS_EMPLOYED\", \n",
    "                         \"DAYS_REGISTRATION\", \n",
    "                         \"AMT_CREDIT\", \n",
    "                         \"DAYS_BIRTH\", \n",
    "                         \"DEF_60_CNT_SOCIAL_CIRCLE\", \n",
    "                         \"AMT_INCOME_TOTAL\", \n",
    "                         \"CNT_CHILDREN\"]\n",
    "col_name = copy.deepcopy(selected_feature_name)\n",
    "col_name.append(\"TARGET\")"
   ]
  },
  {
   "cell_type": "code",
   "execution_count": 9,
   "metadata": {
    "collapsed": false
   },
   "outputs": [],
   "source": [
    "pd_application_train = pd.read_csv(\"/Users/naoki/Desktop/DIC/week3/session/all/application_train.csv\")\n",
    "pd.options.display.max_columns = len(pd_application_train.columns)"
   ]
  },
  {
   "cell_type": "code",
   "execution_count": 10,
   "metadata": {
    "collapsed": false
   },
   "outputs": [],
   "source": [
    "pd_reducted_train_data = pd_application_train[col_name]"
   ]
  },
  {
   "cell_type": "code",
   "execution_count": 11,
   "metadata": {
    "collapsed": false
   },
   "outputs": [
    {
     "name": "stderr",
     "output_type": "stream",
     "text": [
      "/Users/naoki/.pyenv/versions/anaconda3-4.3.0/lib/python3.6/site-packages/ipykernel/__main__.py:9: SettingWithCopyWarning: \n",
      "A value is trying to be set on a copy of a slice from a DataFrame.\n",
      "Try using .loc[row_indexer,col_indexer] = value instead\n",
      "\n",
      "See the caveats in the documentation: http://pandas.pydata.org/pandas-docs/stable/indexing.html#indexing-view-versus-copy\n"
     ]
    }
   ],
   "source": [
    "#オブジェクト型データをエンコーディング\n",
    "object_data_home_credit = pd_reducted_train_data.select_dtypes(['object'])\n",
    "object_col_name = object_data_home_credit.columns.values\n",
    "array_object_to_int = np.array([object_data_home_credit[object_col_name[i]].unique() for i in range(0,len(object_col_name))])\n",
    "\n",
    "#オブジェクト型を数値に置き換え\n",
    "for i in range(0,len(object_col_name)):\n",
    "    labels, uniques = pd.factorize(pd_reducted_train_data[object_col_name[i]])\n",
    "    pd_reducted_train_data[object_col_name[i]] = labels    \n",
    "\n",
    "pd_reducted_train_data = pd_reducted_train_data.replace(np.nan, -1)"
   ]
  },
  {
   "cell_type": "code",
   "execution_count": 12,
   "metadata": {
    "collapsed": false,
    "scrolled": true
   },
   "outputs": [
    {
     "name": "stdout",
     "output_type": "stream",
     "text": [
      "元データ数：307511　学習データ数：230633　検証データ数：76878\n"
     ]
    },
    {
     "data": {
      "image/png": "[encoded data removed]",
      "text/plain": [
       "<matplotlib.figure.Figure at 0x11cfdae48>"
      ]
     },
     "metadata": {},
     "output_type": "display_data"
    },
    {
     "name": "stdout",
     "output_type": "stream",
     "text": [
      "AUC=0.67154\n"
     ]
    }
   ],
   "source": [
    "from sklearn.ensemble import RandomForestClassifier\n",
    "from sklearn.neighbors import KNeighborsClassifier\n",
    "\n",
    "#clf = KNeighborsClassifier(n_neighbors=5)\n",
    "clf = RandomForestClassifier(n_estimators=100, max_depth=120, random_state=40)\n",
    "result, fpr, tpr, thresholds = pipline(clf, pd_reducted_train_data, \"TARGET\", selected_feature_name, 1, False)\n",
    "\n",
    "print(\"AUC={:.5f}\".format(metrics.auc(fpr, tpr)))"
   ]
  },
  {
   "cell_type": "markdown",
   "metadata": {},
   "source": [
    "モデルのパラメータ調整？？"
   ]
  },
  {
   "cell_type": "markdown",
   "metadata": {},
   "source": [
    "### 【問題2】指標値の関数作成\n",
    "このコンペティションでは提出した確率から指標値 AUC が計算され、それで順位が決まります。（Evaluationのページ参照）\n",
    "このAUCを計算する関数を作成してください。"
   ]
  },
  {
   "cell_type": "code",
   "execution_count": 13,
   "metadata": {
    "collapsed": true
   },
   "outputs": [],
   "source": [
    "def cal_auc(fpr, tpr):\n",
    "    \n",
    "    dx = fpr[1:]-fpr[:-1]     #X軸（fpr）について配列の隣同士の間隔を計算\n",
    "    dy = (tpr[1:]+tpr[:-1])/2 #Y軸(tpr)について配列の右隣との平均値を計算\n",
    "    integral = dx*dy\n",
    "    \"\"\"\n",
    "    integral_under = dx * tpr[0:len(tpr)-1]\n",
    "    integral_over = dx * tpr[1:len(tpr)]\n",
    "    auc = (integral_under.sum()+integral_over.sum())/2\n",
    "    \"\"\"\n",
    "    return integral.sum()"
   ]
  },
  {
   "cell_type": "markdown",
   "metadata": {},
   "source": [
    "#### AUCを計算 (Sklearn Metric.aucの計算結果と比較)  \n",
    "結果、sklearnによる計算結果と一致した。"
   ]
  },
  {
   "cell_type": "code",
   "execution_count": 14,
   "metadata": {
    "collapsed": false
   },
   "outputs": [
    {
     "name": "stdout",
     "output_type": "stream",
     "text": [
      "AUC(with cal_auc)=0.671544\n",
      "AUC(with metrics.auc)=0.671544\n"
     ]
    }
   ],
   "source": [
    "print(\"AUC(with cal_auc)={:.6f}\".format(cal_auc(fpr, tpr)))\n",
    "print(\"AUC(with metrics.auc)={:.6f}\".format(metrics.auc(fpr, tpr)))"
   ]
  },
  {
   "cell_type": "markdown",
   "metadata": {},
   "source": [
    "### 【問題3】前処理・Feature Engineering・学習\n",
    "精度を上げるために前処理・Feature Engineeringを行ってください。そしてその特徴量によって学習、検証、再び前処理の流れを繰り返しましょう。この工程はEDAの続きとも言えます。Week3で学んだことを思い出しながら進めてください。\n",
    "汎化性能が高いモデルが作成できたと判断した場合は再びKaggleに提出をしましょう。"
   ]
  },
  {
   "cell_type": "markdown",
   "metadata": {},
   "source": [
    "#### アプローチ ：データセットに新たな特徴量を加えてみる\n",
    "負債を抱える人は、  \n",
    "・複数ローンをしている  \n",
    "・自己管理ができない、時間にルーズなど”いい加減” \n",
    "という特徴があるようだ。(ただし日本国内での調査結果に基づく)。\n",
    "このことは、Week3 Seesion1で行なったEDAの結果、収入の他にその人物の特徴も重要な要素であるという推測と一致する。そこで、Home creditから与えられているデータを組み合わせ”いい加減”という特徴を数値化し新しい特徴量とすることを試みる。  \n",
    "また、負債を抱えてしまった理由としては、  \n",
    "・収入が少ない&収入の減少  \n",
    "が上位に挙げられていた。しかしWeek3 Seesion1で行なったEDAの結果、単純に収入だけでは未返済率にはっきりとした傾向は現れていなかった。そこで、新たなアプローチとして収入と必要な出費から\"経済的な余裕の無さ\"を数値化し新しい特徴量とすることを試みる。必要な出費の多さの指標として”子供の多さ”を用いる。\n",
    "\n",
    "| ”無計画” & ”いい加減” の定義　| 組み合わせる特徴量 |　新しい特徴量の算出方法 |\n",
    "|:-----------:|:------------:|:------------:|\n",
    "| 収入低いのに多く借りている |　AMT_INCOME_TOTAL, AMT_CREDIT, AMT_GOODS_PRICE | 得点化 |\n",
    "| Nanの欄が多い | Nan | サンプル毎のNanの合計値の分布を適当なレンジに分ける。 |\n",
    "\n",
    "| ”経済的な余裕のなさ”の定義| 組み合わせる特徴量 |　新しい特徴量の算出方法 |\n",
    "|:-----------:|:------------:|:------------:|\n",
    "| 収入が低く子供が多い　　　|　　　AMT_INCOME_TOTAL, CNT_CHILDREN　　　 | 　得点化 （収入=低い&子供多い=>大 　収入=高い&子供少い=>大）|"
   ]
  },
  {
   "cell_type": "markdown",
   "metadata": {},
   "source": [
    "AMT_INCOME_TOTAL、 CNT_CHILDREN、AMT_CREDIT、 AMT_GOODS_PRICE、 Nanの分布を見てみる。"
   ]
  },
  {
   "cell_type": "code",
   "execution_count": 15,
   "metadata": {
    "collapsed": false
   },
   "outputs": [
    {
     "data": {
      "text/html": [
       "<div>\n",
       "<table border=\"1\" class=\"dataframe\">\n",
       "  <thead>\n",
       "    <tr style=\"text-align: right;\">\n",
       "      <th></th>\n",
       "      <th>TARGET</th>\n",
       "      <th>AMT_INCOME_TOTAL</th>\n",
       "      <th>CNT_CHILDREN</th>\n",
       "      <th>AMT_CREDIT</th>\n",
       "      <th>AMT_GOODS_PRICE</th>\n",
       "    </tr>\n",
       "  </thead>\n",
       "  <tbody>\n",
       "    <tr>\n",
       "      <th>0</th>\n",
       "      <td>1</td>\n",
       "      <td>202500.0</td>\n",
       "      <td>0</td>\n",
       "      <td>406597.5</td>\n",
       "      <td>351000.0</td>\n",
       "    </tr>\n",
       "    <tr>\n",
       "      <th>1</th>\n",
       "      <td>0</td>\n",
       "      <td>270000.0</td>\n",
       "      <td>0</td>\n",
       "      <td>1293502.5</td>\n",
       "      <td>1129500.0</td>\n",
       "    </tr>\n",
       "    <tr>\n",
       "      <th>2</th>\n",
       "      <td>0</td>\n",
       "      <td>67500.0</td>\n",
       "      <td>0</td>\n",
       "      <td>135000.0</td>\n",
       "      <td>135000.0</td>\n",
       "    </tr>\n",
       "    <tr>\n",
       "      <th>3</th>\n",
       "      <td>0</td>\n",
       "      <td>135000.0</td>\n",
       "      <td>0</td>\n",
       "      <td>312682.5</td>\n",
       "      <td>297000.0</td>\n",
       "    </tr>\n",
       "    <tr>\n",
       "      <th>4</th>\n",
       "      <td>0</td>\n",
       "      <td>121500.0</td>\n",
       "      <td>0</td>\n",
       "      <td>513000.0</td>\n",
       "      <td>513000.0</td>\n",
       "    </tr>\n",
       "  </tbody>\n",
       "</table>\n",
       "</div>"
      ],
      "text/plain": [
       "   TARGET  AMT_INCOME_TOTAL  CNT_CHILDREN  AMT_CREDIT  AMT_GOODS_PRICE\n",
       "0       1          202500.0             0    406597.5         351000.0\n",
       "1       0          270000.0             0   1293502.5        1129500.0\n",
       "2       0           67500.0             0    135000.0         135000.0\n",
       "3       0          135000.0             0    312682.5         297000.0\n",
       "4       0          121500.0             0    513000.0         513000.0"
      ]
     },
     "execution_count": 15,
     "metadata": {},
     "output_type": "execute_result"
    }
   ],
   "source": [
    "col_name = [\"TARGET\", \"AMT_INCOME_TOTAL\", \"CNT_CHILDREN\", \"AMT_CREDIT\", \"AMT_GOODS_PRICE\"]\n",
    "pd_data = pd_application_train[col_name]\n",
    "pd_data.head()"
   ]
  },
  {
   "cell_type": "code",
   "execution_count": 16,
   "metadata": {
    "collapsed": false,
    "scrolled": true
   },
   "outputs": [
    {
     "name": "stdout",
     "output_type": "stream",
     "text": [
      "<class 'pandas.core.frame.DataFrame'>\n",
      "RangeIndex: 307511 entries, 0 to 307510\n",
      "Data columns (total 5 columns):\n",
      "TARGET              307511 non-null int64\n",
      "AMT_INCOME_TOTAL    307511 non-null float64\n",
      "CNT_CHILDREN        307511 non-null int64\n",
      "AMT_CREDIT          307511 non-null float64\n",
      "AMT_GOODS_PRICE     307233 non-null float64\n",
      "dtypes: float64(3), int64(2)\n",
      "memory usage: 11.7 MB\n"
     ]
    }
   ],
   "source": [
    "pd_data.info()"
   ]
  },
  {
   "cell_type": "code",
   "execution_count": 17,
   "metadata": {
    "collapsed": false
   },
   "outputs": [
    {
     "data": {
      "text/html": [
       "<div>\n",
       "<table border=\"1\" class=\"dataframe\">\n",
       "  <thead>\n",
       "    <tr style=\"text-align: right;\">\n",
       "      <th></th>\n",
       "      <th>TARGET</th>\n",
       "      <th>AMT_INCOME_TOTAL</th>\n",
       "      <th>CNT_CHILDREN</th>\n",
       "      <th>AMT_CREDIT</th>\n",
       "      <th>AMT_GOODS_PRICE</th>\n",
       "    </tr>\n",
       "  </thead>\n",
       "  <tbody>\n",
       "    <tr>\n",
       "      <th>count</th>\n",
       "      <td>307511.000000</td>\n",
       "      <td>3.075110e+05</td>\n",
       "      <td>307511.000000</td>\n",
       "      <td>3.075110e+05</td>\n",
       "      <td>3.072330e+05</td>\n",
       "    </tr>\n",
       "    <tr>\n",
       "      <th>mean</th>\n",
       "      <td>0.080729</td>\n",
       "      <td>1.687979e+05</td>\n",
       "      <td>0.417052</td>\n",
       "      <td>5.990260e+05</td>\n",
       "      <td>5.383962e+05</td>\n",
       "    </tr>\n",
       "    <tr>\n",
       "      <th>std</th>\n",
       "      <td>0.272419</td>\n",
       "      <td>2.371231e+05</td>\n",
       "      <td>0.722121</td>\n",
       "      <td>4.024908e+05</td>\n",
       "      <td>3.694465e+05</td>\n",
       "    </tr>\n",
       "    <tr>\n",
       "      <th>min</th>\n",
       "      <td>0.000000</td>\n",
       "      <td>2.565000e+04</td>\n",
       "      <td>0.000000</td>\n",
       "      <td>4.500000e+04</td>\n",
       "      <td>4.050000e+04</td>\n",
       "    </tr>\n",
       "    <tr>\n",
       "      <th>25%</th>\n",
       "      <td>0.000000</td>\n",
       "      <td>1.125000e+05</td>\n",
       "      <td>0.000000</td>\n",
       "      <td>2.700000e+05</td>\n",
       "      <td>2.385000e+05</td>\n",
       "    </tr>\n",
       "    <tr>\n",
       "      <th>50%</th>\n",
       "      <td>0.000000</td>\n",
       "      <td>1.471500e+05</td>\n",
       "      <td>0.000000</td>\n",
       "      <td>5.135310e+05</td>\n",
       "      <td>4.500000e+05</td>\n",
       "    </tr>\n",
       "    <tr>\n",
       "      <th>75%</th>\n",
       "      <td>0.000000</td>\n",
       "      <td>2.025000e+05</td>\n",
       "      <td>1.000000</td>\n",
       "      <td>8.086500e+05</td>\n",
       "      <td>6.795000e+05</td>\n",
       "    </tr>\n",
       "    <tr>\n",
       "      <th>max</th>\n",
       "      <td>1.000000</td>\n",
       "      <td>1.170000e+08</td>\n",
       "      <td>19.000000</td>\n",
       "      <td>4.050000e+06</td>\n",
       "      <td>4.050000e+06</td>\n",
       "    </tr>\n",
       "  </tbody>\n",
       "</table>\n",
       "</div>"
      ],
      "text/plain": [
       "              TARGET  AMT_INCOME_TOTAL   CNT_CHILDREN    AMT_CREDIT  \\\n",
       "count  307511.000000      3.075110e+05  307511.000000  3.075110e+05   \n",
       "mean        0.080729      1.687979e+05       0.417052  5.990260e+05   \n",
       "std         0.272419      2.371231e+05       0.722121  4.024908e+05   \n",
       "min         0.000000      2.565000e+04       0.000000  4.500000e+04   \n",
       "25%         0.000000      1.125000e+05       0.000000  2.700000e+05   \n",
       "50%         0.000000      1.471500e+05       0.000000  5.135310e+05   \n",
       "75%         0.000000      2.025000e+05       1.000000  8.086500e+05   \n",
       "max         1.000000      1.170000e+08      19.000000  4.050000e+06   \n",
       "\n",
       "       AMT_GOODS_PRICE  \n",
       "count     3.072330e+05  \n",
       "mean      5.383962e+05  \n",
       "std       3.694465e+05  \n",
       "min       4.050000e+04  \n",
       "25%       2.385000e+05  \n",
       "50%       4.500000e+05  \n",
       "75%       6.795000e+05  \n",
       "max       4.050000e+06  "
      ]
     },
     "execution_count": 17,
     "metadata": {},
     "output_type": "execute_result"
    }
   ],
   "source": [
    "pd_data.describe()"
   ]
  },
  {
   "cell_type": "markdown",
   "metadata": {},
   "source": [
    "#### 1.\"収入低いのに多く借りている\"について、AMT_INCOME_TOTAL, AMT_CREDIT, AMT_GOODS_PRICEから数値化"
   ]
  },
  {
   "cell_type": "code",
   "execution_count": 18,
   "metadata": {
    "collapsed": false
   },
   "outputs": [
    {
     "name": "stdout",
     "output_type": "stream",
     "text": [
      "income\n",
      "range label=0 : range=0.00000~42187.00000\n",
      "range label=1 : range=42187.00000~84374.00000\n",
      "range label=2 : range=84374.00000~126561.00000\n",
      "range label=3 : range=126561.00000~168748.00000\n",
      "range label=4 : range=168748.00000~210935.00000\n",
      "range label=5 : range=210935.00000~253122.00000\n",
      "range label=6 : range=253122.00000~295309.00000\n",
      "range label=7 : range=295309.00000~337496.00000\n",
      "AMT_CREDIT\n"
     ]
    },
    {
     "name": "stderr",
     "output_type": "stream",
     "text": [
      "/Users/naoki/.pyenv/versions/anaconda3-4.3.0/lib/python3.6/site-packages/ipykernel/__main__.py:39: SettingWithCopyWarning: \n",
      "A value is trying to be set on a copy of a slice from a DataFrame.\n",
      "Try using .loc[row_indexer,col_indexer] = value instead\n",
      "\n",
      "See the caveats in the documentation: http://pandas.pydata.org/pandas-docs/stable/indexing.html#indexing-view-versus-copy\n"
     ]
    },
    {
     "name": "stdout",
     "output_type": "stream",
     "text": [
      "range label=0 : range=0.00000~202078.00000\n",
      "range label=1 : range=202078.00000~404156.00000\n",
      "range label=2 : range=404156.00000~606234.00000\n",
      "range label=3 : range=606234.00000~808312.00000\n",
      "range label=4 : range=808312.00000~1010390.00000\n",
      "range label=5 : range=1010390.00000~1212468.00000\n",
      "range label=6 : range=1212468.00000~1414546.00000\n",
      "range label=7 : range=1414546.00000~1616624.00000\n",
      "AMT_GOODS_PRICE\n",
      "range label=0 : range=0.00000~167625.00000\n",
      "range label=1 : range=167625.00000~335250.00000\n",
      "range label=2 : range=335250.00000~502875.00000\n",
      "range label=3 : range=502875.00000~670500.00000\n",
      "range label=4 : range=670500.00000~838125.00000\n",
      "range label=5 : range=838125.00000~1005750.00000\n",
      "range label=6 : range=1005750.00000~1173375.00000\n",
      "range label=7 : range=1173375.00000~1341000.00000\n"
     ]
    },
    {
     "data": {
      "image/png": "[encoded data removed]",
      "text/plain": [
       "<matplotlib.figure.Figure at 0x11f22f940>"
      ]
     },
     "metadata": {},
     "output_type": "display_data"
    }
   ],
   "source": [
    "#Income range と 子供の数をcount plot\n",
    "fig = plt.figure(figsize=(15,10))\n",
    "ax1 = plt.subplot2grid((2,2), (0,0))\n",
    "ax2 = plt.subplot2grid((2,2), (1,0))\n",
    "ax3 = plt.subplot2grid((2,2), (1,1))\n",
    "\n",
    "ax1.set_title('Income distribution')\n",
    "ax1.set_xlabel('Low<- Income range label ->High')\n",
    "ax1.set_ylabel('count')\n",
    "ax1.grid(True)\n",
    "\n",
    "ax2.set_title('AMT_CREDIT distribution')\n",
    "ax2.set_xlabel('AMT_CREDIT')\n",
    "ax2.set_ylabel('count')\n",
    "#plt.xlim([-1,15])\n",
    "#plt.yscale(\"log\")\n",
    "ax2.grid(True)\n",
    "\n",
    "ax3.set_title('AMT_GOODS_PRICE distribution')\n",
    "ax3.set_xlabel('AMT_GOODS_PRICE')\n",
    "ax3.set_ylabel('count')\n",
    "#plt.xlim([-1,15])\n",
    "#cale(\"log\")\n",
    "ax3.grid(True)\n",
    "\n",
    "#Income\n",
    "print(\"income\")\n",
    "tmp = binning_data(pd_data, \"AMT_INCOME_TOTAL\", \"BIN_AMT_INCOME_TOTAL\", 8)\n",
    "income_destribution_w_income_range = tmp.groupby(\"BIN_AMT_INCOME_TOTAL\", as_index=False).count()\n",
    "ax1.bar(income_destribution_w_income_range[\"BIN_AMT_INCOME_TOTAL\"]\n",
    "        , income_destribution_w_income_range[\"TARGET\"])\n",
    "\n",
    "for x, y in zip(income_destribution_w_income_range[\"BIN_AMT_INCOME_TOTAL\"]\n",
    "                , income_destribution_w_income_range[\"TARGET\"]):\n",
    "    ax1.text(x, y, y, ha='center', va='bottom')\n",
    "\n",
    "#AMT_CREDIT\n",
    "print(\"AMT_CREDIT\")\n",
    "tmp = binning_data(pd_data, \"AMT_CREDIT\", \"BIN_AMT_CREDIT\", 8)\n",
    "income_destribution_w_income_range = tmp.groupby(\"BIN_AMT_CREDIT\", as_index=False).count()\n",
    "ax2.bar(income_destribution_w_income_range[\"BIN_AMT_CREDIT\"]\n",
    "        , income_destribution_w_income_range[\"TARGET\"])\n",
    "\n",
    "for x, y in zip(income_destribution_w_income_range[\"BIN_AMT_CREDIT\"]\n",
    "                , income_destribution_w_income_range[\"TARGET\"]):\n",
    "    ax2.text(x, y, y, ha='center', va='bottom')\n",
    "\n",
    "#AMT_GOODS_PRICE\n",
    "print(\"AMT_GOODS_PRICE\")\n",
    "tmp = binning_data(pd_data, \"AMT_GOODS_PRICE\", \"BIN_AMT_GOODS_PRICE\", 8)\n",
    "income_destribution_w_income_range = tmp.groupby(\"BIN_AMT_GOODS_PRICE\", as_index=False).count()\n",
    "ax3.bar(income_destribution_w_income_range[\"BIN_AMT_GOODS_PRICE\"]\n",
    "        , income_destribution_w_income_range[\"TARGET\"])\n",
    "\n",
    "for x, y in zip(income_destribution_w_income_range[\"BIN_AMT_GOODS_PRICE\"]\n",
    "                , income_destribution_w_income_range[\"TARGET\"]):\n",
    "    ax3.text(x, y, y, ha='center', va='bottom')\n",
    "    \n",
    "plt.show()"
   ]
  },
  {
   "cell_type": "markdown",
   "metadata": {},
   "source": [
    "３つの特徴量は数値の高い方向に外れ値を持っており、この値はレンジ分けする際に範囲外\"Nan\"となっている。新しい指標を導入する際にこのNanは全て10に置き換える。  "
   ]
  },
  {
   "cell_type": "code",
   "execution_count": 19,
   "metadata": {
    "collapsed": false,
    "scrolled": false
   },
   "outputs": [
    {
     "data": {
      "image/png": "[encoded data removed]",
      "text/plain": [
       "<matplotlib.figure.Figure at 0x11f22f0b8>"
      ]
     },
     "metadata": {},
     "output_type": "display_data"
    }
   ],
   "source": [
    "plt.figure(figsize=(15,5))\n",
    "plt.title('AMT_CREDIT vs AMT_GOODS_PRICE')\n",
    "plt.xlabel('AMT_CREDIT')\n",
    "plt.ylabel('AMT_GOODS_PRICE')\n",
    "plt.scatter(pd_data[\"AMT_CREDIT\"], pd_data[\"AMT_GOODS_PRICE\"], s=50, c=pd_data[\"TARGET\"], marker='*')\n",
    "plt.show()"
   ]
  },
  {
   "cell_type": "code",
   "execution_count": 20,
   "metadata": {
    "collapsed": false
   },
   "outputs": [
    {
     "data": {
      "text/plain": [
       "array([[1.       , 0.9866873],\n",
       "       [0.9866873, 1.       ]])"
      ]
     },
     "execution_count": 20,
     "metadata": {},
     "output_type": "execute_result"
    }
   ],
   "source": [
    "x = pd_data[\"AMT_CREDIT\"]\n",
    "y = pd_data[\"AMT_GOODS_PRICE\"]\n",
    "x = x.replace(np.nan, -1)\n",
    "y = y.replace(np.nan, -1)\n",
    "np.corrcoef(x, y)"
   ]
  },
  {
   "cell_type": "markdown",
   "metadata": {},
   "source": [
    "\"AMT_CREDIT\" と \"AMT_GOODS_PRICE\"の相関係数はほぼ１なので、新しい指標の算出にはどちらか一方を用いる。\n",
    "ここでは\"AMT_GOODS_PRICE\"を用いる。"
   ]
  },
  {
   "cell_type": "markdown",
   "metadata": {},
   "source": [
    "\"収入低いのに多く借りている\"について、新しい指標を次のように定義する。  \n",
    "(10 - INCOME_RANGE) $\\times$ (1 + GOODS_PRICE_RANGE)  \n",
    "以下、新しい指標をデータセットに追加する。  \n",
    "  \n",
    "＊(10 - INCOME_RANGE) => 収入が低いほど値が高い。INCOME_RANGEは値が低いほど収入が低いため、意味合いを逆転させるために10からINCOME_RANGEを引いた。(INCOME_RANGEの最大値は10)  \n",
    "＊(1 + GOODS_PRICE_RANGE) => 借入額が高いほど値が高い。GOODS_PRICE_RANGEが0から始まるため１を加えた。  "
   ]
  },
  {
   "cell_type": "code",
   "execution_count": 21,
   "metadata": {
    "collapsed": false
   },
   "outputs": [
    {
     "name": "stdout",
     "output_type": "stream",
     "text": [
      "range label=0 : range=0.00000~42187.00000\n",
      "range label=1 : range=42187.00000~84374.00000\n",
      "range label=2 : range=84374.00000~126561.00000\n",
      "range label=3 : range=126561.00000~168748.00000\n",
      "range label=4 : range=168748.00000~210935.00000\n",
      "range label=5 : range=210935.00000~253122.00000\n",
      "range label=6 : range=253122.00000~295309.00000\n",
      "range label=7 : range=295309.00000~337496.00000\n",
      "range label=0 : range=0.00000~167625.00000\n",
      "range label=1 : range=167625.00000~335250.00000\n",
      "range label=2 : range=335250.00000~502875.00000\n",
      "range label=3 : range=502875.00000~670500.00000\n",
      "range label=4 : range=670500.00000~838125.00000\n",
      "range label=5 : range=838125.00000~1005750.00000\n",
      "range label=6 : range=1005750.00000~1173375.00000\n",
      "range label=7 : range=1173375.00000~1341000.00000\n"
     ]
    }
   ],
   "source": [
    "binning_data(pd_application_train, \"AMT_INCOME_TOTAL\", \"BIN_AMT_INCOME_TOTAL\", 8)\n",
    "pd_application_train[\"BIN_AMT_INCOME_TOTAL\"] = pd_application_train[\"BIN_AMT_INCOME_TOTAL\"].replace(np.nan, 10)\n",
    "binning_data(pd_application_train, \"AMT_GOODS_PRICE\", \"BIN_AMT_GOODS_PRICE\", 8)\n",
    "pd_application_train[\"DEG_IRESP_INCOME_GOODS_PRICE\"] = (10 - pd_application_train[\"BIN_AMT_INCOME_TOTAL\"])*(1 + pd_application_train[\"BIN_AMT_GOODS_PRICE\"])"
   ]
  },
  {
   "cell_type": "code",
   "execution_count": 22,
   "metadata": {
    "collapsed": false,
    "scrolled": true
   },
   "outputs": [
    {
     "data": {
      "text/plain": [
       "count    292505.000000\n",
       "mean         21.528658\n",
       "std          12.136719\n",
       "min           0.000000\n",
       "25%          14.000000\n",
       "50%          18.000000\n",
       "75%          28.000000\n",
       "max          80.000000\n",
       "Name: DEG_IRESP_INCOME_GOODS_PRICE, dtype: float64"
      ]
     },
     "execution_count": 22,
     "metadata": {},
     "output_type": "execute_result"
    }
   ],
   "source": [
    "pd_application_train[\"DEG_IRESP_INCOME_GOODS_PRICE\"].describe()"
   ]
  },
  {
   "cell_type": "markdown",
   "metadata": {},
   "source": [
    "新しい指標\"DEG_IRESP_INCOME_GOODS_PRICE\"の有効性を確認するために、未返済率との関係を見てみる。"
   ]
  },
  {
   "cell_type": "code",
   "execution_count": 23,
   "metadata": {
    "collapsed": false,
    "scrolled": false
   },
   "outputs": [
    {
     "name": "stdout",
     "output_type": "stream",
     "text": [
      "range label=0 : range=0.00000~10.00000\n",
      "range label=1 : range=10.00000~20.00000\n",
      "range label=2 : range=20.00000~30.00000\n",
      "range label=3 : range=30.00000~40.00000\n",
      "range label=4 : range=40.00000~50.00000\n",
      "range label=5 : range=50.00000~60.00000\n",
      "range label=6 : range=60.00000~70.00000\n",
      "range label=7 : range=70.00000~80.00000\n"
     ]
    },
    {
     "data": {
      "image/png": "[encoded data removed]",
      "text/plain": [
       "<matplotlib.figure.Figure at 0x11c56eeb8>"
      ]
     },
     "metadata": {},
     "output_type": "display_data"
    }
   ],
   "source": [
    "binning_data(pd_application_train, \"DEG_IRESP_INCOME_GOODS_PRICE\", \"BIN_DEG_IRESP_INCOME_GOODS_PRICE\", 8, \"MINMAX\")\n",
    "plot_non_repayment_rate(pd_application_train, 'BIN_DEG_IRESP_INCOME_GOODS_PRICE', False)"
   ]
  },
  {
   "cell_type": "markdown",
   "metadata": {},
   "source": [
    "期待としては、新しい指標\"DEG_IRESP_INCOME_GOODS_PRICE\"が大きいほど未返済率が大きいだったが、実際に指標を導入して関係を調べてみた結果、期待したような右肩あがりの関係は見えられなかった。  \n",
    "よって、新しい指標\"DEG_IRESP_INCOME_GOODS_PRICE\"は未返済率の予測に適用しない。"
   ]
  },
  {
   "cell_type": "markdown",
   "metadata": {},
   "source": [
    "#### 2.\"Nanの欄が多い\"について\n",
    "index毎にNanの合計値を算出する。適当なレンジに分けてNanの数の分布を見てみる。Nanが多い＝いい加減と考える。"
   ]
  },
  {
   "cell_type": "code",
   "execution_count": 24,
   "metadata": {
    "collapsed": false
   },
   "outputs": [],
   "source": [
    "pd_application_train[\"NUM_OF_NAN\"] = pd_application_train.isnull().sum(axis=1)"
   ]
  },
  {
   "cell_type": "code",
   "execution_count": 25,
   "metadata": {
    "collapsed": false
   },
   "outputs": [
    {
     "data": {
      "text/plain": [
       "count    307511.000000\n",
       "mean         29.949976\n",
       "std          20.883310\n",
       "min           0.000000\n",
       "25%           6.000000\n",
       "50%          37.000000\n",
       "75%          49.000000\n",
       "max          64.000000\n",
       "Name: NUM_OF_NAN, dtype: float64"
      ]
     },
     "execution_count": 25,
     "metadata": {},
     "output_type": "execute_result"
    }
   ],
   "source": [
    "pd_application_train[\"NUM_OF_NAN\"].describe()"
   ]
  },
  {
   "cell_type": "code",
   "execution_count": 26,
   "metadata": {
    "collapsed": false
   },
   "outputs": [
    {
     "name": "stdout",
     "output_type": "stream",
     "text": [
      "range label=0 : range=0.00000~6.00000\n",
      "range label=1 : range=6.00000~12.00000\n",
      "range label=2 : range=12.00000~18.00000\n",
      "range label=3 : range=18.00000~24.00000\n",
      "range label=4 : range=24.00000~30.00000\n",
      "range label=5 : range=30.00000~36.00000\n",
      "range label=6 : range=36.00000~42.00000\n",
      "range label=7 : range=42.00000~48.00000\n",
      "range label=8 : range=48.00000~54.00000\n",
      "range label=9 : range=54.00000~60.00000\n"
     ]
    },
    {
     "data": {
      "image/png": "[encoded data removed]",
      "text/plain": [
       "<matplotlib.figure.Figure at 0x11ceed208>"
      ]
     },
     "metadata": {},
     "output_type": "display_data"
    }
   ],
   "source": [
    "tmp = binning_data(pd_application_train, \"NUM_OF_NAN\", \"BIN_NUM_OF_NAN\", 10, \"MINMAX\")\n",
    "nan_destribution_w_range = tmp.groupby(\"BIN_NUM_OF_NAN\", as_index=False).count()\n",
    "\n",
    "plt.title('Nan distribution')\n",
    "plt.xlabel('Low<- Nan range label ->High')\n",
    "plt.ylabel('count')\n",
    "plt.grid(True)\n",
    "plt.bar(nan_destribution_w_range[\"BIN_NUM_OF_NAN\"]\n",
    "        , nan_destribution_w_range[\"TARGET\"])\n",
    "\n",
    "for x, y in zip(nan_destribution_w_range[\"BIN_NUM_OF_NAN\"]\n",
    "                , nan_destribution_w_range[\"TARGET\"]):\n",
    "    plt.text(x, y, y, ha='center', va='bottom')"
   ]
  },
  {
   "cell_type": "markdown",
   "metadata": {},
   "source": [
    "Nanの合計の分布を見てみると、Range0(Nanの数が0~6)のきっちりアンケートを記入しているグループとRange7~9(Nanの数が42~60)の比較的未記入が多いグループにざっくり分かれている。Range7~9はアンケート回答者の全体の半数を占める。\n",
    "Range0のグループは、質問数の多さにも関わらずきっちり回答しており真面目な性格だと予想できる。\n",
    "以下、未返済率との関係を調べてみる。"
   ]
  },
  {
   "cell_type": "code",
   "execution_count": 27,
   "metadata": {
    "collapsed": false
   },
   "outputs": [
    {
     "data": {
      "image/png": "[encoded data removed]",
      "text/plain": [
       "<matplotlib.figure.Figure at 0x11cf2e470>"
      ]
     },
     "metadata": {},
     "output_type": "display_data"
    }
   ],
   "source": [
    "plot_non_repayment_rate(pd_application_train, 'BIN_NUM_OF_NAN', False)"
   ]
  },
  {
   "cell_type": "markdown",
   "metadata": {},
   "source": [
    "プロットからは僅かであるが右肩上がりの傾向が見える。つまり、Nanが少ないほど未返済率が低く、Nanが多いほど未返済率が高い傾向があると言えそうだ。特にRange0とRange9では約2倍近い差が出ている。よって、Nanの数は未返済率の予測に使えそうな特徴量である。"
   ]
  },
  {
   "cell_type": "markdown",
   "metadata": {},
   "source": [
    "#### 3.\"”経済的な余裕のなさ”の数値化について"
   ]
  },
  {
   "cell_type": "code",
   "execution_count": 28,
   "metadata": {
    "collapsed": false
   },
   "outputs": [
    {
     "name": "stderr",
     "output_type": "stream",
     "text": [
      "/Users/naoki/.pyenv/versions/anaconda3-4.3.0/lib/python3.6/site-packages/ipykernel/__main__.py:39: SettingWithCopyWarning: \n",
      "A value is trying to be set on a copy of a slice from a DataFrame.\n",
      "Try using .loc[row_indexer,col_indexer] = value instead\n",
      "\n",
      "See the caveats in the documentation: http://pandas.pydata.org/pandas-docs/stable/indexing.html#indexing-view-versus-copy\n"
     ]
    },
    {
     "name": "stdout",
     "output_type": "stream",
     "text": [
      "range label=0 : range=0.00000~42187.00000\n",
      "range label=1 : range=42187.00000~84374.00000\n",
      "range label=2 : range=84374.00000~126561.00000\n",
      "range label=3 : range=126561.00000~168748.00000\n",
      "range label=4 : range=168748.00000~210935.00000\n",
      "range label=5 : range=210935.00000~253122.00000\n",
      "range label=6 : range=253122.00000~295309.00000\n",
      "range label=7 : range=295309.00000~337496.00000\n"
     ]
    },
    {
     "data": {
      "image/png": "[encoded data removed]",
      "text/plain": [
       "<matplotlib.figure.Figure at 0x120897978>"
      ]
     },
     "metadata": {},
     "output_type": "display_data"
    }
   ],
   "source": [
    "#Income range と 子供の数をcount plot\n",
    "fig = plt.figure(figsize=(15,5))\n",
    "ax1 = plt.subplot2grid((1,2), (0,0))\n",
    "ax2 = plt.subplot2grid((1,2), (0,1))\n",
    "\n",
    "\n",
    "ax1.set_title('Income distribution')\n",
    "ax1.set_xlabel('Low<- Income range label ->High')\n",
    "ax1.set_ylabel('count')\n",
    "ax1.grid(True)\n",
    "\n",
    "ax2.set_title('CNT_CHILDREN distribution')\n",
    "ax2.set_xlabel('CNT CHILDREN')\n",
    "ax2.set_ylabel('count')\n",
    "plt.yscale(\"log\")\n",
    "plt.xlim([-1,15])\n",
    "ax2.grid(True)\n",
    "\n",
    "#Income\n",
    "tmp = binning_data(pd_data, \"AMT_INCOME_TOTAL\", \"BIN_AMT_INCOME_TOTAL\", 8)\n",
    "income_destribution_w_income_range = tmp.groupby(\"BIN_AMT_INCOME_TOTAL\", as_index=False).count()\n",
    "ax1.bar(income_destribution_w_income_range[\"BIN_AMT_INCOME_TOTAL\"]\n",
    "        , income_destribution_w_income_range[\"TARGET\"])\n",
    "\n",
    "for x, y in zip(income_destribution_w_income_range[\"BIN_AMT_INCOME_TOTAL\"]\n",
    "                , income_destribution_w_income_range[\"TARGET\"]):\n",
    "    ax1.text(x, y, y, ha='center', va='bottom')\n",
    "\n",
    "#子供の数\n",
    "cnt_children_destribution = tmp.groupby(\"CNT_CHILDREN\", as_index=False).count()\n",
    "ax2.bar(cnt_children_destribution[\"CNT_CHILDREN\"], cnt_children_destribution[\"TARGET\"], color=\"Blue\")\n",
    "    \n",
    "#グラフ上に数値表示\n",
    "\"\"\"\n",
    "for x, y in zip(cnt_children_destribution.index, cnt_children_destribution[\"TARGET\"]):\n",
    "    ax2.text(x, y, str(\"{:.2f}\").format(y), ha='center', va='bottom')\n",
    "\"\"\"\n",
    "plt.show()"
   ]
  },
  {
   "cell_type": "markdown",
   "metadata": {},
   "source": [
    "顧客の半分ほどは子供がいないことがわかった。利用者は未婚、若者が多い可能性がある。"
   ]
  },
  {
   "cell_type": "markdown",
   "metadata": {},
   "source": [
    "\"経済的な余裕のなさ\"について、新しい指標として(10 - INCOME_RANGE) $\\times$ CNT_CHILDRENを導入する。  \n",
    "この値はその人物の経済的な負荷を表す。（収入が少なくて子供多い=>大 　収入が多くて子供少ない=>小）  \n",
    "AMT_INCOME_TOTALには収入が高い方向に大きな外れ値が存在していて、この値はINCOME_RANGEでは範囲外\"Nan\"となっている。新しい指標を導入する際にこのNanは全て10に置き換える。"
   ]
  },
  {
   "cell_type": "code",
   "execution_count": 29,
   "metadata": {
    "collapsed": false
   },
   "outputs": [
    {
     "name": "stdout",
     "output_type": "stream",
     "text": [
      "range label=0 : range=0.00000~42187.00000\n",
      "range label=1 : range=42187.00000~84374.00000\n",
      "range label=2 : range=84374.00000~126561.00000\n",
      "range label=3 : range=126561.00000~168748.00000\n",
      "range label=4 : range=168748.00000~210935.00000\n",
      "range label=5 : range=210935.00000~253122.00000\n",
      "range label=6 : range=253122.00000~295309.00000\n",
      "range label=7 : range=295309.00000~337496.00000\n"
     ]
    }
   ],
   "source": [
    "binning_data(pd_application_train, \"AMT_INCOME_TOTAL\", \"BIN_AMT_INCOME_TOTAL\", 8)\n",
    "pd_application_train[\"BIN_AMT_INCOME_TOTAL\"] = pd_application_train[\"BIN_AMT_INCOME_TOTAL\"].replace(np.nan, 10)\n",
    "pd_application_train[\"DEG_SEVERITY_INCOME_CNT_CHILDREN\"] = (10 - pd_application_train[\"BIN_AMT_INCOME_TOTAL\"])*(1 + pd_application_train[\"CNT_CHILDREN\"])"
   ]
  },
  {
   "cell_type": "code",
   "execution_count": 30,
   "metadata": {
    "collapsed": false
   },
   "outputs": [
    {
     "data": {
      "text/plain": [
       "count    307511.000000\n",
       "mean          9.167067\n",
       "std           5.696633\n",
       "min           0.000000\n",
       "25%           6.000000\n",
       "50%           8.000000\n",
       "75%          10.000000\n",
       "max         160.000000\n",
       "Name: DEG_SEVERITY_INCOME_CNT_CHILDREN, dtype: float64"
      ]
     },
     "execution_count": 30,
     "metadata": {},
     "output_type": "execute_result"
    }
   ],
   "source": [
    "pd_application_train[\"DEG_SEVERITY_INCOME_CNT_CHILDREN\"].describe()"
   ]
  },
  {
   "cell_type": "code",
   "execution_count": 31,
   "metadata": {
    "collapsed": false
   },
   "outputs": [
    {
     "name": "stdout",
     "output_type": "stream",
     "text": [
      "range label=0 : range=0.00000~16.00000\n",
      "range label=1 : range=16.00000~32.00000\n",
      "range label=2 : range=32.00000~48.00000\n",
      "range label=3 : range=48.00000~64.00000\n",
      "range label=4 : range=64.00000~80.00000\n",
      "range label=5 : range=80.00000~96.00000\n",
      "range label=6 : range=96.00000~112.00000\n",
      "range label=7 : range=112.00000~128.00000\n",
      "range label=8 : range=128.00000~144.00000\n",
      "range label=9 : range=144.00000~160.00000\n"
     ]
    },
    {
     "data": {
      "text/plain": [
       "'\\n'"
      ]
     },
     "execution_count": 31,
     "metadata": {},
     "output_type": "execute_result"
    }
   ],
   "source": [
    "binning_data(pd_application_train, \"DEG_SEVERITY_INCOME_CNT_CHILDREN\", \"BIN_DEG_SEVERITY_INCOME_CNT_CHILDREN\", 10, \"MINMAX\" )\n",
    "\"\"\"\n",
    "\"\"\""
   ]
  },
  {
   "cell_type": "code",
   "execution_count": 32,
   "metadata": {
    "collapsed": false,
    "scrolled": false
   },
   "outputs": [
    {
     "data": {
      "image/png": "[encoded data removed]",
      "text/plain": [
       "<matplotlib.figure.Figure at 0x1206804a8>"
      ]
     },
     "metadata": {},
     "output_type": "display_data"
    }
   ],
   "source": [
    "plot_non_repayment_rate(pd_application_train, 'BIN_DEG_SEVERITY_INCOME_CNT_CHILDREN', False)"
   ]
  },
  {
   "cell_type": "markdown",
   "metadata": {},
   "source": [
    "新しい特徴量\"DEG_SEVERITY_INCOME_CNT_CHILDREN\"は顧客の経済的な負担を数値化したもので、数値の増加ととも未返済率が増えると考えられる。\n",
    "プロットのrange4以降はサンプル数が0~2しかなく且つ\"Target\"が0であるため未返済率は0と計算されている。そのためサンプルが集中しているRange0~3の間で考察を行うと期待した右肩あがりの傾向が見える。\n",
    "よって、特徴量\"DEG_SEVERITY_INCOME_CNT_CHILDREN\"は未返済率の予測に使えそうな特徴量であると考えられる。"
   ]
  },
  {
   "cell_type": "markdown",
   "metadata": {},
   "source": [
    "#### 新しい特徴量を加えてランダムフォレストで重要度を調べてみる"
   ]
  },
  {
   "cell_type": "code",
   "execution_count": 33,
   "metadata": {
    "collapsed": true
   },
   "outputs": [],
   "source": [
    "from sklearn.ensemble import RandomForestClassifier\n",
    "model = RandomForestClassifier()"
   ]
  },
  {
   "cell_type": "code",
   "execution_count": 34,
   "metadata": {
    "collapsed": false
   },
   "outputs": [
    {
     "data": {
      "text/html": [
       "<div>\n",
       "<table border=\"1\" class=\"dataframe\">\n",
       "  <thead>\n",
       "    <tr style=\"text-align: right;\">\n",
       "      <th></th>\n",
       "      <th>TARGET</th>\n",
       "      <th>NAME_CONTRACT_TYPE</th>\n",
       "      <th>CODE_GENDER</th>\n",
       "      <th>FLAG_OWN_CAR</th>\n",
       "      <th>FLAG_OWN_REALTY</th>\n",
       "      <th>CNT_CHILDREN</th>\n",
       "      <th>AMT_INCOME_TOTAL</th>\n",
       "      <th>AMT_CREDIT</th>\n",
       "      <th>AMT_ANNUITY</th>\n",
       "      <th>AMT_GOODS_PRICE</th>\n",
       "      <th>NAME_TYPE_SUITE</th>\n",
       "      <th>NAME_INCOME_TYPE</th>\n",
       "      <th>NAME_EDUCATION_TYPE</th>\n",
       "      <th>NAME_FAMILY_STATUS</th>\n",
       "      <th>NAME_HOUSING_TYPE</th>\n",
       "      <th>REGION_POPULATION_RELATIVE</th>\n",
       "      <th>DAYS_BIRTH</th>\n",
       "      <th>DAYS_EMPLOYED</th>\n",
       "      <th>DAYS_REGISTRATION</th>\n",
       "      <th>DAYS_ID_PUBLISH</th>\n",
       "      <th>OWN_CAR_AGE</th>\n",
       "      <th>FLAG_MOBIL</th>\n",
       "      <th>FLAG_EMP_PHONE</th>\n",
       "      <th>FLAG_WORK_PHONE</th>\n",
       "      <th>FLAG_CONT_MOBILE</th>\n",
       "      <th>FLAG_PHONE</th>\n",
       "      <th>FLAG_EMAIL</th>\n",
       "      <th>OCCUPATION_TYPE</th>\n",
       "      <th>CNT_FAM_MEMBERS</th>\n",
       "      <th>REGION_RATING_CLIENT</th>\n",
       "      <th>REGION_RATING_CLIENT_W_CITY</th>\n",
       "      <th>WEEKDAY_APPR_PROCESS_START</th>\n",
       "      <th>HOUR_APPR_PROCESS_START</th>\n",
       "      <th>REG_REGION_NOT_LIVE_REGION</th>\n",
       "      <th>REG_REGION_NOT_WORK_REGION</th>\n",
       "      <th>LIVE_REGION_NOT_WORK_REGION</th>\n",
       "      <th>REG_CITY_NOT_LIVE_CITY</th>\n",
       "      <th>REG_CITY_NOT_WORK_CITY</th>\n",
       "      <th>LIVE_CITY_NOT_WORK_CITY</th>\n",
       "      <th>ORGANIZATION_TYPE</th>\n",
       "      <th>EXT_SOURCE_1</th>\n",
       "      <th>EXT_SOURCE_2</th>\n",
       "      <th>EXT_SOURCE_3</th>\n",
       "      <th>APARTMENTS_AVG</th>\n",
       "      <th>BASEMENTAREA_AVG</th>\n",
       "      <th>YEARS_BEGINEXPLUATATION_AVG</th>\n",
       "      <th>YEARS_BUILD_AVG</th>\n",
       "      <th>COMMONAREA_AVG</th>\n",
       "      <th>ELEVATORS_AVG</th>\n",
       "      <th>ENTRANCES_AVG</th>\n",
       "      <th>FLOORSMAX_AVG</th>\n",
       "      <th>FLOORSMIN_AVG</th>\n",
       "      <th>LANDAREA_AVG</th>\n",
       "      <th>LIVINGAPARTMENTS_AVG</th>\n",
       "      <th>LIVINGAREA_AVG</th>\n",
       "      <th>NONLIVINGAPARTMENTS_AVG</th>\n",
       "      <th>NONLIVINGAREA_AVG</th>\n",
       "      <th>APARTMENTS_MODE</th>\n",
       "      <th>BASEMENTAREA_MODE</th>\n",
       "      <th>YEARS_BEGINEXPLUATATION_MODE</th>\n",
       "      <th>YEARS_BUILD_MODE</th>\n",
       "      <th>...</th>\n",
       "      <th>LIVINGAREA_MODE</th>\n",
       "      <th>NONLIVINGAPARTMENTS_MODE</th>\n",
       "      <th>NONLIVINGAREA_MODE</th>\n",
       "      <th>APARTMENTS_MEDI</th>\n",
       "      <th>BASEMENTAREA_MEDI</th>\n",
       "      <th>YEARS_BEGINEXPLUATATION_MEDI</th>\n",
       "      <th>YEARS_BUILD_MEDI</th>\n",
       "      <th>COMMONAREA_MEDI</th>\n",
       "      <th>ELEVATORS_MEDI</th>\n",
       "      <th>ENTRANCES_MEDI</th>\n",
       "      <th>FLOORSMAX_MEDI</th>\n",
       "      <th>FLOORSMIN_MEDI</th>\n",
       "      <th>LANDAREA_MEDI</th>\n",
       "      <th>LIVINGAPARTMENTS_MEDI</th>\n",
       "      <th>LIVINGAREA_MEDI</th>\n",
       "      <th>NONLIVINGAPARTMENTS_MEDI</th>\n",
       "      <th>NONLIVINGAREA_MEDI</th>\n",
       "      <th>FONDKAPREMONT_MODE</th>\n",
       "      <th>HOUSETYPE_MODE</th>\n",
       "      <th>TOTALAREA_MODE</th>\n",
       "      <th>WALLSMATERIAL_MODE</th>\n",
       "      <th>EMERGENCYSTATE_MODE</th>\n",
       "      <th>OBS_30_CNT_SOCIAL_CIRCLE</th>\n",
       "      <th>DEF_30_CNT_SOCIAL_CIRCLE</th>\n",
       "      <th>OBS_60_CNT_SOCIAL_CIRCLE</th>\n",
       "      <th>DEF_60_CNT_SOCIAL_CIRCLE</th>\n",
       "      <th>DAYS_LAST_PHONE_CHANGE</th>\n",
       "      <th>FLAG_DOCUMENT_2</th>\n",
       "      <th>FLAG_DOCUMENT_3</th>\n",
       "      <th>FLAG_DOCUMENT_4</th>\n",
       "      <th>FLAG_DOCUMENT_5</th>\n",
       "      <th>FLAG_DOCUMENT_6</th>\n",
       "      <th>FLAG_DOCUMENT_7</th>\n",
       "      <th>FLAG_DOCUMENT_8</th>\n",
       "      <th>FLAG_DOCUMENT_9</th>\n",
       "      <th>FLAG_DOCUMENT_10</th>\n",
       "      <th>FLAG_DOCUMENT_11</th>\n",
       "      <th>FLAG_DOCUMENT_12</th>\n",
       "      <th>FLAG_DOCUMENT_13</th>\n",
       "      <th>FLAG_DOCUMENT_14</th>\n",
       "      <th>FLAG_DOCUMENT_15</th>\n",
       "      <th>FLAG_DOCUMENT_16</th>\n",
       "      <th>FLAG_DOCUMENT_17</th>\n",
       "      <th>FLAG_DOCUMENT_18</th>\n",
       "      <th>FLAG_DOCUMENT_19</th>\n",
       "      <th>FLAG_DOCUMENT_20</th>\n",
       "      <th>FLAG_DOCUMENT_21</th>\n",
       "      <th>AMT_REQ_CREDIT_BUREAU_HOUR</th>\n",
       "      <th>AMT_REQ_CREDIT_BUREAU_DAY</th>\n",
       "      <th>AMT_REQ_CREDIT_BUREAU_WEEK</th>\n",
       "      <th>AMT_REQ_CREDIT_BUREAU_MON</th>\n",
       "      <th>AMT_REQ_CREDIT_BUREAU_QRT</th>\n",
       "      <th>AMT_REQ_CREDIT_BUREAU_YEAR</th>\n",
       "      <th>BIN_AMT_INCOME_TOTAL</th>\n",
       "      <th>BIN_AMT_GOODS_PRICE</th>\n",
       "      <th>DEG_IRESP_INCOME_GOODS_PRICE</th>\n",
       "      <th>BIN_DEG_IRESP_INCOME_GOODS_PRICE</th>\n",
       "      <th>NUM_OF_NAN</th>\n",
       "      <th>BIN_NUM_OF_NAN</th>\n",
       "      <th>DEG_SEVERITY_INCOME_CNT_CHILDREN</th>\n",
       "      <th>BIN_DEG_SEVERITY_INCOME_CNT_CHILDREN</th>\n",
       "    </tr>\n",
       "  </thead>\n",
       "  <tbody>\n",
       "    <tr>\n",
       "      <th>0</th>\n",
       "      <td>1</td>\n",
       "      <td>Cash loans</td>\n",
       "      <td>M</td>\n",
       "      <td>N</td>\n",
       "      <td>Y</td>\n",
       "      <td>0</td>\n",
       "      <td>202500.0</td>\n",
       "      <td>406597.5</td>\n",
       "      <td>24700.5</td>\n",
       "      <td>351000.0</td>\n",
       "      <td>Unaccompanied</td>\n",
       "      <td>Working</td>\n",
       "      <td>Secondary / secondary special</td>\n",
       "      <td>Single / not married</td>\n",
       "      <td>House / apartment</td>\n",
       "      <td>0.018801</td>\n",
       "      <td>-9461</td>\n",
       "      <td>-637</td>\n",
       "      <td>-3648.0</td>\n",
       "      <td>-2120</td>\n",
       "      <td>NaN</td>\n",
       "      <td>1</td>\n",
       "      <td>1</td>\n",
       "      <td>0</td>\n",
       "      <td>1</td>\n",
       "      <td>1</td>\n",
       "      <td>0</td>\n",
       "      <td>Laborers</td>\n",
       "      <td>1.0</td>\n",
       "      <td>2</td>\n",
       "      <td>2</td>\n",
       "      <td>WEDNESDAY</td>\n",
       "      <td>10</td>\n",
       "      <td>0</td>\n",
       "      <td>0</td>\n",
       "      <td>0</td>\n",
       "      <td>0</td>\n",
       "      <td>0</td>\n",
       "      <td>0</td>\n",
       "      <td>Business Entity Type 3</td>\n",
       "      <td>0.083037</td>\n",
       "      <td>0.262949</td>\n",
       "      <td>0.139376</td>\n",
       "      <td>0.0247</td>\n",
       "      <td>0.0369</td>\n",
       "      <td>0.9722</td>\n",
       "      <td>0.6192</td>\n",
       "      <td>0.0143</td>\n",
       "      <td>0.00</td>\n",
       "      <td>0.0690</td>\n",
       "      <td>0.0833</td>\n",
       "      <td>0.1250</td>\n",
       "      <td>0.0369</td>\n",
       "      <td>0.0202</td>\n",
       "      <td>0.0190</td>\n",
       "      <td>0.0000</td>\n",
       "      <td>0.0000</td>\n",
       "      <td>0.0252</td>\n",
       "      <td>0.0383</td>\n",
       "      <td>0.9722</td>\n",
       "      <td>0.6341</td>\n",
       "      <td>...</td>\n",
       "      <td>0.0198</td>\n",
       "      <td>0.0</td>\n",
       "      <td>0.0</td>\n",
       "      <td>0.0250</td>\n",
       "      <td>0.0369</td>\n",
       "      <td>0.9722</td>\n",
       "      <td>0.6243</td>\n",
       "      <td>0.0144</td>\n",
       "      <td>0.00</td>\n",
       "      <td>0.0690</td>\n",
       "      <td>0.0833</td>\n",
       "      <td>0.1250</td>\n",
       "      <td>0.0375</td>\n",
       "      <td>0.0205</td>\n",
       "      <td>0.0193</td>\n",
       "      <td>0.0000</td>\n",
       "      <td>0.00</td>\n",
       "      <td>reg oper account</td>\n",
       "      <td>block of flats</td>\n",
       "      <td>0.0149</td>\n",
       "      <td>Stone, brick</td>\n",
       "      <td>No</td>\n",
       "      <td>2.0</td>\n",
       "      <td>2.0</td>\n",
       "      <td>2.0</td>\n",
       "      <td>2.0</td>\n",
       "      <td>-1134.0</td>\n",
       "      <td>0</td>\n",
       "      <td>1</td>\n",
       "      <td>0</td>\n",
       "      <td>0</td>\n",
       "      <td>0</td>\n",
       "      <td>0</td>\n",
       "      <td>0</td>\n",
       "      <td>0</td>\n",
       "      <td>0</td>\n",
       "      <td>0</td>\n",
       "      <td>0</td>\n",
       "      <td>0</td>\n",
       "      <td>0</td>\n",
       "      <td>0</td>\n",
       "      <td>0</td>\n",
       "      <td>0</td>\n",
       "      <td>0</td>\n",
       "      <td>0</td>\n",
       "      <td>0</td>\n",
       "      <td>0</td>\n",
       "      <td>0.0</td>\n",
       "      <td>0.0</td>\n",
       "      <td>0.0</td>\n",
       "      <td>0.0</td>\n",
       "      <td>0.0</td>\n",
       "      <td>1.0</td>\n",
       "      <td>4.0</td>\n",
       "      <td>2</td>\n",
       "      <td>18.0</td>\n",
       "      <td>1</td>\n",
       "      <td>1</td>\n",
       "      <td>0</td>\n",
       "      <td>6.0</td>\n",
       "      <td>0</td>\n",
       "    </tr>\n",
       "    <tr>\n",
       "      <th>1</th>\n",
       "      <td>0</td>\n",
       "      <td>Cash loans</td>\n",
       "      <td>F</td>\n",
       "      <td>N</td>\n",
       "      <td>N</td>\n",
       "      <td>0</td>\n",
       "      <td>270000.0</td>\n",
       "      <td>1293502.5</td>\n",
       "      <td>35698.5</td>\n",
       "      <td>1129500.0</td>\n",
       "      <td>Family</td>\n",
       "      <td>State servant</td>\n",
       "      <td>Higher education</td>\n",
       "      <td>Married</td>\n",
       "      <td>House / apartment</td>\n",
       "      <td>0.003541</td>\n",
       "      <td>-16765</td>\n",
       "      <td>-1188</td>\n",
       "      <td>-1186.0</td>\n",
       "      <td>-291</td>\n",
       "      <td>NaN</td>\n",
       "      <td>1</td>\n",
       "      <td>1</td>\n",
       "      <td>0</td>\n",
       "      <td>1</td>\n",
       "      <td>1</td>\n",
       "      <td>0</td>\n",
       "      <td>Core staff</td>\n",
       "      <td>2.0</td>\n",
       "      <td>1</td>\n",
       "      <td>1</td>\n",
       "      <td>MONDAY</td>\n",
       "      <td>11</td>\n",
       "      <td>0</td>\n",
       "      <td>0</td>\n",
       "      <td>0</td>\n",
       "      <td>0</td>\n",
       "      <td>0</td>\n",
       "      <td>0</td>\n",
       "      <td>School</td>\n",
       "      <td>0.311267</td>\n",
       "      <td>0.622246</td>\n",
       "      <td>NaN</td>\n",
       "      <td>0.0959</td>\n",
       "      <td>0.0529</td>\n",
       "      <td>0.9851</td>\n",
       "      <td>0.7960</td>\n",
       "      <td>0.0605</td>\n",
       "      <td>0.08</td>\n",
       "      <td>0.0345</td>\n",
       "      <td>0.2917</td>\n",
       "      <td>0.3333</td>\n",
       "      <td>0.0130</td>\n",
       "      <td>0.0773</td>\n",
       "      <td>0.0549</td>\n",
       "      <td>0.0039</td>\n",
       "      <td>0.0098</td>\n",
       "      <td>0.0924</td>\n",
       "      <td>0.0538</td>\n",
       "      <td>0.9851</td>\n",
       "      <td>0.8040</td>\n",
       "      <td>...</td>\n",
       "      <td>0.0554</td>\n",
       "      <td>0.0</td>\n",
       "      <td>0.0</td>\n",
       "      <td>0.0968</td>\n",
       "      <td>0.0529</td>\n",
       "      <td>0.9851</td>\n",
       "      <td>0.7987</td>\n",
       "      <td>0.0608</td>\n",
       "      <td>0.08</td>\n",
       "      <td>0.0345</td>\n",
       "      <td>0.2917</td>\n",
       "      <td>0.3333</td>\n",
       "      <td>0.0132</td>\n",
       "      <td>0.0787</td>\n",
       "      <td>0.0558</td>\n",
       "      <td>0.0039</td>\n",
       "      <td>0.01</td>\n",
       "      <td>reg oper account</td>\n",
       "      <td>block of flats</td>\n",
       "      <td>0.0714</td>\n",
       "      <td>Block</td>\n",
       "      <td>No</td>\n",
       "      <td>1.0</td>\n",
       "      <td>0.0</td>\n",
       "      <td>1.0</td>\n",
       "      <td>0.0</td>\n",
       "      <td>-828.0</td>\n",
       "      <td>0</td>\n",
       "      <td>1</td>\n",
       "      <td>0</td>\n",
       "      <td>0</td>\n",
       "      <td>0</td>\n",
       "      <td>0</td>\n",
       "      <td>0</td>\n",
       "      <td>0</td>\n",
       "      <td>0</td>\n",
       "      <td>0</td>\n",
       "      <td>0</td>\n",
       "      <td>0</td>\n",
       "      <td>0</td>\n",
       "      <td>0</td>\n",
       "      <td>0</td>\n",
       "      <td>0</td>\n",
       "      <td>0</td>\n",
       "      <td>0</td>\n",
       "      <td>0</td>\n",
       "      <td>0</td>\n",
       "      <td>0.0</td>\n",
       "      <td>0.0</td>\n",
       "      <td>0.0</td>\n",
       "      <td>0.0</td>\n",
       "      <td>0.0</td>\n",
       "      <td>0.0</td>\n",
       "      <td>6.0</td>\n",
       "      <td>6</td>\n",
       "      <td>28.0</td>\n",
       "      <td>2</td>\n",
       "      <td>2</td>\n",
       "      <td>0</td>\n",
       "      <td>4.0</td>\n",
       "      <td>0</td>\n",
       "    </tr>\n",
       "    <tr>\n",
       "      <th>2</th>\n",
       "      <td>0</td>\n",
       "      <td>Revolving loans</td>\n",
       "      <td>M</td>\n",
       "      <td>Y</td>\n",
       "      <td>Y</td>\n",
       "      <td>0</td>\n",
       "      <td>67500.0</td>\n",
       "      <td>135000.0</td>\n",
       "      <td>6750.0</td>\n",
       "      <td>135000.0</td>\n",
       "      <td>Unaccompanied</td>\n",
       "      <td>Working</td>\n",
       "      <td>Secondary / secondary special</td>\n",
       "      <td>Single / not married</td>\n",
       "      <td>House / apartment</td>\n",
       "      <td>0.010032</td>\n",
       "      <td>-19046</td>\n",
       "      <td>-225</td>\n",
       "      <td>-4260.0</td>\n",
       "      <td>-2531</td>\n",
       "      <td>26.0</td>\n",
       "      <td>1</td>\n",
       "      <td>1</td>\n",
       "      <td>1</td>\n",
       "      <td>1</td>\n",
       "      <td>1</td>\n",
       "      <td>0</td>\n",
       "      <td>Laborers</td>\n",
       "      <td>1.0</td>\n",
       "      <td>2</td>\n",
       "      <td>2</td>\n",
       "      <td>MONDAY</td>\n",
       "      <td>9</td>\n",
       "      <td>0</td>\n",
       "      <td>0</td>\n",
       "      <td>0</td>\n",
       "      <td>0</td>\n",
       "      <td>0</td>\n",
       "      <td>0</td>\n",
       "      <td>Government</td>\n",
       "      <td>NaN</td>\n",
       "      <td>0.555912</td>\n",
       "      <td>0.729567</td>\n",
       "      <td>NaN</td>\n",
       "      <td>NaN</td>\n",
       "      <td>NaN</td>\n",
       "      <td>NaN</td>\n",
       "      <td>NaN</td>\n",
       "      <td>NaN</td>\n",
       "      <td>NaN</td>\n",
       "      <td>NaN</td>\n",
       "      <td>NaN</td>\n",
       "      <td>NaN</td>\n",
       "      <td>NaN</td>\n",
       "      <td>NaN</td>\n",
       "      <td>NaN</td>\n",
       "      <td>NaN</td>\n",
       "      <td>NaN</td>\n",
       "      <td>NaN</td>\n",
       "      <td>NaN</td>\n",
       "      <td>NaN</td>\n",
       "      <td>...</td>\n",
       "      <td>NaN</td>\n",
       "      <td>NaN</td>\n",
       "      <td>NaN</td>\n",
       "      <td>NaN</td>\n",
       "      <td>NaN</td>\n",
       "      <td>NaN</td>\n",
       "      <td>NaN</td>\n",
       "      <td>NaN</td>\n",
       "      <td>NaN</td>\n",
       "      <td>NaN</td>\n",
       "      <td>NaN</td>\n",
       "      <td>NaN</td>\n",
       "      <td>NaN</td>\n",
       "      <td>NaN</td>\n",
       "      <td>NaN</td>\n",
       "      <td>NaN</td>\n",
       "      <td>NaN</td>\n",
       "      <td>NaN</td>\n",
       "      <td>NaN</td>\n",
       "      <td>NaN</td>\n",
       "      <td>NaN</td>\n",
       "      <td>NaN</td>\n",
       "      <td>0.0</td>\n",
       "      <td>0.0</td>\n",
       "      <td>0.0</td>\n",
       "      <td>0.0</td>\n",
       "      <td>-815.0</td>\n",
       "      <td>0</td>\n",
       "      <td>0</td>\n",
       "      <td>0</td>\n",
       "      <td>0</td>\n",
       "      <td>0</td>\n",
       "      <td>0</td>\n",
       "      <td>0</td>\n",
       "      <td>0</td>\n",
       "      <td>0</td>\n",
       "      <td>0</td>\n",
       "      <td>0</td>\n",
       "      <td>0</td>\n",
       "      <td>0</td>\n",
       "      <td>0</td>\n",
       "      <td>0</td>\n",
       "      <td>0</td>\n",
       "      <td>0</td>\n",
       "      <td>0</td>\n",
       "      <td>0</td>\n",
       "      <td>0</td>\n",
       "      <td>0.0</td>\n",
       "      <td>0.0</td>\n",
       "      <td>0.0</td>\n",
       "      <td>0.0</td>\n",
       "      <td>0.0</td>\n",
       "      <td>0.0</td>\n",
       "      <td>1.0</td>\n",
       "      <td>0</td>\n",
       "      <td>9.0</td>\n",
       "      <td>0</td>\n",
       "      <td>48</td>\n",
       "      <td>7</td>\n",
       "      <td>9.0</td>\n",
       "      <td>0</td>\n",
       "    </tr>\n",
       "    <tr>\n",
       "      <th>3</th>\n",
       "      <td>0</td>\n",
       "      <td>Cash loans</td>\n",
       "      <td>F</td>\n",
       "      <td>N</td>\n",
       "      <td>Y</td>\n",
       "      <td>0</td>\n",
       "      <td>135000.0</td>\n",
       "      <td>312682.5</td>\n",
       "      <td>29686.5</td>\n",
       "      <td>297000.0</td>\n",
       "      <td>Unaccompanied</td>\n",
       "      <td>Working</td>\n",
       "      <td>Secondary / secondary special</td>\n",
       "      <td>Civil marriage</td>\n",
       "      <td>House / apartment</td>\n",
       "      <td>0.008019</td>\n",
       "      <td>-19005</td>\n",
       "      <td>-3039</td>\n",
       "      <td>-9833.0</td>\n",
       "      <td>-2437</td>\n",
       "      <td>NaN</td>\n",
       "      <td>1</td>\n",
       "      <td>1</td>\n",
       "      <td>0</td>\n",
       "      <td>1</td>\n",
       "      <td>0</td>\n",
       "      <td>0</td>\n",
       "      <td>Laborers</td>\n",
       "      <td>2.0</td>\n",
       "      <td>2</td>\n",
       "      <td>2</td>\n",
       "      <td>WEDNESDAY</td>\n",
       "      <td>17</td>\n",
       "      <td>0</td>\n",
       "      <td>0</td>\n",
       "      <td>0</td>\n",
       "      <td>0</td>\n",
       "      <td>0</td>\n",
       "      <td>0</td>\n",
       "      <td>Business Entity Type 3</td>\n",
       "      <td>NaN</td>\n",
       "      <td>0.650442</td>\n",
       "      <td>NaN</td>\n",
       "      <td>NaN</td>\n",
       "      <td>NaN</td>\n",
       "      <td>NaN</td>\n",
       "      <td>NaN</td>\n",
       "      <td>NaN</td>\n",
       "      <td>NaN</td>\n",
       "      <td>NaN</td>\n",
       "      <td>NaN</td>\n",
       "      <td>NaN</td>\n",
       "      <td>NaN</td>\n",
       "      <td>NaN</td>\n",
       "      <td>NaN</td>\n",
       "      <td>NaN</td>\n",
       "      <td>NaN</td>\n",
       "      <td>NaN</td>\n",
       "      <td>NaN</td>\n",
       "      <td>NaN</td>\n",
       "      <td>NaN</td>\n",
       "      <td>...</td>\n",
       "      <td>NaN</td>\n",
       "      <td>NaN</td>\n",
       "      <td>NaN</td>\n",
       "      <td>NaN</td>\n",
       "      <td>NaN</td>\n",
       "      <td>NaN</td>\n",
       "      <td>NaN</td>\n",
       "      <td>NaN</td>\n",
       "      <td>NaN</td>\n",
       "      <td>NaN</td>\n",
       "      <td>NaN</td>\n",
       "      <td>NaN</td>\n",
       "      <td>NaN</td>\n",
       "      <td>NaN</td>\n",
       "      <td>NaN</td>\n",
       "      <td>NaN</td>\n",
       "      <td>NaN</td>\n",
       "      <td>NaN</td>\n",
       "      <td>NaN</td>\n",
       "      <td>NaN</td>\n",
       "      <td>NaN</td>\n",
       "      <td>NaN</td>\n",
       "      <td>2.0</td>\n",
       "      <td>0.0</td>\n",
       "      <td>2.0</td>\n",
       "      <td>0.0</td>\n",
       "      <td>-617.0</td>\n",
       "      <td>0</td>\n",
       "      <td>1</td>\n",
       "      <td>0</td>\n",
       "      <td>0</td>\n",
       "      <td>0</td>\n",
       "      <td>0</td>\n",
       "      <td>0</td>\n",
       "      <td>0</td>\n",
       "      <td>0</td>\n",
       "      <td>0</td>\n",
       "      <td>0</td>\n",
       "      <td>0</td>\n",
       "      <td>0</td>\n",
       "      <td>0</td>\n",
       "      <td>0</td>\n",
       "      <td>0</td>\n",
       "      <td>0</td>\n",
       "      <td>0</td>\n",
       "      <td>0</td>\n",
       "      <td>0</td>\n",
       "      <td>NaN</td>\n",
       "      <td>NaN</td>\n",
       "      <td>NaN</td>\n",
       "      <td>NaN</td>\n",
       "      <td>NaN</td>\n",
       "      <td>NaN</td>\n",
       "      <td>3.0</td>\n",
       "      <td>1</td>\n",
       "      <td>14.0</td>\n",
       "      <td>1</td>\n",
       "      <td>56</td>\n",
       "      <td>9</td>\n",
       "      <td>7.0</td>\n",
       "      <td>0</td>\n",
       "    </tr>\n",
       "    <tr>\n",
       "      <th>4</th>\n",
       "      <td>0</td>\n",
       "      <td>Cash loans</td>\n",
       "      <td>M</td>\n",
       "      <td>N</td>\n",
       "      <td>Y</td>\n",
       "      <td>0</td>\n",
       "      <td>121500.0</td>\n",
       "      <td>513000.0</td>\n",
       "      <td>21865.5</td>\n",
       "      <td>513000.0</td>\n",
       "      <td>Unaccompanied</td>\n",
       "      <td>Working</td>\n",
       "      <td>Secondary / secondary special</td>\n",
       "      <td>Single / not married</td>\n",
       "      <td>House / apartment</td>\n",
       "      <td>0.028663</td>\n",
       "      <td>-19932</td>\n",
       "      <td>-3038</td>\n",
       "      <td>-4311.0</td>\n",
       "      <td>-3458</td>\n",
       "      <td>NaN</td>\n",
       "      <td>1</td>\n",
       "      <td>1</td>\n",
       "      <td>0</td>\n",
       "      <td>1</td>\n",
       "      <td>0</td>\n",
       "      <td>0</td>\n",
       "      <td>Core staff</td>\n",
       "      <td>1.0</td>\n",
       "      <td>2</td>\n",
       "      <td>2</td>\n",
       "      <td>THURSDAY</td>\n",
       "      <td>11</td>\n",
       "      <td>0</td>\n",
       "      <td>0</td>\n",
       "      <td>0</td>\n",
       "      <td>0</td>\n",
       "      <td>1</td>\n",
       "      <td>1</td>\n",
       "      <td>Religion</td>\n",
       "      <td>NaN</td>\n",
       "      <td>0.322738</td>\n",
       "      <td>NaN</td>\n",
       "      <td>NaN</td>\n",
       "      <td>NaN</td>\n",
       "      <td>NaN</td>\n",
       "      <td>NaN</td>\n",
       "      <td>NaN</td>\n",
       "      <td>NaN</td>\n",
       "      <td>NaN</td>\n",
       "      <td>NaN</td>\n",
       "      <td>NaN</td>\n",
       "      <td>NaN</td>\n",
       "      <td>NaN</td>\n",
       "      <td>NaN</td>\n",
       "      <td>NaN</td>\n",
       "      <td>NaN</td>\n",
       "      <td>NaN</td>\n",
       "      <td>NaN</td>\n",
       "      <td>NaN</td>\n",
       "      <td>NaN</td>\n",
       "      <td>...</td>\n",
       "      <td>NaN</td>\n",
       "      <td>NaN</td>\n",
       "      <td>NaN</td>\n",
       "      <td>NaN</td>\n",
       "      <td>NaN</td>\n",
       "      <td>NaN</td>\n",
       "      <td>NaN</td>\n",
       "      <td>NaN</td>\n",
       "      <td>NaN</td>\n",
       "      <td>NaN</td>\n",
       "      <td>NaN</td>\n",
       "      <td>NaN</td>\n",
       "      <td>NaN</td>\n",
       "      <td>NaN</td>\n",
       "      <td>NaN</td>\n",
       "      <td>NaN</td>\n",
       "      <td>NaN</td>\n",
       "      <td>NaN</td>\n",
       "      <td>NaN</td>\n",
       "      <td>NaN</td>\n",
       "      <td>NaN</td>\n",
       "      <td>NaN</td>\n",
       "      <td>0.0</td>\n",
       "      <td>0.0</td>\n",
       "      <td>0.0</td>\n",
       "      <td>0.0</td>\n",
       "      <td>-1106.0</td>\n",
       "      <td>0</td>\n",
       "      <td>0</td>\n",
       "      <td>0</td>\n",
       "      <td>0</td>\n",
       "      <td>0</td>\n",
       "      <td>0</td>\n",
       "      <td>1</td>\n",
       "      <td>0</td>\n",
       "      <td>0</td>\n",
       "      <td>0</td>\n",
       "      <td>0</td>\n",
       "      <td>0</td>\n",
       "      <td>0</td>\n",
       "      <td>0</td>\n",
       "      <td>0</td>\n",
       "      <td>0</td>\n",
       "      <td>0</td>\n",
       "      <td>0</td>\n",
       "      <td>0</td>\n",
       "      <td>0</td>\n",
       "      <td>0.0</td>\n",
       "      <td>0.0</td>\n",
       "      <td>0.0</td>\n",
       "      <td>0.0</td>\n",
       "      <td>0.0</td>\n",
       "      <td>0.0</td>\n",
       "      <td>2.0</td>\n",
       "      <td>3</td>\n",
       "      <td>32.0</td>\n",
       "      <td>3</td>\n",
       "      <td>50</td>\n",
       "      <td>8</td>\n",
       "      <td>8.0</td>\n",
       "      <td>0</td>\n",
       "    </tr>\n",
       "  </tbody>\n",
       "</table>\n",
       "<p>5 rows × 129 columns</p>\n",
       "</div>"
      ],
      "text/plain": [
       "   TARGET NAME_CONTRACT_TYPE CODE_GENDER FLAG_OWN_CAR FLAG_OWN_REALTY  \\\n",
       "0       1         Cash loans           M            N               Y   \n",
       "1       0         Cash loans           F            N               N   \n",
       "2       0    Revolving loans           M            Y               Y   \n",
       "3       0         Cash loans           F            N               Y   \n",
       "4       0         Cash loans           M            N               Y   \n",
       "\n",
       "   CNT_CHILDREN  AMT_INCOME_TOTAL  AMT_CREDIT  AMT_ANNUITY  AMT_GOODS_PRICE  \\\n",
       "0             0          202500.0    406597.5      24700.5         351000.0   \n",
       "1             0          270000.0   1293502.5      35698.5        1129500.0   \n",
       "2             0           67500.0    135000.0       6750.0         135000.0   \n",
       "3             0          135000.0    312682.5      29686.5         297000.0   \n",
       "4             0          121500.0    513000.0      21865.5         513000.0   \n",
       "\n",
       "  NAME_TYPE_SUITE NAME_INCOME_TYPE            NAME_EDUCATION_TYPE  \\\n",
       "0   Unaccompanied          Working  Secondary / secondary special   \n",
       "1          Family    State servant               Higher education   \n",
       "2   Unaccompanied          Working  Secondary / secondary special   \n",
       "3   Unaccompanied          Working  Secondary / secondary special   \n",
       "4   Unaccompanied          Working  Secondary / secondary special   \n",
       "\n",
       "     NAME_FAMILY_STATUS  NAME_HOUSING_TYPE  REGION_POPULATION_RELATIVE  \\\n",
       "0  Single / not married  House / apartment                    0.018801   \n",
       "1               Married  House / apartment                    0.003541   \n",
       "2  Single / not married  House / apartment                    0.010032   \n",
       "3        Civil marriage  House / apartment                    0.008019   \n",
       "4  Single / not married  House / apartment                    0.028663   \n",
       "\n",
       "   DAYS_BIRTH  DAYS_EMPLOYED  DAYS_REGISTRATION  DAYS_ID_PUBLISH  OWN_CAR_AGE  \\\n",
       "0       -9461           -637            -3648.0            -2120          NaN   \n",
       "1      -16765          -1188            -1186.0             -291          NaN   \n",
       "2      -19046           -225            -4260.0            -2531         26.0   \n",
       "3      -19005          -3039            -9833.0            -2437          NaN   \n",
       "4      -19932          -3038            -4311.0            -3458          NaN   \n",
       "\n",
       "   FLAG_MOBIL  FLAG_EMP_PHONE  FLAG_WORK_PHONE  FLAG_CONT_MOBILE  FLAG_PHONE  \\\n",
       "0           1               1                0                 1           1   \n",
       "1           1               1                0                 1           1   \n",
       "2           1               1                1                 1           1   \n",
       "3           1               1                0                 1           0   \n",
       "4           1               1                0                 1           0   \n",
       "\n",
       "   FLAG_EMAIL OCCUPATION_TYPE  CNT_FAM_MEMBERS  REGION_RATING_CLIENT  \\\n",
       "0           0        Laborers              1.0                     2   \n",
       "1           0      Core staff              2.0                     1   \n",
       "2           0        Laborers              1.0                     2   \n",
       "3           0        Laborers              2.0                     2   \n",
       "4           0      Core staff              1.0                     2   \n",
       "\n",
       "   REGION_RATING_CLIENT_W_CITY WEEKDAY_APPR_PROCESS_START  \\\n",
       "0                            2                  WEDNESDAY   \n",
       "1                            1                     MONDAY   \n",
       "2                            2                     MONDAY   \n",
       "3                            2                  WEDNESDAY   \n",
       "4                            2                   THURSDAY   \n",
       "\n",
       "   HOUR_APPR_PROCESS_START  REG_REGION_NOT_LIVE_REGION  \\\n",
       "0                       10                           0   \n",
       "1                       11                           0   \n",
       "2                        9                           0   \n",
       "3                       17                           0   \n",
       "4                       11                           0   \n",
       "\n",
       "   REG_REGION_NOT_WORK_REGION  LIVE_REGION_NOT_WORK_REGION  \\\n",
       "0                           0                            0   \n",
       "1                           0                            0   \n",
       "2                           0                            0   \n",
       "3                           0                            0   \n",
       "4                           0                            0   \n",
       "\n",
       "   REG_CITY_NOT_LIVE_CITY  REG_CITY_NOT_WORK_CITY  LIVE_CITY_NOT_WORK_CITY  \\\n",
       "0                       0                       0                        0   \n",
       "1                       0                       0                        0   \n",
       "2                       0                       0                        0   \n",
       "3                       0                       0                        0   \n",
       "4                       0                       1                        1   \n",
       "\n",
       "        ORGANIZATION_TYPE  EXT_SOURCE_1  EXT_SOURCE_2  EXT_SOURCE_3  \\\n",
       "0  Business Entity Type 3      0.083037      0.262949      0.139376   \n",
       "1                  School      0.311267      0.622246           NaN   \n",
       "2              Government           NaN      0.555912      0.729567   \n",
       "3  Business Entity Type 3           NaN      0.650442           NaN   \n",
       "4                Religion           NaN      0.322738           NaN   \n",
       "\n",
       "   APARTMENTS_AVG  BASEMENTAREA_AVG  YEARS_BEGINEXPLUATATION_AVG  \\\n",
       "0          0.0247            0.0369                       0.9722   \n",
       "1          0.0959            0.0529                       0.9851   \n",
       "2             NaN               NaN                          NaN   \n",
       "3             NaN               NaN                          NaN   \n",
       "4             NaN               NaN                          NaN   \n",
       "\n",
       "   YEARS_BUILD_AVG  COMMONAREA_AVG  ELEVATORS_AVG  ENTRANCES_AVG  \\\n",
       "0           0.6192          0.0143           0.00         0.0690   \n",
       "1           0.7960          0.0605           0.08         0.0345   \n",
       "2              NaN             NaN            NaN            NaN   \n",
       "3              NaN             NaN            NaN            NaN   \n",
       "4              NaN             NaN            NaN            NaN   \n",
       "\n",
       "   FLOORSMAX_AVG  FLOORSMIN_AVG  LANDAREA_AVG  LIVINGAPARTMENTS_AVG  \\\n",
       "0         0.0833         0.1250        0.0369                0.0202   \n",
       "1         0.2917         0.3333        0.0130                0.0773   \n",
       "2            NaN            NaN           NaN                   NaN   \n",
       "3            NaN            NaN           NaN                   NaN   \n",
       "4            NaN            NaN           NaN                   NaN   \n",
       "\n",
       "   LIVINGAREA_AVG  NONLIVINGAPARTMENTS_AVG  NONLIVINGAREA_AVG  \\\n",
       "0          0.0190                   0.0000             0.0000   \n",
       "1          0.0549                   0.0039             0.0098   \n",
       "2             NaN                      NaN                NaN   \n",
       "3             NaN                      NaN                NaN   \n",
       "4             NaN                      NaN                NaN   \n",
       "\n",
       "   APARTMENTS_MODE  BASEMENTAREA_MODE  YEARS_BEGINEXPLUATATION_MODE  \\\n",
       "0           0.0252             0.0383                        0.9722   \n",
       "1           0.0924             0.0538                        0.9851   \n",
       "2              NaN                NaN                           NaN   \n",
       "3              NaN                NaN                           NaN   \n",
       "4              NaN                NaN                           NaN   \n",
       "\n",
       "   YEARS_BUILD_MODE                  ...                   LIVINGAREA_MODE  \\\n",
       "0            0.6341                  ...                            0.0198   \n",
       "1            0.8040                  ...                            0.0554   \n",
       "2               NaN                  ...                               NaN   \n",
       "3               NaN                  ...                               NaN   \n",
       "4               NaN                  ...                               NaN   \n",
       "\n",
       "   NONLIVINGAPARTMENTS_MODE  NONLIVINGAREA_MODE  APARTMENTS_MEDI  \\\n",
       "0                       0.0                 0.0           0.0250   \n",
       "1                       0.0                 0.0           0.0968   \n",
       "2                       NaN                 NaN              NaN   \n",
       "3                       NaN                 NaN              NaN   \n",
       "4                       NaN                 NaN              NaN   \n",
       "\n",
       "   BASEMENTAREA_MEDI  YEARS_BEGINEXPLUATATION_MEDI  YEARS_BUILD_MEDI  \\\n",
       "0             0.0369                        0.9722            0.6243   \n",
       "1             0.0529                        0.9851            0.7987   \n",
       "2                NaN                           NaN               NaN   \n",
       "3                NaN                           NaN               NaN   \n",
       "4                NaN                           NaN               NaN   \n",
       "\n",
       "   COMMONAREA_MEDI  ELEVATORS_MEDI  ENTRANCES_MEDI  FLOORSMAX_MEDI  \\\n",
       "0           0.0144            0.00          0.0690          0.0833   \n",
       "1           0.0608            0.08          0.0345          0.2917   \n",
       "2              NaN             NaN             NaN             NaN   \n",
       "3              NaN             NaN             NaN             NaN   \n",
       "4              NaN             NaN             NaN             NaN   \n",
       "\n",
       "   FLOORSMIN_MEDI  LANDAREA_MEDI  LIVINGAPARTMENTS_MEDI  LIVINGAREA_MEDI  \\\n",
       "0          0.1250         0.0375                 0.0205           0.0193   \n",
       "1          0.3333         0.0132                 0.0787           0.0558   \n",
       "2             NaN            NaN                    NaN              NaN   \n",
       "3             NaN            NaN                    NaN              NaN   \n",
       "4             NaN            NaN                    NaN              NaN   \n",
       "\n",
       "   NONLIVINGAPARTMENTS_MEDI  NONLIVINGAREA_MEDI  FONDKAPREMONT_MODE  \\\n",
       "0                    0.0000                0.00    reg oper account   \n",
       "1                    0.0039                0.01    reg oper account   \n",
       "2                       NaN                 NaN                 NaN   \n",
       "3                       NaN                 NaN                 NaN   \n",
       "4                       NaN                 NaN                 NaN   \n",
       "\n",
       "   HOUSETYPE_MODE  TOTALAREA_MODE  WALLSMATERIAL_MODE  EMERGENCYSTATE_MODE  \\\n",
       "0  block of flats          0.0149        Stone, brick                   No   \n",
       "1  block of flats          0.0714               Block                   No   \n",
       "2             NaN             NaN                 NaN                  NaN   \n",
       "3             NaN             NaN                 NaN                  NaN   \n",
       "4             NaN             NaN                 NaN                  NaN   \n",
       "\n",
       "   OBS_30_CNT_SOCIAL_CIRCLE  DEF_30_CNT_SOCIAL_CIRCLE  \\\n",
       "0                       2.0                       2.0   \n",
       "1                       1.0                       0.0   \n",
       "2                       0.0                       0.0   \n",
       "3                       2.0                       0.0   \n",
       "4                       0.0                       0.0   \n",
       "\n",
       "  OBS_60_CNT_SOCIAL_CIRCLE DEF_60_CNT_SOCIAL_CIRCLE  DAYS_LAST_PHONE_CHANGE  \\\n",
       "0                      2.0                      2.0                 -1134.0   \n",
       "1                      1.0                      0.0                  -828.0   \n",
       "2                      0.0                      0.0                  -815.0   \n",
       "3                      2.0                      0.0                  -617.0   \n",
       "4                      0.0                      0.0                 -1106.0   \n",
       "\n",
       "  FLAG_DOCUMENT_2 FLAG_DOCUMENT_3  FLAG_DOCUMENT_4  FLAG_DOCUMENT_5  \\\n",
       "0               0               1                0                0   \n",
       "1               0               1                0                0   \n",
       "2               0               0                0                0   \n",
       "3               0               1                0                0   \n",
       "4               0               0                0                0   \n",
       "\n",
       "   FLAG_DOCUMENT_6  FLAG_DOCUMENT_7  FLAG_DOCUMENT_8  FLAG_DOCUMENT_9  \\\n",
       "0                0                0                0                0   \n",
       "1                0                0                0                0   \n",
       "2                0                0                0                0   \n",
       "3                0                0                0                0   \n",
       "4                0                0                1                0   \n",
       "\n",
       "   FLAG_DOCUMENT_10  FLAG_DOCUMENT_11  FLAG_DOCUMENT_12  FLAG_DOCUMENT_13  \\\n",
       "0                 0                 0                 0                 0   \n",
       "1                 0                 0                 0                 0   \n",
       "2                 0                 0                 0                 0   \n",
       "3                 0                 0                 0                 0   \n",
       "4                 0                 0                 0                 0   \n",
       "\n",
       "   FLAG_DOCUMENT_14  FLAG_DOCUMENT_15  FLAG_DOCUMENT_16  FLAG_DOCUMENT_17  \\\n",
       "0                 0                 0                 0                 0   \n",
       "1                 0                 0                 0                 0   \n",
       "2                 0                 0                 0                 0   \n",
       "3                 0                 0                 0                 0   \n",
       "4                 0                 0                 0                 0   \n",
       "\n",
       "   FLAG_DOCUMENT_18  FLAG_DOCUMENT_19  FLAG_DOCUMENT_20  FLAG_DOCUMENT_21  \\\n",
       "0                 0                 0                 0                 0   \n",
       "1                 0                 0                 0                 0   \n",
       "2                 0                 0                 0                 0   \n",
       "3                 0                 0                 0                 0   \n",
       "4                 0                 0                 0                 0   \n",
       "\n",
       "   AMT_REQ_CREDIT_BUREAU_HOUR  AMT_REQ_CREDIT_BUREAU_DAY  \\\n",
       "0                         0.0                        0.0   \n",
       "1                         0.0                        0.0   \n",
       "2                         0.0                        0.0   \n",
       "3                         NaN                        NaN   \n",
       "4                         0.0                        0.0   \n",
       "\n",
       "   AMT_REQ_CREDIT_BUREAU_WEEK  AMT_REQ_CREDIT_BUREAU_MON  \\\n",
       "0                         0.0                        0.0   \n",
       "1                         0.0                        0.0   \n",
       "2                         0.0                        0.0   \n",
       "3                         NaN                        NaN   \n",
       "4                         0.0                        0.0   \n",
       "\n",
       "   AMT_REQ_CREDIT_BUREAU_QRT  AMT_REQ_CREDIT_BUREAU_YEAR  \\\n",
       "0                        0.0                         1.0   \n",
       "1                        0.0                         0.0   \n",
       "2                        0.0                         0.0   \n",
       "3                        NaN                         NaN   \n",
       "4                        0.0                         0.0   \n",
       "\n",
       "   BIN_AMT_INCOME_TOTAL  BIN_AMT_GOODS_PRICE  DEG_IRESP_INCOME_GOODS_PRICE  \\\n",
       "0                   4.0                    2                          18.0   \n",
       "1                   6.0                    6                          28.0   \n",
       "2                   1.0                    0                           9.0   \n",
       "3                   3.0                    1                          14.0   \n",
       "4                   2.0                    3                          32.0   \n",
       "\n",
       "   BIN_DEG_IRESP_INCOME_GOODS_PRICE  NUM_OF_NAN  BIN_NUM_OF_NAN  \\\n",
       "0                                 1           1               0   \n",
       "1                                 2           2               0   \n",
       "2                                 0          48               7   \n",
       "3                                 1          56               9   \n",
       "4                                 3          50               8   \n",
       "\n",
       "   DEG_SEVERITY_INCOME_CNT_CHILDREN  BIN_DEG_SEVERITY_INCOME_CNT_CHILDREN  \n",
       "0                               6.0                                     0  \n",
       "1                               4.0                                     0  \n",
       "2                               9.0                                     0  \n",
       "3                               7.0                                     0  \n",
       "4                               8.0                                     0  \n",
       "\n",
       "[5 rows x 129 columns]"
      ]
     },
     "execution_count": 34,
     "metadata": {},
     "output_type": "execute_result"
    }
   ],
   "source": [
    "#SK_ID_CURRを削除する\n",
    "pd_test = pd_application_train.drop(\"SK_ID_CURR\", axis=1)\n",
    "pd_test.head()"
   ]
  },
  {
   "cell_type": "code",
   "execution_count": 35,
   "metadata": {
    "collapsed": true
   },
   "outputs": [],
   "source": [
    "#オブジェクト型を数値に置き換え\n",
    "object_col_name = pd_test.columns.values\n",
    "for i in range(0,len(object_col_name)):\n",
    "    labels, uniques = pd.factorize(pd_test[object_col_name[i]])\n",
    "    pd_test[object_col_name[i]] = labels    \n",
    "\n",
    "pd_test = pd_test.replace(np.nan, -1)"
   ]
  },
  {
   "cell_type": "code",
   "execution_count": 36,
   "metadata": {
    "collapsed": false
   },
   "outputs": [
    {
     "name": "stderr",
     "output_type": "stream",
     "text": [
      "/Users/naoki/.pyenv/versions/anaconda3-4.3.0/lib/python3.6/site-packages/sklearn/ensemble/forest.py:246: FutureWarning: The default value of n_estimators will change from 10 in version 0.20 to 100 in 0.22.\n",
      "  \"10 in version 0.20 to 100 in 0.22.\", FutureWarning)\n"
     ]
    },
    {
     "data": {
      "text/plain": [
       "RandomForestClassifier(bootstrap=True, class_weight=None, criterion='gini',\n",
       "            max_depth=None, max_features='auto', max_leaf_nodes=None,\n",
       "            min_impurity_decrease=0.0, min_impurity_split=None,\n",
       "            min_samples_leaf=1, min_samples_split=2,\n",
       "            min_weight_fraction_leaf=0.0, n_estimators=10, n_jobs=None,\n",
       "            oob_score=False, random_state=None, verbose=0,\n",
       "            warm_start=False)"
      ]
     },
     "execution_count": 36,
     "metadata": {},
     "output_type": "execute_result"
    }
   ],
   "source": [
    "#ランダムフォレストを使って各パラメータの重要度を調べる\n",
    "target = pd_test['TARGET']\n",
    "feature = pd_test.iloc[:,1:len(pd_test.columns)]\n",
    "model.fit(feature, target)"
   ]
  },
  {
   "cell_type": "code",
   "execution_count": 37,
   "metadata": {
    "collapsed": false
   },
   "outputs": [
    {
     "data": {
      "image/png": "[encoded data removed]",
      "text/plain": [
       "<matplotlib.figure.Figure at 0x12067ffd0>"
      ]
     },
     "metadata": {},
     "output_type": "display_data"
    }
   ],
   "source": [
    "rank = np.argsort(-model.feature_importances_)\n",
    "f, ax = plt.subplots(figsize=(15, 15)) \n",
    "sns.barplot(x=model.feature_importances_[rank], y=pd_test.columns.values[rank], orient='h')\n",
    "ax.set_xlabel(\"Importance\")\n",
    "plt.tight_layout()\n",
    "plt.show()"
   ]
  },
  {
   "cell_type": "code",
   "execution_count": 38,
   "metadata": {
    "collapsed": false
   },
   "outputs": [
    {
     "name": "stdout",
     "output_type": "stream",
     "text": [
      "Rank1 => EXT_SOURCE_1 (Importance=0.039)\n",
      "Rank2 => EXT_SOURCE_2 (Importance=0.037)\n",
      "Rank3 => REGION_POPULATION_RELATIVE (Importance=0.035)\n",
      "Rank4 => DAYS_REGISTRATION (Importance=0.034)\n",
      "Rank5 => DAYS_EMPLOYED (Importance=0.033)\n",
      "Rank6 => AMT_CREDIT (Importance=0.032)\n",
      "Rank7 => DAYS_BIRTH (Importance=0.031)\n",
      "Rank8 => DEF_60_CNT_SOCIAL_CIRCLE (Importance=0.030)\n",
      "Rank9 => AMT_INCOME_TOTAL (Importance=0.030)\n",
      "Rank10 => NAME_HOUSING_TYPE (Importance=0.028)\n",
      "Rank11 => AMT_ANNUITY (Importance=0.026)\n",
      "Rank12 => CNT_CHILDREN (Importance=0.023)\n",
      "Rank13 => WEEKDAY_APPR_PROCESS_START (Importance=0.022)\n",
      "Rank14 => BIN_AMT_GOODS_PRICE (Importance=0.020)\n",
      "Rank15 => LIVE_CITY_NOT_WORK_CITY (Importance=0.020)\n",
      "Rank16 => BIN_NUM_OF_NAN (Importance=0.018)\n",
      "Rank17 => ORGANIZATION_TYPE (Importance=0.018)\n",
      "Rank18 => FLAG_EMAIL (Importance=0.016)\n",
      "Rank19 => REGION_RATING_CLIENT_W_CITY (Importance=0.016)\n",
      "Rank20 => AMT_REQ_CREDIT_BUREAU_QRT (Importance=0.015)\n",
      "Rank21 => EMERGENCYSTATE_MODE (Importance=0.014)\n",
      "Rank22 => DEF_30_CNT_SOCIAL_CIRCLE (Importance=0.014)\n",
      "Rank23 => AMT_REQ_CREDIT_BUREAU_YEAR (Importance=0.013)\n",
      "Rank24 => BIN_AMT_INCOME_TOTAL (Importance=0.013)\n",
      "Rank25 => BIN_DEG_IRESP_INCOME_GOODS_PRICE (Importance=0.013)\n",
      "Rank26 => DAYS_ID_PUBLISH (Importance=0.012)\n",
      "Rank27 => DEG_IRESP_INCOME_GOODS_PRICE (Importance=0.012)\n",
      "Rank28 => NAME_EDUCATION_TYPE (Importance=0.011)\n",
      "Rank29 => OCCUPATION_TYPE (Importance=0.010)\n",
      "Rank30 => HOUSETYPE_MODE (Importance=0.010)\n"
     ]
    }
   ],
   "source": [
    "#上位10個の特徴量を抽出\n",
    "for i in range(0, 30):\n",
    "    print(\"Rank{} => {} (Importance={:.3f})\".format(i+1, pd_test.columns.values[rank[i]], model.feature_importances_[rank[i]]))"
   ]
  },
  {
   "cell_type": "code",
   "execution_count": 39,
   "metadata": {
    "collapsed": false
   },
   "outputs": [
    {
     "name": "stdout",
     "output_type": "stream",
     "text": [
      "['EXT_SOURCE_1' 'EXT_SOURCE_2' 'REGION_POPULATION_RELATIVE'\n",
      " 'DAYS_REGISTRATION' 'DAYS_EMPLOYED' 'AMT_CREDIT' 'DAYS_BIRTH'\n",
      " 'DEF_60_CNT_SOCIAL_CIRCLE' 'AMT_INCOME_TOTAL' 'NAME_HOUSING_TYPE'\n",
      " 'AMT_ANNUITY' 'CNT_CHILDREN' 'WEEKDAY_APPR_PROCESS_START'\n",
      " 'BIN_AMT_GOODS_PRICE' 'LIVE_CITY_NOT_WORK_CITY' 'BIN_NUM_OF_NAN'\n",
      " 'ORGANIZATION_TYPE' 'FLAG_EMAIL' 'REGION_RATING_CLIENT_W_CITY'\n",
      " 'AMT_REQ_CREDIT_BUREAU_QRT' 'EMERGENCYSTATE_MODE'\n",
      " 'DEF_30_CNT_SOCIAL_CIRCLE' 'AMT_REQ_CREDIT_BUREAU_YEAR'\n",
      " 'BIN_AMT_INCOME_TOTAL' 'BIN_DEG_IRESP_INCOME_GOODS_PRICE'\n",
      " 'DAYS_ID_PUBLISH' 'DEG_IRESP_INCOME_GOODS_PRICE' 'NAME_EDUCATION_TYPE'\n",
      " 'OCCUPATION_TYPE' 'HOUSETYPE_MODE']\n"
     ]
    }
   ],
   "source": [
    "TOP_THIRTY_COL_NAME = np.array([pd_test.columns.values[rank[i]] for i in range(0, 30)])\n",
    "print(TOP_THIRTY_COL_NAME)"
   ]
  },
  {
   "cell_type": "markdown",
   "metadata": {},
   "source": [
    "ランダムフォレストによる重要度の評価の結果、新しく導入した３つの特徴量は上位30位までに入った。３つの内一番重要度が高かったのは\"BIN_NUM_OF_NAN\"でNanの多さを表すものであった。（Rank=16 Importance=0.018）   \n",
    "よって、新しく導入した３つの特徴量は目的変数を説明する上である程度意味がありそうである。（\"DEG_IRESP_INCOME_GOODS_PRICE\"については、上で確認した未返済率の傾向からは関連性があまり無さそうであったが。）"
   ]
  },
  {
   "cell_type": "markdown",
   "metadata": {},
   "source": [
    "#### 新しい特徴量を加えて再度予測"
   ]
  },
  {
   "cell_type": "code",
   "execution_count": 40,
   "metadata": {
    "collapsed": true
   },
   "outputs": [],
   "source": [
    "import copy\n",
    "selected_feature_name = [\"OCCUPATION_TYPE\", \n",
    "                         \"ORGANIZATION_TYPE\",\n",
    "                         \"EXT_SOURCE_1\",\n",
    "                         \"EXT_SOURCE_2\",\n",
    "                         \"DAYS_EMPLOYED\", \n",
    "                         \"DAYS_REGISTRATION\", \n",
    "                         \"AMT_CREDIT\", \n",
    "                         \"DAYS_BIRTH\", \n",
    "                         \"DEF_60_CNT_SOCIAL_CIRCLE\", \n",
    "                         \"AMT_INCOME_TOTAL\",\n",
    "                         \"BIN_NUM_OF_NAN\",\n",
    "                         \"BIN_DEG_SEVERITY_INCOME_CNT_CHILDREN\",\n",
    "                         \"CNT_CHILDREN\"]\n",
    "col_name = copy.deepcopy(selected_feature_name)\n",
    "col_name.append(\"TARGET\")"
   ]
  },
  {
   "cell_type": "code",
   "execution_count": 41,
   "metadata": {
    "collapsed": false
   },
   "outputs": [
    {
     "data": {
      "text/html": [
       "<div>\n",
       "<table border=\"1\" class=\"dataframe\">\n",
       "  <thead>\n",
       "    <tr style=\"text-align: right;\">\n",
       "      <th></th>\n",
       "      <th>OCCUPATION_TYPE</th>\n",
       "      <th>ORGANIZATION_TYPE</th>\n",
       "      <th>EXT_SOURCE_1</th>\n",
       "      <th>EXT_SOURCE_2</th>\n",
       "      <th>DAYS_EMPLOYED</th>\n",
       "      <th>DAYS_REGISTRATION</th>\n",
       "      <th>AMT_CREDIT</th>\n",
       "      <th>DAYS_BIRTH</th>\n",
       "      <th>DEF_60_CNT_SOCIAL_CIRCLE</th>\n",
       "      <th>AMT_INCOME_TOTAL</th>\n",
       "      <th>BIN_NUM_OF_NAN</th>\n",
       "      <th>BIN_DEG_SEVERITY_INCOME_CNT_CHILDREN</th>\n",
       "      <th>CNT_CHILDREN</th>\n",
       "      <th>TARGET</th>\n",
       "    </tr>\n",
       "  </thead>\n",
       "  <tbody>\n",
       "    <tr>\n",
       "      <th>0</th>\n",
       "      <td>Laborers</td>\n",
       "      <td>Business Entity Type 3</td>\n",
       "      <td>0.083037</td>\n",
       "      <td>0.262949</td>\n",
       "      <td>-637</td>\n",
       "      <td>-3648.0</td>\n",
       "      <td>406597.5</td>\n",
       "      <td>-9461</td>\n",
       "      <td>2.0</td>\n",
       "      <td>202500.0</td>\n",
       "      <td>0</td>\n",
       "      <td>0</td>\n",
       "      <td>0</td>\n",
       "      <td>1</td>\n",
       "    </tr>\n",
       "    <tr>\n",
       "      <th>1</th>\n",
       "      <td>Core staff</td>\n",
       "      <td>School</td>\n",
       "      <td>0.311267</td>\n",
       "      <td>0.622246</td>\n",
       "      <td>-1188</td>\n",
       "      <td>-1186.0</td>\n",
       "      <td>1293502.5</td>\n",
       "      <td>-16765</td>\n",
       "      <td>0.0</td>\n",
       "      <td>270000.0</td>\n",
       "      <td>0</td>\n",
       "      <td>0</td>\n",
       "      <td>0</td>\n",
       "      <td>0</td>\n",
       "    </tr>\n",
       "    <tr>\n",
       "      <th>2</th>\n",
       "      <td>Laborers</td>\n",
       "      <td>Government</td>\n",
       "      <td>NaN</td>\n",
       "      <td>0.555912</td>\n",
       "      <td>-225</td>\n",
       "      <td>-4260.0</td>\n",
       "      <td>135000.0</td>\n",
       "      <td>-19046</td>\n",
       "      <td>0.0</td>\n",
       "      <td>67500.0</td>\n",
       "      <td>7</td>\n",
       "      <td>0</td>\n",
       "      <td>0</td>\n",
       "      <td>0</td>\n",
       "    </tr>\n",
       "    <tr>\n",
       "      <th>3</th>\n",
       "      <td>Laborers</td>\n",
       "      <td>Business Entity Type 3</td>\n",
       "      <td>NaN</td>\n",
       "      <td>0.650442</td>\n",
       "      <td>-3039</td>\n",
       "      <td>-9833.0</td>\n",
       "      <td>312682.5</td>\n",
       "      <td>-19005</td>\n",
       "      <td>0.0</td>\n",
       "      <td>135000.0</td>\n",
       "      <td>9</td>\n",
       "      <td>0</td>\n",
       "      <td>0</td>\n",
       "      <td>0</td>\n",
       "    </tr>\n",
       "    <tr>\n",
       "      <th>4</th>\n",
       "      <td>Core staff</td>\n",
       "      <td>Religion</td>\n",
       "      <td>NaN</td>\n",
       "      <td>0.322738</td>\n",
       "      <td>-3038</td>\n",
       "      <td>-4311.0</td>\n",
       "      <td>513000.0</td>\n",
       "      <td>-19932</td>\n",
       "      <td>0.0</td>\n",
       "      <td>121500.0</td>\n",
       "      <td>8</td>\n",
       "      <td>0</td>\n",
       "      <td>0</td>\n",
       "      <td>0</td>\n",
       "    </tr>\n",
       "  </tbody>\n",
       "</table>\n",
       "</div>"
      ],
      "text/plain": [
       "  OCCUPATION_TYPE       ORGANIZATION_TYPE  EXT_SOURCE_1  EXT_SOURCE_2  \\\n",
       "0        Laborers  Business Entity Type 3      0.083037      0.262949   \n",
       "1      Core staff                  School      0.311267      0.622246   \n",
       "2        Laborers              Government           NaN      0.555912   \n",
       "3        Laborers  Business Entity Type 3           NaN      0.650442   \n",
       "4      Core staff                Religion           NaN      0.322738   \n",
       "\n",
       "   DAYS_EMPLOYED  DAYS_REGISTRATION  AMT_CREDIT  DAYS_BIRTH  \\\n",
       "0           -637            -3648.0    406597.5       -9461   \n",
       "1          -1188            -1186.0   1293502.5      -16765   \n",
       "2           -225            -4260.0    135000.0      -19046   \n",
       "3          -3039            -9833.0    312682.5      -19005   \n",
       "4          -3038            -4311.0    513000.0      -19932   \n",
       "\n",
       "   DEF_60_CNT_SOCIAL_CIRCLE  AMT_INCOME_TOTAL BIN_NUM_OF_NAN  \\\n",
       "0                       2.0          202500.0              0   \n",
       "1                       0.0          270000.0              0   \n",
       "2                       0.0           67500.0              7   \n",
       "3                       0.0          135000.0              9   \n",
       "4                       0.0          121500.0              8   \n",
       "\n",
       "  BIN_DEG_SEVERITY_INCOME_CNT_CHILDREN  CNT_CHILDREN  TARGET  \n",
       "0                                    0             0       1  \n",
       "1                                    0             0       0  \n",
       "2                                    0             0       0  \n",
       "3                                    0             0       0  \n",
       "4                                    0             0       0  "
      ]
     },
     "execution_count": 41,
     "metadata": {},
     "output_type": "execute_result"
    }
   ],
   "source": [
    "pd_reducted_train_data = pd_application_train[col_name]\n",
    "pd_reducted_train_data.head()"
   ]
  },
  {
   "cell_type": "code",
   "execution_count": 42,
   "metadata": {
    "collapsed": false
   },
   "outputs": [
    {
     "name": "stderr",
     "output_type": "stream",
     "text": [
      "/Users/naoki/.pyenv/versions/anaconda3-4.3.0/lib/python3.6/site-packages/ipykernel/__main__.py:9: SettingWithCopyWarning: \n",
      "A value is trying to be set on a copy of a slice from a DataFrame.\n",
      "Try using .loc[row_indexer,col_indexer] = value instead\n",
      "\n",
      "See the caveats in the documentation: http://pandas.pydata.org/pandas-docs/stable/indexing.html#indexing-view-versus-copy\n"
     ]
    }
   ],
   "source": [
    "#オブジェクト型データをエンコーディング\n",
    "object_data_home_credit = pd_reducted_train_data.select_dtypes(['object'])\n",
    "object_col_name = object_data_home_credit.columns.values\n",
    "array_object_to_int = np.array([object_data_home_credit[object_col_name[i]].unique() for i in range(0,len(object_col_name))])\n",
    "\n",
    "#オブジェクト型を数値に置き換え\n",
    "for i in range(0,len(object_col_name)):\n",
    "    labels, uniques = pd.factorize(pd_reducted_train_data[object_col_name[i]])\n",
    "    pd_reducted_train_data[object_col_name[i]] = labels    \n",
    "\n",
    "pd_reducted_train_data = pd_reducted_train_data.replace(np.nan, -1)"
   ]
  },
  {
   "cell_type": "code",
   "execution_count": 43,
   "metadata": {
    "collapsed": false
   },
   "outputs": [
    {
     "name": "stdout",
     "output_type": "stream",
     "text": [
      "元データ数：307511　学習データ数：230633　検証データ数：76878\n"
     ]
    },
    {
     "data": {
      "image/png": "[encoded data removed]",
      "text/plain": [
       "<matplotlib.figure.Figure at 0x120e23cc0>"
      ]
     },
     "metadata": {},
     "output_type": "display_data"
    },
    {
     "name": "stdout",
     "output_type": "stream",
     "text": [
      "AUC=0.67295\n"
     ]
    }
   ],
   "source": [
    "clf = RandomForestClassifier(n_estimators=100, max_depth=120, random_state=40)\n",
    "result, fpr, tpr, thresholds = pipline(clf, pd_reducted_train_data, \"TARGET\", selected_feature_name, 1, False)\n",
    "\n",
    "print(\"AUC={:.5f}\".format(metrics.auc(fpr, tpr)))"
   ]
  },
  {
   "cell_type": "markdown",
   "metadata": {},
   "source": [
    "新しいパラメータを加えて再度モデルの評価を行なった結果、AUCが0.67145から0.67295へ上がった。（AUC +0.0015）"
   ]
  },
  {
   "cell_type": "markdown",
   "metadata": {},
   "source": [
    "#### 特徴量減らして再度評価を行なってみる。"
   ]
  },
  {
   "cell_type": "code",
   "execution_count": 44,
   "metadata": {
    "collapsed": true
   },
   "outputs": [],
   "source": [
    "import copy\n",
    "selected_feature_name = [\"OCCUPATION_TYPE\", \n",
    "                         \"EXT_SOURCE_2\",\n",
    "                         \"AMT_CREDIT\", \n",
    "                         \"DEF_60_CNT_SOCIAL_CIRCLE\", \n",
    "                         \"AMT_INCOME_TOTAL\",\n",
    "                         \"BIN_NUM_OF_NAN\"]\n",
    "col_name = copy.deepcopy(selected_feature_name)\n",
    "col_name.append(\"TARGET\")"
   ]
  },
  {
   "cell_type": "code",
   "execution_count": 45,
   "metadata": {
    "collapsed": false,
    "scrolled": true
   },
   "outputs": [
    {
     "data": {
      "text/html": [
       "<div>\n",
       "<table border=\"1\" class=\"dataframe\">\n",
       "  <thead>\n",
       "    <tr style=\"text-align: right;\">\n",
       "      <th></th>\n",
       "      <th>OCCUPATION_TYPE</th>\n",
       "      <th>EXT_SOURCE_2</th>\n",
       "      <th>AMT_CREDIT</th>\n",
       "      <th>DEF_60_CNT_SOCIAL_CIRCLE</th>\n",
       "      <th>AMT_INCOME_TOTAL</th>\n",
       "      <th>BIN_NUM_OF_NAN</th>\n",
       "      <th>TARGET</th>\n",
       "    </tr>\n",
       "  </thead>\n",
       "  <tbody>\n",
       "    <tr>\n",
       "      <th>0</th>\n",
       "      <td>Laborers</td>\n",
       "      <td>0.262949</td>\n",
       "      <td>406597.5</td>\n",
       "      <td>2.0</td>\n",
       "      <td>202500.0</td>\n",
       "      <td>0</td>\n",
       "      <td>1</td>\n",
       "    </tr>\n",
       "    <tr>\n",
       "      <th>1</th>\n",
       "      <td>Core staff</td>\n",
       "      <td>0.622246</td>\n",
       "      <td>1293502.5</td>\n",
       "      <td>0.0</td>\n",
       "      <td>270000.0</td>\n",
       "      <td>0</td>\n",
       "      <td>0</td>\n",
       "    </tr>\n",
       "    <tr>\n",
       "      <th>2</th>\n",
       "      <td>Laborers</td>\n",
       "      <td>0.555912</td>\n",
       "      <td>135000.0</td>\n",
       "      <td>0.0</td>\n",
       "      <td>67500.0</td>\n",
       "      <td>7</td>\n",
       "      <td>0</td>\n",
       "    </tr>\n",
       "    <tr>\n",
       "      <th>3</th>\n",
       "      <td>Laborers</td>\n",
       "      <td>0.650442</td>\n",
       "      <td>312682.5</td>\n",
       "      <td>0.0</td>\n",
       "      <td>135000.0</td>\n",
       "      <td>9</td>\n",
       "      <td>0</td>\n",
       "    </tr>\n",
       "    <tr>\n",
       "      <th>4</th>\n",
       "      <td>Core staff</td>\n",
       "      <td>0.322738</td>\n",
       "      <td>513000.0</td>\n",
       "      <td>0.0</td>\n",
       "      <td>121500.0</td>\n",
       "      <td>8</td>\n",
       "      <td>0</td>\n",
       "    </tr>\n",
       "  </tbody>\n",
       "</table>\n",
       "</div>"
      ],
      "text/plain": [
       "  OCCUPATION_TYPE  EXT_SOURCE_2  AMT_CREDIT  DEF_60_CNT_SOCIAL_CIRCLE  \\\n",
       "0        Laborers      0.262949    406597.5                       2.0   \n",
       "1      Core staff      0.622246   1293502.5                       0.0   \n",
       "2        Laborers      0.555912    135000.0                       0.0   \n",
       "3        Laborers      0.650442    312682.5                       0.0   \n",
       "4      Core staff      0.322738    513000.0                       0.0   \n",
       "\n",
       "   AMT_INCOME_TOTAL BIN_NUM_OF_NAN  TARGET  \n",
       "0          202500.0              0       1  \n",
       "1          270000.0              0       0  \n",
       "2           67500.0              7       0  \n",
       "3          135000.0              9       0  \n",
       "4          121500.0              8       0  "
      ]
     },
     "execution_count": 45,
     "metadata": {},
     "output_type": "execute_result"
    }
   ],
   "source": [
    "pd_reducted_train_data = pd_application_train[col_name]\n",
    "pd_reducted_train_data.head()"
   ]
  },
  {
   "cell_type": "code",
   "execution_count": 46,
   "metadata": {
    "collapsed": false
   },
   "outputs": [
    {
     "name": "stderr",
     "output_type": "stream",
     "text": [
      "/Users/naoki/.pyenv/versions/anaconda3-4.3.0/lib/python3.6/site-packages/ipykernel/__main__.py:9: SettingWithCopyWarning: \n",
      "A value is trying to be set on a copy of a slice from a DataFrame.\n",
      "Try using .loc[row_indexer,col_indexer] = value instead\n",
      "\n",
      "See the caveats in the documentation: http://pandas.pydata.org/pandas-docs/stable/indexing.html#indexing-view-versus-copy\n"
     ]
    }
   ],
   "source": [
    "#オブジェクト型データをエンコーディング\n",
    "object_data_home_credit = pd_reducted_train_data.select_dtypes(['object'])\n",
    "object_col_name = object_data_home_credit.columns.values\n",
    "array_object_to_int = np.array([object_data_home_credit[object_col_name[i]].unique() for i in range(0,len(object_col_name))])\n",
    "\n",
    "#オブジェクト型を数値に置き換え\n",
    "for i in range(0,len(object_col_name)):\n",
    "    labels, uniques = pd.factorize(pd_reducted_train_data[object_col_name[i]])\n",
    "    pd_reducted_train_data[object_col_name[i]] = labels    \n",
    "\n",
    "pd_reducted_train_data = pd_reducted_train_data.replace(np.nan, -1)"
   ]
  },
  {
   "cell_type": "code",
   "execution_count": 47,
   "metadata": {
    "collapsed": false,
    "scrolled": false
   },
   "outputs": [
    {
     "name": "stdout",
     "output_type": "stream",
     "text": [
      "元データ数：307511　学習データ数：230633　検証データ数：76878\n"
     ]
    },
    {
     "data": {
      "image/png": "[encoded data removed]",
      "text/plain": [
       "<matplotlib.figure.Figure at 0x1215f1d68>"
      ]
     },
     "metadata": {},
     "output_type": "display_data"
    },
    {
     "name": "stdout",
     "output_type": "stream",
     "text": [
      "AUC=0.62264\n"
     ]
    }
   ],
   "source": [
    "clf = RandomForestClassifier(n_estimators=100, max_depth=120, random_state=40)\n",
    "result, fpr, tpr, thresholds = pipline(clf, pd_reducted_train_data, \"TARGET\", selected_feature_name, 1, False)\n",
    "\n",
    "print(\"AUC={:.5f}\".format(metrics.auc(fpr, tpr)))"
   ]
  },
  {
   "cell_type": "markdown",
   "metadata": {},
   "source": [
    "結果、AUCが下がってしまった。特徴量を減らすのは逆効果である。"
   ]
  },
  {
   "cell_type": "markdown",
   "metadata": {},
   "source": [
    "#### ランダムフォレストで抽出された上位30個の特徴量を用いて再度評価を行なってみる。"
   ]
  },
  {
   "cell_type": "code",
   "execution_count": 48,
   "metadata": {
    "collapsed": true
   },
   "outputs": [],
   "source": [
    "import copy\n",
    "selected_feature_name = ['EXT_SOURCE_1',\n",
    "                         'EXT_SOURCE_2',\n",
    "                         'DAYS_REGISTRATION',\n",
    "                         'DAYS_EMPLOYED',\n",
    "                         'REGION_POPULATION_RELATIVE',\n",
    "                         'AMT_CREDIT',\n",
    "                         'DAYS_BIRTH',\n",
    "                         'DEF_60_CNT_SOCIAL_CIRCLE',\n",
    "                         'AMT_INCOME_TOTAL',\n",
    "                         'NAME_HOUSING_TYPE',\n",
    "                         'AMT_ANNUITY',\n",
    "                         'CNT_CHILDREN',\n",
    "                         'WEEKDAY_APPR_PROCESS_START',\n",
    "                         'BIN_AMT_GOODS_PRICE',\n",
    "                         'LIVE_CITY_NOT_WORK_CITY',\n",
    "                         'BIN_NUM_OF_NAN',\n",
    "                         'ORGANIZATION_TYPE',\n",
    "                         'FLAG_EMAIL',\n",
    "                         'REGION_RATING_CLIENT_W_CITY',\n",
    "                         'AMT_REQ_CREDIT_BUREAU_QRT',\n",
    "                         'DEF_30_CNT_SOCIAL_CIRCLE',\n",
    "                         'EMERGENCYSTATE_MODE',\n",
    "                         'AMT_REQ_CREDIT_BUREAU_YEAR',\n",
    "                         'BIN_AMT_INCOME_TOTAL',\n",
    "                         'BIN_DEG_IRESP_INCOME_GOODS_PRICE',\n",
    "                         'DAYS_ID_PUBLISH',\n",
    "                         'DEG_IRESP_INCOME_GOODS_PRICE',\n",
    "                         'NAME_EDUCATION_TYPE',\n",
    "                         'HOUSETYPE_MODE',\n",
    "                         'OCCUPATION_TYPE']\n",
    "col_name = copy.deepcopy(selected_feature_name)\n",
    "col_name.append(\"TARGET\")"
   ]
  },
  {
   "cell_type": "code",
   "execution_count": 49,
   "metadata": {
    "collapsed": false
   },
   "outputs": [
    {
     "data": {
      "text/html": [
       "<div>\n",
       "<table border=\"1\" class=\"dataframe\">\n",
       "  <thead>\n",
       "    <tr style=\"text-align: right;\">\n",
       "      <th></th>\n",
       "      <th>EXT_SOURCE_1</th>\n",
       "      <th>EXT_SOURCE_2</th>\n",
       "      <th>DAYS_REGISTRATION</th>\n",
       "      <th>DAYS_EMPLOYED</th>\n",
       "      <th>REGION_POPULATION_RELATIVE</th>\n",
       "      <th>AMT_CREDIT</th>\n",
       "      <th>DAYS_BIRTH</th>\n",
       "      <th>DEF_60_CNT_SOCIAL_CIRCLE</th>\n",
       "      <th>AMT_INCOME_TOTAL</th>\n",
       "      <th>NAME_HOUSING_TYPE</th>\n",
       "      <th>AMT_ANNUITY</th>\n",
       "      <th>CNT_CHILDREN</th>\n",
       "      <th>WEEKDAY_APPR_PROCESS_START</th>\n",
       "      <th>BIN_AMT_GOODS_PRICE</th>\n",
       "      <th>LIVE_CITY_NOT_WORK_CITY</th>\n",
       "      <th>BIN_NUM_OF_NAN</th>\n",
       "      <th>ORGANIZATION_TYPE</th>\n",
       "      <th>FLAG_EMAIL</th>\n",
       "      <th>REGION_RATING_CLIENT_W_CITY</th>\n",
       "      <th>AMT_REQ_CREDIT_BUREAU_QRT</th>\n",
       "      <th>DEF_30_CNT_SOCIAL_CIRCLE</th>\n",
       "      <th>EMERGENCYSTATE_MODE</th>\n",
       "      <th>AMT_REQ_CREDIT_BUREAU_YEAR</th>\n",
       "      <th>BIN_AMT_INCOME_TOTAL</th>\n",
       "      <th>BIN_DEG_IRESP_INCOME_GOODS_PRICE</th>\n",
       "      <th>DAYS_ID_PUBLISH</th>\n",
       "      <th>DEG_IRESP_INCOME_GOODS_PRICE</th>\n",
       "      <th>NAME_EDUCATION_TYPE</th>\n",
       "      <th>HOUSETYPE_MODE</th>\n",
       "      <th>OCCUPATION_TYPE</th>\n",
       "      <th>TARGET</th>\n",
       "    </tr>\n",
       "  </thead>\n",
       "  <tbody>\n",
       "    <tr>\n",
       "      <th>0</th>\n",
       "      <td>0.083037</td>\n",
       "      <td>0.262949</td>\n",
       "      <td>-3648.0</td>\n",
       "      <td>-637</td>\n",
       "      <td>0.018801</td>\n",
       "      <td>406597.5</td>\n",
       "      <td>-9461</td>\n",
       "      <td>2.0</td>\n",
       "      <td>202500.0</td>\n",
       "      <td>House / apartment</td>\n",
       "      <td>24700.5</td>\n",
       "      <td>0</td>\n",
       "      <td>WEDNESDAY</td>\n",
       "      <td>2</td>\n",
       "      <td>0</td>\n",
       "      <td>0</td>\n",
       "      <td>Business Entity Type 3</td>\n",
       "      <td>0</td>\n",
       "      <td>2</td>\n",
       "      <td>0.0</td>\n",
       "      <td>2.0</td>\n",
       "      <td>No</td>\n",
       "      <td>1.0</td>\n",
       "      <td>4.0</td>\n",
       "      <td>1</td>\n",
       "      <td>-2120</td>\n",
       "      <td>18.0</td>\n",
       "      <td>Secondary / secondary special</td>\n",
       "      <td>block of flats</td>\n",
       "      <td>Laborers</td>\n",
       "      <td>1</td>\n",
       "    </tr>\n",
       "    <tr>\n",
       "      <th>1</th>\n",
       "      <td>0.311267</td>\n",
       "      <td>0.622246</td>\n",
       "      <td>-1186.0</td>\n",
       "      <td>-1188</td>\n",
       "      <td>0.003541</td>\n",
       "      <td>1293502.5</td>\n",
       "      <td>-16765</td>\n",
       "      <td>0.0</td>\n",
       "      <td>270000.0</td>\n",
       "      <td>House / apartment</td>\n",
       "      <td>35698.5</td>\n",
       "      <td>0</td>\n",
       "      <td>MONDAY</td>\n",
       "      <td>6</td>\n",
       "      <td>0</td>\n",
       "      <td>0</td>\n",
       "      <td>School</td>\n",
       "      <td>0</td>\n",
       "      <td>1</td>\n",
       "      <td>0.0</td>\n",
       "      <td>0.0</td>\n",
       "      <td>No</td>\n",
       "      <td>0.0</td>\n",
       "      <td>6.0</td>\n",
       "      <td>2</td>\n",
       "      <td>-291</td>\n",
       "      <td>28.0</td>\n",
       "      <td>Higher education</td>\n",
       "      <td>block of flats</td>\n",
       "      <td>Core staff</td>\n",
       "      <td>0</td>\n",
       "    </tr>\n",
       "    <tr>\n",
       "      <th>2</th>\n",
       "      <td>NaN</td>\n",
       "      <td>0.555912</td>\n",
       "      <td>-4260.0</td>\n",
       "      <td>-225</td>\n",
       "      <td>0.010032</td>\n",
       "      <td>135000.0</td>\n",
       "      <td>-19046</td>\n",
       "      <td>0.0</td>\n",
       "      <td>67500.0</td>\n",
       "      <td>House / apartment</td>\n",
       "      <td>6750.0</td>\n",
       "      <td>0</td>\n",
       "      <td>MONDAY</td>\n",
       "      <td>0</td>\n",
       "      <td>0</td>\n",
       "      <td>7</td>\n",
       "      <td>Government</td>\n",
       "      <td>0</td>\n",
       "      <td>2</td>\n",
       "      <td>0.0</td>\n",
       "      <td>0.0</td>\n",
       "      <td>NaN</td>\n",
       "      <td>0.0</td>\n",
       "      <td>1.0</td>\n",
       "      <td>0</td>\n",
       "      <td>-2531</td>\n",
       "      <td>9.0</td>\n",
       "      <td>Secondary / secondary special</td>\n",
       "      <td>NaN</td>\n",
       "      <td>Laborers</td>\n",
       "      <td>0</td>\n",
       "    </tr>\n",
       "    <tr>\n",
       "      <th>3</th>\n",
       "      <td>NaN</td>\n",
       "      <td>0.650442</td>\n",
       "      <td>-9833.0</td>\n",
       "      <td>-3039</td>\n",
       "      <td>0.008019</td>\n",
       "      <td>312682.5</td>\n",
       "      <td>-19005</td>\n",
       "      <td>0.0</td>\n",
       "      <td>135000.0</td>\n",
       "      <td>House / apartment</td>\n",
       "      <td>29686.5</td>\n",
       "      <td>0</td>\n",
       "      <td>WEDNESDAY</td>\n",
       "      <td>1</td>\n",
       "      <td>0</td>\n",
       "      <td>9</td>\n",
       "      <td>Business Entity Type 3</td>\n",
       "      <td>0</td>\n",
       "      <td>2</td>\n",
       "      <td>NaN</td>\n",
       "      <td>0.0</td>\n",
       "      <td>NaN</td>\n",
       "      <td>NaN</td>\n",
       "      <td>3.0</td>\n",
       "      <td>1</td>\n",
       "      <td>-2437</td>\n",
       "      <td>14.0</td>\n",
       "      <td>Secondary / secondary special</td>\n",
       "      <td>NaN</td>\n",
       "      <td>Laborers</td>\n",
       "      <td>0</td>\n",
       "    </tr>\n",
       "    <tr>\n",
       "      <th>4</th>\n",
       "      <td>NaN</td>\n",
       "      <td>0.322738</td>\n",
       "      <td>-4311.0</td>\n",
       "      <td>-3038</td>\n",
       "      <td>0.028663</td>\n",
       "      <td>513000.0</td>\n",
       "      <td>-19932</td>\n",
       "      <td>0.0</td>\n",
       "      <td>121500.0</td>\n",
       "      <td>House / apartment</td>\n",
       "      <td>21865.5</td>\n",
       "      <td>0</td>\n",
       "      <td>THURSDAY</td>\n",
       "      <td>3</td>\n",
       "      <td>1</td>\n",
       "      <td>8</td>\n",
       "      <td>Religion</td>\n",
       "      <td>0</td>\n",
       "      <td>2</td>\n",
       "      <td>0.0</td>\n",
       "      <td>0.0</td>\n",
       "      <td>NaN</td>\n",
       "      <td>0.0</td>\n",
       "      <td>2.0</td>\n",
       "      <td>3</td>\n",
       "      <td>-3458</td>\n",
       "      <td>32.0</td>\n",
       "      <td>Secondary / secondary special</td>\n",
       "      <td>NaN</td>\n",
       "      <td>Core staff</td>\n",
       "      <td>0</td>\n",
       "    </tr>\n",
       "  </tbody>\n",
       "</table>\n",
       "</div>"
      ],
      "text/plain": [
       "   EXT_SOURCE_1  EXT_SOURCE_2  DAYS_REGISTRATION  DAYS_EMPLOYED  \\\n",
       "0      0.083037      0.262949            -3648.0           -637   \n",
       "1      0.311267      0.622246            -1186.0          -1188   \n",
       "2           NaN      0.555912            -4260.0           -225   \n",
       "3           NaN      0.650442            -9833.0          -3039   \n",
       "4           NaN      0.322738            -4311.0          -3038   \n",
       "\n",
       "   REGION_POPULATION_RELATIVE  AMT_CREDIT  DAYS_BIRTH  \\\n",
       "0                    0.018801    406597.5       -9461   \n",
       "1                    0.003541   1293502.5      -16765   \n",
       "2                    0.010032    135000.0      -19046   \n",
       "3                    0.008019    312682.5      -19005   \n",
       "4                    0.028663    513000.0      -19932   \n",
       "\n",
       "   DEF_60_CNT_SOCIAL_CIRCLE  AMT_INCOME_TOTAL  NAME_HOUSING_TYPE  AMT_ANNUITY  \\\n",
       "0                       2.0          202500.0  House / apartment      24700.5   \n",
       "1                       0.0          270000.0  House / apartment      35698.5   \n",
       "2                       0.0           67500.0  House / apartment       6750.0   \n",
       "3                       0.0          135000.0  House / apartment      29686.5   \n",
       "4                       0.0          121500.0  House / apartment      21865.5   \n",
       "\n",
       "   CNT_CHILDREN WEEKDAY_APPR_PROCESS_START BIN_AMT_GOODS_PRICE  \\\n",
       "0             0                  WEDNESDAY                   2   \n",
       "1             0                     MONDAY                   6   \n",
       "2             0                     MONDAY                   0   \n",
       "3             0                  WEDNESDAY                   1   \n",
       "4             0                   THURSDAY                   3   \n",
       "\n",
       "   LIVE_CITY_NOT_WORK_CITY BIN_NUM_OF_NAN       ORGANIZATION_TYPE  FLAG_EMAIL  \\\n",
       "0                        0              0  Business Entity Type 3           0   \n",
       "1                        0              0                  School           0   \n",
       "2                        0              7              Government           0   \n",
       "3                        0              9  Business Entity Type 3           0   \n",
       "4                        1              8                Religion           0   \n",
       "\n",
       "   REGION_RATING_CLIENT_W_CITY  AMT_REQ_CREDIT_BUREAU_QRT  \\\n",
       "0                            2                        0.0   \n",
       "1                            1                        0.0   \n",
       "2                            2                        0.0   \n",
       "3                            2                        NaN   \n",
       "4                            2                        0.0   \n",
       "\n",
       "   DEF_30_CNT_SOCIAL_CIRCLE EMERGENCYSTATE_MODE  AMT_REQ_CREDIT_BUREAU_YEAR  \\\n",
       "0                       2.0                  No                         1.0   \n",
       "1                       0.0                  No                         0.0   \n",
       "2                       0.0                 NaN                         0.0   \n",
       "3                       0.0                 NaN                         NaN   \n",
       "4                       0.0                 NaN                         0.0   \n",
       "\n",
       "   BIN_AMT_INCOME_TOTAL BIN_DEG_IRESP_INCOME_GOODS_PRICE  DAYS_ID_PUBLISH  \\\n",
       "0                   4.0                                1            -2120   \n",
       "1                   6.0                                2             -291   \n",
       "2                   1.0                                0            -2531   \n",
       "3                   3.0                                1            -2437   \n",
       "4                   2.0                                3            -3458   \n",
       "\n",
       "   DEG_IRESP_INCOME_GOODS_PRICE            NAME_EDUCATION_TYPE  \\\n",
       "0                          18.0  Secondary / secondary special   \n",
       "1                          28.0               Higher education   \n",
       "2                           9.0  Secondary / secondary special   \n",
       "3                          14.0  Secondary / secondary special   \n",
       "4                          32.0  Secondary / secondary special   \n",
       "\n",
       "   HOUSETYPE_MODE OCCUPATION_TYPE  TARGET  \n",
       "0  block of flats        Laborers       1  \n",
       "1  block of flats      Core staff       0  \n",
       "2             NaN        Laborers       0  \n",
       "3             NaN        Laborers       0  \n",
       "4             NaN      Core staff       0  "
      ]
     },
     "execution_count": 49,
     "metadata": {},
     "output_type": "execute_result"
    }
   ],
   "source": [
    "pd_reducted_train_data = pd_application_train[col_name]\n",
    "pd_reducted_train_data.head()"
   ]
  },
  {
   "cell_type": "code",
   "execution_count": 50,
   "metadata": {
    "collapsed": false
   },
   "outputs": [
    {
     "name": "stderr",
     "output_type": "stream",
     "text": [
      "/Users/naoki/.pyenv/versions/anaconda3-4.3.0/lib/python3.6/site-packages/ipykernel/__main__.py:9: SettingWithCopyWarning: \n",
      "A value is trying to be set on a copy of a slice from a DataFrame.\n",
      "Try using .loc[row_indexer,col_indexer] = value instead\n",
      "\n",
      "See the caveats in the documentation: http://pandas.pydata.org/pandas-docs/stable/indexing.html#indexing-view-versus-copy\n"
     ]
    }
   ],
   "source": [
    "#オブジェクト型データをエンコーディング\n",
    "object_data_home_credit = pd_reducted_train_data.select_dtypes(['object'])\n",
    "object_col_name = object_data_home_credit.columns.values\n",
    "array_object_to_int = np.array([object_data_home_credit[object_col_name[i]].unique() for i in range(0,len(object_col_name))])\n",
    "\n",
    "#オブジェクト型を数値に置き換え\n",
    "for i in range(0,len(object_col_name)):\n",
    "    labels, uniques = pd.factorize(pd_reducted_train_data[object_col_name[i]])\n",
    "    pd_reducted_train_data[object_col_name[i]] = labels    \n",
    "\n",
    "pd_reducted_train_data = pd_reducted_train_data.replace(np.nan, -1)"
   ]
  },
  {
   "cell_type": "code",
   "execution_count": 51,
   "metadata": {
    "collapsed": false
   },
   "outputs": [
    {
     "name": "stdout",
     "output_type": "stream",
     "text": [
      "元データ数：307511　学習データ数：230633　検証データ数：76878\n"
     ]
    },
    {
     "data": {
      "image/png": "[encoded data removed]",
      "text/plain": [
       "<matplotlib.figure.Figure at 0x12573a9e8>"
      ]
     },
     "metadata": {},
     "output_type": "display_data"
    },
    {
     "name": "stdout",
     "output_type": "stream",
     "text": [
      "AUC=0.68148\n"
     ]
    }
   ],
   "source": [
    "clf = RandomForestClassifier(n_estimators=100, max_depth=120, random_state=40)\n",
    "result, fpr, tpr, thresholds = pipline(clf, pd_reducted_train_data, \"TARGET\", selected_feature_name, 1, False)\n",
    "\n",
    "print(\"AUC={:.5f}\".format(metrics.auc(fpr, tpr)))"
   ]
  },
  {
   "cell_type": "markdown",
   "metadata": {},
   "source": [
    "ランダムフォレストによる重要度算出の結果から選ばれた上位３０個の特徴量を用いた結果、上位10個を用いた場合に比べAUCが0.01上がった。"
   ]
  },
  {
   "cell_type": "markdown",
   "metadata": {},
   "source": [
    "### 結果まとめ\n",
    "ここまでで行なった結果では、モデル入力する特徴量を増やすことが一番有効であった。\n",
    "\n",
    "| 方法 | AUC |\n",
    "|:-----------:|:-----------:|\n",
    "| 重要度算出結果の上位10個を用いた場合 | 0.67145 |\n",
    "| 新しい特徴量を追加した場合| 0.67295|\n",
    "| 新しい特徴量を追加 <br>+ 重要度算出結果の上位30個を用いた場合 | 0.68148 |"
   ]
  },
  {
   "cell_type": "raw",
   "metadata": {},
   "source": [
    "課題はここまで。  \n",
    "以下、roc curveの計算関数"
   ]
  },
  {
   "cell_type": "markdown",
   "metadata": {},
   "source": [
    "ROC curveを計算"
   ]
  },
  {
   "cell_type": "code",
   "execution_count": 52,
   "metadata": {
    "collapsed": true
   },
   "outputs": [],
   "source": [
    "def AND_logic(x, y):\n",
    "    tmp = x*0.5 + y*0.5 - 0.7\n",
    "    return (tmp >= 0).astype(int)\n",
    "\n",
    "\n",
    "def OR_logic(x, y):\n",
    "    tmp = x*0.5 + y*0.5 - 0.2\n",
    "    return (tmp >= 0).astype(int)\n",
    "\n",
    "\n",
    "def NAND_logic(x, y):\n",
    "    tmp = x*(-0.5) + y*(-0.5) + 0.7\n",
    "    return (tmp >= 0).astype(int)\n",
    "\n",
    "\n",
    "def XOR_logic(x, y):\n",
    "    tmp1 = NAND_logic(x, y)\n",
    "    tmp2 = OR_logic(x, y)\n",
    "    tmp = AND_logic(tmp1, tmp2)\n",
    "    return tmp"
   ]
  },
  {
   "cell_type": "code",
   "execution_count": 53,
   "metadata": {
    "collapsed": false
   },
   "outputs": [],
   "source": [
    "def cal_tp(test_target, result, pos_label=1):\n",
    "    if pos_label==1:\n",
    "        x = test_target\n",
    "        y = result     \n",
    "    elif pos_label==0:\n",
    "        x = NAND_logic(test_target, test_target)\n",
    "        y = NAND_logic(result, result)       \n",
    "    \n",
    "    tmp = AND_logic(x, y)\n",
    "    return np.sum(tmp == 1)\n",
    "    \n",
    "    \n",
    "def cal_fp(test_target, result, pos_label=1):\n",
    "    if pos_label==1:\n",
    "        x = test_target\n",
    "        y = result     \n",
    "    elif pos_label==0:\n",
    "        x = NAND_logic(test_target, test_target)\n",
    "        y = NAND_logic(result, result)\n",
    "    \n",
    "    tmp1 = XOR_logic(x, y)\n",
    "    tmp = AND_logic(tmp1, y)\n",
    "    return np.sum(tmp == 1)\n",
    "    \n",
    "    \n",
    "def cal_tn(test_target, result, pos_label=1):\n",
    "    if pos_label==0:\n",
    "        x = test_target\n",
    "        y = result     \n",
    "    elif pos_label==1:\n",
    "        x = NAND_logic(test_target, test_target)\n",
    "        y = NAND_logic(result, result)\n",
    "\n",
    "    tmp = AND_logic(x, y)\n",
    "    return np.sum(tmp == 1)\n",
    "    \n",
    "    \n",
    "def cal_fn(test_target, result, pos_label=1):\n",
    "    if pos_label==1:\n",
    "        x = test_target\n",
    "        y = result     \n",
    "    elif pos_label==0:\n",
    "        x = NAND_logic(test_target, test_target)\n",
    "        y = NAND_logic(result, result)\n",
    "\n",
    "    tmp1 = XOR_logic(x, y)\n",
    "    tmp = AND_logic(tmp1, x)\n",
    "    return np.sum(tmp == 1)\n",
    "\n",
    "\n",
    "def cal_tpr(ans, prd, pos_label=1): \n",
    "    sum_of_pos = np.sum(ans == int(pos_label))\n",
    "    tpr = cal_tp(ans, prd, pos_label) / sum_of_pos\n",
    "    return tpr\n",
    "\n",
    "\n",
    "def cal_fpr(ans, prd, pos_label=1):\n",
    "    sum_of_neg = np.sum(ans != int(pos_label))\n",
    "    fpr = cal_fp(ans, prd, pos_label) / sum_of_neg\n",
    "    return fpr\n",
    "\n",
    "\n",
    "def cal_roc_curve(ans, prd, pos_label=1, step=10):\n",
    "    #Thresholdの範囲を決める。\n",
    "    t_max = ans.max()\n",
    "    t_min = ans.min()\n",
    "    th_max = t_max\n",
    "    th_min = t_min\n",
    "    th_step = (t_max - t_min)/(int)(step)\n",
    "    #ansを0,1に規格化\n",
    "    pos_label=1 if (int)(pos_label) == t_max else 0\n",
    "    b = ans.min()\n",
    "    a = ans.max()-ans.min()\n",
    "    ans = (ans-b)/a\n",
    "    \n",
    "    #fpr, tprを計算\n",
    "    fpr = np.array([cal_fpr(ans, (prd >= threshold).astype(int), pos_label) for threshold in gen_range(th_min, th_max, th_step)])\n",
    "    tpr = np.array([cal_tpr(ans, (prd >= threshold).astype(int), pos_label) for threshold in gen_range(th_min, th_max, th_step)])\n",
    "    threshold = np.array([threshold for threshold in gen_range(th_min, th_max, th_step)])\n",
    "    \n",
    "    #プロット\n",
    "    plt.step(fpr, tpr, color='b', alpha=0.2, where='post')\n",
    "    plt.fill_between(fpr, tpr, step='post', alpha=0.2, color='b')\n",
    "    plt.plot([0, 1], [0, 1], color='navy', linestyle='--')\n",
    "    plt.ylabel('True Positive Rate')\n",
    "    plt.xlabel('False Positive Rate')\n",
    "    plt.ylim([0.0, 1.0])\n",
    "    plt.xlim([0.0, 1.0])\n",
    "    plt.show() \n",
    "\n",
    "    return fpr, tpr, threshold"
   ]
  },
  {
   "cell_type": "code",
   "execution_count": 54,
   "metadata": {
    "collapsed": false
   },
   "outputs": [
    {
     "data": {
      "image/png": "[encoded data removed]",
      "text/plain": [
       "<matplotlib.figure.Figure at 0x1206997f0>"
      ]
     },
     "metadata": {},
     "output_type": "display_data"
    },
    {
     "name": "stdout",
     "output_type": "stream",
     "text": [
      "[1.  1.  0.5 0.5 0.5 0.5 0.5 0.5 0.5 0. ]\n",
      "[1.         0.66666667 0.66666667 0.66666667 0.66666667 0.66666667\n",
      " 0.66666667 0.66666667 0.33333333 0.33333333]\n",
      "[0.  0.2 0.4 0.6 0.8 1.  1.2 1.4 1.6 1.8]\n"
     ]
    }
   ],
   "source": [
    "test_target = np.array([2, 0, 2, 0, 2])\n",
    "result = np.array([1.9, 1.7, 1.5, 0.3, 0.1])\n",
    "fpr, tpr, threshold = cal_roc_curve(test_target, result, pos_label=2)\n",
    "print(fpr)\n",
    "print(tpr)\n",
    "print(threshold)"
   ]
  },
  {
   "cell_type": "code",
   "execution_count": null,
   "metadata": {
    "collapsed": true
   },
   "outputs": [],
   "source": []
  }
 ],
 "metadata": {
  "kernelspec": {
   "display_name": "Python 3",
   "language": "python",
   "name": "python3"
  },
  "language_info": {
   "codemirror_mode": {
    "name": "ipython",
    "version": 3
   },
   "file_extension": ".py",
   "mimetype": "text/x-python",
   "name": "python",
   "nbconvert_exporter": "python",
   "pygments_lexer": "ipython3",
   "version": "3.6.0"
  }
 },
 "nbformat": 4,
 "nbformat_minor": 2
}
