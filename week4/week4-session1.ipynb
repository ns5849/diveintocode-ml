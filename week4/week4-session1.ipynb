{
 "cells": [
  {
   "cell_type": "code",
   "execution_count": 79,
   "metadata": {
    "collapsed": true
   },
   "outputs": [],
   "source": [
    "import pandas as pd\n",
    "import numpy as np\n",
    "from sklearn.model_selection import train_test_split\n",
    "from sklearn.preprocessing import StandardScaler\n",
    "from sklearn.linear_model import LinearRegression\n",
    "from sklearn.metrics import accuracy_score\n",
    "from sklearn.metrics import recall_score\n",
    "from sklearn.metrics import precision_score\n",
    "from sklearn.metrics import f1_score\n",
    "from sklearn.metrics import mean_squared_error\n",
    "import matplotlib.pyplot as plt\n",
    "from matplotlib.colors import ListedColormap\n",
    "import matplotlib.patches as mpatches\n",
    "import seaborn as sns\n",
    "%matplotlib inline"
   ]
  },
  {
   "cell_type": "code",
   "execution_count": 80,
   "metadata": {
    "collapsed": false
   },
   "outputs": [],
   "source": [
    "pd_application_train = pd.read_csv(\"/Users/naoki/Desktop/DIC/week3/session/all/application_train.csv\")\n",
    "pd.options.display.max_columns = len(pd_application_train.columns)"
   ]
  },
  {
   "cell_type": "markdown",
   "metadata": {},
   "source": [
    "### 【問題1】パイプラインの作成\n",
    "授業前課題で行ったことを参考に、学習し推定結果を出すまでの一連の流れを行ってください。テストデータに対して推定を行い、それをKaggleに提出してみましょう。この段階では高い精度を出す必要はありません。"
   ]
  },
  {
   "cell_type": "markdown",
   "metadata": {},
   "source": [
    "特徴量を選ぶ(とりあえず前回のEDAの結果)\n",
    "1.OCCUPATION_TYPE  \n",
    "2.ORGANIZATION_TYPE  \n",
    "5.DAYS_EMPLOYED  \n",
    "6.DAYS_REGISTRATION  \n",
    "7.AMT_CREDIT  \n",
    "8.DAYS_BIRTH  \n",
    "9.DEF_60_CNT_SOCIAL_CIRCLE  \n",
    "10.AMT_INCOME_TOTAL  \n",
    "11.CNT_CHILDREN  "
   ]
  },
  {
   "cell_type": "code",
   "execution_count": 168,
   "metadata": {
    "collapsed": false
   },
   "outputs": [],
   "source": [
    "from sklearn import metrics\n",
    "\n",
    "def pipline(model, data, target_value, feature_value, normalization=True):\n",
    "    \"\"\"\n",
    "    Parameter\n",
    "    ---------------\n",
    "    model : 利用するライブラリのオブジェクト\n",
    "    target_value :目的変数名\n",
    "    feature_value :　説明変数名\n",
    "    normalization :フラグ True=正規分布で規格化　False=規格化しない\n",
    "    \n",
    "    Return\n",
    "    ---------------\n",
    "    fpr, tpr, thresholds\n",
    "    \"\"\"\n",
    "    \n",
    "    #学習データ、テストデータに分ける\n",
    "    train_data, test_data = train_test_split(data, test_size=0.25, random_state=42)\n",
    "    train_feature = train_data[feature_value].values\n",
    "    train_target = train_data[target_value].values\n",
    "    test_feature = test_data[feature_value].values\n",
    "    test_target = test_data[target_value].values\n",
    "    print(\"元データ数：{}　学習データ数：{}　検証データ数：{}\".format(len(data), len(train_data), len(test_data)))\n",
    "    \n",
    "    #学習データの特徴量を標準化\n",
    "    if normalization == True:\n",
    "        scaler = StandardScaler()\n",
    "        scaler.fit(train_feature)\n",
    "        train_feature = scaler.transform(train_feature)\n",
    "        scaler.fit(test_feature)\n",
    "        test_feature = scaler.transform(test_feature)\n",
    "\n",
    "    #学習と予測\n",
    "    model.fit(train_feature, train_target)\n",
    "    result = model.predict_proba(test_feature)\n",
    "    \n",
    "    #rocを計算\n",
    "    fpr, tpr, thresholds = metrics.roc_curve(test_target.reshape(-1), result[:,0], pos_label=1)\n",
    "    #rocをplot\n",
    "    plt.step(fpr, tpr, color='b', alpha=0.2, where='post')\n",
    "    plt.fill_between(fpr, tpr, step='post', alpha=0.2, color='b')\n",
    "    plt.plot([0, 1], [0, 1], color='navy', linestyle='--')\n",
    "    plt.ylabel('True Positive Rate')\n",
    "    plt.xlabel('False Positive Rate')\n",
    "    plt.ylim([0.0, 1.0])\n",
    "    plt.xlim([0.0, 1.0])\n",
    "    plt.show()\n",
    "    \n",
    "    return fpr, tpr, thresholds"
   ]
  },
  {
   "cell_type": "code",
   "execution_count": 156,
   "metadata": {
    "collapsed": false
   },
   "outputs": [],
   "source": [
    "import copy\n",
    "selected_feature_name = [\"OCCUPATION_TYPE\", \n",
    "                         \"ORGANIZATION_TYPE\", \n",
    "                         \"DAYS_EMPLOYED\", \n",
    "                         \"DAYS_REGISTRATION\", \n",
    "                         \"AMT_CREDIT\", \"DAYS_BIRTH\", \n",
    "                         \"DEF_60_CNT_SOCIAL_CIRCLE\", \n",
    "                         \"AMT_INCOME_TOTAL\", \n",
    "                         \"CNT_CHILDREN\"]\n",
    "col_name = copy.deepcopy(selected_feature_name)\n",
    "col_name.append(\"TARGET\")"
   ]
  },
  {
   "cell_type": "code",
   "execution_count": 157,
   "metadata": {
    "collapsed": false
   },
   "outputs": [],
   "source": [
    "pd_reducted_train_data = pd_application_train[col_name]"
   ]
  },
  {
   "cell_type": "code",
   "execution_count": 158,
   "metadata": {
    "collapsed": false
   },
   "outputs": [
    {
     "name": "stderr",
     "output_type": "stream",
     "text": [
      "/Users/naoki/.pyenv/versions/anaconda3-4.3.0/lib/python3.6/site-packages/ipykernel/__main__.py:9: SettingWithCopyWarning: \n",
      "A value is trying to be set on a copy of a slice from a DataFrame.\n",
      "Try using .loc[row_indexer,col_indexer] = value instead\n",
      "\n",
      "See the caveats in the documentation: http://pandas.pydata.org/pandas-docs/stable/indexing.html#indexing-view-versus-copy\n"
     ]
    }
   ],
   "source": [
    "#オブジェクト型データをエンコーディング\n",
    "object_data_home_credit = pd_reducted_train_data.select_dtypes(['object'])\n",
    "object_col_name = object_data_home_credit.columns.values\n",
    "array_object_to_int = np.array([object_data_home_credit[object_col_name[i]].unique() for i in range(0,len(object_col_name))])\n",
    "\n",
    "#オブジェクト型を数値に置き換え\n",
    "for i in range(0,len(object_col_name)):\n",
    "    labels, uniques = pd.factorize(pd_reducted_train_data[object_col_name[i]])\n",
    "    pd_reducted_train_data[object_col_name[i]] = labels    \n",
    "\n",
    "pd_reducted_train_data = pd_reducted_train_data.replace(np.nan, -1)"
   ]
  },
  {
   "cell_type": "code",
   "execution_count": 169,
   "metadata": {
    "collapsed": false
   },
   "outputs": [
    {
     "name": "stdout",
     "output_type": "stream",
     "text": [
      "元データ数：307511　学習データ数：230633　検証データ数：76878\n"
     ]
    },
    {
     "data": {
      "image/png": "[encoded data removed]",
      "text/plain": [
       "<matplotlib.figure.Figure at 0x120db7080>"
      ]
     },
     "metadata": {},
     "output_type": "display_data"
    },
    {
     "name": "stdout",
     "output_type": "stream",
     "text": [
      "AUC=0.45199\n"
     ]
    }
   ],
   "source": [
    "from sklearn.ensemble import RandomForestClassifier\n",
    "from sklearn.datasets import make_classification\n",
    "from sklearn.neighbors import KNeighborsClassifier\n",
    "clf = RandomForestClassifier(n_estimators=10, max_depth=100, random_state=2)\n",
    "#clf = KNeighborsClassifier(n_neighbors=3)\n",
    "\n",
    "fpr, tpr, thresholds = pipline(clf, pd_reducted_train_data, \"TARGET\", selected_feature_name)\n",
    "\n",
    "print(\"AUC={:.5f}\".format(metrics.auc(fpr, tpr)))"
   ]
  },
  {
   "cell_type": "markdown",
   "metadata": {},
   "source": [
    "### 【問題2】指標値の関数作成\n",
    "このコンペティションでは提出した確率から指標値 AUC が計算され、それで順位が決まります。（Evaluationのページ参照）\n",
    "このAUCを計算する関数を作成してください。"
   ]
  },
  {
   "cell_type": "code",
   "execution_count": 146,
   "metadata": {
    "collapsed": true
   },
   "outputs": [],
   "source": [
    "def cal_auc(fpr, tpr):\n",
    "    \n",
    "    dx = fpr[1:]-fpr[:-1]     #X軸（fpr）について配列の隣同士の間隔を計算\n",
    "    dy = (tpr[1:]+tpr[:-1])/2 #Y軸(tpr)について配列の右隣との平均値を計算\n",
    "    integral = dx*dy\n",
    "    \"\"\"\n",
    "    integral_under = dx * tpr[0:len(tpr)-1]\n",
    "    integral_over = dx * tpr[1:len(tpr)]\n",
    "    auc = (integral_under.sum()+integral_over.sum())/2\n",
    "    \"\"\"\n",
    "    \n",
    "    return integral.sum()"
   ]
  },
  {
   "cell_type": "code",
   "execution_count": 170,
   "metadata": {
    "collapsed": false
   },
   "outputs": [
    {
     "name": "stdout",
     "output_type": "stream",
     "text": [
      "AUC(with cal_auc)=0.451989\n",
      "AUC(with metrics.auc)=0.451989\n"
     ]
    }
   ],
   "source": [
    "#AUCを計算 (Sklearn Metric.aucの計算結果と比較)\n",
    "print(\"AUC(with cal_auc)={:.6f}\".format(cal_auc(fpr, tpr)))\n",
    "print(\"AUC(with metrics.auc)={:.6f}\".format(metrics.auc(fpr, tpr)))"
   ]
  },
  {
   "cell_type": "markdown",
   "metadata": {},
   "source": [
    "### 【問題3】前処理・Feature Engineering・学習\n",
    "精度を上げるために前処理・Feature Engineeringを行ってください。そしてその特徴量によって学習、検証、再び前処理の流れを繰り返しましょう。この工程はEDAの続きとも言えます。Week3で学んだことを思い出しながら進めてください。\n",
    "汎化性能が高いモデルが作成できたと判断した場合は再びKaggleに提出をしましょう。"
   ]
  },
  {
   "cell_type": "markdown",
   "metadata": {},
   "source": [
    "#### EDA 続き　新しい特徴量を出そう\n",
    "1.顧客の性格、周辺環境などを数値化  \n",
    "    いい加減さ、家族有/無、友人関係など、複数ローンを持っているかなど  \n",
    "2.新しい特徴量でとりあえず分類結果を見る"
   ]
  },
  {
   "cell_type": "markdown",
   "metadata": {},
   "source": [
    "1-1. いい加減さを数値化   \n",
    "＊収入が低いのに子供が多い人は無計画  \n",
    "＊仕事が長続きしない  \n",
    "＊若くないのに未婚は何か理由がある  \n",
    "＊収入低いのに多く借りている  \n",
    "＊Nanの欄が多い"
   ]
  },
  {
   "cell_type": "markdown",
   "metadata": {},
   "source": [
    "1-2. 家族有り無しを0,1に"
   ]
  },
  {
   "cell_type": "markdown",
   "metadata": {},
   "source": [
    "1-3. 周辺環境の良し悪しを数値化"
   ]
  }
 ],
 "metadata": {
  "kernelspec": {
   "display_name": "Python 3",
   "language": "python",
   "name": "python3"
  },
  "language_info": {
   "codemirror_mode": {
    "name": "ipython",
    "version": 3
   },
   "file_extension": ".py",
   "mimetype": "text/x-python",
   "name": "python",
   "nbconvert_exporter": "python",
   "pygments_lexer": "ipython3",
   "version": "3.6.0"
  }
 },
 "nbformat": 4,
 "nbformat_minor": 2
}
