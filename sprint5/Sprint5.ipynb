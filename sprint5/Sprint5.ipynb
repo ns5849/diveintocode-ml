{
 "cells": [
  {
   "cell_type": "code",
   "execution_count": 1,
   "metadata": {
    "collapsed": true
   },
   "outputs": [],
   "source": [
    "import matplotlib.pyplot as plt\n",
    "import matplotlib.cm as cm\n",
    "import seaborn as sb\n",
    "import numpy as np\n",
    "import pandas as pd\n",
    "from sklearn.model_selection import train_test_split\n",
    "from sklearn.preprocessing import StandardScaler\n",
    "from sklearn.neighbors import KNeighborsClassifier\n",
    "%matplotlib inline"
   ]
  },
  {
   "cell_type": "code",
   "execution_count": 2,
   "metadata": {
    "collapsed": true
   },
   "outputs": [],
   "source": [
    "from matplotlib.colors import ListedColormap\n",
    "import matplotlib.patches as mpatches\n",
    "\n",
    "def decision_region(X_train, y_train, model, step=0.01, title='decision region', xlabel='xlabel', ylabel='ylabel', target_names=['versicolor', 'virginica']):\n",
    "    \"\"\"\n",
    "    2値分類を2次元の特徴量で学習したモデルの決定領域を描く。\n",
    "    背景の色が学習したモデルによる推定値から描画される。\n",
    "    散布図の点は学習用データである。\n",
    "\n",
    "    Parameters\n",
    "    ----------------\n",
    "    X_train : ndarray, shape(n_samples, 2)\n",
    "        学習用データの特徴量\n",
    "    y_train : ndarray, shape(n_samples,)\n",
    "        学習用データの正解値\n",
    "    model : object\n",
    "        学習したモデルのインスンタスを入れる\n",
    "    step : float, (default : 0.1)\n",
    "        推定値を計算する間隔を設定する\n",
    "    title : str\n",
    "        グラフのタイトルの文章を与える\n",
    "    xlabel, ylabel : str\n",
    "        軸ラベルの文章を与える\n",
    "    target_names= : list of str\n",
    "        凡例の一覧を与える\n",
    "    \"\"\"\n",
    "    # setting\n",
    "    scatter_color = ['red', 'blue']\n",
    "    contourf_color = ['pink', 'skyblue']\n",
    "    n_class = 2\n",
    "\n",
    "    # pred\n",
    "    mesh_f0, mesh_f1  = np.meshgrid(np.arange(np.min(X_train[:,0])-0.5, np.max(X_train[:,0])+0.5, step), np.arange(np.min(X_train[:,1])-0.5, np.max(X_train[:,1])+0.5, step))\n",
    "    mesh = np.c_[np.ravel(mesh_f0),np.ravel(mesh_f1)]\n",
    "    pred = model.predict(mesh).reshape(mesh_f0.shape)\n",
    "\n",
    "    # plot\n",
    "    plt.title(title)\n",
    "    plt.xlabel(xlabel)\n",
    "    plt.ylabel(ylabel)\n",
    "    plt.contourf(mesh_f0, mesh_f1, pred, n_class-1, cmap=ListedColormap(contourf_color))\n",
    "    plt.contour(mesh_f0, mesh_f1, pred, n_class-1, colors='y', linewidths=3, alpha=0.5)\n",
    "    for i, target in enumerate(set(y_train)):\n",
    "        plt.scatter(X_train[y_train==target][:, 0], X_train[y_train==target][:, 1], s=80, color=scatter_color[i], label=target_names[i], marker='o')\n",
    "    patches = [mpatches.Patch(color=scatter_color[i], label=target_names[i]) for i in range(n_class)]\n",
    "    plt.scatter(model.sp_vector[1], model.sp_vector[2], s=80, color='yellow')\n",
    "    plt.legend(handles=patches)\n",
    "    plt.legend()\n",
    "    plt.show()"
   ]
  },
  {
   "cell_type": "code",
   "execution_count": 3,
   "metadata": {
    "collapsed": true
   },
   "outputs": [],
   "source": [
    "import numpy as np\n",
    "\n",
    "np.random.seed(seed=0)\n",
    "n_samples = 500\n",
    "f0= [-1, 2]\n",
    "f1 = [2, -1]\n",
    "cov = [[1.0,0.8], [0.8, 1.0]]\n",
    "\n",
    "f0 = np.random.multivariate_normal(f0, cov, int(n_samples/2))\n",
    "f1 = np.random.multivariate_normal(f1, cov, int(n_samples/2))\n",
    "\n",
    "X = np.concatenate((f0, f1))\n",
    "y = np.concatenate((np.ones((int(n_samples/2))), np.ones((int(n_samples/2))) *(-1))).astype(np.int)\n",
    "\n",
    "random_index = np.random.permutation(np.arange(n_samples))\n",
    "X = X[random_index]\n",
    "Y = y[random_index]\n",
    "\n",
    "train_x, test_x, train_y, test_y = train_test_split(X, Y, test_size=0.25, random_state=42)"
   ]
  },
  {
   "cell_type": "markdown",
   "metadata": {},
   "source": [
    "#### 【問題1】SVM分類器のクラスを作成する\n",
    "SVM分類器のクラスを作成し、Sprint2で作成した分類のパイプラインに組み込んでください。\n",
    "クラスの基本構造はSprint3の線形回帰を参考にし、名前はScratchSVMClassifierとしてください。\n",
    "メソッドやパラメータなどはscikit-learnを参考にしてください。"
   ]
  },
  {
   "cell_type": "code",
   "execution_count": 4,
   "metadata": {
    "collapsed": false
   },
   "outputs": [],
   "source": [
    "import utils.ScratchSVMClassifier as cScratchSVMClf"
   ]
  },
  {
   "cell_type": "code",
   "execution_count": 5,
   "metadata": {
    "collapsed": false
   },
   "outputs": [],
   "source": [
    "from sklearn import metrics\n",
    "from sklearn.model_selection import train_test_split\n",
    "from sklearn.preprocessing import StandardScaler\n",
    "from sklearn.datasets import make_classification\n",
    "\n",
    "def pipeline(model, X, y, X_val, y_val, normalization=True):\n",
    "    \"\"\"\n",
    "    Parameter\n",
    "    ---------------\n",
    "    model : 利用するライブラリのオブジェクト\n",
    "    target_value :目的変数名\n",
    "    feature_value :　説明変数名\n",
    "    normalization :フラグ True=正規分布で規格化　False=規格化しない\n",
    "    \n",
    "    Return\n",
    "    ---------------\n",
    "    fpr, tpr, thresholds\n",
    "    \"\"\"\n",
    "     \n",
    "    #学習データの特徴量を標準化\n",
    "    if normalization == True:\n",
    "        scaler = StandardScaler()\n",
    "        scaler.fit(X)\n",
    "        X = scaler.transform(X)\n",
    "        scaler.fit(X_val)\n",
    "        X_val = scaler.transform(X_val)\n",
    "\n",
    "    #学習と予測    \n",
    "    if True == model.fit(X, y):\n",
    "        result = model.predict(X_val)\n",
    "    else:\n",
    "        print(\"\\n SP vector isn't found\\n\")\n",
    "    \n",
    "    return"
   ]
  },
  {
   "cell_type": "code",
   "execution_count": 6,
   "metadata": {
    "collapsed": true
   },
   "outputs": [],
   "source": [
    "clf = cScratchSVMClf.ScratchSVMClassifier(10000, 1e-7, bias=True, hit_vector_cnt_threshold=2)"
   ]
  },
  {
   "cell_type": "code",
   "execution_count": 7,
   "metadata": {
    "collapsed": false,
    "scrolled": true
   },
   "outputs": [
    {
     "name": "stdout",
     "output_type": "stream",
     "text": [
      "Initial lambda:\n",
      "[[7.e-07 8.e-07 1.e-07 1.e-07 7.e-07 5.e-07 5.e-07 6.e-07 2.e-07 3.e-07\n",
      "  7.e-07 9.e-07 3.e-07 6.e-07 6.e-07 9.e-07 6.e-07 2.e-07 5.e-07 7.e-07\n",
      "  9.e-07 1.e-07 6.e-07 7.e-07 1.e-07 7.e-07 1.e-07 7.e-07 8.e-07 2.e-07\n",
      "  2.e-07 6.e-07 1.e-07 7.e-07 5.e-07 5.e-07 5.e-07 8.e-07 3.e-07 2.e-07\n",
      "  5.e-07 9.e-07 5.e-07 5.e-07 8.e-07 1.e-07 8.e-07 9.e-07 6.e-07 3.e-07\n",
      "  7.e-07 6.e-07 7.e-07 6.e-07 4.e-07 4.e-07 1.e-07 4.e-07 5.e-07 2.e-07\n",
      "  1.e-07 4.e-07 4.e-07 5.e-07 7.e-07 6.e-07 8.e-07 2.e-07 6.e-07 8.e-07\n",
      "  7.e-07 7.e-07 7.e-07 2.e-07 9.e-07 5.e-07 3.e-07 1.e-07 3.e-07 9.e-07\n",
      "  4.e-07 8.e-07 3.e-07 2.e-07 5.e-07 5.e-07 5.e-07 3.e-07 5.e-07 9.e-07\n",
      "  8.e-07 9.e-07 6.e-07 2.e-07 9.e-07 9.e-07 7.e-07 1.e-07 1.e-07 3.e-07\n",
      "  4.e-07 3.e-07 2.e-07 6.e-07 7.e-07 2.e-07 9.e-07 8.e-07 8.e-07 4.e-07\n",
      "  5.e-07 7.e-07 7.e-07 5.e-07 2.e-07 3.e-07 1.e-07 1.e-07 8.e-07 7.e-07\n",
      "  3.e-07 9.e-07 9.e-07 3.e-07 2.e-07 3.e-07 8.e-07 7.e-07 7.e-07 3.e-07\n",
      "  2.e-07 6.e-07 7.e-07 4.e-07 5.e-07 3.e-07 2.e-07 7.e-07 1.e-07 3.e-07\n",
      "  7.e-07 4.e-07 8.e-07 6.e-07 3.e-07 7.e-07 7.e-07 2.e-07 1.e-07 2.e-07\n",
      "  4.e-07 4.e-07 2.e-07 4.e-07 5.e-07 4.e-07 6.e-07 7.e-07 9.e-07 6.e-07\n",
      "  6.e-07 9.e-07 5.e-07 6.e-07 1.e-07 4.e-07 2.e-07 7.e-07 9.e-07 7.e-07\n",
      "  4.e-07 5.e-07 6.e-07 9.e-07 3.e-07 4.e-07 3.e-07 2.e-07 2.e-07 9.e-07\n",
      "  7.e-07 4.e-07 3.e-07 3.e-07 5.e-07 8.e-07 3.e-07 5.e-07 5.e-07 2.e-07\n",
      "  6.e-07 4.e-07 8.e-07 5.e-07 3.e-07 1.e-07 3.e-07 3.e-07 7.e-07 9.e-07\n",
      "  2.e-07 2.e-07 2.e-07 1.e-07 2.e-07 8.e-07 1.e-07 7.e-07 6.e-07 9.e-07\n",
      "  6.e-07 7.e-07 9.e-07 2.e-07 5.e-07 6.e-07 1.e-07 6.e-07 7.e-07 2.e-07\n",
      "  2.e-07 4.e-07 2.e-07 7.e-07 1.e-07 8.e-07 7.e-07 5.e-07 3.e-07 4.e-07\n",
      "  7.e-07 7.e-07 3.e-07 2.e-07 8.e-07 9.e-07 9.e-07 5.e-07 3.e-07 9.e-07\n",
      "  1.e-07 4.e-07 1.e-07 6.e-07 8.e-07 8.e-07 5.e-07 9.e-07 3.e-07 6.e-07\n",
      "  2.e-07 8.e-07 8.e-07 2.e-07 6.e-07 1.e-07 8.e-07 9.e-07 5.e-07 6.e-07\n",
      "  3.e-07 1.e-07 9.e-07 7.e-07 6.e-07 4.e-07 9.e-07 1.e-07 8.e-07 3.e-07\n",
      "  9.e-07 8.e-07 7.e-07 1.e-07 6.e-07 3.e-07 7.e-07 9.e-07 5.e-07 1.e-07\n",
      "  4.e-07 5.e-07 2.e-07 9.e-07 3.e-07 9.e-07 9.e-07 8.e-07 4.e-07 7.e-07\n",
      "  4.e-07 8.e-07 8.e-07 3.e-07 8.e-07 9.e-07 5.e-07 4.e-07 1.e-07 3.e-07\n",
      "  6.e-07 5.e-07 3.e-07 8.e-07 4.e-07 8.e-07 4.e-07 2.e-07 5.e-07 6.e-07\n",
      "  4.e-07 3.e-07 2.e-07 4.e-07 5.e-07 5.e-07 7.e-07 4.e-07 8.e-07 5.e-07\n",
      "  1.e-07 1.e-07 1.e-07 1.e-07 5.e-07 6.e-07 6.e-07 3.e-07 1.e-07 8.e-07\n",
      "  2.e-07 1.e-07 8.e-07 7.e-07 8.e-07 1.e-07 5.e-07 9.e-07 6.e-07 3.e-07\n",
      "  6.e-07 5.e-07 2.e-07 1.e-07 3.e-07 6.e-07 5.e-07 3.e-07 8.e-07 4.e-07\n",
      "  6.e-07 7.e-07 5.e-07 9.e-07 1.e-07 1.e-07 3.e-07 7.e-07 2.e-07 6.e-07\n",
      "  6.e-07 3.e-07 4.e-07 4.e-07 4.e-07 9.e-07 6.e-07 6.e-07 2.e-07 9.e-07\n",
      "  8.e-07 8.e-07 2.e-07 1.e-07 5.e-07]]\n",
      "Loop count=91\n",
      "Support vector=\n",
      "[[ 1.          1.          1.          1.          1.          1.\n",
      "   1.          1.          1.          1.          1.          1.\n",
      "   1.          1.          1.          1.          1.          1.\n",
      "   1.          1.          1.          1.          1.          1.\n",
      "   1.          1.          1.          1.          1.          1.\n",
      "   1.          1.          1.          1.          1.          1.\n",
      "   1.          1.          1.        ]\n",
      " [ 0.84650471  1.1078289  -0.38875671 -1.16095407  0.96220645 -0.69272366\n",
      "  -0.21375956 -0.67878179 -0.29628321  0.44127018  0.84029522  0.68434512\n",
      "  -0.62659949  0.871317   -0.07318881  0.62074371 -0.01517139 -0.08583811\n",
      "   0.57700504 -1.12239262  0.27161653 -0.55938326 -1.91591175 -0.16751809\n",
      "   0.131889    1.20201127  0.76870325 -0.80914087 -0.71898739  1.40568833\n",
      "   1.13987651 -1.62668132 -1.30887825 -0.85263481 -0.61396682 -1.36443721\n",
      "  -0.55355272 -0.85065908 -0.57010442]\n",
      " [-0.81365843 -0.48974689  1.58413129  0.30701627 -0.55894817  1.08403718\n",
      "   1.53980441  1.13777432  1.33301103 -1.0816247  -0.27784673 -1.5748072\n",
      "   1.16825616 -0.88833123  1.06923427 -1.12080116  1.4749451  -1.82561956\n",
      "  -0.95139597  0.61032384 -1.49409064  0.99101858  0.30436496  1.3380184\n",
      "   1.86732    -0.88883969 -1.03677222  0.48226119  1.47191058 -0.64137705\n",
      "  -0.44947876  0.45248369  0.15961434  0.93404679  0.62094339 -0.0492242\n",
      "   0.82683737 -0.17814144  0.49319761]\n",
      " [-1.         -1.          1.          1.         -1.          1.\n",
      "   1.          1.          1.         -1.         -1.         -1.\n",
      "   1.         -1.          1.         -1.          1.         -1.\n",
      "  -1.          1.         -1.          1.          1.          1.\n",
      "   1.         -1.         -1.          1.          1.         -1.\n",
      "  -1.          1.          1.          1.          1.          1.\n",
      "   1.          1.          1.        ]]\n",
      "Labe count 1:[24] -1:[15]\n",
      "accuracy: 1.0\n",
      "Timer_index=1  Elapsed time=0.07701611518859863\n"
     ]
    }
   ],
   "source": [
    "pipeline(clf, train_x, train_y, test_x, test_y, normalization=True)"
   ]
  },
  {
   "cell_type": "markdown",
   "metadata": {},
   "source": [
    "#### 【問題3】指標値の算出\n",
    "分類に関する指標値で精度を確認してください。"
   ]
  },
  {
   "cell_type": "code",
   "execution_count": 8,
   "metadata": {
    "collapsed": false,
    "scrolled": true
   },
   "outputs": [
    {
     "name": "stdout",
     "output_type": "stream",
     "text": [
      "Accuracy= 1.0\n",
      "tp=60 tn=65 fp=0 fn=0\n"
     ]
    }
   ],
   "source": [
    "pred = clf.predict(test_x)\n",
    "print(\"Accuracy=\",clf.cal_accuracy(pred, test_y))\n",
    "clf.view_result(pred, test_y)"
   ]
  },
  {
   "cell_type": "markdown",
   "metadata": {},
   "source": [
    "#### 【問題4】決定領域の可視化\n",
    "2値分類のデータセットに対して決定領域を可視化してください。\n",
    "これまで使用してきた関数に、サポートベクターを色を変えて表示する機能を加えてください。\n",
    "特にSprint2で作成したシンプルデータセット1に対して以下のように分類ができるかを検証してください。"
   ]
  },
  {
   "cell_type": "code",
   "execution_count": 9,
   "metadata": {
    "collapsed": false,
    "scrolled": true
   },
   "outputs": [
    {
     "name": "stdout",
     "output_type": "stream",
     "text": [
      "sp_theta=\n",
      " [ 9.06971069e-05 -2.89131898e-04  3.53729982e-04]\n"
     ]
    },
    {
     "data": {
      "image/png": "[encoded data removed]",
      "text/plain": [
       "<matplotlib.figure.Figure at 0x11c82b630>"
      ]
     },
     "metadata": {},
     "output_type": "display_data"
    }
   ],
   "source": [
    "clf.plot_boundary(train_x, train_y, 0, 1)"
   ]
  },
  {
   "cell_type": "code",
   "execution_count": 10,
   "metadata": {
    "collapsed": false
   },
   "outputs": [
    {
     "data": {
      "image/png": "[encoded data removed]",
      "text/plain": [
       "<matplotlib.figure.Figure at 0x11ec76358>"
      ]
     },
     "metadata": {},
     "output_type": "display_data"
    }
   ],
   "source": [
    "decision_region(test_x, \n",
    "                test_y, \n",
    "                clf,\n",
    "                step=0.01, \n",
    "                title='decision region w/ train data', \n",
    "                xlabel='xlabel', \n",
    "                ylabel='ylabel', \n",
    "                target_names=['A', 'B'])"
   ]
  },
  {
   "cell_type": "markdown",
   "metadata": {},
   "source": [
    "#### 【問題2】（アドバンス課題）多項式カーネル関数の作成\n",
    "問題1では線形カーネルを使用しましたが、多項式カーネルにも切り替えられるようにしましょう。"
   ]
  },
  {
   "cell_type": "code",
   "execution_count": 11,
   "metadata": {
    "collapsed": false
   },
   "outputs": [],
   "source": [
    "clf_rbf = cScratchSVMClf.ScratchSVMClassifier(\n",
    "    num_iter=10000, lr=1e-7, bias=True, hit_vector_cnt_threshold=2, kernel='rbf', gamma=5, theta0=0.3, pow_d=5)"
   ]
  },
  {
   "cell_type": "code",
   "execution_count": 12,
   "metadata": {
    "collapsed": false,
    "scrolled": true
   },
   "outputs": [
    {
     "name": "stdout",
     "output_type": "stream",
     "text": [
      "Initial lambda:\n",
      "[[7.e-07 1.e-07 4.e-07 4.e-07 5.e-07 2.e-07 1.e-07 5.e-07 7.e-07 9.e-07\n",
      "  3.e-07 2.e-07 3.e-07 2.e-07 1.e-07 2.e-07 7.e-07 5.e-07 5.e-07 6.e-07\n",
      "  4.e-07 7.e-07 1.e-07 3.e-07 1.e-07 8.e-07 8.e-07 2.e-07 5.e-07 9.e-07\n",
      "  1.e-07 4.e-07 5.e-07 7.e-07 2.e-07 4.e-07 4.e-07 3.e-07 5.e-07 5.e-07\n",
      "  5.e-07 6.e-07 9.e-07 4.e-07 7.e-07 6.e-07 4.e-07 4.e-07 8.e-07 1.e-07\n",
      "  8.e-07 5.e-07 1.e-07 6.e-07 4.e-07 7.e-07 8.e-07 1.e-07 4.e-07 3.e-07\n",
      "  1.e-07 8.e-07 1.e-07 8.e-07 3.e-07 1.e-07 3.e-07 7.e-07 1.e-07 9.e-07\n",
      "  4.e-07 4.e-07 7.e-07 7.e-07 7.e-07 5.e-07 3.e-07 6.e-07 5.e-07 3.e-07\n",
      "  1.e-07 2.e-07 6.e-07 6.e-07 9.e-07 5.e-07 1.e-07 7.e-07 2.e-07 2.e-07\n",
      "  4.e-07 1.e-07 4.e-07 2.e-07 4.e-07 2.e-07 5.e-07 8.e-07 7.e-07 5.e-07\n",
      "  6.e-07 7.e-07 1.e-07 5.e-07 4.e-07 8.e-07 1.e-07 1.e-07 9.e-07 4.e-07\n",
      "  7.e-07 6.e-07 8.e-07 4.e-07 3.e-07 9.e-07 2.e-07 4.e-07 9.e-07 4.e-07\n",
      "  6.e-07 2.e-07 3.e-07 7.e-07 4.e-07 3.e-07 6.e-07 4.e-07 6.e-07 2.e-07\n",
      "  2.e-07 6.e-07 9.e-07 4.e-07 3.e-07 3.e-07 5.e-07 8.e-07 9.e-07 9.e-07\n",
      "  6.e-07 6.e-07 4.e-07 8.e-07 7.e-07 1.e-07 9.e-07 6.e-07 6.e-07 4.e-07\n",
      "  9.e-07 8.e-07 5.e-07 8.e-07 2.e-07 4.e-07 6.e-07 9.e-07 6.e-07 9.e-07\n",
      "  8.e-07 4.e-07 6.e-07 7.e-07 6.e-07 4.e-07 3.e-07 4.e-07 2.e-07 7.e-07\n",
      "  4.e-07 8.e-07 8.e-07 6.e-07 3.e-07 2.e-07 8.e-07 6.e-07 1.e-07 4.e-07\n",
      "  8.e-07 2.e-07 1.e-07 9.e-07 2.e-07 8.e-07 8.e-07 7.e-07 1.e-07 6.e-07\n",
      "  6.e-07 7.e-07 6.e-07 4.e-07 4.e-07 9.e-07 4.e-07 4.e-07 4.e-07 7.e-07\n",
      "  5.e-07 3.e-07 6.e-07 2.e-07 9.e-07 9.e-07 6.e-07 9.e-07 4.e-07 1.e-07\n",
      "  7.e-07 4.e-07 2.e-07 8.e-07 9.e-07 4.e-07 8.e-07 7.e-07 8.e-07 7.e-07\n",
      "  7.e-07 8.e-07 9.e-07 6.e-07 7.e-07 4.e-07 8.e-07 3.e-07 8.e-07 9.e-07\n",
      "  3.e-07 4.e-07 2.e-07 9.e-07 2.e-07 1.e-07 1.e-07 6.e-07 2.e-07 6.e-07\n",
      "  1.e-07 4.e-07 9.e-07 1.e-07 9.e-07 5.e-07 7.e-07 1.e-07 2.e-07 8.e-07\n",
      "  3.e-07 7.e-07 4.e-07 5.e-07 5.e-07 6.e-07 1.e-07 1.e-07 9.e-07 7.e-07\n",
      "  7.e-07 5.e-07 9.e-07 1.e-07 8.e-07 6.e-07 7.e-07 4.e-07 1.e-07 5.e-07\n",
      "  3.e-07 2.e-07 8.e-07 2.e-07 1.e-07 3.e-07 8.e-07 9.e-07 9.e-07 1.e-07\n",
      "  7.e-07 6.e-07 5.e-07 8.e-07 5.e-07 1.e-07 7.e-07 5.e-07 7.e-07 5.e-07\n",
      "  1.e-07 3.e-07 9.e-07 8.e-07 9.e-07 7.e-07 5.e-07 5.e-07 9.e-07 5.e-07\n",
      "  6.e-07 4.e-07 5.e-07 3.e-07 3.e-07 8.e-07 6.e-07 3.e-07 2.e-07 5.e-07\n",
      "  5.e-07 2.e-07 9.e-07 3.e-07 6.e-07 9.e-07 3.e-07 5.e-07 7.e-07 2.e-07\n",
      "  3.e-07 7.e-07 3.e-07 1.e-07 1.e-07 7.e-07 7.e-07 3.e-07 4.e-07 3.e-07\n",
      "  1.e-07 7.e-07 2.e-07 5.e-07 5.e-07 3.e-07 6.e-07 3.e-07 4.e-07 3.e-07\n",
      "  4.e-07 9.e-07 3.e-07 5.e-07 8.e-07 4.e-07 4.e-07 4.e-07 7.e-07 3.e-07\n",
      "  6.e-07 9.e-07 8.e-07 4.e-07 4.e-07 8.e-07 3.e-07 3.e-07 1.e-07 8.e-07\n",
      "  1.e-07 6.e-07 5.e-07 9.e-07 7.e-07 5.e-07 2.e-07 7.e-07 6.e-07 9.e-07\n",
      "  8.e-07 5.e-07 3.e-07 3.e-07 1.e-07]]\n",
      "Loop count=111\n",
      "Support vector=\n",
      "[[ 1.          1.        ]\n",
      " [-0.56414492  0.07407931]\n",
      " [ 0.10464789 -0.6382925 ]\n",
      " [ 1.         -1.        ]]\n",
      "Labe count 1:[1] -1:[1]\n",
      "accuracy: 1.0\n",
      "Timer_index=1  Elapsed time=0.4892139434814453\n"
     ]
    }
   ],
   "source": [
    "pipeline(clf_rbf, train_x, train_y, test_x, test_y, normalization=True)"
   ]
  },
  {
   "cell_type": "code",
   "execution_count": 13,
   "metadata": {
    "collapsed": false
   },
   "outputs": [
    {
     "name": "stdout",
     "output_type": "stream",
     "text": [
      "Accuracy= 1.0\n",
      "tp=60 tn=65 fp=0 fn=0\n"
     ]
    }
   ],
   "source": [
    "pred = clf_rbf.predict(test_x)\n",
    "print(\"Accuracy=\",clf_rbf.cal_accuracy(pred, test_y))\n",
    "clf_rbf.view_result(pred, test_y)"
   ]
  },
  {
   "cell_type": "code",
   "execution_count": 14,
   "metadata": {
    "collapsed": false
   },
   "outputs": [
    {
     "data": {
      "image/png": "[encoded data removed]",
      "text/plain": [
       "<matplotlib.figure.Figure at 0x11ec95c88>"
      ]
     },
     "metadata": {},
     "output_type": "display_data"
    }
   ],
   "source": [
    "decision_region(train_x, \n",
    "                train_y, \n",
    "                clf_rbf,\n",
    "                step=0.01, \n",
    "                title='decision region w/ train data', \n",
    "                xlabel='xlabel', \n",
    "                ylabel='ylabel', \n",
    "                target_names=['A', 'B'])"
   ]
  },
  {
   "cell_type": "markdown",
   "metadata": {},
   "source": [
    "###### 結果\n",
    "線形モデルと大きな違いはなかった。  \n",
    "学習データがもともとよく分離されているため多項式の効果があまり現れなかった可能性がある。"
   ]
  },
  {
   "cell_type": "markdown",
   "metadata": {},
   "source": [
    "##### 多項式を用いて別データを学習してみる"
   ]
  },
  {
   "cell_type": "code",
   "execution_count": 15,
   "metadata": {
    "collapsed": true
   },
   "outputs": [],
   "source": [
    "from sklearn.datasets import load_iris"
   ]
  },
  {
   "cell_type": "code",
   "execution_count": 16,
   "metadata": {
    "collapsed": true
   },
   "outputs": [],
   "source": [
    "iris_data_set = load_iris()\n",
    "x = pd.DataFrame(iris_data_set.data, columns=iris_data_set.feature_names)    #Put explanatory variable into x as pandasdata frame\n",
    "y = pd.DataFrame(iris_data_set.target, columns=['Species'])    #Put iris response variable into y as pandasdata frame\n",
    "df = pd.concat([x, y], axis=1)"
   ]
  },
  {
   "cell_type": "code",
   "execution_count": 17,
   "metadata": {
    "collapsed": false
   },
   "outputs": [
    {
     "data": {
      "text/html": [
       "<div>\n",
       "<table border=\"1\" class=\"dataframe\">\n",
       "  <thead>\n",
       "    <tr style=\"text-align: right;\">\n",
       "      <th></th>\n",
       "      <th>petal length (cm)</th>\n",
       "      <th>petal width (cm)</th>\n",
       "      <th>Species</th>\n",
       "    </tr>\n",
       "  </thead>\n",
       "  <tbody>\n",
       "    <tr>\n",
       "      <th>50</th>\n",
       "      <td>4.7</td>\n",
       "      <td>1.4</td>\n",
       "      <td>1</td>\n",
       "    </tr>\n",
       "    <tr>\n",
       "      <th>51</th>\n",
       "      <td>4.5</td>\n",
       "      <td>1.5</td>\n",
       "      <td>1</td>\n",
       "    </tr>\n",
       "    <tr>\n",
       "      <th>52</th>\n",
       "      <td>4.9</td>\n",
       "      <td>1.5</td>\n",
       "      <td>1</td>\n",
       "    </tr>\n",
       "    <tr>\n",
       "      <th>53</th>\n",
       "      <td>4.0</td>\n",
       "      <td>1.3</td>\n",
       "      <td>1</td>\n",
       "    </tr>\n",
       "    <tr>\n",
       "      <th>54</th>\n",
       "      <td>4.6</td>\n",
       "      <td>1.5</td>\n",
       "      <td>1</td>\n",
       "    </tr>\n",
       "  </tbody>\n",
       "</table>\n",
       "</div>"
      ],
      "text/plain": [
       "    petal length (cm)  petal width (cm)  Species\n",
       "50                4.7               1.4        1\n",
       "51                4.5               1.5        1\n",
       "52                4.9               1.5        1\n",
       "53                4.0               1.3        1\n",
       "54                4.6               1.5        1"
      ]
     },
     "execution_count": 17,
     "metadata": {},
     "output_type": "execute_result"
    }
   ],
   "source": [
    "col_name = df.columns.values\n",
    "data = df[[col_name[2], col_name[3], col_name[4]]]\n",
    "data = data[data[\"Species\"] != 0]\n",
    "data.head()"
   ]
  },
  {
   "cell_type": "code",
   "execution_count": 18,
   "metadata": {
    "collapsed": false
   },
   "outputs": [],
   "source": [
    "train_feature, test_feature, train_target, test_target = train_test_split(data[['petal length (cm)', 'petal width (cm)']].values, data['Species'].values, test_size=0.4, random_state=None)"
   ]
  },
  {
   "cell_type": "code",
   "execution_count": 19,
   "metadata": {
    "collapsed": true
   },
   "outputs": [],
   "source": [
    "#学習データの特徴量を標準化\n",
    "scaler = StandardScaler()\n",
    "scaler.fit(train_feature)\n",
    "train_feature = scaler.transform(train_feature)\n",
    "\n",
    "scaler.fit(test_feature)\n",
    "test_feature = scaler.transform(test_feature)"
   ]
  },
  {
   "cell_type": "code",
   "execution_count": 20,
   "metadata": {
    "collapsed": false
   },
   "outputs": [],
   "source": [
    "clf_line = cScratchSVMClf.ScratchSVMClassifier(\n",
    "    num_iter=10000, lr=1e-7, bias=True, hit_vector_cnt_threshold=4)"
   ]
  },
  {
   "cell_type": "code",
   "execution_count": 21,
   "metadata": {
    "collapsed": false,
    "scrolled": false
   },
   "outputs": [
    {
     "name": "stdout",
     "output_type": "stream",
     "text": [
      "Initial lambda:\n",
      "[[6.e-07 3.e-07 2.e-07 6.e-07 3.e-07 7.e-07 7.e-07 3.e-07 1.e-07 5.e-07\n",
      "  6.e-07 8.e-07 4.e-07 7.e-07 6.e-07 6.e-07 3.e-07 1.e-07 6.e-07 2.e-07\n",
      "  4.e-07 1.e-07 8.e-07 2.e-07 4.e-07 7.e-07 6.e-07 7.e-07 7.e-07 2.e-07\n",
      "  6.e-07 5.e-07 8.e-07 7.e-07 4.e-07 3.e-07 4.e-07 7.e-07 6.e-07 8.e-07\n",
      "  8.e-07 7.e-07 7.e-07 6.e-07 9.e-07 6.e-07 4.e-07 8.e-07 3.e-07 8.e-07\n",
      "  3.e-07 6.e-07 1.e-07 3.e-07 9.e-07 2.e-07 9.e-07 3.e-07 9.e-07 7.e-07]]\n",
      "Loop count=93\n",
      "Support vector=\n",
      "[[ 1.          1.          1.          1.          1.          1.\n",
      "   1.          1.          1.          1.          1.          1.\n",
      "   1.          1.          1.          1.          1.          1.\n",
      "   1.          1.          1.          1.          1.        ]\n",
      " [ 0.24067197 -0.25301412  0.24067197 -1.48722936  0.11725045  0.24067197\n",
      "   0.85777959  0.85777959 -0.1295926  -0.6232787   0.11725045 -1.24038631\n",
      "  -1.36380784 -1.61065089 -0.49985717  0.48751502  0.73435807 -0.49985717\n",
      "  -0.49985717 -1.24038631 -0.6232787   0.24067197 -0.99354327]\n",
      " [-0.42881987 -0.19909494 -0.19909494 -1.57744451  0.49007985  0.26035492\n",
      "  -0.6585448   0.94952971  0.26035492 -0.88826972  0.03062999 -0.6585448\n",
      "  -1.34771958 -0.88826972 -0.42881987  1.40897956  0.26035492 -0.42881987\n",
      "   0.03062999 -1.34771958 -0.6585448   0.71980478 -0.88826972]\n",
      " [ 1.         -1.         -1.         -1.          1.          1.\n",
      "   1.          1.         -1.         -1.         -1.         -1.\n",
      "  -1.         -1.         -1.          1.          1.         -1.\n",
      "   1.         -1.         -1.          1.         -1.        ]]\n",
      "Labe count 1:[9] -1:[14]\n",
      "accuracy: 0.9333333333333333\n",
      "Timer_index=1  Elapsed time=0.010865926742553711\n"
     ]
    },
    {
     "data": {
      "text/plain": [
       "True"
      ]
     },
     "execution_count": 21,
     "metadata": {},
     "output_type": "execute_result"
    }
   ],
   "source": [
    "clf_line.fit(train_feature, train_target, test_feature, test_target)"
   ]
  },
  {
   "cell_type": "code",
   "execution_count": 22,
   "metadata": {
    "collapsed": false
   },
   "outputs": [],
   "source": [
    "clf_rbf = cScratchSVMClf.ScratchSVMClassifier(\n",
    "    num_iter=10000, lr=1e-7, bias=True, hit_vector_cnt_threshold=6, kernel='rbf', gamma=5, theta0=0.3, pow_d=5)"
   ]
  },
  {
   "cell_type": "code",
   "execution_count": 23,
   "metadata": {
    "collapsed": false,
    "scrolled": false
   },
   "outputs": [
    {
     "name": "stdout",
     "output_type": "stream",
     "text": [
      "Initial lambda:\n",
      "[[9.e-07 4.e-07 7.e-07 5.e-07 1.e-07 7.e-07 7.e-07 4.e-07 5.e-07 9.e-07\n",
      "  7.e-07 1.e-07 1.e-07 4.e-07 6.e-07 8.e-07 1.e-07 9.e-07 1.e-07 2.e-07\n",
      "  5.e-07 1.e-07 3.e-07 5.e-07 9.e-07 3.e-07 3.e-07 8.e-07 7.e-07 4.e-07\n",
      "  3.e-07 7.e-07 6.e-07 5.e-07 4.e-07 4.e-07 8.e-07 5.e-07 5.e-07 6.e-07\n",
      "  5.e-07 2.e-07 2.e-07 8.e-07 1.e-07 1.e-07 6.e-07 8.e-07 1.e-07 6.e-07\n",
      "  3.e-07 1.e-07 8.e-07 6.e-07 1.e-07 4.e-07 6.e-07 4.e-07 3.e-07 3.e-07]]\n",
      "Loop count=105\n",
      "Support vector=\n",
      "[[ 1.          1.          1.          1.          1.          1.\n",
      "   1.          1.          1.          1.          1.          1.\n",
      "   1.          1.          1.          1.          1.          1.\n",
      "   1.          1.          1.          1.        ]\n",
      " [ 0.24067197 -0.25301412 -0.1295926   0.24067197 -0.00617108  0.24067197\n",
      "   0.24067197  0.11725045  0.24067197  0.85777959 -0.25301412 -0.1295926\n",
      "   0.11725045 -0.49985717 -0.49985717  0.73435807 -0.49985717 -0.49985717\n",
      "  -0.1295926  -0.25301412 -0.6232787   0.24067197]\n",
      " [-0.42881987 -0.19909494  0.26035492 -0.19909494  0.71980478  0.49007985\n",
      "   0.49007985  0.49007985  0.26035492 -0.6585448  -0.6585448   0.26035492\n",
      "   0.03062999 -0.42881987 -0.42881987  0.26035492 -0.42881987  0.03062999\n",
      "  -0.6585448  -0.42881987 -0.6585448   0.71980478]\n",
      " [ 1.         -1.          1.         -1.          1.          1.\n",
      "   1.          1.          1.          1.         -1.         -1.\n",
      "  -1.         -1.         -1.          1.         -1.          1.\n",
      "  -1.         -1.         -1.          1.        ]]\n",
      "Labe count 1:[11] -1:[11]\n",
      "accuracy: 0.9166666666666666\n",
      "Timer_index=1  Elapsed time=0.018533945083618164\n"
     ]
    },
    {
     "data": {
      "text/plain": [
       "True"
      ]
     },
     "execution_count": 23,
     "metadata": {},
     "output_type": "execute_result"
    }
   ],
   "source": [
    "clf_rbf.fit(train_feature, train_target, test_feature, test_target)"
   ]
  },
  {
   "cell_type": "code",
   "execution_count": 24,
   "metadata": {
    "collapsed": false
   },
   "outputs": [
    {
     "data": {
      "image/png": "[encoded data removed]",
      "text/plain": [
       "<matplotlib.figure.Figure at 0x11ca69a90>"
      ]
     },
     "metadata": {},
     "output_type": "display_data"
    }
   ],
   "source": [
    "decision_region(train_feature, \n",
    "                train_target, \n",
    "                clf_line,\n",
    "                step=0.01, \n",
    "                title='decision region w/ train data', \n",
    "                xlabel='xlabel', \n",
    "                ylabel='ylabel',\n",
    "                target_names=['A', 'B'])"
   ]
  },
  {
   "cell_type": "code",
   "execution_count": 25,
   "metadata": {
    "collapsed": false
   },
   "outputs": [
    {
     "data": {
      "image/png": "[encoded data removed]",
      "text/plain": [
       "<matplotlib.figure.Figure at 0x121255240>"
      ]
     },
     "metadata": {},
     "output_type": "display_data"
    }
   ],
   "source": [
    "decision_region(train_feature, \n",
    "                train_target, \n",
    "                clf_rbf,\n",
    "                step=0.01, \n",
    "                title='decision region w/ train data', \n",
    "                xlabel='xlabel', \n",
    "                ylabel='ylabel', \n",
    "                target_names=['A', 'B'])"
   ]
  },
  {
   "cell_type": "code",
   "execution_count": 26,
   "metadata": {
    "collapsed": false
   },
   "outputs": [
    {
     "name": "stdout",
     "output_type": "stream",
     "text": [
      "Accuracy= 0.9\n"
     ]
    }
   ],
   "source": [
    "pred = clf_line.predict(test_feature)\n",
    "print(\"Accuracy=\",clf_line.cal_accuracy(pred, test_target))"
   ]
  },
  {
   "cell_type": "code",
   "execution_count": 27,
   "metadata": {
    "collapsed": false
   },
   "outputs": [
    {
     "name": "stdout",
     "output_type": "stream",
     "text": [
      "Accuracy= 0.975\n"
     ]
    }
   ],
   "source": [
    "pred = clf_rbf.predict(test_feature)\n",
    "print(\"Accuracy=\",clf_rbf.cal_accuracy(pred, test_target))"
   ]
  },
  {
   "cell_type": "markdown",
   "metadata": {},
   "source": [
    "###### 結果\n",
    "線形モデルよりもよく分離ができている。  \n",
    "多項式を用いた方が若干精度がよくなった。（今回のデータではもともと良く分離されているため、大きな差はなかった）"
   ]
  },
  {
   "cell_type": "markdown",
   "metadata": {},
   "source": [
    "##### 【問題5】時間の計測\n",
    "SVMの学習には時間がかかるため、効率的な実装が望まれます。事前学習期間に行なったように、時間を計測して改善していきましょう。特に \n",
    "λ\n",
    " の更新部分は繰り返し処理が多いため、効率的なコードを目指してください。"
   ]
  },
  {
   "cell_type": "code",
   "execution_count": 28,
   "metadata": {
    "collapsed": true
   },
   "outputs": [],
   "source": [
    "clf_timer_test = cScratchSVMClf.ScratchSVMClassifier(\n",
    "    num_iter=10000, lr=1e-7, bias=True, hit_vector_cnt_threshold=4)"
   ]
  },
  {
   "cell_type": "code",
   "execution_count": 29,
   "metadata": {
    "collapsed": false,
    "scrolled": true
   },
   "outputs": [
    {
     "name": "stdout",
     "output_type": "stream",
     "text": [
      "Initial lambda:\n",
      "[[1.e-07 9.e-07 4.e-07 7.e-07 5.e-07 4.e-07 5.e-07 2.e-07 1.e-07 2.e-07\n",
      "  2.e-07 8.e-07 3.e-07 8.e-07 1.e-07 2.e-07 9.e-07 1.e-07 4.e-07 6.e-07\n",
      "  2.e-07 3.e-07 2.e-07 5.e-07 8.e-07 9.e-07 5.e-07 5.e-07 7.e-07 6.e-07\n",
      "  2.e-07 1.e-07 2.e-07 1.e-07 4.e-07 6.e-07 6.e-07 7.e-07 3.e-07 6.e-07\n",
      "  8.e-07 6.e-07 9.e-07 2.e-07 6.e-07 9.e-07 2.e-07 5.e-07 1.e-07 3.e-07\n",
      "  1.e-07 8.e-07 4.e-07 9.e-07 8.e-07 8.e-07 9.e-07 2.e-07 9.e-07 1.e-07]]\n",
      "Loop count=92\n",
      "Support vector=\n",
      "[[ 1.          1.          1.          1.          1.          1.\n",
      "   1.          1.          1.          1.          1.          1.\n",
      "   1.          1.          1.          1.        ]\n",
      " [ 1.35146569  0.24067197 -1.48722936 -1.73407241 -0.99354327  0.24067197\n",
      "   0.11725045 -1.36380784 -0.49985717 -0.49985717 -0.49985717  0.24067197\n",
      "  -1.24038631 -0.25301412 -0.6232787   0.24067197]\n",
      " [ 0.26035492 -0.19909494 -1.57744451 -1.57744451 -1.57744451  0.26035492\n",
      "   0.03062999 -1.34771958 -0.42881987 -0.88826972  0.03062999  1.40897956\n",
      "  -1.34771958 -0.42881987 -0.6585448   0.71980478]\n",
      " [ 1.         -1.         -1.         -1.         -1.          1.\n",
      "  -1.         -1.         -1.         -1.          1.          1.\n",
      "  -1.         -1.         -1.          1.        ]]\n",
      "Labe count 1:[5] -1:[11]\n",
      "accuracy: 0.9166666666666666\n",
      "Timer_index=1  Elapsed time=0.008889198303222656\n"
     ]
    },
    {
     "data": {
      "text/plain": [
       "True"
      ]
     },
     "execution_count": 29,
     "metadata": {},
     "output_type": "execute_result"
    }
   ],
   "source": [
    "clf_timer_test.fit(train_feature, train_target, test_feature, test_target)"
   ]
  },
  {
   "cell_type": "markdown",
   "metadata": {},
   "source": [
    "ScratchSVMClassifier内に時間計測のメソッドを追加し、λ決定までにかかる時間を計測した。  \n",
    "結果0.009秒であった。"
   ]
  },
  {
   "cell_type": "code",
   "execution_count": null,
   "metadata": {
    "collapsed": true
   },
   "outputs": [],
   "source": []
  }
 ],
 "metadata": {
  "kernelspec": {
   "display_name": "Python 3",
   "language": "python",
   "name": "python3"
  },
  "language_info": {
   "codemirror_mode": {
    "name": "ipython",
    "version": 3
   },
   "file_extension": ".py",
   "mimetype": "text/x-python",
   "name": "python",
   "nbconvert_exporter": "python",
   "pygments_lexer": "ipython3",
   "version": "3.6.0"
  }
 },
 "nbformat": 4,
 "nbformat_minor": 2
}
