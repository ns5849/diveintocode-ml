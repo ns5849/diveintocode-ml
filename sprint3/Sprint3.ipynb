{
 "cells": [
  {
   "cell_type": "code",
   "execution_count": 1,
   "metadata": {
    "collapsed": true
   },
   "outputs": [],
   "source": [
    "import numpy as np\n",
    "import pandas as pd\n",
    "from sklearn.model_selection import train_test_split"
   ]
  },
  {
   "cell_type": "code",
   "execution_count": 2,
   "metadata": {
    "collapsed": false
   },
   "outputs": [
    {
     "name": "stdout",
     "output_type": "stream",
     "text": [
      "[1 3 5 9 8 2 3 3 4 8]\n",
      "(10, 1)\n"
     ]
    }
   ],
   "source": [
    "A = np.random.randint(1, 10, 10)\n",
    "print(A)\n",
    "A = np.reshape(A, (len(A), 1))\n",
    "print(A.shape)"
   ]
  },
  {
   "cell_type": "markdown",
   "metadata": {},
   "source": [
    "### 【問題1】線形回帰のクラスを作成する\n",
    "線形回帰のクラスを作成し、Sprint2で作成した回帰のパイプラインに組み込んでください。\n",
    "以下が雛形です。ここにメソッドを加えていってください。メソッドやパラメータなどはscikit-learnを参考にしてください。\n",
    "sklearn.linear_model.LinearRegression — scikit-learn 0.20.0 documentation\n",
    "検証段階ではJupyter Notebook上で書いていき、最終的にはpyファイルにモジュールとしてまとめてください。"
   ]
  },
  {
   "cell_type": "markdown",
   "metadata": {},
   "source": [
    "##### py fileからclassをimpiort"
   ]
  },
  {
   "cell_type": "code",
   "execution_count": 3,
   "metadata": {
    "collapsed": false
   },
   "outputs": [],
   "source": [
    "#試し用のデータ\n",
    "feature_value = [\"A\", \"B\", \"C\"]\n",
    "target_value = [\"Target\"]\n",
    "T = [12*i for i in range(1, 11)]\n",
    "A = [[i for i in range(1, 11)]]\n",
    "B = [[2*i for i in range(1, 11)]]\n",
    "C = [[3*i for i in range(1, 11)]]\n",
    "tmp1 = np.concatenate([A, B]).T\n",
    "tmp2 = np.array(C).T\n",
    "#tmp2 = np.concatenate([C, D]).T\n",
    "target = pd.DataFrame(data=T, columns=target_value)\n",
    "tmp3 = np.concatenate([tmp1, tmp2], axis=1)\n",
    "feature = pd.DataFrame(data=tmp3, columns=feature_value)\n",
    "\n",
    "train_feature, test_feature, train_target, test_target = train_test_split(feature, target, test_size=0.4, random_state=None)"
   ]
  },
  {
   "cell_type": "code",
   "execution_count": 4,
   "metadata": {
    "collapsed": false
   },
   "outputs": [],
   "source": [
    "from utils import ScratchLinearRegression as cLinearRegression"
   ]
  },
  {
   "cell_type": "code",
   "execution_count": 5,
   "metadata": {
    "collapsed": false
   },
   "outputs": [],
   "source": [
    "regr = cLinearRegression.ScratchLinearRegression(num_iter=100, lr=0.0003, bias=False, verbose=True)"
   ]
  },
  {
   "cell_type": "code",
   "execution_count": 6,
   "metadata": {
    "collapsed": false
   },
   "outputs": [
    {
     "name": "stdout",
     "output_type": "stream",
     "text": [
      "Initial theta:\n",
      "[[1]\n",
      " [3]\n",
      " [5]]\n",
      "Theta:\n",
      "[[0.28571434]\n",
      " [1.57142869]\n",
      " [2.85714303]]\n",
      "Feature:\n",
      "[[ 7  1  6  2 10  5]\n",
      " [14  2 12  4 20 10]\n",
      " [21  3 18  6 30 15]]\n",
      "Target:\n",
      "[[ 84  12  72  24 120  60]]\n",
      "Result:\n",
      "[[ 84.00000577  12.00000082  72.00000495  24.00000165 120.00000825\n",
      "   60.00000412]]\n"
     ]
    }
   ],
   "source": [
    "regr.fit(train_feature.values, train_target.values, test_feature.values, test_target.values)"
   ]
  },
  {
   "cell_type": "markdown",
   "metadata": {},
   "source": [
    "#### 【問題2】学習曲線のプロット\n",
    "まず、学習曲線を表示する関数を作成してください。\n",
    "線形回帰クラスの雛形ではself.loss, self.val_lossに損失を記録しておくようになっているため、入力にはこれを利用してください。"
   ]
  },
  {
   "cell_type": "code",
   "execution_count": 7,
   "metadata": {
    "collapsed": false
   },
   "outputs": [
    {
     "data": {
      "image/png": "[encoded data removed]",
      "text/plain": [
       "<matplotlib.figure.Figure at 0x105676630>"
      ]
     },
     "metadata": {},
     "output_type": "display_data"
    }
   ],
   "source": [
    "regr.plot_loss()"
   ]
  },
  {
   "cell_type": "markdown",
   "metadata": {},
   "source": [
    "#### 【問題3】（アドバンス課題）バイアス項の除去\n",
    "バイアス項 \n",
    "θ\n",
    "0\n",
    " を抜くと学習がどう変化するか検証してください。また、線形回帰モデルにおけるバイアス項の役割の考察・調査を行ってください。"
   ]
  },
  {
   "cell_type": "code",
   "execution_count": 33,
   "metadata": {
    "collapsed": false
   },
   "outputs": [],
   "source": [
    "#試し用のデータ\n",
    "feature_value = [\"A\", \"B\", \"C\"]\n",
    "target_value = [\"Target\"]\n",
    "Bias = 10\n",
    "T = [Bias + 12*i for i in range(1, 11)]\n",
    "A = [[i for i in range(1, 11)]]\n",
    "B = [[2*i for i in range(1, 11)]]\n",
    "C = [[3*i for i in range(1, 11)]]\n",
    "tmp1 = np.concatenate([A, B]).T\n",
    "tmp2 = np.array(C).T\n",
    "#tmp2 = np.concatenate([C, D]).T\n",
    "target = pd.DataFrame(data=T, columns=target_value)\n",
    "tmp3 = np.concatenate([tmp1, tmp2], axis=1)\n",
    "feature = pd.DataFrame(data=tmp3, columns=feature_value)\n",
    "\n",
    "train_feature, test_feature, train_target, test_target = train_test_split(feature, target, test_size=0.4, random_state=None)"
   ]
  },
  {
   "cell_type": "code",
   "execution_count": 34,
   "metadata": {
    "collapsed": false
   },
   "outputs": [],
   "source": [
    "#bias有り\n",
    "regr_w_bias = cLinearRegression.ScratchLinearRegression(num_iter=500, lr=0.0003, bias=True, verbose=True)"
   ]
  },
  {
   "cell_type": "code",
   "execution_count": 35,
   "metadata": {
    "collapsed": true
   },
   "outputs": [],
   "source": [
    "#bias無し\n",
    "regr_wo_bias = cLinearRegression.ScratchLinearRegression(num_iter=500, lr=0.0003, bias=False, verbose=True)"
   ]
  },
  {
   "cell_type": "code",
   "execution_count": 36,
   "metadata": {
    "collapsed": false,
    "scrolled": true
   },
   "outputs": [
    {
     "name": "stdout",
     "output_type": "stream",
     "text": [
      "Initial theta:\n",
      "[[6]\n",
      " [3]\n",
      " [7]\n",
      " [7]]\n",
      "Theta:\n",
      "[[5.81319156]\n",
      " [1.1874083 ]\n",
      " [3.3748166 ]\n",
      " [1.5622249 ]]\n",
      "Feature:\n",
      "[[ 1  1  1  1  1  1]\n",
      " [ 4  7  6  5  3 10]\n",
      " [ 8 14 12 10  6 20]\n",
      " [12 21 18 15  9 30]]\n",
      "Target:\n",
      "[[ 58  94  82  70  46 130]]\n",
      "Result:\n",
      "[[ 56.30805645  94.17920511  81.55548889  68.93177267  43.68434022\n",
      "  132.05035378]]\n"
     ]
    }
   ],
   "source": [
    "regr_w_bias.fit(train_feature.values, train_target.values, test_feature.values, test_target.values)"
   ]
  },
  {
   "cell_type": "code",
   "execution_count": 37,
   "metadata": {
    "collapsed": false,
    "scrolled": false
   },
   "outputs": [
    {
     "name": "stdout",
     "output_type": "stream",
     "text": [
      "Initial theta:\n",
      "[[5]\n",
      " [7]\n",
      " [9]]\n",
      "Theta:\n",
      "[[2.67781155]\n",
      " [2.3556231 ]\n",
      " [2.03343465]]\n",
      "Feature:\n",
      "[[ 4  7  6  5  3 10]\n",
      " [ 8 14 12 10  6 20]\n",
      " [12 21 18 15  9 30]]\n",
      "Target:\n",
      "[[ 58  94  82  70  46 130]]\n",
      "Result:\n",
      "[[ 53.95744681  94.42553191  80.93617021  67.44680851  40.46808511\n",
      "  134.89361702]]\n"
     ]
    }
   ],
   "source": [
    "regr_wo_bias.fit(train_feature.values, train_target.values, test_feature.values, test_target.values)"
   ]
  },
  {
   "cell_type": "code",
   "execution_count": 38,
   "metadata": {
    "collapsed": false,
    "scrolled": true
   },
   "outputs": [
    {
     "data": {
      "image/png": "[encoded data removed]",
      "text/plain": [
       "<matplotlib.figure.Figure at 0x11c8d81d0>"
      ]
     },
     "metadata": {},
     "output_type": "display_data"
    }
   ],
   "source": [
    "regr_w_bias.plot_loss()"
   ]
  },
  {
   "cell_type": "code",
   "execution_count": 39,
   "metadata": {
    "collapsed": false,
    "scrolled": false
   },
   "outputs": [
    {
     "data": {
      "image/png": "[encoded data removed]",
      "text/plain": [
       "<matplotlib.figure.Figure at 0x11f242ac8>"
      ]
     },
     "metadata": {},
     "output_type": "display_data"
    }
   ],
   "source": [
    "regr_wo_bias.plot_loss()"
   ]
  },
  {
   "cell_type": "code",
   "execution_count": 40,
   "metadata": {
    "collapsed": false
   },
   "outputs": [
    {
     "name": "stdout",
     "output_type": "stream",
     "text": [
      "[[ 58]\n",
      " [ 94]\n",
      " [ 82]\n",
      " [ 70]\n",
      " [ 46]\n",
      " [130]]\n"
     ]
    },
    {
     "data": {
      "text/plain": [
       "array([[ 53.95744681,  94.42553191,  80.93617021,  67.44680851,\n",
       "         40.46808511, 134.89361702]])"
      ]
     },
     "execution_count": 40,
     "metadata": {},
     "output_type": "execute_result"
    }
   ],
   "source": [
    "print(train_target.values)\n",
    "regr_wo_bias.predict(train_feature.values)"
   ]
  },
  {
   "cell_type": "markdown",
   "metadata": {},
   "source": [
    "#### 【問題4】（アドバンス課題）特徴量の多次元化\n",
    "特徴量の二乗や三乗を入力に利用すると学習結果がどう変化するか検証してください。"
   ]
  },
  {
   "cell_type": "code",
   "execution_count": 22,
   "metadata": {
    "collapsed": false
   },
   "outputs": [],
   "source": [
    "#試し用のデータ\n",
    "feature_value = [\"A\", \"B\", \"C\"]\n",
    "target_value = [\"Target\"]\n",
    "Bias = 10\n",
    "T = np.random.randint(100, 1000, 10)\n",
    "A = [[i for i in range(1, 11)]]\n",
    "B = [[i for i in range(1, 11)]]\n",
    "C = [[i for i in range(1, 11)]]\n",
    "tmp1 = np.concatenate([A, B]).T\n",
    "tmp2 = np.array(C).T\n",
    "#tmp2 = np.concatenate([C, D]).T\n",
    "target = pd.DataFrame(data=T, columns=target_value)\n",
    "tmp3 = np.concatenate([tmp1, tmp2], axis=1)\n",
    "feature = pd.DataFrame(data=tmp3, columns=feature_value)\n",
    "\n",
    "train_feature, test_feature, train_target, test_target = train_test_split(feature, target, test_size=0.4, random_state=None)"
   ]
  },
  {
   "cell_type": "code",
   "execution_count": 25,
   "metadata": {
    "collapsed": true
   },
   "outputs": [],
   "source": [
    "#bias有り\n",
    "regr_w_bias = cLinearRegression.ScratchLinearRegression(num_iter=500, lr=0.0003, bias=False, verbose=True)"
   ]
  },
  {
   "cell_type": "code",
   "execution_count": 26,
   "metadata": {
    "collapsed": false,
    "scrolled": false
   },
   "outputs": [
    {
     "name": "stdout",
     "output_type": "stream",
     "text": [
      "Initial theta:\n",
      "[[4]\n",
      " [7]\n",
      " [4]]\n",
      "Theta:\n",
      "[[26.59666117]\n",
      " [29.59666117]\n",
      " [26.59666117]]\n",
      "Feature:\n",
      "[[10  1  7  3  4  5]\n",
      " [10  1  7  3  4  5]\n",
      " [10  1  7  3  4  5]]\n",
      "Target:\n",
      "[[743 666 551 577 391 262]]\n",
      "Result:\n",
      "[[827.89983517  82.78998352 579.52988462 248.36995055 331.15993407\n",
      "  413.94991759]]\n"
     ]
    }
   ],
   "source": [
    "regr_w_bias.fit(train_feature.values, train_target.values, test_feature.values, test_target.values)"
   ]
  },
  {
   "cell_type": "code",
   "execution_count": 27,
   "metadata": {
    "collapsed": false
   },
   "outputs": [
    {
     "data": {
      "image/png": "[encoded data removed]",
      "text/plain": [
       "<matplotlib.figure.Figure at 0x11eca0b38>"
      ]
     },
     "metadata": {},
     "output_type": "display_data"
    }
   ],
   "source": [
    "regr_w_bias.plot_loss()"
   ]
  },
  {
   "cell_type": "markdown",
   "metadata": {},
   "source": [
    "#### 【問題5】（アドバンス課題）更新式の導出\n",
    "最急降下法の更新式は以下でした。この式が導出される過程を説明してください。"
   ]
  },
  {
   "cell_type": "markdown",
   "metadata": {},
   "source": [
    "線形回帰モデルでは、学習データから目的変数と（特徴量ベクトル * 係数ベクトルθ）のMSEが最小になるθを求めモデルを構築する。MSE最小になるθを求めるため最急降下法を用いる。  \n",
    "最急降下法の勾配はMSEのθに対する微分で求められる。最急降下法の式は以下のように定義される。  \n",
    "　　$ \\theta_j = \\theta_j - \\frac{\\partial}{\\partial \\theta_j} J(\\theta) $   \n",
    "$J(\\theta)$はMSEなので、MSEを代入すると  \n",
    "　　$ \\theta_j = \\theta_j - \\alpha \\times \\frac{\\partial}{\\partial \\theta_j} (\\frac{1}{m}) \\sum_{i=1}^m (h_\\theta(x^{(i)}) - y^{(i)})^2 $  \n",
    "となる。  \n",
    "$(h_\\theta(x^{(i)}) - y^{(i)})$を$T_i$と置いて式の微分部分を実行すると  \n",
    "  \n",
    "　　$ \\frac{\\partial h(\\theta)}{\\partial \\theta_j} = \\frac{\\partial h(\\theta)}{\\partial T} \\frac{\\partial T(\\theta)}{\\partial \\theta_j} $  \n",
    "　　$ \\frac{\\partial h(\\theta)}{\\partial \\theta_j}= 2(\\frac{1}{m}) \\sum_{i=1}^m T_i \\frac{\\partial h(\\theta)}{\\partial \\theta}$  \n",
    "ここで、$ \\frac{\\partial h(\\theta)}{\\partial \\theta} $　は、$ \\frac{\\partial}{\\partial \\theta_j}(\\theta_0*x_0 + \\theta_1*x_1...\\theta_j*x_j) = x_j$  \n",
    "なので、最急降下法の式は、  \n",
    "　　$ \\theta_j = \\theta_j - (\\frac{\\alpha}{m}) \\sum_{i=1}^m (h_\\theta(x^{(i)}) - y^{(i)})x_j $  \n",
    "となる。"
   ]
  },
  {
   "cell_type": "markdown",
   "metadata": {},
   "source": [
    "#### 【問題6】（アドバンス課題）局所最適解の問題\n",
    "最急降下法には一般的に局所最適解の問題があります。しかし、線形回帰では学習を続ければ必ず最適解を求めることができます。それはなぜか数式やグラフを用いて説明してください。"
   ]
  },
  {
   "cell_type": "markdown",
   "metadata": {},
   "source": [
    "線形回帰では、予測結果（モデル）と目的変数（入力データ）の差が最小になるθを各説明変数ベクトル毎に求めている。モデルとデータの差はMSE（モデルとデータの差の２乗）によって評価されるが線形回帰モデルでは予測結果は説明変数の１次式で表されるため、θに対してMSEをプロットすると必ず下に凸の２乗曲線になる。これは谷が１つのデータであるため最急降下法を用いると必ず最適解が求まる。"
   ]
  },
  {
   "cell_type": "markdown",
   "metadata": {},
   "source": [
    "#### 【問題7】スクラッチで学べることは何か\n",
    "最終発表時に以下の内容についてディスカッションを行います。自分なりの意見を用意しておいてください。\n",
    "ライブラリを使うのではなくスクラッチでアルゴリズムを実装したことで学べたことは何か"
   ]
  },
  {
   "cell_type": "code",
   "execution_count": null,
   "metadata": {
    "collapsed": true
   },
   "outputs": [],
   "source": []
  }
 ],
 "metadata": {
  "kernelspec": {
   "display_name": "Python 3",
   "language": "python",
   "name": "python3"
  },
  "language_info": {
   "codemirror_mode": {
    "name": "ipython",
    "version": 3
   },
   "file_extension": ".py",
   "mimetype": "text/x-python",
   "name": "python",
   "nbconvert_exporter": "python",
   "pygments_lexer": "ipython3",
   "version": "3.6.0"
  }
 },
 "nbformat": 4,
 "nbformat_minor": 2
}
