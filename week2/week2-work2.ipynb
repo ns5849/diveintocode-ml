{
 "cells": [
  {
   "cell_type": "markdown",
   "metadata": {},
   "source": [
    "### 【課題1】1次元配列を作ろう\n",
    "0~1の範囲で0.01ごとにデータをnumpy配列で作成してください。\n",
    "データは[0, 0.01, 0.02・・・0.98, 0.99, 1]という形式の配列になります"
   ]
  },
  {
   "cell_type": "code",
   "execution_count": 40,
   "metadata": {
    "collapsed": false,
    "scrolled": true
   },
   "outputs": [
    {
     "name": "stdout",
     "output_type": "stream",
     "text": [
      "0~1の範囲で0.01毎のデータを持ったnumpy配列\n",
      "\n",
      "[ 0.    0.01  0.02  0.03  0.04  0.05  0.06  0.07  0.08  0.09  0.1   0.11\n",
      "  0.12  0.13  0.14  0.15  0.16  0.17  0.18  0.19  0.2   0.21  0.22  0.23\n",
      "  0.24  0.25  0.26  0.27  0.28  0.29  0.3   0.31  0.32  0.33  0.34  0.35\n",
      "  0.36  0.37  0.38  0.39  0.4   0.41  0.42  0.43  0.44  0.45  0.46  0.47\n",
      "  0.48  0.49  0.5   0.51  0.52  0.53  0.54  0.55  0.56  0.57  0.58  0.59\n",
      "  0.6   0.61  0.62  0.63  0.64  0.65  0.66  0.67  0.68  0.69  0.7   0.71\n",
      "  0.72  0.73  0.74  0.75  0.76  0.77  0.78  0.79  0.8   0.81  0.82  0.83\n",
      "  0.84  0.85  0.86  0.87  0.88  0.89  0.9   0.91  0.92  0.93  0.94  0.95\n",
      "  0.96  0.97  0.98  0.99  1.  ]\n"
     ]
    }
   ],
   "source": [
    "import numpy as np\n",
    "\n",
    "np_x_array = np.array([i/100 for i in range(101)])\n",
    "print(\"0~1の範囲で0.01毎のデータを持ったnumpy配列\\n\")\n",
    "print(np_x_array)"
   ]
  },
  {
   "cell_type": "markdown",
   "metadata": {},
   "source": [
    "### 【課題2】2次元配列を作ろう\n",
    "以下のような単純な \n",
    "y=1/2x+1の関数について考えます。\n",
    "xの範囲を[0,1]、xの刻み幅を0.01としてyの値を計算しなさい。そして計算結果をnumpy配列の0列目にx、1列目にyの値がくるように2次元のarrayで表現しなさい。"
   ]
  },
  {
   "cell_type": "code",
   "execution_count": 41,
   "metadata": {
    "collapsed": false
   },
   "outputs": [
    {
     "name": "stdout",
     "output_type": "stream",
     "text": [
      "課題1のnumpy配列にy=1/2*x+1の計算結果をnumpy配列の0列目にx、1列目にyの値のフォーマットで追加\n",
      "\n",
      "[[ 0.     1.   ]\n",
      " [ 0.01   1.005]\n",
      " [ 0.02   1.01 ]\n",
      " [ 0.03   1.015]\n",
      " [ 0.04   1.02 ]\n",
      " [ 0.05   1.025]\n",
      " [ 0.06   1.03 ]\n",
      " [ 0.07   1.035]\n",
      " [ 0.08   1.04 ]\n",
      " [ 0.09   1.045]\n",
      " [ 0.1    1.05 ]\n",
      " [ 0.11   1.055]\n",
      " [ 0.12   1.06 ]\n",
      " [ 0.13   1.065]\n",
      " [ 0.14   1.07 ]\n",
      " [ 0.15   1.075]\n",
      " [ 0.16   1.08 ]\n",
      " [ 0.17   1.085]\n",
      " [ 0.18   1.09 ]\n",
      " [ 0.19   1.095]\n",
      " [ 0.2    1.1  ]\n",
      " [ 0.21   1.105]\n",
      " [ 0.22   1.11 ]\n",
      " [ 0.23   1.115]\n",
      " [ 0.24   1.12 ]\n",
      " [ 0.25   1.125]\n",
      " [ 0.26   1.13 ]\n",
      " [ 0.27   1.135]\n",
      " [ 0.28   1.14 ]\n",
      " [ 0.29   1.145]\n",
      " [ 0.3    1.15 ]\n",
      " [ 0.31   1.155]\n",
      " [ 0.32   1.16 ]\n",
      " [ 0.33   1.165]\n",
      " [ 0.34   1.17 ]\n",
      " [ 0.35   1.175]\n",
      " [ 0.36   1.18 ]\n",
      " [ 0.37   1.185]\n",
      " [ 0.38   1.19 ]\n",
      " [ 0.39   1.195]\n",
      " [ 0.4    1.2  ]\n",
      " [ 0.41   1.205]\n",
      " [ 0.42   1.21 ]\n",
      " [ 0.43   1.215]\n",
      " [ 0.44   1.22 ]\n",
      " [ 0.45   1.225]\n",
      " [ 0.46   1.23 ]\n",
      " [ 0.47   1.235]\n",
      " [ 0.48   1.24 ]\n",
      " [ 0.49   1.245]\n",
      " [ 0.5    1.25 ]\n",
      " [ 0.51   1.255]\n",
      " [ 0.52   1.26 ]\n",
      " [ 0.53   1.265]\n",
      " [ 0.54   1.27 ]\n",
      " [ 0.55   1.275]\n",
      " [ 0.56   1.28 ]\n",
      " [ 0.57   1.285]\n",
      " [ 0.58   1.29 ]\n",
      " [ 0.59   1.295]\n",
      " [ 0.6    1.3  ]\n",
      " [ 0.61   1.305]\n",
      " [ 0.62   1.31 ]\n",
      " [ 0.63   1.315]\n",
      " [ 0.64   1.32 ]\n",
      " [ 0.65   1.325]\n",
      " [ 0.66   1.33 ]\n",
      " [ 0.67   1.335]\n",
      " [ 0.68   1.34 ]\n",
      " [ 0.69   1.345]\n",
      " [ 0.7    1.35 ]\n",
      " [ 0.71   1.355]\n",
      " [ 0.72   1.36 ]\n",
      " [ 0.73   1.365]\n",
      " [ 0.74   1.37 ]\n",
      " [ 0.75   1.375]\n",
      " [ 0.76   1.38 ]\n",
      " [ 0.77   1.385]\n",
      " [ 0.78   1.39 ]\n",
      " [ 0.79   1.395]\n",
      " [ 0.8    1.4  ]\n",
      " [ 0.81   1.405]\n",
      " [ 0.82   1.41 ]\n",
      " [ 0.83   1.415]\n",
      " [ 0.84   1.42 ]\n",
      " [ 0.85   1.425]\n",
      " [ 0.86   1.43 ]\n",
      " [ 0.87   1.435]\n",
      " [ 0.88   1.44 ]\n",
      " [ 0.89   1.445]\n",
      " [ 0.9    1.45 ]\n",
      " [ 0.91   1.455]\n",
      " [ 0.92   1.46 ]\n",
      " [ 0.93   1.465]\n",
      " [ 0.94   1.47 ]\n",
      " [ 0.95   1.475]\n",
      " [ 0.96   1.48 ]\n",
      " [ 0.97   1.485]\n",
      " [ 0.98   1.49 ]\n",
      " [ 0.99   1.495]\n",
      " [ 1.     1.5  ]]\n"
     ]
    }
   ],
   "source": [
    "#計算結果をnp_y_arrayに用意\n",
    "np_y_array = np.array([0.5*x+1 for x in np_x_array])\n",
    "#print(np_y_array)\n",
    "#dstackでx軸データにy軸データを加え、それをreshapeで”X軸データ数”行、2列の行列に成形する\n",
    "np_x_y_array = np.reshape(np.dstack([np_x_array, np_y_array]), (np_x_array.shape[0], 2))\n",
    "print(\"課題1のnumpy配列にy=1/2*x+1の計算結果をnumpy配列の0列目にx、1列目にyの値のフォーマットで追加\\n\")\n",
    "print(np_x_y_array)"
   ]
  },
  {
   "cell_type": "markdown",
   "metadata": {},
   "source": [
    "### 【課題3】勾配を求めよう"
   ]
  },
  {
   "cell_type": "code",
   "execution_count": 44,
   "metadata": {
    "collapsed": false
   },
   "outputs": [
    {
     "name": "stdout",
     "output_type": "stream",
     "text": [
      "  X   ,   Y   ,   傾き\n",
      "[[ 0.     1.     0.5  ]\n",
      " [ 0.01   1.005  0.5  ]\n",
      " [ 0.02   1.01   0.5  ]\n",
      " [ 0.03   1.015  0.5  ]\n",
      " [ 0.04   1.02   0.5  ]\n",
      " [ 0.05   1.025  0.5  ]\n",
      " [ 0.06   1.03   0.5  ]\n",
      " [ 0.07   1.035  0.5  ]\n",
      " [ 0.08   1.04   0.5  ]\n",
      " [ 0.09   1.045  0.5  ]\n",
      " [ 0.1    1.05   0.5  ]\n",
      " [ 0.11   1.055  0.5  ]\n",
      " [ 0.12   1.06   0.5  ]\n",
      " [ 0.13   1.065  0.5  ]\n",
      " [ 0.14   1.07   0.5  ]\n",
      " [ 0.15   1.075  0.5  ]\n",
      " [ 0.16   1.08   0.5  ]\n",
      " [ 0.17   1.085  0.5  ]\n",
      " [ 0.18   1.09   0.5  ]\n",
      " [ 0.19   1.095  0.5  ]\n",
      " [ 0.2    1.1    0.5  ]\n",
      " [ 0.21   1.105  0.5  ]\n",
      " [ 0.22   1.11   0.5  ]\n",
      " [ 0.23   1.115  0.5  ]\n",
      " [ 0.24   1.12   0.5  ]\n",
      " [ 0.25   1.125  0.5  ]\n",
      " [ 0.26   1.13   0.5  ]\n",
      " [ 0.27   1.135  0.5  ]\n",
      " [ 0.28   1.14   0.5  ]\n",
      " [ 0.29   1.145  0.5  ]\n",
      " [ 0.3    1.15   0.5  ]\n",
      " [ 0.31   1.155  0.5  ]\n",
      " [ 0.32   1.16   0.5  ]\n",
      " [ 0.33   1.165  0.5  ]\n",
      " [ 0.34   1.17   0.5  ]\n",
      " [ 0.35   1.175  0.5  ]\n",
      " [ 0.36   1.18   0.5  ]\n",
      " [ 0.37   1.185  0.5  ]\n",
      " [ 0.38   1.19   0.5  ]\n",
      " [ 0.39   1.195  0.5  ]\n",
      " [ 0.4    1.2    0.5  ]\n",
      " [ 0.41   1.205  0.5  ]\n",
      " [ 0.42   1.21   0.5  ]\n",
      " [ 0.43   1.215  0.5  ]\n",
      " [ 0.44   1.22   0.5  ]\n",
      " [ 0.45   1.225  0.5  ]\n",
      " [ 0.46   1.23   0.5  ]\n",
      " [ 0.47   1.235  0.5  ]\n",
      " [ 0.48   1.24   0.5  ]\n",
      " [ 0.49   1.245  0.5  ]\n",
      " [ 0.5    1.25   0.5  ]\n",
      " [ 0.51   1.255  0.5  ]\n",
      " [ 0.52   1.26   0.5  ]\n",
      " [ 0.53   1.265  0.5  ]\n",
      " [ 0.54   1.27   0.5  ]\n",
      " [ 0.55   1.275  0.5  ]\n",
      " [ 0.56   1.28   0.5  ]\n",
      " [ 0.57   1.285  0.5  ]\n",
      " [ 0.58   1.29   0.5  ]\n",
      " [ 0.59   1.295  0.5  ]\n",
      " [ 0.6    1.3    0.5  ]\n",
      " [ 0.61   1.305  0.5  ]\n",
      " [ 0.62   1.31   0.5  ]\n",
      " [ 0.63   1.315  0.5  ]\n",
      " [ 0.64   1.32   0.5  ]\n",
      " [ 0.65   1.325  0.5  ]\n",
      " [ 0.66   1.33   0.5  ]\n",
      " [ 0.67   1.335  0.5  ]\n",
      " [ 0.68   1.34   0.5  ]\n",
      " [ 0.69   1.345  0.5  ]\n",
      " [ 0.7    1.35   0.5  ]\n",
      " [ 0.71   1.355  0.5  ]\n",
      " [ 0.72   1.36   0.5  ]\n",
      " [ 0.73   1.365  0.5  ]\n",
      " [ 0.74   1.37   0.5  ]\n",
      " [ 0.75   1.375  0.5  ]\n",
      " [ 0.76   1.38   0.5  ]\n",
      " [ 0.77   1.385  0.5  ]\n",
      " [ 0.78   1.39   0.5  ]\n",
      " [ 0.79   1.395  0.5  ]\n",
      " [ 0.8    1.4    0.5  ]\n",
      " [ 0.81   1.405  0.5  ]\n",
      " [ 0.82   1.41   0.5  ]\n",
      " [ 0.83   1.415  0.5  ]\n",
      " [ 0.84   1.42   0.5  ]\n",
      " [ 0.85   1.425  0.5  ]\n",
      " [ 0.86   1.43   0.5  ]\n",
      " [ 0.87   1.435  0.5  ]\n",
      " [ 0.88   1.44   0.5  ]\n",
      " [ 0.89   1.445  0.5  ]\n",
      " [ 0.9    1.45   0.5  ]\n",
      " [ 0.91   1.455  0.5  ]\n",
      " [ 0.92   1.46   0.5  ]\n",
      " [ 0.93   1.465  0.5  ]\n",
      " [ 0.94   1.47   0.5  ]\n",
      " [ 0.95   1.475  0.5  ]\n",
      " [ 0.96   1.48   0.5  ]\n",
      " [ 0.97   1.485  0.5  ]\n",
      " [ 0.98   1.49   0.5  ]\n",
      " [ 0.99   1.495  0.5  ]\n",
      " [ 1.     1.5    0.5  ]]\n"
     ]
    }
   ],
   "source": [
    "#x=-0.01~0の勾配0.5を予め代入\n",
    "np_grad_array = np.array([0.5])\n",
    "#各xでの傾きを (Y[n]-Y[n-1]) / (X[n]-(X[n-1]))で計算\n",
    "for n in range(1, np_x_y_array.shape[0]):\n",
    "    np_grad_array = np.append(np_grad_array, (np_x_y_array[n,1]-np_x_y_array[n-1,1])/(np_x_y_array[n,0]-np_x_y_array[n-1,0]))\n",
    "\n",
    "np_grad_array = np.reshape(np_grad_array, (np_grad_array.shape[0], 1)) #傾きのnumpy列を\"データ数\"行1列の行列へ成型\n",
    "np_x_y_grad_array = np.hstack([np_x_y_array, np_grad_array]) #課題2のx,y行列へ傾き行列を列方向から追加\n",
    "\n",
    "#print(np_x_y_grad_array[1,0])\n",
    "print(\"  X   ,   Y   ,   傾き\")\n",
    "print(np_x_y_grad_array)"
   ]
  },
  {
   "cell_type": "markdown",
   "metadata": {},
   "source": [
    "### 【課題4】配列、勾配、グラフを作ろう"
   ]
  },
  {
   "cell_type": "code",
   "execution_count": 45,
   "metadata": {
    "collapsed": false
   },
   "outputs": [
    {
     "data": {
      "text/plain": [
       "(0, 1.0)"
      ]
     },
     "execution_count": 45,
     "metadata": {},
     "output_type": "execute_result"
    },
    {
     "data": {
      "image/png": "[encoded data removed]",
      "text/plain": [
       "<matplotlib.figure.Figure at 0x110280a20>"
      ]
     },
     "metadata": {},
     "output_type": "display_data"
    }
   ],
   "source": [
    "import matplotlib.pyplot as plt\n",
    "%matplotlib inline\n",
    "\n",
    "#X,y行列を用意\n",
    "np_x_array = np.array([i/100 for i in range(101)])\n",
    "np_y_array = np.array([x**2 for x in np_x_array])\n",
    "np_x_y_array = np.reshape(np.dstack([np_x_array, np_y_array]), (np_x_array.shape[0],2))\n",
    "#print(np_x_y_array)\n",
    "\n",
    "#勾配を計算\n",
    "np_grad_array = np.array([0]) #x=-0.01~0の勾配を0として予め代入\n",
    "for n in range(1, np_x_y_array.shape[0]):\n",
    "    np_grad_array = np.append( np_grad_array, (np_x_y_array[n,1]-np_x_y_array[n-1,1])/(np_x_y_array[n,0]-np_x_y_array[n-1,0]))\n",
    "\n",
    "#Xと勾配計算結果で(データ数)行2列の行列を作成\n",
    "np_x_grad_array = np.hstack([np_x_array.reshape((np_x_array.shape[0],1)), np_grad_array.reshape((np_grad_array.shape[0],1))])\n",
    "\n",
    "#print(\"  X   ,    傾き\")\n",
    "#print(np_x_grad_array)\n",
    "plt.title(\"Gradient of Y=X^2\")\n",
    "plt.xlabel(\"X\")\n",
    "plt.ylabel(\"Gradient of Y=X^2\")\n",
    "plt.plot(np_x_grad_array[:,0:1], np_x_grad_array[:,1:2])\n",
    "plt.grid(which=\"both\")\n",
    "plt.xlim([0,np_x_array[-1]])"
   ]
  },
  {
   "cell_type": "markdown",
   "metadata": {
    "collapsed": false
   },
   "source": [
    "### 【課題5】最小値の求め方を説明しよう\n",
    "$ y=x^2 $ の最小値を求める方法　　\n",
    "\n",
    "##### STEP1\n",
    "xの範囲が$x_{start}$~$x_{end}$である場合、まず$x=x_{0}$から$x=x_{end}$の間の任意のxについて勾配を計算する\n",
    "##### STEP2\n",
    "計算の結果、勾配が+ならばxが小さくなる方向へ、勾配が-ならばxが大きくなる方向へxをずらして勾配を計算\n",
    "##### STEP3\n",
    "STEP2を繰り返して勾配が０または絶対値が最小となるxを見つける。\n",
    "#### STEP4\n",
    "見つけたxを$y=x^2$に代入してyの最小値を求める\n"
   ]
  },
  {
   "cell_type": "markdown",
   "metadata": {},
   "source": [
    "### 【課題6】最小値を求めよう\n",
    "y=x2+5xの最小値を勾配降下法ではなく、微分法を使って求めてください。"
   ]
  },
  {
   "cell_type": "code",
   "execution_count": 46,
   "metadata": {
    "collapsed": false
   },
   "outputs": [
    {
     "name": "stdout",
     "output_type": "stream",
     "text": [
      "関数y=x^2+5の傾きの最小値は0.00で、この時のxは-2.50である。よって関数yの最小値は-6.25\n"
     ]
    }
   ],
   "source": [
    "from sympy import *\n",
    "\n",
    "def gen_range(value_start, value_end, value_step):\n",
    "    \"\"\"\n",
    "    range関数を小数点が扱えるように拡張。value_startから始めてvalue_endに到達するまでvalue_stepを加え続ける。計算を実行する毎にその値を返す。\n",
    "    ----------------\n",
    "    Parameter\n",
    "        value_start:float\n",
    "        value_end:float\n",
    "        value_step:float\n",
    "    ----------------\n",
    "    ----------------\n",
    "    Return\n",
    "    　　value:float value_minにvalue_stepを加えた値\n",
    "    ----------------\n",
    "    \"\"\"\n",
    "    value = value_start\n",
    "    while value+value_step < value_end:\n",
    "     yield value\n",
    "     value += value_step\n",
    "\n",
    "X_MIN = -10.0 #X最小値\n",
    "X_MAX = 10.0 #X最大値\n",
    "X_STEP = 0.1 #Xステップ\n",
    "\n",
    "#関数をsympyに読み込ませる\n",
    "x = Symbol('x')\n",
    "y = x**2+5*x\n",
    "#sympy微分を実行\n",
    "y_diff = diff(y)\n",
    "\n",
    "#X_MIN~X_MAXの間で傾きの絶対値の最小値を求める\n",
    "grad_x_min = X_MIN  #x初期値\n",
    "grad_y_min = abs(y_diff.subs(x, X_MIN)) #傾き初期値(x=X_MIN)\n",
    "for x_value in gen_range(X_MIN,X_MAX, X_STEP):\n",
    "    grad = abs(y_diff.subs(x,x_value))\n",
    "    if grad < grad_y_min:\n",
    "        grad_y_min = grad\n",
    "        grad_x_min = x_value\n",
    "\n",
    "print(\"関数y=x^2+5の傾きの最小値は{:.2f}で、この時のxは{:.2f}である。よって関数yの最小値は{:.2f}\".format(grad_min, x_min, y.subs(x, grad_x_min)))        "
   ]
  },
  {
   "cell_type": "code",
   "execution_count": null,
   "metadata": {
    "collapsed": true
   },
   "outputs": [],
   "source": []
  }
 ],
 "metadata": {
  "kernelspec": {
   "display_name": "Python 3",
   "language": "python",
   "name": "python3"
  },
  "language_info": {
   "codemirror_mode": {
    "name": "ipython",
    "version": 3
   },
   "file_extension": ".py",
   "mimetype": "text/x-python",
   "name": "python",
   "nbconvert_exporter": "python",
   "pygments_lexer": "ipython3",
   "version": "3.6.0"
  }
 },
 "nbformat": 4,
 "nbformat_minor": 2
}
