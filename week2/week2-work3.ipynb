{
 "cells": [
  {
   "cell_type": "markdown",
   "metadata": {},
   "source": [
    "【課題1】内積を手計算しよう\n",
    "\n",
    "$$\n",
    "    A = \\left[\\begin{array}{c}\n",
    "            -1 & 2 & 3 \\\\\n",
    "            4 & -5 & 6 \\\\\n",
    "            7 & 8 & -9 \\\\\n",
    "        \\end{array}\\right], B = \\left[\\begin{array}{c}\n",
    "            0 & 2 & 1\\\\\n",
    "            0 & 2 & -8 \\\\\n",
    "            2 & 9 & -1 \\\\\n",
    "        \\end{array}\\right]\n",
    "$$\n",
    "\n",
    "$$\n",
    "    A*B = \\left[\\begin{array}{c}\n",
    "            -1\\times0 + 2\\times0 + 3\\times2 & -1\\times2 + 2\\times2 + 3\\times9 & -1\\times1 + 2\\times-8 + 3\\times-1\\\\\n",
    "            4\\times0 + -5\\times0 + 6\\times2 & 4\\times2 + -5\\times2 + 6\\times9 & 4\\times1 + -5\\times-8 + 6\\times-1\\\\\n",
    "            7\\times0 + 8\\times0 + -9\\times2 & 7\\times2 + 8\\times2 + -9\\times9 & 7\\times1 + 8\\times-8 + -9\\times-1\\\\\n",
    "          \\end{array}\\right]  \n",
    "        = \\left[\\begin{array}{c}\n",
    "            6 & 29 & -20 \\\\\n",
    "            12 & 52 & 38 \\\\\n",
    "            -18 & -51 & -48 \\\\\n",
    "          \\end{array}\\right]\n",
    "$$\n",
    "    "
   ]
  },
  {
   "cell_type": "code",
   "execution_count": 40,
   "metadata": {
    "collapsed": false
   },
   "outputs": [
    {
     "name": "stdout",
     "output_type": "stream",
     "text": [
      "[[6]]\n"
     ]
    }
   ],
   "source": [
    "\"\"\"\n",
    "【課題2】1次元配列の内積をfor文で計算しよう\n",
    "\"\"\"\n",
    "import numpy as np\n",
    "\n",
    "A_ROW = 0\n",
    "B_COLUMN = 0\n",
    "#内積A*Bの要素(A_ROW, B_COLUMN)を計算\n",
    "\n",
    "MAT_A = np.matrix([[-1, 2, 3],[4, -5, 6],[7, 8, -9]])\n",
    "MAT_B = np.matrix([[0, 2, 1],[0, 2, -8],[2, 9, -1]])\n",
    "\n",
    "result = 0\n",
    "for n in range(3):\n",
    "    #print(mat_A[0:1,n:n+1])\n",
    "    #print(mat_B[n:n+1,1:2])\n",
    "    result += MAT_A[A_ROW:A_ROW+1,n:n+1] * MAT_B[n:n+1,B_COLUMN:B_COLUMN+1] \n",
    "\n",
    "print(result)"
   ]
  },
  {
   "cell_type": "code",
   "execution_count": 85,
   "metadata": {
    "collapsed": false
   },
   "outputs": [
    {
     "name": "stdout",
     "output_type": "stream",
     "text": [
      "内積A*B= \n",
      " [[  6.  29. -20.]\n",
      " [ 12.  52.  38.]\n",
      " [-18. -51. -48.]]\n"
     ]
    }
   ],
   "source": [
    "\"\"\"\n",
    "【課題3】多次元配列の内積をfor文で計算しよう\n",
    "\"\"\"\n",
    "MAT_A_NUM_OF_ROW = 3\n",
    "MAT_A_NUM_OF_COLUMN = 3\n",
    "MAT_B_NUM_OF_COLUMN = 3\n",
    "\n",
    "MAT_A = np.matrix([[-1, 2, 3],[4, -5, 6],[7, 8, -9]])\n",
    "MAT_B = np.matrix([[0, 2, 1],[0, 2, -8],[2, 9, -1]])\n",
    "\n",
    "mat_cal_result = np.empty((MAT_A_NUM_OF_ROW, MAT_B_NUM_OF_COLUMN))\n",
    "for a_row in range(MAT_A_NUM_OF_ROW):\n",
    "        for b_column in range(MAT_B_NUM_OF_COLUMN):\n",
    "            cal_result=0\n",
    "            for n in range(MAT_A_NUM_OF_COLUMN):\n",
    "                #print( \"A({},{}) B({},{})  {} x {}\".format(a_row,a_column,b_column,b_row,MAT_A[a_row:a_row+1,n:n+1],MAT_B[n:n+1,b_column:b_column+1]))\n",
    "                cal_result += MAT_A[a_row:a_row+1,n:n+1] * MAT_B[n:n+1,b_column:b_column+1]\n",
    "            \n",
    "            mat_cal_result[a_row, b_column] = cal_result\n",
    "            #print(\"{} \\n\".format(cal_result))\n",
    "\n",
    "print(\"内積A*B= \\n {}\".format(mat_cal_result))"
   ]
  },
  {
   "cell_type": "code",
   "execution_count": 88,
   "metadata": {
    "collapsed": false
   },
   "outputs": [
    {
     "name": "stdout",
     "output_type": "stream",
     "text": [
      "np.dot(A*B)= \n",
      " [[  6  29 -20]\n",
      " [ 12  52  38]\n",
      " [-18 -51 -48]]\n"
     ]
    }
   ],
   "source": [
    "\"\"\"\n",
    "【課題4】内積をnp.dotで計算しよう\n",
    "\"\"\"\n",
    "\n",
    "mat_cal_result_by_npdot = np.dot(MAT_A,MAT_B)\n",
    "print(\"np.dot(A*B)= \\n {}\".format(mat_cal_result_by_npdot))"
   ]
  },
  {
   "cell_type": "markdown",
   "metadata": {},
   "source": [
    "課題3と課題4の結果は一致する。"
   ]
  },
  {
   "cell_type": "code",
   "execution_count": 94,
   "metadata": {
    "collapsed": false
   },
   "outputs": [
    {
     "ename": "ValueError",
     "evalue": "shapes (2,3) and (2,3) not aligned: 3 (dim 1) != 2 (dim 0)",
     "output_type": "error",
     "traceback": [
      "\u001b[0;31m---------------------------------------------------------------------------\u001b[0m",
      "\u001b[0;31mValueError\u001b[0m                                Traceback (most recent call last)",
      "\u001b[0;32m<ipython-input-94-3c4ff2a1d25a>\u001b[0m in \u001b[0;36m<module>\u001b[0;34m()\u001b[0m\n\u001b[1;32m      7\u001b[0m \u001b[0mMAT_B\u001b[0m \u001b[0;34m=\u001b[0m \u001b[0mnp\u001b[0m\u001b[0;34m.\u001b[0m\u001b[0mmatrix\u001b[0m\u001b[0;34m(\u001b[0m\u001b[0;34m[\u001b[0m\u001b[0;34m[\u001b[0m\u001b[0;36m9\u001b[0m\u001b[0;34m,\u001b[0m \u001b[0;36m8\u001b[0m\u001b[0;34m,\u001b[0m \u001b[0;36m7\u001b[0m\u001b[0;34m]\u001b[0m\u001b[0;34m,\u001b[0m\u001b[0;34m[\u001b[0m\u001b[0;36m6\u001b[0m\u001b[0;34m,\u001b[0m \u001b[0;36m5\u001b[0m\u001b[0;34m,\u001b[0m \u001b[0;34m-\u001b[0m\u001b[0;36m4\u001b[0m\u001b[0;34m]\u001b[0m\u001b[0;34m]\u001b[0m\u001b[0;34m)\u001b[0m\u001b[0;34m\u001b[0m\u001b[0m\n\u001b[1;32m      8\u001b[0m \u001b[0;34m\u001b[0m\u001b[0m\n\u001b[0;32m----> 9\u001b[0;31m \u001b[0mmat_cal_result\u001b[0m \u001b[0;34m=\u001b[0m \u001b[0mnp\u001b[0m\u001b[0;34m.\u001b[0m\u001b[0mdot\u001b[0m\u001b[0;34m(\u001b[0m\u001b[0mMAT_A\u001b[0m\u001b[0;34m,\u001b[0m\u001b[0mMAT_B\u001b[0m\u001b[0;34m)\u001b[0m\u001b[0;34m\u001b[0m\u001b[0m\n\u001b[0m\u001b[1;32m     10\u001b[0m \u001b[0mprint\u001b[0m\u001b[0;34m(\u001b[0m\u001b[0;34m\"np.dot(A*B)= \\n {}\"\u001b[0m\u001b[0;34m.\u001b[0m\u001b[0mformat\u001b[0m\u001b[0;34m(\u001b[0m\u001b[0mmat_cal_result\u001b[0m\u001b[0;34m)\u001b[0m\u001b[0;34m)\u001b[0m\u001b[0;34m\u001b[0m\u001b[0m\n",
      "\u001b[0;31mValueError\u001b[0m: shapes (2,3) and (2,3) not aligned: 3 (dim 1) != 2 (dim 0)"
     ]
    }
   ],
   "source": [
    "\"\"\"\n",
    "【課題5】内積ができないときはどうするか\n",
    "エラーとなる場合\n",
    "\"\"\"\n",
    "\n",
    "MAT_A = np.matrix([[-1, 2, 3],[4, -5, 6]])\n",
    "MAT_B = np.matrix([[9, 8, 7],[6, 5, -4]])\n",
    "\n",
    "mat_cal_result = np.dot(MAT_A,MAT_B)\n",
    "print(\"np.dot(A*B)= \\n {}\".format(mat_cal_result))"
   ]
  },
  {
   "cell_type": "markdown",
   "metadata": {},
   "source": [
    "【課題5】内積ができないときはどうするか\n",
    "なぜエラーとなるか？\n",
    "\n",
    "内積A*Bの各要素は、Aの行とBの列の要素を掛け合わせた値の合計として計算される。よってAの列数とBの行数が同じでなければ計算できない。\n",
    "課題5の場合、行列A,Bは2行3列であるからAの列数＝３とBの行数＝２であるため計算できない。\n",
    "計算を実行するために、行列Bの行と列を入れ替えて（転置）3行2列の行列を作り、行列Aと行列Bの転置の内積を計算をする。"
   ]
  },
  {
   "cell_type": "code",
   "execution_count": 95,
   "metadata": {
    "collapsed": false
   },
   "outputs": [
    {
     "name": "stdout",
     "output_type": "stream",
     "text": [
      "np.dot(A*B)= \n",
      " [[ 28  -8]\n",
      " [ 38 -25]]\n"
     ]
    }
   ],
   "source": [
    "\"\"\"\n",
    "【課題5】内積ができないときはどうするか\n",
    "行列Bを転置して計算を実行\n",
    "\"\"\"\n",
    "\n",
    "MAT_A = np.matrix([[-1, 2, 3],[4, -5, 6]])\n",
    "MAT_B = np.matrix([[9, 8, 7],[6, 5, -4]])\n",
    "\n",
    "#print(MAT_B.T)\n",
    "mat_cal_result = np.dot(MAT_A,MAT_B .T)\n",
    "print(\"np.dot(A*B)= \\n {}\".format(mat_cal_result))"
   ]
  },
  {
   "cell_type": "code",
   "execution_count": null,
   "metadata": {
    "collapsed": true
   },
   "outputs": [],
   "source": []
  }
 ],
 "metadata": {
  "kernelspec": {
   "display_name": "Python 3",
   "language": "python",
   "name": "python3"
  },
  "language_info": {
   "codemirror_mode": {
    "name": "ipython",
    "version": 3
   },
   "file_extension": ".py",
   "mimetype": "text/x-python",
   "name": "python",
   "nbconvert_exporter": "python",
   "pygments_lexer": "ipython3",
   "version": "3.6.0"
  }
 },
 "nbformat": 4,
 "nbformat_minor": 2
}
