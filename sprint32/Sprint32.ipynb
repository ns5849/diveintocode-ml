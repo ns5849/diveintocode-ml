{
 "cells": [
  {
   "cell_type": "markdown",
   "metadata": {},
   "source": [
    "【問題1】アイテムベース\n",
    "以下のような架空の旅行者のデータを使って簡単なアイテムベースのレコメンドを行う。 \n",
    "下の表は、ハワイ、グアム、ロンドン、ニューヨークへ訪れた回数を記録した6人分の旅行者のデータである。   \n",
    "  \n",
    "アイテム間の類似度行列を作る \n",
    "例えば、「ハワイ」と「ハワイとそのほかの国」とのコサイン類似度を計算してみると以下のように計算できる。 \n",
    "これを各国分、計算して、類似度行列を出してみよう。  \n",
    "\n",
    "ユーザのベクトルと類似度行列の積を取り推薦する \n",
    "類似度行列との対象ユーザのベクトルとの内積をとってみよう。\n",
    "ここで出た値が一番高いものが次に旅行者が旅先に選ぶ可能性の高い国です。 \n",
    "この国を出力してください。  "
   ]
  },
  {
   "cell_type": "code",
   "execution_count": 2,
   "metadata": {},
   "outputs": [],
   "source": [
    "import pandas as pd\n",
    "import numpy as np"
   ]
  },
  {
   "cell_type": "code",
   "execution_count": 7,
   "metadata": {},
   "outputs": [],
   "source": [
    "data = pd.DataFrame([[1,2,4,3], [1,1,2,4], [3,5,2,2], [3,4,2,3], [3,3,0,4], [3,3,1,4]], columns=['Hawaii', 'Guam', 'London', 'NewYork'])"
   ]
  },
  {
   "cell_type": "code",
   "execution_count": 9,
   "metadata": {},
   "outputs": [],
   "source": [
    "def cosine_similarity_matrix (vectors):\n",
    "    unit_vectors = vectors / np.linalg.norm(vectors, axis=1, keepdims=True)\n",
    "    return np.matmul(unit_vectors, unit_vectors.T)"
   ]
  },
  {
   "cell_type": "code",
   "execution_count": 14,
   "metadata": {},
   "outputs": [],
   "source": [
    "cos_similarity_matrix = cosine_similarity_matrix(data.values.T)"
   ]
  },
  {
   "cell_type": "code",
   "execution_count": 20,
   "metadata": {},
   "outputs": [
    {
     "name": "stdout",
     "output_type": "stream",
     "text": [
      "Cos類似度\n",
      "Hawaii    Guam    London    NewYork\n"
     ]
    },
    {
     "data": {
      "text/plain": [
       "array([[1.        , 0.97332853, 0.63259899, 0.89190174],\n",
       "       [0.97332853, 1.        , 0.71956944, 0.83666003],\n",
       "       [0.63259899, 0.71956944, 1.        , 0.75462449],\n",
       "       [0.89190174, 0.83666003, 0.75462449, 1.        ]])"
      ]
     },
     "execution_count": 20,
     "metadata": {},
     "output_type": "execute_result"
    }
   ],
   "source": [
    "print(\"Cos類似度\")\n",
    "print('Hawaii    Guam    London    NewYork')\n",
    "cos_similarity_matrix"
   ]
  },
  {
   "cell_type": "code",
   "execution_count": 28,
   "metadata": {},
   "outputs": [],
   "source": [
    "user_vector = [1,0,0,0]"
   ]
  },
  {
   "cell_type": "code",
   "execution_count": 29,
   "metadata": {},
   "outputs": [],
   "source": [
    "dot = np.dot(user_vector, cos_similarity_matrix)"
   ]
  },
  {
   "cell_type": "code",
   "execution_count": 30,
   "metadata": {},
   "outputs": [
    {
     "name": "stdout",
     "output_type": "stream",
     "text": [
      "Hawaii    Guam    London    NewYork\n"
     ]
    },
    {
     "data": {
      "text/plain": [
       "array([1.        , 0.97332853, 0.63259899, 0.89190174])"
      ]
     },
     "execution_count": 30,
     "metadata": {},
     "output_type": "execute_result"
    }
   ],
   "source": [
    "print('Hawaii    Guam    London    NewYork')\n",
    "dot"
   ]
  },
  {
   "cell_type": "markdown",
   "metadata": {},
   "source": [
    "結果, Hawaiiが一番数値が大きかったが、これまで一度も行ったことがない国という条件をつけるとGuamがオススメである。"
   ]
  },
  {
   "cell_type": "markdown",
   "metadata": {},
   "source": [
    "【アドバンス課題1】 アイテムベースの改善\n",
    "課題１では対象ユーザの訪問国は、一つだけでしたが２カ国訪問していても対応できるようにしてください。"
   ]
  },
  {
   "cell_type": "code",
   "execution_count": 31,
   "metadata": {},
   "outputs": [],
   "source": [
    "user_vector = [1,2,5,3]"
   ]
  },
  {
   "cell_type": "code",
   "execution_count": 32,
   "metadata": {},
   "outputs": [],
   "source": [
    "dot = np.dot(user_vector, cos_similarity_matrix)"
   ]
  },
  {
   "cell_type": "code",
   "execution_count": 33,
   "metadata": {
    "scrolled": true
   },
   "outputs": [
    {
     "name": "stdout",
     "output_type": "stream",
     "text": [
      "Hawaii    Guam    London    NewYork\n"
     ]
    },
    {
     "data": {
      "text/plain": [
       "array([8.78535726, 9.08115578, 9.33561135, 9.33834427])"
      ]
     },
     "execution_count": 33,
     "metadata": {},
     "output_type": "execute_result"
    }
   ],
   "source": [
    "print('Hawaii    Guam    London    NewYork')\n",
    "dot"
   ]
  },
  {
   "cell_type": "markdown",
   "metadata": {},
   "source": [
    "NewYorkがオススメである。"
   ]
  },
  {
   "cell_type": "code",
   "execution_count": null,
   "metadata": {},
   "outputs": [],
   "source": []
  },
  {
   "cell_type": "markdown",
   "metadata": {},
   "source": [
    "【問題2】ユーザーベース\n",
    "以下のようなデータがあった時に、user１に対して、レコメンドする方法を考えていきます。　　\n",
    "\n",
    "ユーザーベースの手法は同じようなユーザを見つけてそのユーザと同じようなレコメンドをします。 \n",
    "今回の方法は厳密なレコメンド手法とは異なりますが、実装を通して大まかなイメージを掴みましょう。  \n",
    "方法  \n",
    "ユーザーごとの相関行列を出す。   \n",
    "ユーザーごとの相関行列を出してください。(今回はピアソンを使いましょう。)  \n",
    "アイテムベースの時は、アイテムに対して類似度行列を出しましたが、今回はユーザに対して使います。  \n",
    "評価の高い方を推薦する   \n",
    "相関を出したら、最も相関の高い人のレコメンド結果を使ってuser1に対してレコメンドしてください。  "
   ]
  },
  {
   "cell_type": "code",
   "execution_count": 45,
   "metadata": {},
   "outputs": [],
   "source": [
    "data = pd.DataFrame([[2,2,4,np.nan, np.nan], [1,1,2,4,3], [0,5,2,2,5], [2,4,2,3,4], [1,3,0,4,1]], \n",
    "                    columns=['ゼロから作るDeepLearning', \n",
    "                             'Python機械学習プログラミング', \n",
    "                             'ゼロから作るDeepLearning-自然言語処理編-', \n",
    "                             'はじめてのパターン認識',\n",
    "                            'これからの強化学習'])"
   ]
  },
  {
   "cell_type": "code",
   "execution_count": 43,
   "metadata": {},
   "outputs": [],
   "source": [
    "def pearson_corr(x, y):\n",
    "    x_diff = x - np.mean(x)\n",
    "    y_diff = y - np.mean(y)\n",
    "    return np.dot(x_diff, y_diff) / (np.sqrt(sum(x_diff ** 2)) * np.sqrt(sum(y_diff ** 2)))"
   ]
  },
  {
   "cell_type": "code",
   "execution_count": 48,
   "metadata": {},
   "outputs": [],
   "source": [
    "#nanを平均値で埋める\n",
    "data = pd.DataFrame([[2,2,4,3, 3], [1,1,2,4,3], [0,5,2,2,5], [2,4,2,3,4], [1,3,0,4,1]], \n",
    "                    columns=['ゼロから作るDeepLearning', \n",
    "                             'Python機械学習プログラミング', \n",
    "                             'ゼロから作るDeepLearning-自然言語処理編-', \n",
    "                             'はじめてのパターン認識',\n",
    "                            'これからの強化学習'])"
   ]
  },
  {
   "cell_type": "code",
   "execution_count": 49,
   "metadata": {
    "scrolled": true
   },
   "outputs": [
    {
     "name": "stdout",
     "output_type": "stream",
     "text": [
      "user1, user2, user3, user4, user5\n"
     ]
    },
    {
     "data": {
      "text/plain": [
       "array([[ 1.        ,  0.50418417, -0.02756589, -0.29880715, -0.40006613],\n",
       "       [ 0.50418417,  1.        ,  0.10613237,  0.19174125,  0.37340802],\n",
       "       [-0.02756589,  0.10613237,  1.        ,  0.92253121,  0.19650211],\n",
       "       [-0.29880715,  0.19174125,  0.92253121,  1.        ,  0.45643546],\n",
       "       [-0.40006613,  0.37340802,  0.19650211,  0.45643546,  1.        ]])"
      ]
     },
     "execution_count": 49,
     "metadata": {},
     "output_type": "execute_result"
    }
   ],
   "source": [
    "print(\"user1, user2, user3, user4, user5\")\n",
    "np.corrcoef([data[0:1].values[0], data[1:2].values[0], data[2:3].values[0], data[3:4].values[0], data[4:5].values[0]])"
   ]
  },
  {
   "cell_type": "code",
   "execution_count": 50,
   "metadata": {},
   "outputs": [
    {
     "data": {
      "text/html": [
       "<div>\n",
       "<style scoped>\n",
       "    .dataframe tbody tr th:only-of-type {\n",
       "        vertical-align: middle;\n",
       "    }\n",
       "\n",
       "    .dataframe tbody tr th {\n",
       "        vertical-align: top;\n",
       "    }\n",
       "\n",
       "    .dataframe thead th {\n",
       "        text-align: right;\n",
       "    }\n",
       "</style>\n",
       "<table border=\"1\" class=\"dataframe\">\n",
       "  <thead>\n",
       "    <tr style=\"text-align: right;\">\n",
       "      <th></th>\n",
       "      <th>ゼロから作るDeepLearning</th>\n",
       "      <th>Python機械学習プログラミング</th>\n",
       "      <th>ゼロから作るDeepLearning-自然言語処理編-</th>\n",
       "      <th>はじめてのパターン認識</th>\n",
       "      <th>これからの強化学習</th>\n",
       "    </tr>\n",
       "  </thead>\n",
       "  <tbody>\n",
       "    <tr>\n",
       "      <th>1</th>\n",
       "      <td>1</td>\n",
       "      <td>1</td>\n",
       "      <td>2</td>\n",
       "      <td>4</td>\n",
       "      <td>3</td>\n",
       "    </tr>\n",
       "  </tbody>\n",
       "</table>\n",
       "</div>"
      ],
      "text/plain": [
       "   ゼロから作るDeepLearning  Python機械学習プログラミング  ゼロから作るDeepLearning-自然言語処理編-  \\\n",
       "1                   1                  1                            2   \n",
       "\n",
       "   はじめてのパターン認識  これからの強化学習  \n",
       "1            4          3  "
      ]
     },
     "execution_count": 50,
     "metadata": {},
     "output_type": "execute_result"
    }
   ],
   "source": [
    "data[1:2]"
   ]
  },
  {
   "cell_type": "markdown",
   "metadata": {},
   "source": [
    "user1に対してuser2が一番相関どが高い。\n",
    "user2の中で最もひょう"
   ]
  }
 ],
 "metadata": {
  "kernelspec": {
   "display_name": "Python 3",
   "language": "python",
   "name": "python3"
  },
  "language_info": {
   "codemirror_mode": {
    "name": "ipython",
    "version": 3
   },
   "file_extension": ".py",
   "mimetype": "text/x-python",
   "name": "python",
   "nbconvert_exporter": "python",
   "pygments_lexer": "ipython3",
   "version": "3.7.1"
  }
 },
 "nbformat": 4,
 "nbformat_minor": 2
}
