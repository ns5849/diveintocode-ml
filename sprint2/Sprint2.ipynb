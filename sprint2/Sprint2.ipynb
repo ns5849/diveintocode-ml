{
 "cells": [
  {
   "cell_type": "code",
   "execution_count": 1,
   "metadata": {
    "collapsed": true
   },
   "outputs": [],
   "source": [
    "import matplotlib.pyplot as plt\n",
    "import matplotlib.cm as cm\n",
    "import seaborn as sb\n",
    "import numpy as np\n",
    "import pandas as pd\n",
    "from sklearn.datasets import load_iris\n",
    "from sklearn.neighbors import KNeighborsClassifier\n",
    "%matplotlib inline"
   ]
  },
  {
   "cell_type": "code",
   "execution_count": 2,
   "metadata": {
    "collapsed": false
   },
   "outputs": [
    {
     "data": {
      "text/plain": [
       "'/Users/naoki/Desktop/DIC/Sprint/Sprint2'"
      ]
     },
     "execution_count": 2,
     "metadata": {},
     "output_type": "execute_result"
    }
   ],
   "source": [
    "import os\n",
    "os.getcwd()"
   ]
  },
  {
   "cell_type": "markdown",
   "metadata": {},
   "source": [
    "#### 【問題1】train_test_splitのスクラッチ\n",
    "まずはスクラッチの練習として、scikit-learnのtrain_test_splitを自作してみましょう。Jupyter Notebookでコーディングを進め、完成後はpyファイルとします。utilsディレクトリの中にsplit.pyを作ってください。"
   ]
  },
  {
   "cell_type": "code",
   "execution_count": 3,
   "metadata": {
    "collapsed": true
   },
   "outputs": [],
   "source": [
    "import sys\n",
    "sys.path.append(\"/Users/naoki/Desktop/DIC/Sprint/utils/\")"
   ]
  },
  {
   "cell_type": "code",
   "execution_count": 4,
   "metadata": {
    "collapsed": false
   },
   "outputs": [
    {
     "name": "stdout",
     "output_type": "stream",
     "text": [
      "x input\n",
      "[[ 0  1]\n",
      " [ 2  3]\n",
      " [ 4  5]\n",
      " [ 6  7]\n",
      " [ 8  9]\n",
      " [10 11]]\n",
      "y input\n",
      "[[10]\n",
      " [11]\n",
      " [12]\n",
      " [13]\n",
      " [14]\n",
      " [15]]\n",
      "x train\n",
      "[[4 5]\n",
      " [8 9]\n",
      " [0 1]]\n",
      "x test\n",
      "[[ 6  7]\n",
      " [10 11]\n",
      " [ 2  3]]\n",
      "y train\n",
      "[12 14 10]\n",
      "y test\n",
      "[13 15 11]\n"
     ]
    }
   ],
   "source": [
    "import numpy as np \n",
    "from utils.split import train_test_split\n",
    "\n",
    "x = np.array([i for i in range(12)]).reshape(6,2)\n",
    "y = np.array([i for i in range(10, 16)])\n",
    "y = y.reshape(len(y), 1)\n",
    "\n",
    "print(\"x input\")\n",
    "print(x)\n",
    "print(\"y input\")\n",
    "print(y)\n",
    "x_train, x_test, y_train, y_test = train_test_split(x, y, 0.5)\n",
    "print(\"x train\")\n",
    "print(x_train)\n",
    "print(\"x test\")\n",
    "print(x_test)\n",
    "print(\"y train\")\n",
    "print(y_train)\n",
    "print(\"y test\")\n",
    "print(y_test)"
   ]
  },
  {
   "cell_type": "markdown",
   "metadata": {},
   "source": [
    "#### 【問題2】 分類パイプラインの作成\n",
    "分類は3種類の手法を扱います。pyファイルで実行できる分類のパイプラインを作成してください。  \n",
    "ロジスティック回帰  \n",
    "SVM  \n",
    "決定木  \n",
    "\n",
    "データセットは3種類用意します。3つのデータセットが引数により切り替えられるようにしてください。\n",
    "1つ目は事前学習期間同様にirisデータセットです。\n",
    "sklearn.datasets.load_iris — scikit-learn 0.20.2 documentation\n",
    "2値分類としたいため、以下の2つの目的変数のみ利用します。特徴量は4種類全て使います。\n",
    "virgicolorとvirginica\n",
    "また、残り2つは可視化が可能な特徴量が2つのデータセットを人工的に用意します。以下のコードで説明変数X,目的変数yが作成可能です。「シンプルデータセット1」「シンプルデータセット2」とします。"
   ]
  },
  {
   "cell_type": "code",
   "execution_count": 5,
   "metadata": {
    "collapsed": false
   },
   "outputs": [],
   "source": [
    "import numpy as np \n",
    "from utils.sprint2_pipeline import pipeline_classifier"
   ]
  },
  {
   "cell_type": "code",
   "execution_count": 6,
   "metadata": {
    "collapsed": true
   },
   "outputs": [],
   "source": [
    "from sklearn.datasets import load_iris"
   ]
  },
  {
   "cell_type": "code",
   "execution_count": 7,
   "metadata": {
    "collapsed": false
   },
   "outputs": [],
   "source": [
    "iris_data_set = load_iris()\n",
    "X = pd.DataFrame(iris_data_set.data, columns=iris_data_set.feature_names)    #Put explanatory variable into x as pandasdata frame\n",
    "Y = pd.DataFrame(iris_data_set.target, columns=['Species'])    #Put iris response variable into y as pandasdata frame\n",
    "df = pd.concat([X, Y], axis=1)"
   ]
  },
  {
   "cell_type": "markdown",
   "metadata": {},
   "source": [
    "#### Irisデータに対して予想を行う"
   ]
  },
  {
   "cell_type": "code",
   "execution_count": 11,
   "metadata": {
    "collapsed": false
   },
   "outputs": [
    {
     "name": "stdout",
     "output_type": "stream",
     "text": [
      "Split data train & test\n",
      "元データ数：150　学習データ数：112　検証データ数：38\n",
      "Normalize feature data\n",
      "Result Format = proba\n",
      "AUC=0.29487\n"
     ]
    },
    {
     "name": "stderr",
     "output_type": "stream",
     "text": [
      "/Users/naoki/.pyenv/versions/anaconda3-4.3.0/lib/python3.6/site-packages/sklearn/utils/validation.py:761: DataConversionWarning: A column-vector y was passed when a 1d array was expected. Please change the shape of y to (n_samples, ), for example using ravel().\n",
      "  y = column_or_1d(y, warn=True)\n"
     ]
    },
    {
     "data": {
      "image/png": "[encoded data removed]",
      "text/plain": [
       "<matplotlib.figure.Figure at 0x121c81a58>"
      ]
     },
     "metadata": {},
     "output_type": "display_data"
    },
    {
     "name": "stdout",
     "output_type": "stream",
     "text": [
      "Result(Pridiction)=\n",
      "[[8.09539110e-03 8.12512614e-01 1.79391995e-01]\n",
      " [9.42048049e-01 5.79493270e-02 2.62381431e-06]\n",
      " [4.92726060e-08 3.25910208e-03 9.96740849e-01]\n",
      " [9.01520595e-03 6.72485955e-01 3.18498839e-01]\n",
      " [1.40793413e-03 6.56716658e-01 3.41875408e-01]\n",
      " [8.85660549e-01 1.14330228e-01 9.22342129e-06]\n",
      " [6.11123447e-02 8.78609886e-01 6.02777690e-02]\n",
      " [7.25758710e-05 5.67116917e-02 9.43215732e-01]\n",
      " [4.78215309e-04 4.91981867e-01 5.07539918e-01]\n",
      " [2.05566822e-02 9.01251469e-01 7.81918488e-02]\n",
      " [8.68149329e-04 1.70504538e-01 8.28627312e-01]\n",
      " [9.02819561e-01 9.71768841e-02 3.55448081e-06]\n",
      " [9.30644678e-01 6.93535324e-02 1.78986551e-06]\n",
      " [9.08983562e-01 9.10130577e-02 3.38072220e-06]\n",
      " [9.81830509e-01 1.81688423e-02 6.48776236e-07]\n",
      " [1.39239730e-02 6.29294528e-01 3.56781499e-01]\n",
      " [3.55358039e-05 2.95560922e-02 9.70408372e-01]\n",
      " [1.73691874e-02 9.13998989e-01 6.86318236e-02]\n",
      " [1.62998406e-02 7.85726827e-01 1.97973332e-01]\n",
      " [2.67455637e-05 3.05897662e-02 9.69383488e-01]\n",
      " [9.41318601e-01 5.86781213e-02 3.27769315e-06]\n",
      " [2.44971078e-03 3.08854273e-01 6.88696017e-01]\n",
      " [9.34849964e-01 6.51439239e-02 6.11200607e-06]\n",
      " [4.34316036e-05 4.40534014e-02 9.55903167e-01]\n",
      " [8.03859888e-05 7.14560030e-02 9.28463611e-01]\n",
      " [5.38799422e-05 4.45453459e-02 9.55400774e-01]\n",
      " [1.99268727e-05 7.37871917e-02 9.26192881e-01]\n",
      " [2.54040458e-05 2.26685152e-02 9.77306081e-01]\n",
      " [8.79610664e-01 1.20379944e-01 9.39155171e-06]\n",
      " [9.06877042e-01 9.31171635e-02 5.79416258e-06]\n",
      " [9.91195651e-01 8.80420728e-03 1.42198424e-07]\n",
      " [9.91652812e-01 8.34697265e-03 2.15542877e-07]\n",
      " [7.55240287e-03 8.13756481e-01 1.78691116e-01]\n",
      " [9.62732890e-01 3.72654552e-02 1.65444411e-06]\n",
      " [9.71632541e-01 2.83663792e-02 1.07945117e-06]\n",
      " [1.20940086e-04 1.33912724e-01 8.65966336e-01]\n",
      " [1.31446120e-02 7.41027117e-01 2.45828271e-01]\n",
      " [9.50748879e-01 4.92494415e-02 1.67994994e-06]]\n",
      "Answer=\n",
      "[[1]\n",
      " [0]\n",
      " [2]\n",
      " [1]\n",
      " [1]\n",
      " [0]\n",
      " [1]\n",
      " [2]\n",
      " [1]\n",
      " [1]\n",
      " [2]\n",
      " [0]\n",
      " [0]\n",
      " [0]\n",
      " [0]\n",
      " [1]\n",
      " [2]\n",
      " [1]\n",
      " [1]\n",
      " [2]\n",
      " [0]\n",
      " [2]\n",
      " [0]\n",
      " [2]\n",
      " [2]\n",
      " [2]\n",
      " [2]\n",
      " [2]\n",
      " [0]\n",
      " [0]\n",
      " [0]\n",
      " [0]\n",
      " [1]\n",
      " [0]\n",
      " [0]\n",
      " [2]\n",
      " [1]\n",
      " [0]]\n"
     ]
    }
   ],
   "source": [
    "#ロジスティック回帰\n",
    "from sklearn.linear_model import LogisticRegression\n",
    "clf = LogisticRegression(random_state=30, solver='lbfgs', multi_class='multinomial')\n",
    "\n",
    "#pipelineパラメーター\n",
    "params_ext = {\n",
    "         \"normalization_on\": True,\n",
    "          \"roc_plot_on\": True,\n",
    "          \"cv_on\": False,\n",
    "          \"cv_split\": 5,\n",
    "          \"cv_random_state\" : None,\n",
    "          \"cv_shuffle\" : True,\n",
    "          \"grid_search_on\" : False,\n",
    "          \"grid_search_samples\" : 100,\n",
    "          \"result_format\" : \"predict_as_probability\"\n",
    "        }\n",
    "#Grid search\n",
    "param_grid = {\n",
    "            \"hyper_param\":{\n",
    "                'C' : [0.001, 0.01, 0.1, 1, 10, 100],\n",
    "                'tol' : [1e-3, 1e-4, 1e-5]\n",
    "            },\n",
    "            \"grid_search_param\":{\n",
    "                    \"grid_search_cv\":2\n",
    "            }\n",
    "        }\n",
    "\n",
    "selected_feature_name = X.columns.values\n",
    "\n",
    "result, answer, fpr, tpr, auc = pipeline_classifier(\n",
    "                                    clf, X.values, Y.values, \"Species\", selected_feature_name, 2, \n",
    "                                    params=params_ext, \n",
    "                                    params_grid=param_grid)\n",
    "\n",
    "\n",
    "print(\"Result(Pridiction)=\")\n",
    "print(result)\n",
    "print(\"Answer=\")\n",
    "print(answer)"
   ]
  },
  {
   "cell_type": "code",
   "execution_count": 14,
   "metadata": {
    "collapsed": false
   },
   "outputs": [
    {
     "name": "stdout",
     "output_type": "stream",
     "text": [
      "Split data train & test\n",
      "元データ数：150　学習データ数：112　検証データ数：38\n",
      "Set best params  {'C': 10, 'tol': 0.001}\n",
      "Normalize feature data\n",
      "Result Format = binary\n",
      "Result(Pridiction)=\n",
      "[1 0 2 1 1 0 1 2 2 1 2 0 0 0 0 1 2 1 1 2 0 2 0 2 2 2 2 2 0 0 0 0 1 0 0 2 1\n",
      " 0]\n",
      "Answer=\n",
      "[[1]\n",
      " [0]\n",
      " [2]\n",
      " [1]\n",
      " [1]\n",
      " [0]\n",
      " [1]\n",
      " [2]\n",
      " [1]\n",
      " [1]\n",
      " [2]\n",
      " [0]\n",
      " [0]\n",
      " [0]\n",
      " [0]\n",
      " [1]\n",
      " [2]\n",
      " [1]\n",
      " [1]\n",
      " [2]\n",
      " [0]\n",
      " [2]\n",
      " [0]\n",
      " [2]\n",
      " [2]\n",
      " [2]\n",
      " [2]\n",
      " [2]\n",
      " [0]\n",
      " [0]\n",
      " [0]\n",
      " [0]\n",
      " [1]\n",
      " [0]\n",
      " [0]\n",
      " [2]\n",
      " [1]\n",
      " [0]]\n"
     ]
    },
    {
     "name": "stderr",
     "output_type": "stream",
     "text": [
      "/Users/naoki/.pyenv/versions/anaconda3-4.3.0/lib/python3.6/site-packages/sklearn/svm/base.py:196: FutureWarning: The default value of gamma will change from 'auto' to 'scale' in version 0.22 to account better for unscaled features. Set gamma explicitly to 'auto' or 'scale' to avoid this warning.\n",
      "  \"avoid this warning.\", FutureWarning)\n",
      "/Users/naoki/.pyenv/versions/anaconda3-4.3.0/lib/python3.6/site-packages/sklearn/svm/base.py:196: FutureWarning: The default value of gamma will change from 'auto' to 'scale' in version 0.22 to account better for unscaled features. Set gamma explicitly to 'auto' or 'scale' to avoid this warning.\n",
      "  \"avoid this warning.\", FutureWarning)\n",
      "/Users/naoki/.pyenv/versions/anaconda3-4.3.0/lib/python3.6/site-packages/sklearn/svm/base.py:196: FutureWarning: The default value of gamma will change from 'auto' to 'scale' in version 0.22 to account better for unscaled features. Set gamma explicitly to 'auto' or 'scale' to avoid this warning.\n",
      "  \"avoid this warning.\", FutureWarning)\n",
      "/Users/naoki/.pyenv/versions/anaconda3-4.3.0/lib/python3.6/site-packages/sklearn/svm/base.py:196: FutureWarning: The default value of gamma will change from 'auto' to 'scale' in version 0.22 to account better for unscaled features. Set gamma explicitly to 'auto' or 'scale' to avoid this warning.\n",
      "  \"avoid this warning.\", FutureWarning)\n",
      "/Users/naoki/.pyenv/versions/anaconda3-4.3.0/lib/python3.6/site-packages/sklearn/svm/base.py:196: FutureWarning: The default value of gamma will change from 'auto' to 'scale' in version 0.22 to account better for unscaled features. Set gamma explicitly to 'auto' or 'scale' to avoid this warning.\n",
      "  \"avoid this warning.\", FutureWarning)\n",
      "/Users/naoki/.pyenv/versions/anaconda3-4.3.0/lib/python3.6/site-packages/sklearn/svm/base.py:196: FutureWarning: The default value of gamma will change from 'auto' to 'scale' in version 0.22 to account better for unscaled features. Set gamma explicitly to 'auto' or 'scale' to avoid this warning.\n",
      "  \"avoid this warning.\", FutureWarning)\n",
      "/Users/naoki/.pyenv/versions/anaconda3-4.3.0/lib/python3.6/site-packages/sklearn/svm/base.py:196: FutureWarning: The default value of gamma will change from 'auto' to 'scale' in version 0.22 to account better for unscaled features. Set gamma explicitly to 'auto' or 'scale' to avoid this warning.\n",
      "  \"avoid this warning.\", FutureWarning)\n",
      "/Users/naoki/.pyenv/versions/anaconda3-4.3.0/lib/python3.6/site-packages/sklearn/svm/base.py:196: FutureWarning: The default value of gamma will change from 'auto' to 'scale' in version 0.22 to account better for unscaled features. Set gamma explicitly to 'auto' or 'scale' to avoid this warning.\n",
      "  \"avoid this warning.\", FutureWarning)\n",
      "/Users/naoki/.pyenv/versions/anaconda3-4.3.0/lib/python3.6/site-packages/sklearn/svm/base.py:196: FutureWarning: The default value of gamma will change from 'auto' to 'scale' in version 0.22 to account better for unscaled features. Set gamma explicitly to 'auto' or 'scale' to avoid this warning.\n",
      "  \"avoid this warning.\", FutureWarning)\n",
      "/Users/naoki/.pyenv/versions/anaconda3-4.3.0/lib/python3.6/site-packages/sklearn/svm/base.py:196: FutureWarning: The default value of gamma will change from 'auto' to 'scale' in version 0.22 to account better for unscaled features. Set gamma explicitly to 'auto' or 'scale' to avoid this warning.\n",
      "  \"avoid this warning.\", FutureWarning)\n",
      "/Users/naoki/.pyenv/versions/anaconda3-4.3.0/lib/python3.6/site-packages/sklearn/svm/base.py:196: FutureWarning: The default value of gamma will change from 'auto' to 'scale' in version 0.22 to account better for unscaled features. Set gamma explicitly to 'auto' or 'scale' to avoid this warning.\n",
      "  \"avoid this warning.\", FutureWarning)\n",
      "/Users/naoki/.pyenv/versions/anaconda3-4.3.0/lib/python3.6/site-packages/sklearn/svm/base.py:196: FutureWarning: The default value of gamma will change from 'auto' to 'scale' in version 0.22 to account better for unscaled features. Set gamma explicitly to 'auto' or 'scale' to avoid this warning.\n",
      "  \"avoid this warning.\", FutureWarning)\n",
      "/Users/naoki/.pyenv/versions/anaconda3-4.3.0/lib/python3.6/site-packages/sklearn/svm/base.py:196: FutureWarning: The default value of gamma will change from 'auto' to 'scale' in version 0.22 to account better for unscaled features. Set gamma explicitly to 'auto' or 'scale' to avoid this warning.\n",
      "  \"avoid this warning.\", FutureWarning)\n",
      "/Users/naoki/.pyenv/versions/anaconda3-4.3.0/lib/python3.6/site-packages/sklearn/svm/base.py:196: FutureWarning: The default value of gamma will change from 'auto' to 'scale' in version 0.22 to account better for unscaled features. Set gamma explicitly to 'auto' or 'scale' to avoid this warning.\n",
      "  \"avoid this warning.\", FutureWarning)\n",
      "/Users/naoki/.pyenv/versions/anaconda3-4.3.0/lib/python3.6/site-packages/sklearn/svm/base.py:196: FutureWarning: The default value of gamma will change from 'auto' to 'scale' in version 0.22 to account better for unscaled features. Set gamma explicitly to 'auto' or 'scale' to avoid this warning.\n",
      "  \"avoid this warning.\", FutureWarning)\n",
      "/Users/naoki/.pyenv/versions/anaconda3-4.3.0/lib/python3.6/site-packages/sklearn/svm/base.py:196: FutureWarning: The default value of gamma will change from 'auto' to 'scale' in version 0.22 to account better for unscaled features. Set gamma explicitly to 'auto' or 'scale' to avoid this warning.\n",
      "  \"avoid this warning.\", FutureWarning)\n",
      "/Users/naoki/.pyenv/versions/anaconda3-4.3.0/lib/python3.6/site-packages/sklearn/svm/base.py:196: FutureWarning: The default value of gamma will change from 'auto' to 'scale' in version 0.22 to account better for unscaled features. Set gamma explicitly to 'auto' or 'scale' to avoid this warning.\n",
      "  \"avoid this warning.\", FutureWarning)\n",
      "/Users/naoki/.pyenv/versions/anaconda3-4.3.0/lib/python3.6/site-packages/sklearn/svm/base.py:196: FutureWarning: The default value of gamma will change from 'auto' to 'scale' in version 0.22 to account better for unscaled features. Set gamma explicitly to 'auto' or 'scale' to avoid this warning.\n",
      "  \"avoid this warning.\", FutureWarning)\n",
      "/Users/naoki/.pyenv/versions/anaconda3-4.3.0/lib/python3.6/site-packages/sklearn/svm/base.py:196: FutureWarning: The default value of gamma will change from 'auto' to 'scale' in version 0.22 to account better for unscaled features. Set gamma explicitly to 'auto' or 'scale' to avoid this warning.\n",
      "  \"avoid this warning.\", FutureWarning)\n",
      "/Users/naoki/.pyenv/versions/anaconda3-4.3.0/lib/python3.6/site-packages/sklearn/svm/base.py:196: FutureWarning: The default value of gamma will change from 'auto' to 'scale' in version 0.22 to account better for unscaled features. Set gamma explicitly to 'auto' or 'scale' to avoid this warning.\n",
      "  \"avoid this warning.\", FutureWarning)\n",
      "/Users/naoki/.pyenv/versions/anaconda3-4.3.0/lib/python3.6/site-packages/sklearn/svm/base.py:196: FutureWarning: The default value of gamma will change from 'auto' to 'scale' in version 0.22 to account better for unscaled features. Set gamma explicitly to 'auto' or 'scale' to avoid this warning.\n",
      "  \"avoid this warning.\", FutureWarning)\n",
      "/Users/naoki/.pyenv/versions/anaconda3-4.3.0/lib/python3.6/site-packages/sklearn/svm/base.py:196: FutureWarning: The default value of gamma will change from 'auto' to 'scale' in version 0.22 to account better for unscaled features. Set gamma explicitly to 'auto' or 'scale' to avoid this warning.\n",
      "  \"avoid this warning.\", FutureWarning)\n",
      "/Users/naoki/.pyenv/versions/anaconda3-4.3.0/lib/python3.6/site-packages/sklearn/svm/base.py:196: FutureWarning: The default value of gamma will change from 'auto' to 'scale' in version 0.22 to account better for unscaled features. Set gamma explicitly to 'auto' or 'scale' to avoid this warning.\n",
      "  \"avoid this warning.\", FutureWarning)\n",
      "/Users/naoki/.pyenv/versions/anaconda3-4.3.0/lib/python3.6/site-packages/sklearn/svm/base.py:196: FutureWarning: The default value of gamma will change from 'auto' to 'scale' in version 0.22 to account better for unscaled features. Set gamma explicitly to 'auto' or 'scale' to avoid this warning.\n",
      "  \"avoid this warning.\", FutureWarning)\n",
      "/Users/naoki/.pyenv/versions/anaconda3-4.3.0/lib/python3.6/site-packages/sklearn/svm/base.py:196: FutureWarning: The default value of gamma will change from 'auto' to 'scale' in version 0.22 to account better for unscaled features. Set gamma explicitly to 'auto' or 'scale' to avoid this warning.\n",
      "  \"avoid this warning.\", FutureWarning)\n",
      "/Users/naoki/.pyenv/versions/anaconda3-4.3.0/lib/python3.6/site-packages/sklearn/svm/base.py:196: FutureWarning: The default value of gamma will change from 'auto' to 'scale' in version 0.22 to account better for unscaled features. Set gamma explicitly to 'auto' or 'scale' to avoid this warning.\n",
      "  \"avoid this warning.\", FutureWarning)\n",
      "/Users/naoki/.pyenv/versions/anaconda3-4.3.0/lib/python3.6/site-packages/sklearn/svm/base.py:196: FutureWarning: The default value of gamma will change from 'auto' to 'scale' in version 0.22 to account better for unscaled features. Set gamma explicitly to 'auto' or 'scale' to avoid this warning.\n",
      "  \"avoid this warning.\", FutureWarning)\n",
      "/Users/naoki/.pyenv/versions/anaconda3-4.3.0/lib/python3.6/site-packages/sklearn/svm/base.py:196: FutureWarning: The default value of gamma will change from 'auto' to 'scale' in version 0.22 to account better for unscaled features. Set gamma explicitly to 'auto' or 'scale' to avoid this warning.\n",
      "  \"avoid this warning.\", FutureWarning)\n",
      "/Users/naoki/.pyenv/versions/anaconda3-4.3.0/lib/python3.6/site-packages/sklearn/svm/base.py:196: FutureWarning: The default value of gamma will change from 'auto' to 'scale' in version 0.22 to account better for unscaled features. Set gamma explicitly to 'auto' or 'scale' to avoid this warning.\n",
      "  \"avoid this warning.\", FutureWarning)\n",
      "/Users/naoki/.pyenv/versions/anaconda3-4.3.0/lib/python3.6/site-packages/sklearn/svm/base.py:196: FutureWarning: The default value of gamma will change from 'auto' to 'scale' in version 0.22 to account better for unscaled features. Set gamma explicitly to 'auto' or 'scale' to avoid this warning.\n",
      "  \"avoid this warning.\", FutureWarning)\n",
      "/Users/naoki/.pyenv/versions/anaconda3-4.3.0/lib/python3.6/site-packages/sklearn/svm/base.py:196: FutureWarning: The default value of gamma will change from 'auto' to 'scale' in version 0.22 to account better for unscaled features. Set gamma explicitly to 'auto' or 'scale' to avoid this warning.\n",
      "  \"avoid this warning.\", FutureWarning)\n",
      "/Users/naoki/.pyenv/versions/anaconda3-4.3.0/lib/python3.6/site-packages/sklearn/svm/base.py:196: FutureWarning: The default value of gamma will change from 'auto' to 'scale' in version 0.22 to account better for unscaled features. Set gamma explicitly to 'auto' or 'scale' to avoid this warning.\n",
      "  \"avoid this warning.\", FutureWarning)\n",
      "/Users/naoki/.pyenv/versions/anaconda3-4.3.0/lib/python3.6/site-packages/sklearn/svm/base.py:196: FutureWarning: The default value of gamma will change from 'auto' to 'scale' in version 0.22 to account better for unscaled features. Set gamma explicitly to 'auto' or 'scale' to avoid this warning.\n",
      "  \"avoid this warning.\", FutureWarning)\n",
      "/Users/naoki/.pyenv/versions/anaconda3-4.3.0/lib/python3.6/site-packages/sklearn/svm/base.py:196: FutureWarning: The default value of gamma will change from 'auto' to 'scale' in version 0.22 to account better for unscaled features. Set gamma explicitly to 'auto' or 'scale' to avoid this warning.\n",
      "  \"avoid this warning.\", FutureWarning)\n",
      "/Users/naoki/.pyenv/versions/anaconda3-4.3.0/lib/python3.6/site-packages/sklearn/svm/base.py:196: FutureWarning: The default value of gamma will change from 'auto' to 'scale' in version 0.22 to account better for unscaled features. Set gamma explicitly to 'auto' or 'scale' to avoid this warning.\n",
      "  \"avoid this warning.\", FutureWarning)\n",
      "/Users/naoki/.pyenv/versions/anaconda3-4.3.0/lib/python3.6/site-packages/sklearn/svm/base.py:196: FutureWarning: The default value of gamma will change from 'auto' to 'scale' in version 0.22 to account better for unscaled features. Set gamma explicitly to 'auto' or 'scale' to avoid this warning.\n",
      "  \"avoid this warning.\", FutureWarning)\n",
      "/Users/naoki/.pyenv/versions/anaconda3-4.3.0/lib/python3.6/site-packages/sklearn/model_selection/_search.py:841: DeprecationWarning: The default of the `iid` parameter will change from True to False in version 0.22 and will be removed in 0.24. This will change numeric results when test-set sizes are unequal.\n",
      "  DeprecationWarning)\n",
      "/Users/naoki/.pyenv/versions/anaconda3-4.3.0/lib/python3.6/site-packages/sklearn/svm/base.py:196: FutureWarning: The default value of gamma will change from 'auto' to 'scale' in version 0.22 to account better for unscaled features. Set gamma explicitly to 'auto' or 'scale' to avoid this warning.\n",
      "  \"avoid this warning.\", FutureWarning)\n",
      "/Users/naoki/.pyenv/versions/anaconda3-4.3.0/lib/python3.6/site-packages/sklearn/utils/validation.py:761: DataConversionWarning: A column-vector y was passed when a 1d array was expected. Please change the shape of y to (n_samples, ), for example using ravel().\n",
      "  y = column_or_1d(y, warn=True)\n"
     ]
    }
   ],
   "source": [
    "#SVM\n",
    "from sklearn.svm import SVC\n",
    "clf = SVC()\n",
    "\n",
    "#pipelineパラメーター\n",
    "params_ext = {\n",
    "         \"normalization_on\": True,\n",
    "          \"roc_plot_on\": False,\n",
    "          \"cv_on\": False,\n",
    "          \"cv_split\": 5,\n",
    "          \"cv_random_state\" : None,\n",
    "          \"cv_shuffle\" : True,\n",
    "          \"grid_search_on\" : True,\n",
    "          \"grid_search_samples\" : 100,\n",
    "          \"result_format\" : \"predict_as_binary\"\n",
    "        }\n",
    "#Grid search\n",
    "param_grid = {\n",
    "            \"hyper_param\":{\n",
    "                'C' : [0.001, 0.01, 0.1, 1, 10, 100],\n",
    "                'tol' : [1e-3, 1e-4, 1e-5]\n",
    "            },\n",
    "            \"grid_search_param\":{\n",
    "                    \"grid_search_cv\":2\n",
    "            }\n",
    "        }\n",
    "\n",
    "selected_feature_name = X.columns.values\n",
    "\n",
    "result, answer, fpr, tpr, auc = pipeline_classifier(\n",
    "                                    clf, X.values, Y.values, \"Species\", selected_feature_name, 2, \n",
    "                                    params=params_ext, \n",
    "                                    params_grid=param_grid)\n",
    "\n",
    "print(\"Result(Pridiction)=\")\n",
    "print(result)\n",
    "print(\"Answer=\")\n",
    "print(answer)"
   ]
  },
  {
   "cell_type": "code",
   "execution_count": 15,
   "metadata": {
    "collapsed": false
   },
   "outputs": [
    {
     "name": "stdout",
     "output_type": "stream",
     "text": [
      "Split data train & test\n",
      "元データ数：150　学習データ数：112　検証データ数：38\n",
      "Normalize feature data\n",
      "Result Format = binary\n",
      "Result(Pridiction)=\n",
      "[1 0 2 1 1 0 1 2 1 1 2 0 0 0 0 1 2 1 1 2 0 2 0 2 2 2 2 2 0 0 0 0 1 0 0 2 1\n",
      " 0]\n",
      "Answer=\n",
      "[[1]\n",
      " [0]\n",
      " [2]\n",
      " [1]\n",
      " [1]\n",
      " [0]\n",
      " [1]\n",
      " [2]\n",
      " [1]\n",
      " [1]\n",
      " [2]\n",
      " [0]\n",
      " [0]\n",
      " [0]\n",
      " [0]\n",
      " [1]\n",
      " [2]\n",
      " [1]\n",
      " [1]\n",
      " [2]\n",
      " [0]\n",
      " [2]\n",
      " [0]\n",
      " [2]\n",
      " [2]\n",
      " [2]\n",
      " [2]\n",
      " [2]\n",
      " [0]\n",
      " [0]\n",
      " [0]\n",
      " [0]\n",
      " [1]\n",
      " [0]\n",
      " [0]\n",
      " [2]\n",
      " [1]\n",
      " [0]]\n"
     ]
    }
   ],
   "source": [
    "from sklearn.tree import DecisionTreeClassifier\n",
    "clf = DecisionTreeClassifier(max_depth=10)\n",
    "\n",
    "#pipelineパラメーター\n",
    "params_ext = {\n",
    "         \"normalization_on\": True,\n",
    "          \"roc_plot_on\": False,\n",
    "          \"cv_on\": False,\n",
    "          \"cv_split\": 5,\n",
    "          \"cv_random_state\" : None,\n",
    "          \"cv_shuffle\" : True,\n",
    "          \"grid_search_on\" : False,\n",
    "          \"grid_search_samples\" : 100,\n",
    "          \"result_format\" : \"predict_as_binary\"\n",
    "        }\n",
    "#Grid search\n",
    "param_grid = {\n",
    "            \"hyper_param\":{\n",
    "                'max_depth' : [3, 10, 20],\n",
    "            },\n",
    "            \"grid_search_param\":{\n",
    "                    \"grid_search_cv\":2\n",
    "            }\n",
    "        }\n",
    "\n",
    "selected_feature_name = X.columns.values\n",
    "\n",
    "result, answer, fpr, tpr, auc = pipeline_classifier(\n",
    "                                    clf, X.values, Y.values, \"Species\", selected_feature_name, 2, \n",
    "                                    params=params_ext, \n",
    "                                    params_grid=param_grid)\n",
    "\n",
    "print(\"Result(Pridiction)=\")\n",
    "print(result)\n",
    "print(\"Answer=\")\n",
    "print(answer)"
   ]
  },
  {
   "cell_type": "markdown",
   "metadata": {},
   "source": [
    "#### シンプルデータセット1作成コード"
   ]
  },
  {
   "cell_type": "code",
   "execution_count": 17,
   "metadata": {
    "collapsed": false
   },
   "outputs": [],
   "source": [
    "import numpy as np\n",
    "\n",
    "np.random.seed(seed=0)\n",
    "n_samples = 500\n",
    "f0= [-1, 2]\n",
    "f1 = [2, -1]\n",
    "cov = [[1.0,0.8], [0.8, 1.0]]\n",
    "\n",
    "f0 = np.random.multivariate_normal(f0, cov, int(n_samples/2))\n",
    "f1 = np.random.multivariate_normal(f1, cov, int(n_samples/2))\n",
    "\n",
    "X = np.concatenate((f0, f1))\n",
    "y = np.concatenate((np.ones((int(n_samples/2))), np.ones((int(n_samples/2))) *(-1))).astype(np.int)\n",
    "\n",
    "random_index = np.random.permutation(np.arange(n_samples))\n",
    "X = X[random_index]\n",
    "Y = y[random_index]"
   ]
  },
  {
   "cell_type": "code",
   "execution_count": 18,
   "metadata": {
    "collapsed": false
   },
   "outputs": [
    {
     "name": "stdout",
     "output_type": "stream",
     "text": [
      "Split data train & test\n",
      "元データ数：500　学習データ数：375　検証データ数：125\n",
      "Normalize feature data\n",
      "Result Format = binary\n",
      "Result(Pridiction)=\n",
      "[-1  1  1  1  1  1 -1  1 -1 -1 -1  1 -1  1 -1  1 -1  1  1 -1  1  1 -1 -1\n",
      " -1 -1  1  1 -1 -1  1  1  1  1  1 -1  1 -1 -1  1  1 -1 -1 -1 -1 -1 -1  1\n",
      "  1 -1 -1 -1  1 -1 -1 -1  1 -1 -1  1 -1 -1  1 -1  1 -1 -1  1  1 -1  1  1\n",
      " -1 -1 -1  1 -1 -1  1  1  1  1  1 -1  1 -1 -1  1  1  1 -1 -1 -1 -1 -1  1\n",
      " -1  1  1  1 -1 -1  1 -1  1  1  1 -1  1  1  1 -1  1 -1 -1  1 -1 -1  1 -1\n",
      " -1 -1  1  1 -1]\n",
      "Answer=\n",
      "[-1  1  1  1  1  1 -1  1 -1 -1 -1  1 -1  1 -1  1 -1  1  1 -1  1  1 -1 -1\n",
      " -1 -1  1  1 -1 -1  1  1  1  1  1 -1  1 -1 -1  1  1 -1 -1 -1 -1 -1 -1  1\n",
      "  1 -1 -1 -1  1 -1 -1 -1  1 -1 -1  1 -1 -1  1 -1  1 -1 -1  1  1 -1  1  1\n",
      " -1 -1 -1  1 -1 -1  1  1  1  1  1 -1  1 -1 -1  1  1  1 -1 -1 -1 -1 -1  1\n",
      " -1  1  1  1 -1 -1  1 -1  1  1  1 -1  1  1  1 -1  1 -1 -1  1 -1 -1  1 -1\n",
      " -1 -1  1  1 -1]\n"
     ]
    }
   ],
   "source": [
    "from sklearn.tree import DecisionTreeClassifier\n",
    "clf = DecisionTreeClassifier(max_depth=10)\n",
    "\n",
    "#pipelineパラメーター\n",
    "params_ext = {\n",
    "         \"normalization_on\": True,\n",
    "          \"roc_plot_on\": False,\n",
    "          \"cv_on\": False,\n",
    "          \"cv_split\": 5,\n",
    "          \"cv_random_state\" : None,\n",
    "          \"cv_shuffle\" : True,\n",
    "          \"grid_search_on\" : False,\n",
    "          \"grid_search_samples\" : 100,\n",
    "          \"result_format\" : \"predict_as_binary\"\n",
    "        }\n",
    "#Grid search\n",
    "param_grid = {\n",
    "            \"hyper_param\":{\n",
    "                'max_depth' : [3, 10, 20],\n",
    "            },\n",
    "            \"grid_search_param\":{\n",
    "                    \"grid_search_cv\":2\n",
    "            }\n",
    "        }\n",
    "\n",
    "selected_feature_name = [\"A\", \"B\"]\n",
    "result, answer, fpr, tpr, auc = pipeline_classifier(\n",
    "                                    clf, X, Y, \"TARGET\", selected_feature_name, 2, \n",
    "                                    params=params_ext, \n",
    "                                    params_grid=param_grid)\n",
    "\n",
    "print(\"Result(Pridiction)=\")\n",
    "print(result)\n",
    "print(\"Answer=\")\n",
    "print(answer)"
   ]
  },
  {
   "cell_type": "markdown",
   "metadata": {},
   "source": [
    "#### シンプルデータセット2作成コード"
   ]
  },
  {
   "cell_type": "code",
   "execution_count": 19,
   "metadata": {
    "collapsed": true
   },
   "outputs": [],
   "source": [
    "X = np.array([[-0.44699 , -2.8073  ],[-1.4621  , -2.4586  ],\n",
    "       [ 0.10645 ,  1.9242  ],[-3.5944  , -4.0112  ],\n",
    "       [-0.9888  ,  4.5718  ],[-3.1625  , -3.9606  ],\n",
    "       [ 0.56421 ,  0.72888 ],[-0.60216 ,  8.4636  ],\n",
    "       [-0.61251 , -0.75345 ],[-0.73535 , -2.2718  ],\n",
    "       [-0.80647 , -2.2135  ],[ 0.86291 ,  2.3946  ],\n",
    "       [-3.1108  ,  0.15394 ],[-2.9362  ,  2.5462  ],\n",
    "       [-0.57242 , -2.9915  ],[ 1.4771  ,  3.4896  ],\n",
    "       [ 0.58619 ,  0.37158 ],[ 0.6017  ,  4.3439  ],\n",
    "       [-2.1086  ,  8.3428  ],[-4.1013  , -4.353   ],\n",
    "       [-1.9948  , -1.3927  ],[ 0.35084 , -0.031994],\n",
    "       [ 0.96765 ,  7.8929  ],[-1.281   , 15.6824  ],\n",
    "       [ 0.96765 , 10.083   ],[ 1.3763  ,  1.3347  ],\n",
    "       [-2.234   , -2.5323  ],[-2.9452  , -1.8219  ],\n",
    "       [ 0.14654 , -0.28733 ],[ 0.5461  ,  5.8245  ],\n",
    "       [-0.65259 ,  9.3444  ],[ 0.59912 ,  5.3524  ],\n",
    "       [ 0.50214 , -0.31818 ],[-3.0603  , -3.6461  ],\n",
    "       [-6.6797  ,  0.67661 ],[-2.353   , -0.72261 ],\n",
    "       [ 1.1319  ,  2.4023  ],[-0.12243 ,  9.0162  ],\n",
    "       [-2.5677  , 13.1779  ],[ 0.057313,  5.4681  ]])\n",
    "Y = np.array([0, 0, 0, 0, 0, 0, 0, 0, 0, 0, 0, 0, 0, 0, 0, 0, 0, 0, 0, 0, 1, 1,\n",
    "       1, 1, 1, 1, 1, 1, 1, 1, 1, 1, 1, 1, 1, 1, 1, 1, 1, 1])"
   ]
  },
  {
   "cell_type": "code",
   "execution_count": 58,
   "metadata": {
    "collapsed": false,
    "scrolled": false
   },
   "outputs": [
    {
     "name": "stdout",
     "output_type": "stream",
     "text": [
      "(40, 2)\n",
      "(40,)\n"
     ]
    }
   ],
   "source": [
    "print(X.shape)\n",
    "print(y.shape)\n",
    "#X = X.reshape(X.shape[0], X.shape[1])\n",
    "#y = y.reshape(y.shape[0], 1)"
   ]
  },
  {
   "cell_type": "code",
   "execution_count": 22,
   "metadata": {
    "collapsed": false
   },
   "outputs": [
    {
     "name": "stdout",
     "output_type": "stream",
     "text": [
      "Split data train & test\n",
      "元データ数：40　学習データ数：30　検証データ数：10\n",
      "Set best params  {'max_depth': 3}\n",
      "Normalize feature data\n",
      "Result Format = binary\n",
      "Result(Pridiction)=\n",
      "[0 0 1 0 1 1 1 1 1 0]\n",
      "Answer=\n",
      "[0 0 0 1 0 0 1 1 1 0]\n"
     ]
    }
   ],
   "source": [
    "from sklearn.tree import DecisionTreeClassifier\n",
    "clf = DecisionTreeClassifier(max_depth=10)\n",
    "\n",
    "#pipelineパラメーター\n",
    "params_ext = {\n",
    "         \"normalization_on\": True,\n",
    "          \"roc_plot_on\": False,\n",
    "          \"cv_on\": False,\n",
    "          \"cv_split\": 5,\n",
    "          \"cv_random_state\" : None,\n",
    "          \"cv_shuffle\" : True,\n",
    "          \"grid_search_on\" : True,\n",
    "          \"grid_search_samples\" : 10,\n",
    "          \"result_format\" : \"predict_as_binary\"\n",
    "        }\n",
    "#Grid search\n",
    "param_grid = {\n",
    "            \"hyper_param\":{\n",
    "                'max_depth' : [3, 10, 20],\n",
    "            },\n",
    "            \"grid_search_param\":{\n",
    "                    \"grid_search_cv\":2\n",
    "            }\n",
    "        }\n",
    "\n",
    "selected_feature_name = [\"A\", \"B\"]\n",
    "result, answer, fpr, tpr, auc = pipeline_classifier(\n",
    "                                    clf, X, Y, \"TARGET\", selected_feature_name, 2, \n",
    "                                    params=params_ext, \n",
    "                                    params_grid=param_grid)\n",
    "\n",
    "print(\"Result(Pridiction)=\")\n",
    "print(result)\n",
    "print(\"Answer=\")\n",
    "print(answer)"
   ]
  },
  {
   "cell_type": "code",
   "execution_count": null,
   "metadata": {
    "collapsed": true
   },
   "outputs": [],
   "source": []
  }
 ],
 "metadata": {
  "kernelspec": {
   "display_name": "Python 3",
   "language": "python",
   "name": "python3"
  },
  "language_info": {
   "codemirror_mode": {
    "name": "ipython",
    "version": 3
   },
   "file_extension": ".py",
   "mimetype": "text/x-python",
   "name": "python",
   "nbconvert_exporter": "python",
   "pygments_lexer": "ipython3",
   "version": "3.6.0"
  }
 },
 "nbformat": 4,
 "nbformat_minor": 2
}
