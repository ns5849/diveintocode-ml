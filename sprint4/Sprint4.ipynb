{
 "cells": [
  {
   "cell_type": "code",
   "execution_count": 1,
   "metadata": {
    "collapsed": true
   },
   "outputs": [],
   "source": [
    "import matplotlib.pyplot as plt\n",
    "import matplotlib.cm as cm\n",
    "import seaborn as sb\n",
    "import numpy as np\n",
    "import pandas as pd\n",
    "from sklearn.datasets import load_iris\n",
    "from sklearn.model_selection import train_test_split\n",
    "from sklearn.preprocessing import StandardScaler\n",
    "%matplotlib inline"
   ]
  },
  {
   "cell_type": "code",
   "execution_count": 2,
   "metadata": {
    "collapsed": true
   },
   "outputs": [],
   "source": [
    "from matplotlib.colors import ListedColormap\n",
    "import matplotlib.patches as mpatches\n",
    "\n",
    "def decision_region(X_train, y_train, model, step=0.01, title='decision region', xlabel='xlabel', ylabel='ylabel', target_names=['versicolor', 'virginica']):\n",
    "    \"\"\"\n",
    "    2値分類を2次元の特徴量で学習したモデルの決定領域を描く。\n",
    "    背景の色が学習したモデルによる推定値から描画される。\n",
    "    散布図の点は学習用データである。\n",
    "\n",
    "    Parameters\n",
    "    ----------------\n",
    "    X_train : ndarray, shape(n_samples, 2)\n",
    "        学習用データの特徴量\n",
    "    y_train : ndarray, shape(n_samples,)\n",
    "        学習用データの正解値\n",
    "    model : object\n",
    "        学習したモデルのインスンタスを入れる\n",
    "    step : float, (default : 0.1)\n",
    "        推定値を計算する間隔を設定する\n",
    "    title : str\n",
    "        グラフのタイトルの文章を与える\n",
    "    xlabel, ylabel : str\n",
    "        軸ラベルの文章を与える\n",
    "    target_names= : list of str\n",
    "        凡例の一覧を与える\n",
    "    \"\"\"\n",
    "    # setting\n",
    "    scatter_color = ['red', 'blue']\n",
    "    contourf_color = ['pink', 'skyblue']\n",
    "    n_class = 2\n",
    "\n",
    "    # pred\n",
    "    mesh_f0, mesh_f1  = np.meshgrid(np.arange(np.min(X_train[:,0])-0.5, np.max(X_train[:,0])+0.5, step), np.arange(np.min(X_train[:,1])-0.5, np.max(X_train[:,1])+0.5, step))\n",
    "    mesh = np.c_[np.ravel(mesh_f0),np.ravel(mesh_f1)]\n",
    "    pred = model.predict(mesh).reshape(mesh_f0.shape)\n",
    "\n",
    "    # plot\n",
    "    plt.title(title)\n",
    "    plt.xlabel(xlabel)\n",
    "    plt.ylabel(ylabel)\n",
    "    plt.contourf(mesh_f0, mesh_f1, pred, n_class-1, cmap=ListedColormap(contourf_color))\n",
    "    plt.contour(mesh_f0, mesh_f1, pred, n_class-1, colors='y', linewidths=3, alpha=0.5)\n",
    "    for i, target in enumerate(set(y_train)):\n",
    "        plt.scatter(X_train[y_train==target][:, 0], X_train[y_train==target][:, 1], s=80, color=scatter_color[i], label=target_names[i], marker='o')\n",
    "    patches = [mpatches.Patch(color=scatter_color[i], label=target_names[i]) for i in range(n_class)]\n",
    "    plt.legend(handles=patches)\n",
    "    plt.legend()\n",
    "    plt.show()"
   ]
  },
  {
   "cell_type": "code",
   "execution_count": 3,
   "metadata": {
    "collapsed": true
   },
   "outputs": [],
   "source": [
    "iris_data_set = load_iris()\n",
    "x = pd.DataFrame(iris_data_set.data, columns=iris_data_set.feature_names)    #Put explanatory variable into x as pandasdata frame\n",
    "y = pd.DataFrame(iris_data_set.target, columns=['Species'])    #Put iris response variable into y as pandasdata frame\n",
    "df = pd.concat([x, y], axis=1)"
   ]
  },
  {
   "cell_type": "code",
   "execution_count": 4,
   "metadata": {
    "collapsed": false
   },
   "outputs": [
    {
     "data": {
      "text/html": [
       "<div>\n",
       "<table border=\"1\" class=\"dataframe\">\n",
       "  <thead>\n",
       "    <tr style=\"text-align: right;\">\n",
       "      <th></th>\n",
       "      <th>sepal length (cm)</th>\n",
       "      <th>petal length (cm)</th>\n",
       "      <th>Species</th>\n",
       "    </tr>\n",
       "  </thead>\n",
       "  <tbody>\n",
       "    <tr>\n",
       "      <th>50</th>\n",
       "      <td>7.0</td>\n",
       "      <td>4.7</td>\n",
       "      <td>1</td>\n",
       "    </tr>\n",
       "    <tr>\n",
       "      <th>51</th>\n",
       "      <td>6.4</td>\n",
       "      <td>4.5</td>\n",
       "      <td>1</td>\n",
       "    </tr>\n",
       "    <tr>\n",
       "      <th>52</th>\n",
       "      <td>6.9</td>\n",
       "      <td>4.9</td>\n",
       "      <td>1</td>\n",
       "    </tr>\n",
       "    <tr>\n",
       "      <th>53</th>\n",
       "      <td>5.5</td>\n",
       "      <td>4.0</td>\n",
       "      <td>1</td>\n",
       "    </tr>\n",
       "    <tr>\n",
       "      <th>54</th>\n",
       "      <td>6.5</td>\n",
       "      <td>4.6</td>\n",
       "      <td>1</td>\n",
       "    </tr>\n",
       "  </tbody>\n",
       "</table>\n",
       "</div>"
      ],
      "text/plain": [
       "    sepal length (cm)  petal length (cm)  Species\n",
       "50                7.0                4.7        1\n",
       "51                6.4                4.5        1\n",
       "52                6.9                4.9        1\n",
       "53                5.5                4.0        1\n",
       "54                6.5                4.6        1"
      ]
     },
     "execution_count": 4,
     "metadata": {},
     "output_type": "execute_result"
    }
   ],
   "source": [
    "col_name = df.columns.values\n",
    "data = df[[col_name[0], col_name[2], col_name[4]]]\n",
    "data = data[data[\"Species\"] != 0]\n",
    "data.head()"
   ]
  },
  {
   "cell_type": "markdown",
   "metadata": {},
   "source": [
    "#### 【問題1】ロジスティック回帰のクラスを作成する\n",
    "ロジスティック回帰のクラスを作成し、Sprint2で作成した分類のパイプラインに組み込んでください。\n",
    "クラスの基本構造はSprint3の線形回帰を参考にし、名前はScratchLogisticRegressionとしてください。\n",
    "メソッドやパラメータなどはscikit-learnを参考にしてください。推定関係ではラベルを出力するpredictメソッドと、確率を出力するpredict_probaメソッドの2種類を作成します。\n",
    "sklearn.linear_model.LinearRegression — scikit-learn 0.20.0 documentation\n",
    "検証段階ではJupyter Notebook上で書いていき、最終的にはpyファイルにモジュールとしてまとめてください。"
   ]
  },
  {
   "cell_type": "code",
   "execution_count": 5,
   "metadata": {
    "collapsed": false
   },
   "outputs": [],
   "source": [
    "train_feature, test_feature, train_target, test_target = train_test_split(data[['sepal length (cm)', 'petal length (cm)']].values, data['Species'].values, test_size=0.4, random_state=48)"
   ]
  },
  {
   "cell_type": "code",
   "execution_count": 6,
   "metadata": {
    "collapsed": true
   },
   "outputs": [],
   "source": [
    "#学習データの特徴量を標準化\n",
    "scaler = StandardScaler()\n",
    "scaler.fit(train_feature)\n",
    "train_feature = scaler.transform(train_feature)\n",
    "\n",
    "scaler.fit(test_feature)\n",
    "test_feature = scaler.transform(test_feature)"
   ]
  },
  {
   "cell_type": "code",
   "execution_count": 7,
   "metadata": {
    "collapsed": false
   },
   "outputs": [],
   "source": [
    "import utils.ScratchLogisticRegression as cScratchLogisticRegr"
   ]
  },
  {
   "cell_type": "code",
   "execution_count": 8,
   "metadata": {
    "collapsed": false
   },
   "outputs": [],
   "source": [
    "#正則化項無し\n",
    "clf = cScratchLogisticRegr.ScratchLogisticRegression(num_iter=20000, lr=0.1, bias=True, verbose=True, C=0)"
   ]
  },
  {
   "cell_type": "code",
   "execution_count": 9,
   "metadata": {
    "collapsed": true
   },
   "outputs": [],
   "source": [
    "#正則化項有り\n",
    "clf_w_reg = cScratchLogisticRegr.ScratchLogisticRegression(num_iter=20000, lr=0.1, bias=True, verbose=True, C=1.5)"
   ]
  },
  {
   "cell_type": "code",
   "execution_count": 10,
   "metadata": {
    "collapsed": false,
    "scrolled": true
   },
   "outputs": [
    {
     "name": "stdout",
     "output_type": "stream",
     "text": [
      "Initial theta:\n",
      "[[0.8]\n",
      " [0.9]\n",
      " [0.1]]\n",
      "Theta:\n",
      " [[ 0.35631997]\n",
      " [-2.77327428]\n",
      " [13.27499634]]\n",
      "Feature:\n",
      " [[ 1.          1.          1.          1.          1.          1.\n",
      "   1.          1.          1.          1.          1.          1.\n",
      "   1.          1.          1.          1.          1.          1.\n",
      "   1.          1.          1.          1.          1.          1.\n",
      "   1.          1.          1.          1.          1.          1.\n",
      "   1.          1.          1.          1.          1.          1.\n",
      "   1.          1.          1.          1.          1.          1.\n",
      "   1.          1.          1.          1.          1.          1.\n",
      "   1.          1.          1.          1.          1.          1.\n",
      "   1.          1.          1.          1.          1.          1.        ]\n",
      " [ 0.89810697  1.9636576  -1.99410191 -1.23299431 -0.62410823 -0.47188671\n",
      "  -2.14632343  0.59366393 -0.16744367  0.59366393  0.89810697  1.50699304\n",
      "   0.74588545  0.13699937 -0.47188671  0.13699937  0.28922089 -0.01522215\n",
      "  -0.01522215 -0.31966519 -1.08077279 -0.01522215 -1.08077279 -0.16744367\n",
      "   0.13699937  0.59366393 -0.92855127 -0.77632975 -0.92855127  2.11587912\n",
      "   0.28922089  0.59366393  0.59366393  0.44144241 -0.31966519 -0.31966519\n",
      "  -0.01522215 -0.16744367  0.28922089 -1.23299431  0.59366393  0.59366393\n",
      "  -0.47188671  0.59366393 -0.92855127 -1.23299431 -0.01522215 -0.01522215\n",
      "  -0.92855127  1.65921456 -1.38521583 -0.77632975  0.89810697 -0.77632975\n",
      "  -1.84188039  0.89810697  2.11587912  2.42032216 -0.77632975  1.05032849]\n",
      " [ 0.55982887  1.94974882 -1.87253104 -1.06174441  0.21234888 -0.48261109\n",
      "  -1.87253104 -0.25095777 -0.13513111  0.32817554 -0.01930444  1.60226883\n",
      "  -0.13513111  0.44400221 -1.06174441  0.79148219  1.02313552 -0.01930444\n",
      "   1.25478884 -0.25095777 -0.83009108 -0.59843776 -0.48261109 -0.71426442\n",
      "   0.67565553  0.90730886 -0.94591774 -1.06174441 -0.83009108  2.06557548\n",
      "   0.21234888  0.09652222  0.79148219 -0.59843776 -1.06174441 -0.01930444\n",
      "   0.79148219 -0.48261109  0.67565553 -1.29339773 -0.59843776  1.02313552\n",
      "  -0.48261109  0.90730886 -0.83009108 -1.40922439  0.79148219 -0.25095777\n",
      "  -1.64087772  1.37061551 -0.48261109  0.21234888  0.90730886  0.21234888\n",
      "  -2.22001103  0.21234888  2.29722881  1.71809549  0.21234888 -0.25095777]]\n",
      "Target:\n",
      " [[2. 2. 1. 1. 2. 1. 1. 1. 2. 2. 1. 2. 1. 2. 1. 2. 2. 1. 2. 1. 1. 1. 1. 1.\n",
      "  2. 2. 1. 1. 1. 2. 2. 1. 2. 1. 1. 2. 2. 1. 2. 1. 1. 2. 1. 2. 1. 1. 2. 1.\n",
      "  1. 2. 1. 2. 2. 2. 1. 2. 2. 2. 2. 1.]]\n",
      "Result:\n",
      " [2 2 1 1 2 1 1 1 1 2 1 2 1 2 1 2 2 2 2 1 1 1 1 1 2 2 1 1 1 2 2 1 2 1 1 2 2\n",
      " 1 2 1 1 2 1 2 1 1 2 1 1 2 1 2 2 2 1 2 2 2 2 1]\n"
     ]
    }
   ],
   "source": [
    "clf.fit(train_feature, train_target, test_feature, test_target)"
   ]
  },
  {
   "cell_type": "code",
   "execution_count": 11,
   "metadata": {
    "collapsed": false,
    "scrolled": true
   },
   "outputs": [
    {
     "name": "stdout",
     "output_type": "stream",
     "text": [
      "Initial theta:\n",
      "[[0.7]\n",
      " [0.7]\n",
      " [0.2]]\n",
      "Theta:\n",
      " [[ 0.17651677]\n",
      " [-1.88612796]\n",
      " [ 9.88069588]]\n",
      "Feature:\n",
      " [[ 1.          1.          1.          1.          1.          1.\n",
      "   1.          1.          1.          1.          1.          1.\n",
      "   1.          1.          1.          1.          1.          1.\n",
      "   1.          1.          1.          1.          1.          1.\n",
      "   1.          1.          1.          1.          1.          1.\n",
      "   1.          1.          1.          1.          1.          1.\n",
      "   1.          1.          1.          1.          1.          1.\n",
      "   1.          1.          1.          1.          1.          1.\n",
      "   1.          1.          1.          1.          1.          1.\n",
      "   1.          1.          1.          1.          1.          1.        ]\n",
      " [ 0.89810697  1.9636576  -1.99410191 -1.23299431 -0.62410823 -0.47188671\n",
      "  -2.14632343  0.59366393 -0.16744367  0.59366393  0.89810697  1.50699304\n",
      "   0.74588545  0.13699937 -0.47188671  0.13699937  0.28922089 -0.01522215\n",
      "  -0.01522215 -0.31966519 -1.08077279 -0.01522215 -1.08077279 -0.16744367\n",
      "   0.13699937  0.59366393 -0.92855127 -0.77632975 -0.92855127  2.11587912\n",
      "   0.28922089  0.59366393  0.59366393  0.44144241 -0.31966519 -0.31966519\n",
      "  -0.01522215 -0.16744367  0.28922089 -1.23299431  0.59366393  0.59366393\n",
      "  -0.47188671  0.59366393 -0.92855127 -1.23299431 -0.01522215 -0.01522215\n",
      "  -0.92855127  1.65921456 -1.38521583 -0.77632975  0.89810697 -0.77632975\n",
      "  -1.84188039  0.89810697  2.11587912  2.42032216 -0.77632975  1.05032849]\n",
      " [ 0.55982887  1.94974882 -1.87253104 -1.06174441  0.21234888 -0.48261109\n",
      "  -1.87253104 -0.25095777 -0.13513111  0.32817554 -0.01930444  1.60226883\n",
      "  -0.13513111  0.44400221 -1.06174441  0.79148219  1.02313552 -0.01930444\n",
      "   1.25478884 -0.25095777 -0.83009108 -0.59843776 -0.48261109 -0.71426442\n",
      "   0.67565553  0.90730886 -0.94591774 -1.06174441 -0.83009108  2.06557548\n",
      "   0.21234888  0.09652222  0.79148219 -0.59843776 -1.06174441 -0.01930444\n",
      "   0.79148219 -0.48261109  0.67565553 -1.29339773 -0.59843776  1.02313552\n",
      "  -0.48261109  0.90730886 -0.83009108 -1.40922439  0.79148219 -0.25095777\n",
      "  -1.64087772  1.37061551 -0.48261109  0.21234888  0.90730886  0.21234888\n",
      "  -2.22001103  0.21234888  2.29722881  1.71809549  0.21234888 -0.25095777]]\n",
      "Target:\n",
      " [[2. 2. 1. 1. 2. 1. 1. 1. 2. 2. 1. 2. 1. 2. 1. 2. 2. 1. 2. 1. 1. 1. 1. 1.\n",
      "  2. 2. 1. 1. 1. 2. 2. 1. 2. 1. 1. 2. 2. 1. 2. 1. 1. 2. 1. 2. 1. 1. 2. 1.\n",
      "  1. 2. 1. 2. 2. 2. 1. 2. 2. 2. 2. 1.]]\n",
      "Result:\n",
      " [2 2 1 1 2 1 1 1 1 2 1 2 1 2 1 2 2 2 2 1 1 1 1 1 2 2 1 1 1 2 2 2 2 1 1 2 2\n",
      " 1 2 1 1 2 1 2 1 1 2 1 1 2 1 2 2 2 1 2 2 2 2 1]\n"
     ]
    }
   ],
   "source": [
    "clf_w_reg.fit(train_feature, train_target, test_feature, test_target)"
   ]
  },
  {
   "cell_type": "markdown",
   "metadata": {},
   "source": [
    "#### 【問題2】学習曲線のプロット\n",
    "学習曲線をプロットしてください。"
   ]
  },
  {
   "cell_type": "code",
   "execution_count": 12,
   "metadata": {
    "collapsed": false,
    "scrolled": true
   },
   "outputs": [
    {
     "data": {
      "image/png": "[encoded data removed]",
      "text/plain": [
       "<matplotlib.figure.Figure at 0x123cfadd8>"
      ]
     },
     "metadata": {},
     "output_type": "display_data"
    }
   ],
   "source": [
    "#正則化項無し\n",
    "clf.plot_cross_entropy()"
   ]
  },
  {
   "cell_type": "code",
   "execution_count": 13,
   "metadata": {
    "collapsed": false,
    "scrolled": true
   },
   "outputs": [
    {
     "data": {
      "image/png": "[encoded data removed]",
      "text/plain": [
       "<matplotlib.figure.Figure at 0x123d78f28>"
      ]
     },
     "metadata": {},
     "output_type": "display_data"
    }
   ],
   "source": [
    "#正則化項有り\n",
    "clf_w_reg.plot_cross_entropy()"
   ]
  },
  {
   "cell_type": "markdown",
   "metadata": {},
   "source": [
    "正則化項無しの場合は、学習とともに学習データとテストデータの差が広がって行くが、正則化項を追加すると差の広がりが鈍くなる。（過学習を抑制している）"
   ]
  },
  {
   "cell_type": "markdown",
   "metadata": {},
   "source": [
    "#### 【問題3】指標値の算出\n",
    "分類に関する指標値で精度を確認してください"
   ]
  },
  {
   "cell_type": "markdown",
   "metadata": {},
   "source": [
    "#### 正則化項無し　指標値"
   ]
  },
  {
   "cell_type": "code",
   "execution_count": 14,
   "metadata": {
    "collapsed": false,
    "scrolled": true
   },
   "outputs": [
    {
     "name": "stdout",
     "output_type": "stream",
     "text": [
      "[2 1 2 1 1 2 2 1 2 2 1 2 2 2 2 1 2 2 1 2 1 1 2 2 1 2 2 1 2 1 1 1 1 1 1 2 1\n",
      " 1 2 1]\n",
      "[2 1 2 1 1 2 2 1 2 2 1 2 2 2 2 1 2 2 1 2 1 1 2 2 2 2 2 1 1 1 2 1 1 1 1 2 1\n",
      " 1 2 1]\n"
     ]
    }
   ],
   "source": [
    "#正則化無し\n",
    "pred = clf.predict(test_feature)\n",
    "print(pred)\n",
    "print(test_target)"
   ]
  },
  {
   "cell_type": "code",
   "execution_count": 15,
   "metadata": {
    "collapsed": false,
    "scrolled": true
   },
   "outputs": [
    {
     "name": "stdout",
     "output_type": "stream",
     "text": [
      "tp=19 tn=18 fp=2 fn=1\n"
     ]
    }
   ],
   "source": [
    "clf.view_summary(pred, test_target)"
   ]
  },
  {
   "cell_type": "code",
   "execution_count": 16,
   "metadata": {
    "collapsed": false
   },
   "outputs": [
    {
     "data": {
      "text/plain": [
       "0.925"
      ]
     },
     "execution_count": 16,
     "metadata": {},
     "output_type": "execute_result"
    }
   ],
   "source": [
    "clf.cal_accuracy(pred, test_target)"
   ]
  },
  {
   "cell_type": "code",
   "execution_count": 17,
   "metadata": {
    "collapsed": false
   },
   "outputs": [
    {
     "data": {
      "text/plain": [
       "0.9047619047619048"
      ]
     },
     "execution_count": 17,
     "metadata": {},
     "output_type": "execute_result"
    }
   ],
   "source": [
    "clf.cal_precision(pred, test_target)"
   ]
  },
  {
   "cell_type": "code",
   "execution_count": 18,
   "metadata": {
    "collapsed": false
   },
   "outputs": [
    {
     "data": {
      "text/plain": [
       "0.95"
      ]
     },
     "execution_count": 18,
     "metadata": {},
     "output_type": "execute_result"
    }
   ],
   "source": [
    "clf.cal_recall(pred, test_target)"
   ]
  },
  {
   "cell_type": "code",
   "execution_count": 19,
   "metadata": {
    "collapsed": false
   },
   "outputs": [
    {
     "data": {
      "text/plain": [
       "0.9268292682926829"
      ]
     },
     "execution_count": 19,
     "metadata": {},
     "output_type": "execute_result"
    }
   ],
   "source": [
    "clf.cal_f1(pred, test_target)"
   ]
  },
  {
   "cell_type": "markdown",
   "metadata": {},
   "source": [
    "#### 正則化項有り　指標値"
   ]
  },
  {
   "cell_type": "code",
   "execution_count": 20,
   "metadata": {
    "collapsed": false
   },
   "outputs": [
    {
     "name": "stdout",
     "output_type": "stream",
     "text": [
      "[2 1 2 1 1 2 2 1 2 2 1 2 2 2 2 1 2 2 1 2 1 1 2 2 1 2 2 1 2 1 1 1 1 1 1 2 1\n",
      " 1 2 1]\n",
      "[2 1 2 1 1 2 2 1 2 2 1 2 2 2 2 1 2 2 1 2 1 1 2 2 2 2 2 1 1 1 2 1 1 1 1 2 1\n",
      " 1 2 1]\n"
     ]
    }
   ],
   "source": [
    "#正則化有り\n",
    "pred_w_reg = clf.predict(test_feature)\n",
    "print(pred)\n",
    "print(test_target)"
   ]
  },
  {
   "cell_type": "code",
   "execution_count": 21,
   "metadata": {
    "collapsed": false
   },
   "outputs": [
    {
     "name": "stdout",
     "output_type": "stream",
     "text": [
      "tp=19 tn=18 fp=2 fn=1\n"
     ]
    }
   ],
   "source": [
    "clf_w_reg.view_summary(pred, test_target)"
   ]
  },
  {
   "cell_type": "code",
   "execution_count": 22,
   "metadata": {
    "collapsed": false
   },
   "outputs": [
    {
     "data": {
      "text/plain": [
       "0.925"
      ]
     },
     "execution_count": 22,
     "metadata": {},
     "output_type": "execute_result"
    }
   ],
   "source": [
    "clf_w_reg.cal_accuracy(pred, test_target)"
   ]
  },
  {
   "cell_type": "code",
   "execution_count": 23,
   "metadata": {
    "collapsed": false
   },
   "outputs": [
    {
     "data": {
      "text/plain": [
       "0.9047619047619048"
      ]
     },
     "execution_count": 23,
     "metadata": {},
     "output_type": "execute_result"
    }
   ],
   "source": [
    "clf_w_reg.cal_precision(pred, test_target)"
   ]
  },
  {
   "cell_type": "code",
   "execution_count": 24,
   "metadata": {
    "collapsed": false
   },
   "outputs": [
    {
     "data": {
      "text/plain": [
       "0.95"
      ]
     },
     "execution_count": 24,
     "metadata": {},
     "output_type": "execute_result"
    }
   ],
   "source": [
    "clf_w_reg.cal_recall(pred, test_target)"
   ]
  },
  {
   "cell_type": "code",
   "execution_count": 25,
   "metadata": {
    "collapsed": false
   },
   "outputs": [
    {
     "data": {
      "text/plain": [
       "0.9268292682926829"
      ]
     },
     "execution_count": 25,
     "metadata": {},
     "output_type": "execute_result"
    }
   ],
   "source": [
    "clf_w_reg.cal_f1(pred, test_target)"
   ]
  },
  {
   "cell_type": "markdown",
   "metadata": {},
   "source": [
    "#### 【問題4】決定領域の可視化\n",
    "2値分類のデータセットに対して決定領域を可視化してください。"
   ]
  },
  {
   "cell_type": "code",
   "execution_count": 26,
   "metadata": {
    "collapsed": true
   },
   "outputs": [],
   "source": [
    "#-dot(θ, x)が境界線（確率50%）となる。　ς(θx) = 0.5"
   ]
  },
  {
   "cell_type": "code",
   "execution_count": 27,
   "metadata": {
    "collapsed": false,
    "scrolled": true
   },
   "outputs": [
    {
     "data": {
      "image/png": "[encoded data removed]",
      "text/plain": [
       "<matplotlib.figure.Figure at 0x126287240>"
      ]
     },
     "metadata": {},
     "output_type": "display_data"
    }
   ],
   "source": [
    "#正則化項無し\n",
    "clf.plot_boundary(train_feature, train_target, 0, 1)"
   ]
  },
  {
   "cell_type": "code",
   "execution_count": 28,
   "metadata": {
    "collapsed": false
   },
   "outputs": [
    {
     "data": {
      "image/png": "[encoded data removed]",
      "text/plain": [
       "<matplotlib.figure.Figure at 0x12632b400>"
      ]
     },
     "metadata": {},
     "output_type": "display_data"
    }
   ],
   "source": [
    "decision_region(train_feature, \n",
    "                train_target, \n",
    "                clf,\n",
    "                step=0.01, \n",
    "                title='decision region w/ train data', \n",
    "                xlabel='xlabel', \n",
    "                ylabel='ylabel', \n",
    "                target_names=['versicolor', 'virginica'])"
   ]
  },
  {
   "cell_type": "code",
   "execution_count": 43,
   "metadata": {
    "collapsed": false
   },
   "outputs": [
    {
     "data": {
      "image/png": "[encoded data removed]",
      "text/plain": [
       "<matplotlib.figure.Figure at 0x12648d710>"
      ]
     },
     "metadata": {},
     "output_type": "display_data"
    }
   ],
   "source": [
    "#正則化項有り\n",
    "clf_w_reg.plot_boundary(train_feature, train_target, 0, 1)"
   ]
  },
  {
   "cell_type": "code",
   "execution_count": 29,
   "metadata": {
    "collapsed": false,
    "scrolled": true
   },
   "outputs": [
    {
     "data": {
      "image/png": "[encoded data removed]",
      "text/plain": [
       "<matplotlib.figure.Figure at 0x12632bc50>"
      ]
     },
     "metadata": {},
     "output_type": "display_data"
    }
   ],
   "source": [
    "decision_region(train_feature, \n",
    "                train_target, \n",
    "                clf_w_reg,\n",
    "                step=0.01, \n",
    "                title='decision region w/ train data', \n",
    "                xlabel='xlabel', \n",
    "                ylabel='ylabel', \n",
    "                target_names=['versicolor', 'virginica'])"
   ]
  },
  {
   "cell_type": "markdown",
   "metadata": {},
   "source": []
  },
  {
   "cell_type": "markdown",
   "metadata": {},
   "source": [
    "#### 【問題5】（アドバンス課題）重みの保存\n",
    "検証が容易になるように、学習した重みを保存および読み込みができるようにしましょう。pickleモジュールやnumpy.savezを利用します。\n",
    "pickle — Python オブジェクトの直列化 — Python 3.7.1 ドキュメント\n",
    "numpy.savez — NumPy v1.15 Manual"
   ]
  },
  {
   "cell_type": "code",
   "execution_count": 30,
   "metadata": {
    "collapsed": true
   },
   "outputs": [],
   "source": [
    "clf_5 = cScratchLogisticRegr.ScratchLogisticRegression(num_iter=20000, lr=0.1, bias=False, verbose=True, C=0)"
   ]
  },
  {
   "cell_type": "code",
   "execution_count": 31,
   "metadata": {
    "collapsed": false
   },
   "outputs": [
    {
     "name": "stdout",
     "output_type": "stream",
     "text": [
      "Initial theta:\n",
      "[[0.7]\n",
      " [0.1]]\n",
      "Theta:\n",
      " [[-2.59139437]\n",
      " [12.97545551]]\n",
      "Feature:\n",
      " [[ 0.89810697  1.9636576  -1.99410191 -1.23299431 -0.62410823 -0.47188671\n",
      "  -2.14632343  0.59366393 -0.16744367  0.59366393  0.89810697  1.50699304\n",
      "   0.74588545  0.13699937 -0.47188671  0.13699937  0.28922089 -0.01522215\n",
      "  -0.01522215 -0.31966519 -1.08077279 -0.01522215 -1.08077279 -0.16744367\n",
      "   0.13699937  0.59366393 -0.92855127 -0.77632975 -0.92855127  2.11587912\n",
      "   0.28922089  0.59366393  0.59366393  0.44144241 -0.31966519 -0.31966519\n",
      "  -0.01522215 -0.16744367  0.28922089 -1.23299431  0.59366393  0.59366393\n",
      "  -0.47188671  0.59366393 -0.92855127 -1.23299431 -0.01522215 -0.01522215\n",
      "  -0.92855127  1.65921456 -1.38521583 -0.77632975  0.89810697 -0.77632975\n",
      "  -1.84188039  0.89810697  2.11587912  2.42032216 -0.77632975  1.05032849]\n",
      " [ 0.55982887  1.94974882 -1.87253104 -1.06174441  0.21234888 -0.48261109\n",
      "  -1.87253104 -0.25095777 -0.13513111  0.32817554 -0.01930444  1.60226883\n",
      "  -0.13513111  0.44400221 -1.06174441  0.79148219  1.02313552 -0.01930444\n",
      "   1.25478884 -0.25095777 -0.83009108 -0.59843776 -0.48261109 -0.71426442\n",
      "   0.67565553  0.90730886 -0.94591774 -1.06174441 -0.83009108  2.06557548\n",
      "   0.21234888  0.09652222  0.79148219 -0.59843776 -1.06174441 -0.01930444\n",
      "   0.79148219 -0.48261109  0.67565553 -1.29339773 -0.59843776  1.02313552\n",
      "  -0.48261109  0.90730886 -0.83009108 -1.40922439  0.79148219 -0.25095777\n",
      "  -1.64087772  1.37061551 -0.48261109  0.21234888  0.90730886  0.21234888\n",
      "  -2.22001103  0.21234888  2.29722881  1.71809549  0.21234888 -0.25095777]]\n",
      "Target:\n",
      " [[2. 2. 1. 1. 2. 1. 1. 1. 2. 2. 1. 2. 1. 2. 1. 2. 2. 1. 2. 1. 1. 1. 1. 1.\n",
      "  2. 2. 1. 1. 1. 2. 2. 1. 2. 1. 1. 2. 2. 1. 2. 1. 1. 2. 1. 2. 1. 1. 2. 1.\n",
      "  1. 2. 1. 2. 2. 2. 1. 2. 2. 2. 2. 1.]]\n",
      "Result:\n",
      " [2 2 1 1 2 1 1 1 1 2 1 2 1 2 1 2 2 1 2 1 1 1 1 1 2 2 1 1 1 2 2 1 2 1 1 2 2\n",
      " 1 2 1 1 2 1 2 1 1 2 1 1 2 1 2 2 2 1 2 2 2 2 1]\n"
     ]
    }
   ],
   "source": [
    "clf_5.fit(train_feature, train_target, test_feature, test_target)"
   ]
  },
  {
   "cell_type": "code",
   "execution_count": 32,
   "metadata": {
    "collapsed": true
   },
   "outputs": [],
   "source": [
    "#1. ”clf_5”インスタンスで求めたパラメータをtest.npzに保存\n",
    "clf_5.save_param(\"test.npz\")"
   ]
  },
  {
   "cell_type": "code",
   "execution_count": 33,
   "metadata": {
    "collapsed": false
   },
   "outputs": [
    {
     "name": "stdout",
     "output_type": "stream",
     "text": [
      "recall param=\n",
      " [[-2.59139437]\n",
      " [12.97545551]]\n"
     ]
    }
   ],
   "source": [
    "#試しにrecall\n",
    "clf_5.recall_param(\"test.npz\")"
   ]
  },
  {
   "cell_type": "code",
   "execution_count": 34,
   "metadata": {
    "collapsed": true
   },
   "outputs": [],
   "source": [
    "#2. 新しいインスタンス\"clf_5_new\"を生成（パラメータ未調整）\n",
    "clf_5_new = cScratchLogisticRegr.ScratchLogisticRegression(num_iter=20000, lr=0.1, bias=False, verbose=True, C=0)"
   ]
  },
  {
   "cell_type": "code",
   "execution_count": 35,
   "metadata": {
    "collapsed": false
   },
   "outputs": [
    {
     "name": "stdout",
     "output_type": "stream",
     "text": [
      "recall param=\n",
      " [[-2.59139437]\n",
      " [12.97545551]]\n"
     ]
    }
   ],
   "source": [
    "#3. ”clf_5”インスタンスで求めたパラメータをtest.npzから呼び出し\"clf_5_new\"のパラメータに設定\n",
    "clf_5_new.recall_param(\"test.npz\")"
   ]
  },
  {
   "cell_type": "code",
   "execution_count": 36,
   "metadata": {
    "collapsed": false
   },
   "outputs": [
    {
     "name": "stdout",
     "output_type": "stream",
     "text": [
      "[2 1 2 1 1 2 2 1 2 2 1 2 2 2 2 1 2 2 1 2 1 1 2 2 1 2 2 1 2 1 1 1 1 1 1 2 1\n",
      " 1 2 1]\n",
      "[2 1 2 1 1 2 2 1 2 2 1 2 2 2 2 1 2 2 1 2 1 1 2 2 2 2 2 1 1 1 2 1 1 1 1 2 1\n",
      " 1 2 1]\n"
     ]
    }
   ],
   "source": [
    "#4. \"clf_5_new\"のpredictで予測し結果を確認\n",
    "pred_w_reg = clf_5_new.predict(test_feature)\n",
    "print(pred)\n",
    "print(test_target)"
   ]
  },
  {
   "cell_type": "markdown",
   "metadata": {},
   "source": [
    "##### 結果\n",
    "別インスタンスで保存したパラメータを自身のパラメータとして設定し予測を行うことができた。"
   ]
  },
  {
   "cell_type": "code",
   "execution_count": null,
   "metadata": {
    "collapsed": true
   },
   "outputs": [],
   "source": []
  },
  {
   "cell_type": "code",
   "execution_count": 37,
   "metadata": {
    "collapsed": true
   },
   "outputs": [],
   "source": [
    "#Pickleを使ってみる\n",
    "import pickle"
   ]
  },
  {
   "cell_type": "code",
   "execution_count": 38,
   "metadata": {
    "collapsed": false
   },
   "outputs": [],
   "source": [
    "theta = clf_5_new.theta"
   ]
  },
  {
   "cell_type": "code",
   "execution_count": 39,
   "metadata": {
    "collapsed": true
   },
   "outputs": [],
   "source": [
    "with open('param.binaryfile', 'wb') as handler:\n",
    "  pickle.dump(theta, handler)"
   ]
  },
  {
   "cell_type": "code",
   "execution_count": 40,
   "metadata": {
    "collapsed": false
   },
   "outputs": [
    {
     "name": "stdout",
     "output_type": "stream",
     "text": [
      "[[-2.59139437]\n",
      " [12.97545551]]\n"
     ]
    }
   ],
   "source": [
    "with open('param.binaryfile', 'rb') as handler:\n",
    "  reload_theta = pickle.load(handler)\n",
    "  print(reload_theta)"
   ]
  },
  {
   "cell_type": "code",
   "execution_count": null,
   "metadata": {
    "collapsed": true
   },
   "outputs": [],
   "source": []
  }
 ],
 "metadata": {
  "kernelspec": {
   "display_name": "Python 3",
   "language": "python",
   "name": "python3"
  },
  "language_info": {
   "codemirror_mode": {
    "name": "ipython",
    "version": 3
   },
   "file_extension": ".py",
   "mimetype": "text/x-python",
   "name": "python",
   "nbconvert_exporter": "python",
   "pygments_lexer": "ipython3",
   "version": "3.6.0"
  }
 },
 "nbformat": 4,
 "nbformat_minor": 2
}
