{
 "cells": [
  {
   "cell_type": "markdown",
   "metadata": {},
   "source": [
    "###### 問題\n",
    "それぞれについてJupyter Notebookにマークダウン形式で記述してください。"
   ]
  },
  {
   "cell_type": "markdown",
   "metadata": {},
   "source": [
    "###### 条件\n",
    "答える際は論文のどの部分からそれが分かるかを書く。\n",
    "必要に応じて先行研究（引用されている論文）も探しにいく。最低2つは他の論文を利用して回答すること。\n",
    "論文の紹介記事を見ても良い。ただし、答えは論文内に根拠を探すこと。"
   ]
  },
  {
   "cell_type": "markdown",
   "metadata": {},
   "source": [
    "###### (1) 物体検出の分野にはどういった手法が存在したか。"
   ]
  },
  {
   "cell_type": "markdown",
   "metadata": {},
   "source": [
    "SPPnet (Spatial Pyramid Pooling network)  \n",
    "\n",
    "Fast-R-CNN  \n",
    "物体候補の抽出を除けば、ほぼリアルタイムで処理ができる。（検出された物体を識別するのは早い）\n",
    "\n",
    "出典\n",
    "P1 1.Introduction "
   ]
  },
  {
   "cell_type": "markdown",
   "metadata": {},
   "source": [
    "###### (2) Fasterとあるが、どういった仕組みで高速化したのか。"
   ]
  },
  {
   "cell_type": "markdown",
   "metadata": {},
   "source": [
    "Convolution layerをdetection networkと共有する様なRPN(Region proposal network)を導入し、これまでSelective searchなどで物体候補を検出していたがConv layerで抽出された特徴量マップから物体候補を検出することで高速化を行なった。  \n",
    "RPNで物体を検出しそれをdetectionメソッドへ渡す。\n",
    "\n",
    "出典\n",
    "P1 1.Introduction "
   ]
  },
  {
   "cell_type": "markdown",
   "metadata": {},
   "source": [
    "###### (3) One-Stageの手法とTwo-Stageの手法はどう違うのか。"
   ]
  },
  {
   "cell_type": "markdown",
   "metadata": {},
   "source": [
    "###### One-stage\n",
    "class-specific detetctionのみ  \n",
    "空間的な情報はsliding windowによって得られる\n",
    "これらを使って、位置の特定と識別は同時に行われる\n",
    "\n",
    "###### Two-stage\n",
    "class-agnostic proposal & class-specific detectionから構成される。 i.e) Faster R-CNN  \n",
    "RPN で物体を検出した後、識別が行われる。\n",
    "\n",
    "\n",
    "出典\n",
    "P10 4.Experiment One-Stage Detection vs Two-Stage Proposal"
   ]
  },
  {
   "cell_type": "markdown",
   "metadata": {},
   "source": [
    "###### (4) RPNとは何か。"
   ]
  },
  {
   "cell_type": "markdown",
   "metadata": {},
   "source": [
    "入力されたイメージから物体を検出するネットワーク      \n",
    "Fully convolutional networkで実現  \n",
    "分類ネットワークと共通のconv layerを持ち、RPNの出力は分類ネットワークの入力になる  \n",
    "アンカーサイズをハイパーパラメータとして持つ  \n",
    "\n",
    "出典\n",
    "P1 3.1. Region Proposal Network"
   ]
  },
  {
   "cell_type": "markdown",
   "metadata": {},
   "source": [
    "###### (5) RoIプーリングとは何か。"
   ]
  },
  {
   "cell_type": "markdown",
   "metadata": {},
   "source": [
    "RoI = Region of Interest  \n",
    "注目する領域（この場合物体候補が検出された領域）に対しを行うプーリング。最大値プーリング  \n",
    "CNNへの入力サイズを統一できるので、resizeの処理が省ける\n",
    "\n",
    "出典\n",
    "Fast R-CNN 2.1 The RoI Pooling layer "
   ]
  },
  {
   "cell_type": "markdown",
   "metadata": {},
   "source": [
    "###### (6) Anchorのサイズはどうするのが適切か。"
   ]
  },
  {
   "cell_type": "markdown",
   "metadata": {},
   "source": [
    "様々Anchorサイズを複数用いるのが良い。（1つだけはよくない）\n",
    "\"Scale ３種類 x Aspect比 １種類\"　と　\"Scale 1種類 x aspect比 3種類”は精度において同じである。(ScaleとAspect比は精度という意味で同じパラメータとみなせる)\n",
    "\n",
    "出典\n",
    "P9  4.Experiment \"Sensitivites to Hyper-parameter\""
   ]
  },
  {
   "cell_type": "markdown",
   "metadata": {},
   "source": [
    "###### (7) 何というデータセットを使い、先行研究に比べどういった指標値が得られているか。"
   ]
  },
  {
   "cell_type": "markdown",
   "metadata": {},
   "source": [
    "1.Dataset  \n",
    "PASCAL VOC 2007  \n",
    "PASCAL VOC 2012  \n",
    "\n",
    "2.指標  \n",
    "mean average precision  \n",
    "\n",
    "3.結果  \n",
    "Selective Search, EdgeBoxesと比較  \n",
    "SS:58.7%  \n",
    "EB:58.6%  \n",
    "Faster R-CNN (w/ ZF):59.9%  \n",
    "SS, EBがそれぞれ2000個の領域候補をあげているのに対しFaster R-CNNは300個(Ancor数k=9)であった。これも計算コストが削減される理由になる。  "
   ]
  },
  {
   "cell_type": "markdown",
   "metadata": {},
   "source": [
    "1.Dataset\n",
    "MS COCO\n",
    "\n",
    "2.指標\n",
    "mean average precision\n",
    "\n",
    "3.結果\n",
    "Selective Searchと比較\n",
    "SS:58.7% \n",
    "Faster R-CNN (w/ ):59.9%"
   ]
  },
  {
   "cell_type": "markdown",
   "metadata": {},
   "source": [
    "出典\n",
    "P7  4.Experiment \"Sensitivites to Hyper-parameter\""
   ]
  },
  {
   "cell_type": "markdown",
   "metadata": {},
   "source": [
    "###### (8) （アドバンス）Faster R-CNNよりも新しい物体検出の論文では、Faster R-CNNがどう引用されているか。"
   ]
  },
  {
   "cell_type": "markdown",
   "metadata": {},
   "source": []
  },
  {
   "cell_type": "code",
   "execution_count": null,
   "metadata": {
    "collapsed": true
   },
   "outputs": [],
   "source": []
  }
 ],
 "metadata": {
  "kernelspec": {
   "display_name": "Python 3",
   "language": "python",
   "name": "python3"
  },
  "language_info": {
   "codemirror_mode": {
    "name": "ipython",
    "version": 3
   },
   "file_extension": ".py",
   "mimetype": "text/x-python",
   "name": "python",
   "nbconvert_exporter": "python",
   "pygments_lexer": "ipython3",
   "version": "3.6.0"
  }
 },
 "nbformat": 4,
 "nbformat_minor": 2
}
