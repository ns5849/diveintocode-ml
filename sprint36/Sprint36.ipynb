{
 "cells": [
  {
   "cell_type": "markdown",
   "metadata": {},
   "source": []
  },
  {
   "cell_type": "code",
   "execution_count": 2,
   "metadata": {
    "scrolled": true
   },
   "outputs": [
    {
     "data": {
      "text/plain": [
       "[<matplotlib.lines.Line2D at 0x1a1f8c0a20>]"
      ]
     },
     "execution_count": 2,
     "metadata": {},
     "output_type": "execute_result"
    },
    {
     "data": {
      "image/png": "[encoded data removed]",
      "text/plain": [
       "<Figure size 432x288 with 1 Axes>"
      ]
     },
     "metadata": {
      "needs_background": "light"
     },
     "output_type": "display_data"
    }
   ],
   "source": [
    "import pandas as pd\n",
    "%matplotlib inline\n",
    "import matplotlib.pyplot as plt\n",
    "import numpy as np\n",
    "from statistics import mean, variance\n",
    "from sklearn.neighbors import NearestNeighbors\n",
    "\n",
    "data = pd.read_csv(\"btc.csv\", encoding=\"shift-jis\", header=None)\n",
    "X = data.iloc[:,0:1].values\n",
    "Y = data.iloc[:,1:2].values\n",
    "\n",
    "plt.plot(Y[:,0])"
   ]
  },
  {
   "cell_type": "code",
   "execution_count": 10,
   "metadata": {},
   "outputs": [
    {
     "name": "stdout",
     "output_type": "stream",
     "text": [
      "0.054799426229508195\n",
      "0.054799426229508195\n"
     ]
    }
   ],
   "source": [
    "from statistics import mean, variance\n",
    "\n",
    "data = []\n",
    "for i in range(len(Y)):\n",
    "    data.append(Y[i,0])\n",
    "\n",
    "# 標本平均を計算\n",
    "ave = np.average(Y)\n",
    "mean = mean(data)\n",
    "\n",
    "print(ave)\n",
    "print(mean)"
   ]
  },
  {
   "cell_type": "code",
   "execution_count": 16,
   "metadata": {
    "scrolled": true
   },
   "outputs": [
    {
     "data": {
      "image/png": "[encoded data removed]",
      "text/plain": [
       "<Figure size 432x288 with 1 Axes>"
      ]
     },
     "metadata": {
      "needs_background": "light"
     },
     "output_type": "display_data"
    }
   ],
   "source": [
    "from statistics import mean, variance\n",
    "from scipy import stats\n",
    "\n",
    "data = []\n",
    "for i in range(len(Y)):\n",
    "    data.append(Y[i,0])\n",
    "\n",
    "# 標本平均を計算\n",
    "mean = mean(data)\n",
    "\n",
    "# 標本分散を計算\n",
    "variance = variance(data)\n",
    "\n",
    "# 異常度を計算\n",
    "scores = []\n",
    "for x in data:\n",
    "    score = (x - mean)**2 / variance\n",
    "    scores.append(score)\n",
    "\n",
    "# カイ二乗分布による1%水準の閾値\n",
    "threshold = stats.chi2.interval(0.99, 1)[1]\n",
    "\n",
    "# 結果の描画\n",
    "plt.plot(scores, \"o\", color = \"b\")\n",
    "plt.plot([0,365],[threshold, threshold], 'k-', color = \"r\", ls = \"dashed\")\n",
    "plt.xlabel(\"Sample number\")\n",
    "plt.ylabel(\"Anomaly score\")\n",
    "plt.ylim([0,10])\n",
    "plt.show()"
   ]
  },
  {
   "cell_type": "code",
   "execution_count": 20,
   "metadata": {},
   "outputs": [
    {
     "data": {
      "text/plain": [
       "[165, 166, 169]"
      ]
     },
     "execution_count": 20,
     "metadata": {},
     "output_type": "execute_result"
    }
   ],
   "source": [
    "# 異常日を格納するリストの作成\n",
    "over  = filter(lambda x: x > threshold, scores)\n",
    "over_list = list(over)\n",
    "[scores.index(i) for i in over_list ]"
   ]
  },
  {
   "cell_type": "code",
   "execution_count": 21,
   "metadata": {},
   "outputs": [
    {
     "data": {
      "text/plain": [
       "array([['2017-06-14 00:00:00'],\n",
       "       ['2017-06-15 00:00:00'],\n",
       "       ['2017-06-18 00:00:00']], dtype=object)"
      ]
     },
     "execution_count": 21,
     "metadata": {},
     "output_type": "execute_result"
    }
   ],
   "source": [
    "index = scores > threshold\n",
    "X[index]"
   ]
  },
  {
   "cell_type": "markdown",
   "metadata": {},
   "source": [
    "3.アドバンス課題"
   ]
  },
  {
   "cell_type": "code",
   "execution_count": null,
   "metadata": {},
   "outputs": [],
   "source": [
    "from statistics import mean, variance\n",
    "from scipy import stats\n",
    "\n",
    "data = []\n",
    "for i in range(len(Y)):\n",
    "    data.append(Y[i,0])\n",
    "\n",
    "# 標本平均を計算\n",
    "mean = mean(data)\n",
    "\n",
    "# 標本分散を計算\n",
    "variance = variance(data)\n",
    "\n",
    "# 異常度を計算\n",
    "scores = []\n",
    "for x in data:\n",
    "    score = (x - mean)**2 / variance\n",
    "    scores.append(score)\n",
    "\n",
    "# カイ二乗分布による1%水準の閾値\n",
    "threshold = stats.chi2.interval(0.99, 1)[1]\n",
    "\n",
    "# 結果の描画\n",
    "plt.plot(scores, \"o\", color = \"b\")\n",
    "plt.plot([0,365],[threshold, threshold], 'k-', color = \"r\", ls = \"dashed\")\n",
    "plt.xlabel(\"Sample number\")\n",
    "plt.ylabel(\"Anomaly score\")\n",
    "plt.ylim([0,10])\n",
    "plt.show()"
   ]
  }
 ],
 "metadata": {
  "kernelspec": {
   "display_name": "Python 3",
   "language": "python",
   "name": "python3"
  },
  "language_info": {
   "codemirror_mode": {
    "name": "ipython",
    "version": 3
   },
   "file_extension": ".py",
   "mimetype": "text/x-python",
   "name": "python",
   "nbconvert_exporter": "python",
   "pygments_lexer": "ipython3",
   "version": "3.7.1"
  }
 },
 "nbformat": 4,
 "nbformat_minor": 2
}
